{
 "cells": [
  {
   "cell_type": "code",
   "execution_count": 1,
   "id": "17daba8b",
   "metadata": {},
   "outputs": [],
   "source": [
    "import numpy as np\n",
    "import os\n",
    "import PIL\n",
    "import PIL.Image\n",
    "import tensorflow as tf\n",
    "from sklearn.impute import SimpleImputer\n",
    "import pandas as pd\n",
    "from sklearn.model_selection import train_test_split\n",
    "import matplotlib.image as mpimg\n",
    "from keras.preprocessing import image\n",
    "from keras.preprocessing.image import ImageDataGenerator\n",
    "from keras.utils.vis_utils import plot_model\n",
    "from tensorflow.keras.optimizers import RMSprop\n",
    "import matplotlib.pyplot as plt\n",
    "from sklearn.utils.class_weight import compute_class_weight"
   ]
  },
  {
   "cell_type": "code",
   "execution_count": 2,
   "id": "6f5850bc",
   "metadata": {},
   "outputs": [],
   "source": [
    "path =\"./trafficsigns_dataset/\"\n",
    "lst = []\n",
    "for root, dirs, files in os.walk(path):\n",
    "    for file in files:\n",
    "        if(file.endswith(\".png\")):\n",
    "#             print(root)\n",
    "            root1=root.split(\"/\")[-1].split(\"\\\\\")\n",
    "            filepath=path+root1[0]+'/'+root1[1]+'/'+file\n",
    "            lst.append([root1[0], root1[1], file, filepath])\n",
    "dfdata = pd.DataFrame(lst, columns=['shape', 'sign', 'imageName','filePath'])"
   ]
  },
  {
   "cell_type": "code",
   "execution_count": 3,
   "id": "b40c086d",
   "metadata": {},
   "outputs": [
    {
     "data": {
      "image/png": "[encoded data removed]",
      "text/plain": [
       "<Figure size 432x288 with 1 Axes>"
      ]
     },
     "metadata": {
      "needs_background": "light"
     },
     "output_type": "display_data"
    }
   ],
   "source": [
    "img = mpimg.imread(filepath)\n",
    "imgplot = plt.imshow(img)\n",
    "plt.show()"
   ]
  },
  {
   "cell_type": "code",
   "execution_count": 4,
   "id": "013a4ba3",
   "metadata": {},
   "outputs": [
    {
     "data": {
      "text/plain": [
       "(28, 28)"
      ]
     },
     "execution_count": 4,
     "metadata": {},
     "output_type": "execute_result"
    }
   ],
   "source": [
    "img.shape"
   ]
  },
  {
   "cell_type": "code",
   "execution_count": 5,
   "id": "0a84194f",
   "metadata": {},
   "outputs": [
    {
     "data": {
      "image/png": "[encoded data removed]",
      "text/plain": [
       "<Figure size 2160x3600 with 2 Axes>"
      ]
     },
     "metadata": {
      "needs_background": "light"
     },
     "output_type": "display_data"
    }
   ],
   "source": [
    "plt.figure(figsize=(30,50))\n",
    "for i, col in enumerate(['shape', 'sign']):\n",
    "    plt.subplot(10,4,i+1)\n",
    "    plt.hist(dfdata[col], alpha=0.3, color='cyan',bins=35)\n",
    "    plt.title(col)\n",
    "    plt.xticks(rotation='vertical')"
   ]
  },
  {
   "cell_type": "code",
   "execution_count": 6,
   "id": "c281e5c1",
   "metadata": {},
   "outputs": [
    {
     "data": {
      "text/plain": [
       "round       1760\n",
       "triangle     926\n",
       "square       688\n",
       "diamond      282\n",
       "hex           43\n",
       "Name: shape, dtype: int64"
      ]
     },
     "execution_count": 6,
     "metadata": {},
     "output_type": "execute_result"
    }
   ],
   "source": [
    "dfdata['shape'].value_counts()"
   ]
  },
  {
   "cell_type": "code",
   "execution_count": 7,
   "id": "d67d45bd",
   "metadata": {},
   "outputs": [
    {
     "data": {
      "text/plain": [
       "warning             695\n",
       "noentry             375\n",
       "speed               316\n",
       "bicycle             285\n",
       "rightofway          282\n",
       "parking             276\n",
       "noparking           242\n",
       "giveway             231\n",
       "continue            199\n",
       "trafficdirective    195\n",
       "limitedtraffic      125\n",
       "traveldirection     124\n",
       "laneend             118\n",
       "roundabout           98\n",
       "crossing             95\n",
       "stop                 43\n",
       "Name: sign, dtype: int64"
      ]
     },
     "execution_count": 7,
     "metadata": {},
     "output_type": "execute_result"
    }
   ],
   "source": [
    "dfdata['sign'].value_counts()"
   ]
  },
  {
   "cell_type": "code",
   "execution_count": 8,
   "id": "5f50a01e",
   "metadata": {},
   "outputs": [],
   "source": [
    "model_1_df=pd.DataFrame()\n",
    "model_1_df['Path']=dfdata['filePath']\n",
    "model_1_df['Shape']=dfdata['shape']"
   ]
  },
  {
   "cell_type": "code",
   "execution_count": 9,
   "id": "6d1c935b",
   "metadata": {},
   "outputs": [
    {
     "data": {
      "text/html": [
       "<div>\n",
       "<style scoped>\n",
       "    .dataframe tbody tr th:only-of-type {\n",
       "        vertical-align: middle;\n",
       "    }\n",
       "\n",
       "    .dataframe tbody tr th {\n",
       "        vertical-align: top;\n",
       "    }\n",
       "\n",
       "    .dataframe thead th {\n",
       "        text-align: right;\n",
       "    }\n",
       "</style>\n",
       "<table border=\"1\" class=\"dataframe\">\n",
       "  <thead>\n",
       "    <tr style=\"text-align: right;\">\n",
       "      <th></th>\n",
       "      <th>Path</th>\n",
       "      <th>Shape</th>\n",
       "    </tr>\n",
       "  </thead>\n",
       "  <tbody>\n",
       "    <tr>\n",
       "      <th>0</th>\n",
       "      <td>./trafficsigns_dataset/diamond/rightofway/0003...</td>\n",
       "      <td>diamond</td>\n",
       "    </tr>\n",
       "    <tr>\n",
       "      <th>1</th>\n",
       "      <td>./trafficsigns_dataset/diamond/rightofway/0003...</td>\n",
       "      <td>diamond</td>\n",
       "    </tr>\n",
       "    <tr>\n",
       "      <th>2</th>\n",
       "      <td>./trafficsigns_dataset/diamond/rightofway/0003...</td>\n",
       "      <td>diamond</td>\n",
       "    </tr>\n",
       "    <tr>\n",
       "      <th>3</th>\n",
       "      <td>./trafficsigns_dataset/diamond/rightofway/0003...</td>\n",
       "      <td>diamond</td>\n",
       "    </tr>\n",
       "    <tr>\n",
       "      <th>4</th>\n",
       "      <td>./trafficsigns_dataset/diamond/rightofway/0003...</td>\n",
       "      <td>diamond</td>\n",
       "    </tr>\n",
       "    <tr>\n",
       "      <th>...</th>\n",
       "      <td>...</td>\n",
       "      <td>...</td>\n",
       "    </tr>\n",
       "    <tr>\n",
       "      <th>3694</th>\n",
       "      <td>./trafficsigns_dataset/triangle/warning/01947_...</td>\n",
       "      <td>triangle</td>\n",
       "    </tr>\n",
       "    <tr>\n",
       "      <th>3695</th>\n",
       "      <td>./trafficsigns_dataset/triangle/warning/01947_...</td>\n",
       "      <td>triangle</td>\n",
       "    </tr>\n",
       "    <tr>\n",
       "      <th>3696</th>\n",
       "      <td>./trafficsigns_dataset/triangle/warning/01971_...</td>\n",
       "      <td>triangle</td>\n",
       "    </tr>\n",
       "    <tr>\n",
       "      <th>3697</th>\n",
       "      <td>./trafficsigns_dataset/triangle/warning/01971_...</td>\n",
       "      <td>triangle</td>\n",
       "    </tr>\n",
       "    <tr>\n",
       "      <th>3698</th>\n",
       "      <td>./trafficsigns_dataset/triangle/warning/01971_...</td>\n",
       "      <td>triangle</td>\n",
       "    </tr>\n",
       "  </tbody>\n",
       "</table>\n",
       "<p>3699 rows × 2 columns</p>\n",
       "</div>"
      ],
      "text/plain": [
       "                                                   Path     Shape\n",
       "0     ./trafficsigns_dataset/diamond/rightofway/0003...   diamond\n",
       "1     ./trafficsigns_dataset/diamond/rightofway/0003...   diamond\n",
       "2     ./trafficsigns_dataset/diamond/rightofway/0003...   diamond\n",
       "3     ./trafficsigns_dataset/diamond/rightofway/0003...   diamond\n",
       "4     ./trafficsigns_dataset/diamond/rightofway/0003...   diamond\n",
       "...                                                 ...       ...\n",
       "3694  ./trafficsigns_dataset/triangle/warning/01947_...  triangle\n",
       "3695  ./trafficsigns_dataset/triangle/warning/01947_...  triangle\n",
       "3696  ./trafficsigns_dataset/triangle/warning/01971_...  triangle\n",
       "3697  ./trafficsigns_dataset/triangle/warning/01971_...  triangle\n",
       "3698  ./trafficsigns_dataset/triangle/warning/01971_...  triangle\n",
       "\n",
       "[3699 rows x 2 columns]"
      ]
     },
     "execution_count": 9,
     "metadata": {},
     "output_type": "execute_result"
    }
   ],
   "source": [
    "model_1_df"
   ]
  },
  {
   "cell_type": "code",
   "execution_count": 10,
   "id": "84b327cd",
   "metadata": {},
   "outputs": [],
   "source": [
    "trainX,valX,trainY,valY=train_test_split(model_1_df[\"Path\"],model_1_df[\"Shape\"],test_size=0.2,shuffle=True,random_state=10)"
   ]
  },
  {
   "cell_type": "code",
   "execution_count": 11,
   "id": "2413433f",
   "metadata": {},
   "outputs": [
    {
     "data": {
      "text/plain": [
       "92       diamond\n",
       "898        round\n",
       "1049       round\n",
       "1437       round\n",
       "107      diamond\n",
       "          ...   \n",
       "3441    triangle\n",
       "1344       round\n",
       "527        round\n",
       "3197    triangle\n",
       "1289       round\n",
       "Name: Shape, Length: 2959, dtype: object"
      ]
     },
     "execution_count": 11,
     "metadata": {},
     "output_type": "execute_result"
    }
   ],
   "source": [
    "trainY"
   ]
  },
  {
   "cell_type": "code",
   "execution_count": 12,
   "id": "1c32e08d",
   "metadata": {},
   "outputs": [],
   "source": [
    "train_df=pd.DataFrame()\n",
    "train_df[\"Paths\"]=trainX\n",
    "train_df[\"Shapes\"]=trainY\n",
    "val_df=pd.DataFrame()\n",
    "val_df[\"Paths\"]=valX\n",
    "val_df[\"Shapes\"]=valY"
   ]
  },
  {
   "cell_type": "code",
   "execution_count": 13,
   "id": "cc249132",
   "metadata": {},
   "outputs": [
    {
     "data": {
      "text/plain": [
       "(740, 2)"
      ]
     },
     "execution_count": 13,
     "metadata": {},
     "output_type": "execute_result"
    }
   ],
   "source": [
    "val_df.shape"
   ]
  },
  {
   "cell_type": "code",
   "execution_count": 14,
   "id": "3e5be7a8",
   "metadata": {},
   "outputs": [],
   "source": [
    "#imagedatagenerators"
   ]
  },
  {
   "cell_type": "code",
   "execution_count": 15,
   "id": "abde8682",
   "metadata": {},
   "outputs": [],
   "source": [
    "idg_train=ImageDataGenerator(rescale=1/255.0,data_format='channels_last')\n",
    "idg_val=ImageDataGenerator(rescale=1/255.0,data_format='channels_last')"
   ]
  },
  {
   "cell_type": "code",
   "execution_count": 16,
   "id": "af53fb43",
   "metadata": {},
   "outputs": [
    {
     "name": "stdout",
     "output_type": "stream",
     "text": [
      "Found 2959 validated image filenames belonging to 5 classes.\n",
      "Found 740 validated image filenames belonging to 5 classes.\n"
     ]
    }
   ],
   "source": [
    "train_gen=idg_train.flow_from_dataframe(dataframe=train_df,\n",
    "                                        batch_size=32,\n",
    "                                        seed=10,\n",
    "                                        class_mode='categorical',\n",
    "                                        target_size=(28, 28),\n",
    "                                        x_col='Paths',\n",
    "                                        y_col='Shapes',\n",
    "                                        color_mode = 'grayscale')\n",
    "val_gen=idg_val.flow_from_dataframe(dataframe=val_df,\n",
    "                                       batch_size=32,\n",
    "                                       seed=10,\n",
    "                                       class_mode='categorical',\n",
    "                                       target_size=(28, 28),\n",
    "                                       x_col='Paths',\n",
    "                                       y_col='Shapes',\n",
    "                                       color_mode = 'grayscale'\n",
    "                                      )"
   ]
  },
  {
   "cell_type": "code",
   "execution_count": 17,
   "id": "8f48c9e8",
   "metadata": {},
   "outputs": [
    {
     "data": {
      "text/plain": [
       "<keras.preprocessing.image.DataFrameIterator at 0x26d59d1b5b0>"
      ]
     },
     "execution_count": 17,
     "metadata": {},
     "output_type": "execute_result"
    }
   ],
   "source": [
    "train_gen"
   ]
  },
  {
   "cell_type": "code",
   "execution_count": 18,
   "id": "a1749e0b",
   "metadata": {},
   "outputs": [],
   "source": [
    "#baseline"
   ]
  },
  {
   "cell_type": "code",
   "execution_count": 2,
   "id": "52ebb9e9",
   "metadata": {},
   "outputs": [
    {
     "ename": "NameError",
     "evalue": "name 'tf' is not defined",
     "output_type": "error",
     "traceback": [
      "\u001b[1;31m---------------------------------------------------------------------------\u001b[0m",
      "\u001b[1;31mNameError\u001b[0m                                 Traceback (most recent call last)",
      "\u001b[1;32m~\\AppData\\Local\\Temp/ipykernel_19608/4118934707.py\u001b[0m in \u001b[0;36m<module>\u001b[1;34m\u001b[0m\n\u001b[1;32m----> 1\u001b[1;33m baseline_model = tf.keras.models.Sequential([\n\u001b[0m\u001b[0;32m      2\u001b[0m      tf.keras.layers.Conv2D(5,(3,3),\n\u001b[0;32m      3\u001b[0m                             activation='relu',input_shape=(28,28,1)),\n\u001b[0;32m      4\u001b[0m                                   \u001b[0mtf\u001b[0m\u001b[1;33m.\u001b[0m\u001b[0mkeras\u001b[0m\u001b[1;33m.\u001b[0m\u001b[0mlayers\u001b[0m\u001b[1;33m.\u001b[0m\u001b[0mMaxPooling2D\u001b[0m\u001b[1;33m(\u001b[0m\u001b[1;36m2\u001b[0m\u001b[1;33m,\u001b[0m\u001b[1;36m2\u001b[0m\u001b[1;33m)\u001b[0m\u001b[1;33m,\u001b[0m\u001b[1;33m\u001b[0m\u001b[1;33m\u001b[0m\u001b[0m\n\u001b[0;32m      5\u001b[0m     \u001b[0mtf\u001b[0m\u001b[1;33m.\u001b[0m\u001b[0mkeras\u001b[0m\u001b[1;33m.\u001b[0m\u001b[0mlayers\u001b[0m\u001b[1;33m.\u001b[0m\u001b[0mFlatten\u001b[0m\u001b[1;33m(\u001b[0m\u001b[0minput_shape\u001b[0m\u001b[1;33m=\u001b[0m\u001b[1;33m(\u001b[0m\u001b[1;36m28\u001b[0m\u001b[1;33m,\u001b[0m\u001b[1;36m28\u001b[0m\u001b[1;33m,\u001b[0m\u001b[1;36m1\u001b[0m\u001b[1;33m)\u001b[0m\u001b[1;33m)\u001b[0m\u001b[1;33m,\u001b[0m\u001b[1;33m\u001b[0m\u001b[1;33m\u001b[0m\u001b[0m\n",
      "\u001b[1;31mNameError\u001b[0m: name 'tf' is not defined"
     ]
    }
   ],
   "source": [
    "baseline_model = tf.keras.models.Sequential([\n",
    "     tf.keras.layers.Conv2D(5,(3,3),\n",
    "                            activation='relu',input_shape=(28,28,1)),\n",
    "                                  tf.keras.layers.MaxPooling2D(2,2),\n",
    "    tf.keras.layers.Flatten(input_shape=(28,28,1)),\n",
    "    tf.keras.layers.Dense(32, activation='relu'),\n",
    "    tf.keras.layers.Dense(5,activation='softmax')\n",
    "])"
   ]
  },
  {
   "cell_type": "code",
   "execution_count": 20,
   "id": "3b1e179c",
   "metadata": {},
   "outputs": [
    {
     "name": "stdout",
     "output_type": "stream",
     "text": [
      "Model: \"sequential\"\n",
      "_________________________________________________________________\n",
      " Layer (type)                Output Shape              Param #   \n",
      "=================================================================\n",
      " flatten (Flatten)           (None, 784)               0         \n",
      "                                                                 \n",
      " dense (Dense)               (None, 32)                25120     \n",
      "                                                                 \n",
      " dense_1 (Dense)             (None, 5)                 165       \n",
      "                                                                 \n",
      "=================================================================\n",
      "Total params: 25,285\n",
      "Trainable params: 25,285\n",
      "Non-trainable params: 0\n",
      "_________________________________________________________________\n"
     ]
    }
   ],
   "source": [
    "baseline_model.summary()"
   ]
  },
  {
   "cell_type": "code",
   "execution_count": 21,
   "id": "4601f167",
   "metadata": {},
   "outputs": [],
   "source": [
    "baseline_model.compile(optimizer='adam',loss='categorical_crossentropy',\n",
    "              metrics=['categorical_accuracy'])"
   ]
  },
  {
   "cell_type": "code",
   "execution_count": 22,
   "id": "e55018c0",
   "metadata": {},
   "outputs": [
    {
     "name": "stdout",
     "output_type": "stream",
     "text": [
      "Epoch 1/20\n",
      "93/93 [==============================] - 3s 25ms/step - loss: 1.0146 - categorical_accuracy: 0.6374 - val_loss: 0.7471 - val_categorical_accuracy: 0.7730\n",
      "Epoch 2/20\n",
      "93/93 [==============================] - 2s 22ms/step - loss: 0.6480 - categorical_accuracy: 0.8016 - val_loss: 0.5776 - val_categorical_accuracy: 0.8203\n",
      "Epoch 3/20\n",
      "93/93 [==============================] - 2s 22ms/step - loss: 0.4921 - categorical_accuracy: 0.8662 - val_loss: 0.4434 - val_categorical_accuracy: 0.8865\n",
      "Epoch 4/20\n",
      "93/93 [==============================] - 2s 21ms/step - loss: 0.4079 - categorical_accuracy: 0.8895 - val_loss: 0.3998 - val_categorical_accuracy: 0.8824\n",
      "Epoch 5/20\n",
      "93/93 [==============================] - 2s 21ms/step - loss: 0.3520 - categorical_accuracy: 0.9077 - val_loss: 0.3362 - val_categorical_accuracy: 0.9095\n",
      "Epoch 6/20\n",
      "93/93 [==============================] - 2s 21ms/step - loss: 0.3136 - categorical_accuracy: 0.9162 - val_loss: 0.2845 - val_categorical_accuracy: 0.9270\n",
      "Epoch 7/20\n",
      "93/93 [==============================] - 2s 22ms/step - loss: 0.2746 - categorical_accuracy: 0.9304 - val_loss: 0.2574 - val_categorical_accuracy: 0.9405\n",
      "Epoch 8/20\n",
      "93/93 [==============================] - 2s 22ms/step - loss: 0.2562 - categorical_accuracy: 0.9321 - val_loss: 0.2419 - val_categorical_accuracy: 0.9419\n",
      "Epoch 9/20\n",
      "93/93 [==============================] - 2s 22ms/step - loss: 0.2312 - categorical_accuracy: 0.9388 - val_loss: 0.2591 - val_categorical_accuracy: 0.9230\n",
      "Epoch 10/20\n",
      "93/93 [==============================] - 2s 21ms/step - loss: 0.2204 - categorical_accuracy: 0.9459 - val_loss: 0.2127 - val_categorical_accuracy: 0.9392\n",
      "Epoch 11/20\n",
      "93/93 [==============================] - 2s 21ms/step - loss: 0.2068 - categorical_accuracy: 0.9469 - val_loss: 0.2236 - val_categorical_accuracy: 0.9541\n",
      "Epoch 12/20\n",
      "93/93 [==============================] - 2s 22ms/step - loss: 0.1953 - categorical_accuracy: 0.9476 - val_loss: 0.2071 - val_categorical_accuracy: 0.9324\n",
      "Epoch 13/20\n",
      "93/93 [==============================] - 2s 22ms/step - loss: 0.1874 - categorical_accuracy: 0.9507 - val_loss: 0.1822 - val_categorical_accuracy: 0.9581\n",
      "Epoch 14/20\n",
      "93/93 [==============================] - 2s 21ms/step - loss: 0.1722 - categorical_accuracy: 0.9554 - val_loss: 0.2155 - val_categorical_accuracy: 0.9284\n",
      "Epoch 15/20\n",
      "93/93 [==============================] - 2s 22ms/step - loss: 0.1586 - categorical_accuracy: 0.9591 - val_loss: 0.1858 - val_categorical_accuracy: 0.9392\n",
      "Epoch 16/20\n",
      "93/93 [==============================] - 2s 22ms/step - loss: 0.1545 - categorical_accuracy: 0.9632 - val_loss: 0.1641 - val_categorical_accuracy: 0.9635\n",
      "Epoch 17/20\n",
      "93/93 [==============================] - 2s 21ms/step - loss: 0.1500 - categorical_accuracy: 0.9591 - val_loss: 0.2208 - val_categorical_accuracy: 0.9432\n",
      "Epoch 18/20\n",
      "93/93 [==============================] - 2s 22ms/step - loss: 0.1392 - categorical_accuracy: 0.9645 - val_loss: 0.1636 - val_categorical_accuracy: 0.9622\n",
      "Epoch 19/20\n",
      "93/93 [==============================] - 2s 22ms/step - loss: 0.1360 - categorical_accuracy: 0.9655 - val_loss: 0.1671 - val_categorical_accuracy: 0.9554\n",
      "Epoch 20/20\n",
      "93/93 [==============================] - 2s 22ms/step - loss: 0.1270 - categorical_accuracy: 0.9679 - val_loss: 0.1591 - val_categorical_accuracy: 0.9500\n"
     ]
    }
   ],
   "source": [
    "fitted_baseline=baseline_model.fit(train_gen,validation_data=val_gen,batch_size=32,epochs=20,shuffle=False)"
   ]
  },
  {
   "cell_type": "code",
   "execution_count": 23,
   "id": "3f2a144e",
   "metadata": {},
   "outputs": [
    {
     "data": {
      "text/plain": [
       "<matplotlib.legend.Legend at 0x26d59b82100>"
      ]
     },
     "execution_count": 23,
     "metadata": {},
     "output_type": "execute_result"
    },
    {
     "data": {
      "image/png": "[encoded data removed]",
      "text/plain": [
       "<Figure size 432x288 with 1 Axes>"
      ]
     },
     "metadata": {
      "needs_background": "light"
     },
     "output_type": "display_data"
    }
   ],
   "source": [
    "plt.plot(fitted_baseline.history['categorical_accuracy'],label='tr_acc')\n",
    "plt.plot(fitted_baseline.history['val_categorical_accuracy'],label='val_acc')\n",
    "plt.legend(loc='best')"
   ]
  },
  {
   "cell_type": "code",
   "execution_count": 24,
   "id": "b90dad08",
   "metadata": {},
   "outputs": [
    {
     "data": {
      "text/plain": [
       "<matplotlib.legend.Legend at 0x26d59bc58e0>"
      ]
     },
     "execution_count": 24,
     "metadata": {},
     "output_type": "execute_result"
    },
    {
     "data": {
      "image/png": "[encoded data removed]",
      "text/plain": [
       "<Figure size 432x288 with 1 Axes>"
      ]
     },
     "metadata": {
      "needs_background": "light"
     },
     "output_type": "display_data"
    }
   ],
   "source": [
    "plt.plot(fitted_baseline.history['loss'],label='tr_loss')\n",
    "plt.plot(fitted_baseline.history['val_loss'],label='val_loss')\n",
    "plt.legend(loc='best')"
   ]
  },
  {
   "cell_type": "code",
   "execution_count": 25,
   "id": "d5e145ee",
   "metadata": {},
   "outputs": [],
   "source": [
    "#handling imbalance"
   ]
  },
  {
   "cell_type": "code",
   "execution_count": 26,
   "id": "372cf0d7",
   "metadata": {},
   "outputs": [
    {
     "name": "stderr",
     "output_type": "stream",
     "text": [
      "C:\\ProgramData\\Anaconda3\\lib\\site-packages\\sklearn\\utils\\validation.py:70: FutureWarning: Pass classes=[0 1 2 3 4], y=[0, 2, 2, 2, 0, 4, 4, 2, 2, 3, 2, 3, 0, 3, 4, 2, 2, 3, 4, 2, 2, 2, 2, 3, 0, 0, 4, 4, 2, 4, 2, 4, 4, 2, 2, 3, 3, 2, 2, 4, 2, 2, 4, 2, 2, 4, 2, 2, 2, 3, 2, 3, 4, 2, 2, 0, 2, 2, 2, 2, 3, 2, 0, 4, 1, 3, 2, 4, 4, 2, 2, 4, 2, 3, 0, 3, 3, 2, 4, 3, 2, 2, 2, 3, 2, 4, 3, 4, 2, 4, 2, 4, 2, 2, 4, 2, 2, 2, 4, 4, 2, 3, 4, 2, 4, 1, 2, 3, 3, 0, 4, 4, 4, 4, 4, 3, 3, 2, 0, 4, 2, 2, 3, 3, 2, 4, 2, 2, 3, 4, 4, 2, 2, 2, 2, 2, 2, 2, 4, 4, 3, 2, 2, 2, 2, 2, 0, 4, 4, 4, 4, 3, 4, 2, 4, 2, 3, 2, 4, 2, 4, 4, 0, 2, 3, 2, 2, 2, 4, 3, 3, 4, 2, 4, 4, 2, 3, 3, 4, 2, 2, 4, 2, 2, 2, 2, 2, 3, 3, 2, 2, 2, 4, 2, 3, 2, 2, 3, 2, 0, 4, 3, 0, 2, 3, 2, 0, 2, 3, 3, 2, 4, 3, 0, 4, 2, 4, 3, 4, 2, 3, 2, 4, 2, 3, 3, 4, 1, 2, 2, 4, 3, 2, 2, 2, 4, 4, 2, 2, 4, 4, 2, 2, 3, 4, 3, 3, 4, 2, 2, 2, 4, 2, 2, 2, 2, 3, 3, 3, 2, 4, 4, 2, 2, 2, 3, 2, 4, 0, 0, 2, 4, 4, 3, 2, 1, 3, 4, 3, 2, 2, 2, 4, 4, 2, 2, 4, 2, 3, 2, 2, 2, 4, 4, 2, 2, 1, 2, 2, 4, 2, 2, 4, 2, 2, 4, 2, 2, 2, 2, 4, 2, 4, 2, 2, 4, 2, 2, 3, 4, 2, 3, 2, 3, 4, 4, 4, 4, 3, 2, 2, 4, 2, 4, 4, 4, 3, 2, 4, 0, 0, 2, 2, 0, 4, 0, 0, 4, 4, 4, 1, 4, 3, 4, 0, 4, 2, 2, 2, 4, 2, 2, 3, 2, 3, 0, 3, 0, 2, 0, 2, 2, 2, 2, 3, 3, 2, 2, 4, 0, 2, 2, 3, 3, 2, 4, 4, 2, 4, 2, 2, 0, 2, 4, 2, 3, 2, 2, 4, 4, 3, 2, 2, 4, 4, 2, 2, 2, 2, 2, 0, 2, 2, 3, 2, 2, 0, 2, 2, 4, 4, 2, 2, 1, 2, 4, 2, 2, 2, 4, 3, 3, 4, 2, 3, 4, 2, 3, 0, 2, 2, 0, 3, 2, 2, 4, 2, 2, 4, 2, 4, 2, 2, 4, 3, 2, 3, 2, 4, 2, 2, 2, 2, 4, 3, 2, 2, 2, 2, 3, 2, 3, 4, 4, 2, 2, 2, 2, 0, 0, 0, 4, 2, 3, 2, 2, 4, 4, 3, 2, 0, 4, 4, 2, 4, 2, 0, 2, 2, 2, 4, 2, 3, 2, 3, 3, 0, 4, 2, 4, 4, 2, 2, 2, 2, 2, 3, 2, 4, 4, 2, 3, 4, 2, 4, 4, 2, 4, 4, 4, 2, 2, 0, 3, 2, 2, 4, 2, 2, 3, 2, 2, 0, 2, 4, 2, 2, 2, 4, 4, 2, 4, 3, 4, 2, 4, 2, 4, 2, 3, 2, 2, 2, 2, 4, 2, 2, 2, 3, 2, 4, 0, 0, 2, 2, 4, 2, 3, 3, 0, 2, 2, 2, 2, 2, 2, 2, 2, 3, 4, 2, 4, 4, 3, 4, 2, 2, 2, 0, 2, 4, 3, 2, 0, 2, 4, 2, 2, 2, 4, 4, 2, 4, 2, 4, 4, 2, 2, 3, 2, 3, 2, 2, 4, 2, 4, 3, 3, 0, 4, 2, 2, 1, 4, 1, 2, 3, 3, 2, 2, 4, 2, 0, 2, 4, 2, 2, 4, 4, 2, 2, 3, 4, 4, 2, 2, 0, 2, 2, 4, 4, 2, 2, 3, 4, 4, 2, 4, 3, 4, 2, 4, 2, 2, 4, 2, 0, 2, 4, 3, 2, 2, 0, 3, 2, 2, 4, 3, 3, 2, 4, 4, 4, 2, 2, 0, 4, 1, 2, 2, 3, 2, 2, 0, 2, 3, 2, 3, 2, 2, 2, 4, 2, 1, 4, 4, 3, 3, 2, 4, 4, 2, 3, 2, 2, 2, 2, 2, 2, 2, 4, 3, 3, 2, 4, 3, 4, 0, 2, 2, 3, 2, 4, 4, 2, 3, 2, 2, 2, 4, 2, 2, 3, 0, 2, 3, 4, 2, 2, 2, 2, 2, 4, 4, 3, 4, 2, 2, 2, 4, 2, 4, 4, 3, 2, 4, 0, 0, 2, 2, 2, 4, 3, 3, 2, 2, 4, 2, 2, 2, 0, 3, 2, 2, 3, 3, 2, 3, 2, 2, 0, 4, 2, 4, 2, 3, 0, 0, 2, 3, 4, 3, 2, 4, 3, 2, 4, 4, 4, 0, 2, 2, 2, 2, 2, 4, 3, 3, 2, 0, 4, 2, 2, 2, 2, 0, 3, 3, 2, 2, 3, 4, 3, 0, 4, 2, 2, 3, 2, 2, 3, 2, 2, 4, 2, 2, 3, 4, 4, 2, 3, 3, 4, 2, 3, 4, 4, 2, 4, 3, 3, 4, 4, 2, 3, 2, 2, 4, 2, 3, 2, 3, 3, 2, 4, 3, 2, 3, 2, 0, 2, 0, 0, 2, 2, 2, 2, 2, 0, 2, 2, 3, 2, 3, 2, 2, 3, 2, 2, 2, 3, 0, 2, 4, 3, 2, 2, 0, 3, 3, 2, 2, 4, 4, 2, 2, 2, 3, 0, 3, 2, 3, 2, 3, 3, 2, 0, 4, 2, 2, 2, 4, 0, 1, 2, 3, 2, 4, 2, 4, 2, 2, 2, 3, 2, 2, 2, 3, 2, 3, 4, 4, 0, 3, 2, 4, 4, 3, 4, 2, 2, 4, 3, 2, 4, 2, 4, 2, 4, 2, 2, 2, 2, 2, 2, 2, 4, 4, 4, 3, 0, 3, 3, 2, 2, 2, 2, 2, 2, 2, 2, 3, 4, 2, 0, 2, 2, 0, 2, 4, 2, 2, 2, 4, 4, 4, 0, 2, 2, 2, 2, 2, 2, 2, 2, 4, 3, 4, 4, 3, 4, 2, 0, 2, 2, 2, 4, 0, 3, 1, 4, 2, 3, 4, 2, 0, 4, 2, 2, 2, 4, 4, 2, 2, 4, 4, 2, 0, 3, 2, 4, 4, 2, 2, 4, 2, 2, 2, 4, 4, 4, 1, 2, 3, 0, 2, 2, 3, 4, 2, 2, 3, 2, 3, 2, 2, 2, 2, 2, 4, 2, 2, 0, 3, 4, 2, 4, 3, 4, 2, 2, 4, 4, 3, 2, 2, 2, 3, 2, 3, 2, 4, 4, 4, 2, 2, 4, 2, 2, 3, 2, 3, 2, 3, 2, 2, 3, 2, 4, 0, 4, 3, 4, 3, 3, 4, 3, 2, 2, 2, 2, 4, 4, 4, 2, 2, 4, 2, 4, 2, 4, 4, 3, 3, 2, 4, 4, 4, 2, 4, 2, 2, 2, 4, 0, 2, 4, 2, 4, 3, 4, 2, 3, 0, 2, 4, 2, 2, 3, 2, 4, 2, 4, 1, 2, 3, 3, 2, 3, 2, 2, 2, 4, 4, 0, 3, 4, 2, 4, 3, 4, 0, 2, 2, 4, 4, 4, 2, 2, 2, 0, 2, 2, 2, 2, 4, 2, 4, 2, 2, 4, 2, 2, 4, 2, 2, 3, 2, 2, 4, 2, 3, 0, 2, 2, 2, 3, 0, 3, 4, 2, 4, 2, 2, 3, 2, 3, 2, 2, 4, 4, 2, 3, 3, 2, 2, 2, 2, 4, 4, 4, 2, 2, 4, 2, 2, 4, 2, 2, 3, 0, 1, 4, 2, 2, 2, 3, 2, 2, 3, 4, 2, 4, 3, 2, 3, 4, 3, 4, 1, 2, 4, 2, 2, 2, 2, 4, 2, 2, 4, 3, 2, 2, 4, 3, 4, 3, 4, 2, 4, 4, 4, 2, 4, 3, 3, 4, 2, 2, 2, 3, 3, 3, 3, 2, 2, 3, 2, 4, 2, 2, 2, 0, 4, 2, 4, 3, 2, 0, 0, 4, 4, 3, 4, 1, 2, 3, 2, 2, 4, 2, 4, 3, 0, 2, 2, 0, 2, 3, 2, 4, 4, 4, 2, 0, 0, 0, 3, 3, 2, 4, 4, 3, 2, 4, 0, 3, 3, 2, 3, 2, 4, 3, 2, 2, 4, 3, 2, 0, 4, 3, 0, 4, 2, 0, 4, 2, 2, 2, 0, 3, 0, 3, 2, 4, 4, 3, 3, 2, 4, 2, 2, 1, 4, 2, 4, 4, 4, 3, 2, 4, 2, 2, 4, 4, 3, 4, 3, 2, 4, 2, 0, 4, 3, 2, 3, 3, 3, 3, 2, 2, 4, 4, 2, 3, 0, 0, 4, 1, 4, 4, 2, 4, 4, 0, 2, 4, 2, 0, 2, 4, 4, 4, 0, 2, 2, 2, 3, 2, 0, 2, 4, 1, 3, 2, 3, 4, 4, 2, 4, 2, 2, 2, 2, 3, 2, 2, 2, 2, 4, 4, 2, 3, 2, 3, 2, 2, 2, 4, 3, 3, 2, 2, 4, 4, 3, 3, 4, 2, 2, 2, 4, 2, 4, 2, 2, 2, 4, 4, 2, 4, 2, 2, 2, 2, 2, 2, 2, 3, 2, 2, 2, 2, 3, 2, 0, 2, 2, 2, 2, 2, 2, 3, 2, 4, 3, 4, 3, 4, 3, 2, 3, 4, 2, 3, 3, 2, 2, 2, 3, 4, 3, 0, 2, 4, 2, 3, 2, 4, 2, 4, 3, 3, 3, 3, 4, 4, 2, 1, 3, 4, 3, 3, 4, 4, 1, 3, 4, 3, 3, 4, 2, 2, 3, 3, 4, 2, 2, 3, 4, 3, 4, 2, 3, 4, 2, 4, 0, 2, 3, 4, 2, 2, 2, 2, 4, 3, 3, 2, 2, 4, 3, 4, 3, 2, 2, 3, 2, 4, 3, 4, 3, 3, 2, 2, 3, 0, 2, 3, 0, 2, 3, 4, 4, 4, 2, 3, 3, 2, 2, 2, 2, 2, 2, 2, 4, 2, 4, 3, 3, 0, 2, 2, 2, 2, 2, 0, 2, 2, 3, 4, 2, 4, 2, 0, 2, 2, 3, 3, 3, 4, 2, 2, 2, 4, 2, 2, 2, 0, 2, 4, 0, 2, 2, 4, 1, 2, 3, 2, 4, 3, 4, 2, 4, 2, 2, 2, 3, 4, 3, 2, 3, 2, 4, 4, 4, 2, 4, 4, 4, 4, 4, 3, 4, 4, 2, 3, 2, 0, 0, 2, 2, 3, 2, 2, 2, 2, 3, 2, 4, 2, 3, 2, 2, 2, 3, 2, 2, 3, 2, 4, 2, 2, 2, 2, 2, 4, 2, 2, 2, 2, 3, 4, 2, 4, 2, 2, 2, 4, 4, 0, 4, 2, 2, 3, 2, 2, 2, 0, 2, 2, 4, 4, 2, 3, 3, 2, 2, 3, 4, 0, 3, 2, 0, 2, 2, 0, 2, 2, 0, 2, 4, 2, 2, 2, 4, 2, 4, 2, 3, 4, 2, 4, 4, 2, 3, 4, 2, 3, 4, 0, 2, 4, 2, 2, 4, 2, 3, 0, 0, 2, 2, 2, 0, 2, 4, 4, 2, 2, 2, 2, 2, 3, 3, 4, 2, 2, 2, 4, 4, 2, 4, 3, 0, 2, 4, 2, 2, 3, 2, 2, 2, 2, 4, 2, 2, 2, 4, 2, 2, 3, 1, 2, 3, 0, 0, 4, 3, 4, 2, 0, 3, 2, 0, 4, 2, 4, 2, 2, 2, 3, 4, 3, 2, 3, 3, 3, 2, 3, 2, 4, 2, 2, 2, 2, 3, 2, 2, 2, 3, 4, 2, 3, 4, 2, 2, 0, 3, 4, 4, 2, 2, 2, 3, 2, 2, 2, 3, 3, 2, 2, 4, 4, 4, 2, 3, 2, 4, 2, 4, 4, 0, 4, 4, 3, 4, 4, 3, 4, 2, 2, 4, 3, 2, 3, 4, 2, 2, 2, 2, 3, 2, 3, 0, 3, 4, 0, 2, 4, 3, 2, 2, 2, 2, 3, 4, 3, 3, 4, 3, 4, 4, 4, 4, 3, 4, 0, 2, 2, 2, 2, 2, 2, 0, 3, 2, 4, 4, 2, 2, 4, 2, 2, 2, 2, 2, 3, 3, 1, 2, 4, 4, 3, 2, 2, 2, 4, 2, 0, 2, 0, 3, 3, 2, 2, 2, 4, 3, 4, 0, 2, 2, 3, 2, 4, 4, 3, 3, 4, 2, 2, 0, 3, 2, 3, 2, 0, 4, 2, 3, 3, 2, 2, 2, 0, 3, 4, 2, 4, 3, 2, 2, 2, 2, 4, 2, 4, 2, 2, 4, 3, 3, 3, 1, 0, 2, 4, 4, 3, 2, 4, 3, 2, 3, 4, 2, 2, 2, 2, 2, 3, 3, 3, 4, 4, 2, 2, 4, 2, 2, 4, 4, 2, 0, 3, 4, 4, 2, 2, 2, 4, 2, 4, 2, 3, 2, 0, 2, 2, 3, 0, 2, 3, 3, 3, 4, 2, 2, 2, 3, 0, 4, 3, 3, 4, 3, 2, 3, 2, 4, 4, 2, 2, 2, 4, 2, 2, 3, 2, 3, 2, 2, 2, 3, 3, 3, 3, 2, 2, 2, 4, 3, 2, 2, 2, 4, 2, 0, 3, 4, 2, 2, 2, 2, 3, 3, 2, 3, 0, 2, 0, 3, 2, 4, 2, 3, 2, 2, 0, 4, 3, 3, 2, 3, 2, 3, 2, 2, 4, 4, 2, 2, 4, 4, 2, 3, 2, 2, 3, 2, 2, 3, 2, 4, 2, 2, 3, 2, 2, 2, 4, 2, 4, 4, 4, 2, 3, 2, 2, 2, 2, 2, 4, 2, 4, 2, 2, 2, 2, 2, 4, 3, 3, 4, 2, 4, 4, 3, 2, 4, 2, 2, 2, 2, 2, 2, 3, 1, 3, 2, 3, 4, 3, 4, 2, 2, 3, 4, 3, 2, 2, 4, 2, 0, 4, 4, 3, 4, 2, 2, 4, 3, 2, 3, 4, 2, 2, 2, 3, 4, 3, 2, 4, 2, 3, 4, 2, 0, 2, 0, 3, 2, 2, 2, 3, 2, 2, 2, 2, 4, 4, 2, 4, 2, 4, 2, 2, 3, 2, 4, 3, 2, 2, 4, 4, 2, 4, 3, 4, 4, 4, 2, 2, 2, 2, 2, 2, 4, 2, 2, 2, 4, 2, 4, 2, 0, 2, 2, 2, 0, 2, 2, 2, 2, 3, 2, 2, 4, 3, 2, 4, 2, 2, 2, 2, 0, 4, 3, 0, 3, 3, 4, 2, 2, 3, 2, 2, 2, 2, 0, 3, 2, 4, 2, 4, 3, 4, 2, 4, 2, 4, 2, 4, 2, 2, 3, 2, 4, 2, 0, 2, 2, 4, 2, 2, 3, 3, 2, 2, 4, 2, 3, 4, 3, 3, 0, 4, 2, 2, 4, 3, 2, 0, 4, 2, 4, 3, 2, 4, 3, 4, 2, 0, 2, 2, 2, 2, 2, 2, 2, 2, 3, 2, 0, 2, 2, 0, 2, 0, 4, 3, 2, 1, 4, 4, 2, 2, 4, 2, 3, 2, 3, 2, 2, 4, 3, 2, 2, 0, 3, 3, 3, 4, 2, 2, 0, 3, 3, 4, 2, 4, 2, 2, 2, 2, 0, 2, 2, 2, 4, 3, 2, 4, 2, 0, 3, 4, 2, 0, 4, 2, 2, 3, 2, 3, 4, 2, 3, 3, 2, 2, 4, 2, 2, 2, 3, 2, 4, 0, 2, 4, 3, 3, 2, 3, 2, 2, 4, 3, 2, 3, 2, 2, 2, 3, 1, 3, 3, 2, 2, 2, 2, 2, 0, 3, 3, 4, 2, 2, 4, 2, 2, 3, 2, 4, 2, 3, 2, 2, 2, 2, 0, 2, 4, 3, 3, 4, 0, 2, 4, 1, 2, 2, 4, 2, 2, 2, 4, 4, 2, 0, 2, 0, 3, 4, 4, 4, 4, 3, 0, 4, 0, 0, 4, 3, 2, 0, 2, 2, 2, 2, 4, 2, 4, 2, 2, 2, 3, 4, 2, 4, 2, 3, 2, 2, 4, 4, 2, 0, 0, 3, 2, 2, 2, 4, 3, 0, 2, 2, 1, 2, 2, 4, 4, 2, 4, 3, 3, 4, 1, 2, 4, 1, 3, 2, 4, 3, 3, 4, 4, 4, 4, 2, 2, 3, 3, 0, 2, 2, 2, 2, 2, 2, 4, 2, 2, 2, 2, 2, 2, 4, 2, 2, 2, 4, 3, 2, 4, 0, 3, 2, 0, 1, 3, 2, 2, 2, 3, 4, 2, 2, 2, 4, 2, 2, 0, 3, 2, 3, 3, 2, 4, 4, 2, 0, 2, 2, 4, 2, 2, 4, 3, 2, 3, 2, 2, 2, 4, 4, 2, 4, 2, 2, 2, 0, 3, 2, 2, 4, 2, 2, 3, 2, 2, 4, 2, 4, 4, 2, 3, 3, 3, 2, 2, 2, 3, 2, 4, 2, 2, 2, 0, 2, 2, 0, 2, 2, 3, 2, 4, 3, 4, 2, 2, 3, 2, 2, 2, 2, 2, 3, 3, 2, 2, 4, 4, 2, 4, 2, 4, 3, 2, 2, 4, 2, 2, 2, 2, 2, 2, 2, 2, 2, 2, 3, 2, 2, 2, 4, 2, 4, 2, 4, 3, 2, 2, 2, 0, 2, 2, 3, 4, 2, 2, 4, 1, 2, 0, 3, 4, 3, 4, 4, 4, 2, 2, 2, 4, 2, 2, 4, 2, 4, 2, 2, 4, 4, 2, 3, 2, 3, 3, 2, 3, 4, 4, 2, 3, 4, 0, 3, 2, 3, 2, 0, 2, 4, 2, 3, 2, 3, 4, 3, 2, 3, 4, 3, 4, 4, 4, 2, 3, 4, 2, 2, 2, 4, 3, 2, 3, 0, 3, 4, 2, 4, 2, 3, 2, 2, 2, 2, 4, 2, 2, 4, 4, 2, 4, 2, 4, 2, 2, 4, 3, 4, 3, 4, 0, 4, 1, 2, 4, 3, 4, 3, 0, 3, 2, 2, 2, 2, 4, 0, 4, 0, 4, 2, 2, 2, 4, 2, 4, 4, 4, 3, 3, 0, 2, 2, 3, 4, 3, 0, 3, 3, 2, 2, 2, 2, 2, 2, 2, 2, 4, 4, 2, 2, 4, 2] as keyword args. From version 1.0 (renaming of 0.25) passing these as positional arguments will result in an error\n",
      "  warnings.warn(f\"Pass {args_msg} as keyword args. From version \"\n"
     ]
    }
   ],
   "source": [
    "weights = compute_class_weight(\"balanced\",np.unique(train_gen.classes),train_gen.classes)"
   ]
  },
  {
   "cell_type": "code",
   "execution_count": 27,
   "id": "a80bf48e",
   "metadata": {},
   "outputs": [],
   "source": [
    "weights_dict={}\n",
    "for i in range(weights.shape[0]):\n",
    "    weights_dict[np.unique(train_gen.classes)[i]]=weights[i]"
   ]
  },
  {
   "cell_type": "code",
   "execution_count": 28,
   "id": "9d376158",
   "metadata": {},
   "outputs": [
    {
     "data": {
      "text/plain": [
       "{0: 2.7525581395348837,\n",
       " 1: 15.994594594594595,\n",
       " 2: 0.4257553956834532,\n",
       " 3: 1.0328097731239092,\n",
       " 4: 0.7954301075268817}"
      ]
     },
     "execution_count": 28,
     "metadata": {},
     "output_type": "execute_result"
    }
   ],
   "source": [
    "weights_dict"
   ]
  },
  {
   "cell_type": "code",
   "execution_count": 29,
   "id": "ded6b249",
   "metadata": {},
   "outputs": [],
   "source": [
    "#training weighted model"
   ]
  },
  {
   "cell_type": "code",
   "execution_count": 30,
   "id": "647bb64f",
   "metadata": {},
   "outputs": [
    {
     "name": "stdout",
     "output_type": "stream",
     "text": [
      "Epoch 1/20\n",
      "93/93 [==============================] - 3s 23ms/step - loss: 1.0915 - categorical_accuracy: 0.5471 - val_loss: 1.1454 - val_categorical_accuracy: 0.4851\n",
      "Epoch 2/20\n",
      "93/93 [==============================] - 2s 22ms/step - loss: 0.5713 - categorical_accuracy: 0.7519 - val_loss: 0.6326 - val_categorical_accuracy: 0.7784\n",
      "Epoch 3/20\n",
      "93/93 [==============================] - 2s 22ms/step - loss: 0.4406 - categorical_accuracy: 0.8233 - val_loss: 0.6802 - val_categorical_accuracy: 0.7365\n",
      "Epoch 4/20\n",
      "93/93 [==============================] - 2s 22ms/step - loss: 0.3308 - categorical_accuracy: 0.8743 - val_loss: 0.3839 - val_categorical_accuracy: 0.8946\n",
      "Epoch 5/20\n",
      "93/93 [==============================] - 2s 22ms/step - loss: 0.2752 - categorical_accuracy: 0.9010 - val_loss: 0.2682 - val_categorical_accuracy: 0.9392\n",
      "Epoch 6/20\n",
      "93/93 [==============================] - 2s 22ms/step - loss: 0.2361 - categorical_accuracy: 0.9172 - val_loss: 0.4287 - val_categorical_accuracy: 0.8338\n",
      "Epoch 7/20\n",
      "93/93 [==============================] - 2s 22ms/step - loss: 0.1993 - categorical_accuracy: 0.9324 - val_loss: 0.2094 - val_categorical_accuracy: 0.9541\n",
      "Epoch 8/20\n",
      "93/93 [==============================] - 2s 22ms/step - loss: 0.1828 - categorical_accuracy: 0.9348 - val_loss: 0.1987 - val_categorical_accuracy: 0.9554\n",
      "Epoch 9/20\n",
      "93/93 [==============================] - 2s 22ms/step - loss: 0.1811 - categorical_accuracy: 0.9341 - val_loss: 0.2358 - val_categorical_accuracy: 0.9392\n",
      "Epoch 10/20\n",
      "93/93 [==============================] - 2s 22ms/step - loss: 0.1606 - categorical_accuracy: 0.9388 - val_loss: 0.1692 - val_categorical_accuracy: 0.9608\n",
      "Epoch 11/20\n",
      "93/93 [==============================] - 2s 22ms/step - loss: 0.1207 - categorical_accuracy: 0.9625 - val_loss: 0.1598 - val_categorical_accuracy: 0.9635\n",
      "Epoch 12/20\n",
      "93/93 [==============================] - 2s 17ms/step - loss: 0.1085 - categorical_accuracy: 0.9659 - val_loss: 0.1453 - val_categorical_accuracy: 0.9649\n",
      "Epoch 13/20\n",
      "93/93 [==============================] - 1s 13ms/step - loss: 0.1131 - categorical_accuracy: 0.9638 - val_loss: 0.2906 - val_categorical_accuracy: 0.8959\n",
      "Epoch 14/20\n",
      "93/93 [==============================] - 1s 13ms/step - loss: 0.1028 - categorical_accuracy: 0.9662 - val_loss: 0.1551 - val_categorical_accuracy: 0.9554\n",
      "Epoch 15/20\n",
      "93/93 [==============================] - 1s 13ms/step - loss: 0.0836 - categorical_accuracy: 0.9736 - val_loss: 0.2529 - val_categorical_accuracy: 0.9081\n",
      "Epoch 16/20\n",
      "93/93 [==============================] - 1s 13ms/step - loss: 0.0779 - categorical_accuracy: 0.9733 - val_loss: 0.1915 - val_categorical_accuracy: 0.9365\n",
      "Epoch 17/20\n",
      "93/93 [==============================] - 1s 13ms/step - loss: 0.0738 - categorical_accuracy: 0.9747 - val_loss: 0.1380 - val_categorical_accuracy: 0.9595\n",
      "Epoch 18/20\n",
      "93/93 [==============================] - 1s 13ms/step - loss: 0.0674 - categorical_accuracy: 0.9794 - val_loss: 0.1174 - val_categorical_accuracy: 0.9757\n",
      "Epoch 19/20\n",
      "93/93 [==============================] - 1s 13ms/step - loss: 0.0693 - categorical_accuracy: 0.9770 - val_loss: 0.1155 - val_categorical_accuracy: 0.9716\n",
      "Epoch 20/20\n",
      "93/93 [==============================] - 1s 13ms/step - loss: 0.0514 - categorical_accuracy: 0.9845 - val_loss: 0.1437 - val_categorical_accuracy: 0.9541\n"
     ]
    }
   ],
   "source": [
    "baseline_model_weighted = tf.keras.models.Sequential([\n",
    "    tf.keras.layers.Flatten(input_shape=(28,28,1)),\n",
    "    tf.keras.layers.Dense(128, activation='relu'),\n",
    "    tf.keras.layers.Dense(5,activation='softmax')\n",
    "])\n",
    "baseline_model_weighted.compile(optimizer='adam',loss='categorical_crossentropy',\n",
    "              metrics=['categorical_accuracy'])\n",
    "fitted_baseline_weighted=baseline_model_weighted.fit(train_gen,validation_data=val_gen,batch_size=32,epochs=20,class_weight=weights_dict,shuffle=False)"
   ]
  },
  {
   "cell_type": "code",
   "execution_count": 31,
   "id": "2d01993d",
   "metadata": {},
   "outputs": [
    {
     "data": {
      "text/plain": [
       "<matplotlib.legend.Legend at 0x26d5b6610a0>"
      ]
     },
     "execution_count": 31,
     "metadata": {},
     "output_type": "execute_result"
    },
    {
     "data": {
      "image/png": "[encoded data removed]",
      "text/plain": [
       "<Figure size 432x288 with 1 Axes>"
      ]
     },
     "metadata": {
      "needs_background": "light"
     },
     "output_type": "display_data"
    }
   ],
   "source": [
    "plt.plot(fitted_baseline_weighted.history['categorical_accuracy'],label='tr_acc')\n",
    "plt.plot(fitted_baseline_weighted.history['val_categorical_accuracy'],label='val_acc')\n",
    "plt.legend(loc='best')"
   ]
  },
  {
   "cell_type": "code",
   "execution_count": 32,
   "id": "3bdbfe23",
   "metadata": {},
   "outputs": [],
   "source": [
    "#incremental_improvements"
   ]
  },
  {
   "cell_type": "code",
   "execution_count": 33,
   "id": "aabf5a7b",
   "metadata": {},
   "outputs": [
    {
     "name": "stdout",
     "output_type": "stream",
     "text": [
      "Epoch 1/20\n",
      "93/93 [==============================] - 2s 15ms/step - loss: 1.0949 - categorical_accuracy: 0.5188 - val_loss: 0.6883 - val_categorical_accuracy: 0.7757\n",
      "Epoch 2/20\n",
      "93/93 [==============================] - 1s 13ms/step - loss: 0.6463 - categorical_accuracy: 0.7134 - val_loss: 0.4615 - val_categorical_accuracy: 0.8527\n",
      "Epoch 3/20\n",
      "93/93 [==============================] - 1s 13ms/step - loss: 0.3406 - categorical_accuracy: 0.8581 - val_loss: 0.3429 - val_categorical_accuracy: 0.9000\n",
      "Epoch 4/20\n",
      "93/93 [==============================] - 1s 13ms/step - loss: 0.2493 - categorical_accuracy: 0.8979 - val_loss: 0.4187 - val_categorical_accuracy: 0.8378\n",
      "Epoch 5/20\n",
      "93/93 [==============================] - 1s 13ms/step - loss: 0.2074 - categorical_accuracy: 0.9111 - val_loss: 0.3325 - val_categorical_accuracy: 0.8838\n",
      "Epoch 6/20\n",
      "93/93 [==============================] - 1s 13ms/step - loss: 0.1594 - categorical_accuracy: 0.9382 - val_loss: 0.3741 - val_categorical_accuracy: 0.8486\n",
      "Epoch 7/20\n",
      "93/93 [==============================] - 1s 14ms/step - loss: 0.1830 - categorical_accuracy: 0.9213 - val_loss: 0.3127 - val_categorical_accuracy: 0.8973\n",
      "Epoch 8/20\n",
      "93/93 [==============================] - 1s 13ms/step - loss: 0.1088 - categorical_accuracy: 0.9561 - val_loss: 0.1633 - val_categorical_accuracy: 0.9419\n",
      "Epoch 9/20\n",
      "93/93 [==============================] - 1s 13ms/step - loss: 0.1083 - categorical_accuracy: 0.9513 - val_loss: 0.1181 - val_categorical_accuracy: 0.9689\n",
      "Epoch 10/20\n",
      "93/93 [==============================] - 1s 14ms/step - loss: 0.0719 - categorical_accuracy: 0.9692 - val_loss: 0.1010 - val_categorical_accuracy: 0.9743\n",
      "Epoch 11/20\n",
      "93/93 [==============================] - 1s 14ms/step - loss: 0.0582 - categorical_accuracy: 0.9797 - val_loss: 0.0973 - val_categorical_accuracy: 0.9730\n",
      "Epoch 12/20\n",
      "93/93 [==============================] - 1s 13ms/step - loss: 0.0961 - categorical_accuracy: 0.9527 - val_loss: 0.1076 - val_categorical_accuracy: 0.9649\n",
      "Epoch 13/20\n",
      "93/93 [==============================] - 1s 13ms/step - loss: 0.0391 - categorical_accuracy: 0.9872 - val_loss: 0.0750 - val_categorical_accuracy: 0.9797\n",
      "Epoch 14/20\n",
      "93/93 [==============================] - 1s 13ms/step - loss: 0.0321 - categorical_accuracy: 0.9892 - val_loss: 0.0807 - val_categorical_accuracy: 0.9757\n",
      "Epoch 15/20\n",
      "93/93 [==============================] - 1s 13ms/step - loss: 0.0365 - categorical_accuracy: 0.9838 - val_loss: 0.1162 - val_categorical_accuracy: 0.9635\n",
      "Epoch 16/20\n",
      "93/93 [==============================] - 1s 13ms/step - loss: 0.0314 - categorical_accuracy: 0.9892 - val_loss: 0.0886 - val_categorical_accuracy: 0.9757\n",
      "Epoch 17/20\n",
      "93/93 [==============================] - 1s 13ms/step - loss: 0.1012 - categorical_accuracy: 0.9628 - val_loss: 0.1228 - val_categorical_accuracy: 0.9608\n",
      "Epoch 18/20\n",
      "93/93 [==============================] - 1s 13ms/step - loss: 0.0636 - categorical_accuracy: 0.9672 - val_loss: 0.0978 - val_categorical_accuracy: 0.9716\n",
      "Epoch 19/20\n",
      "93/93 [==============================] - 1s 13ms/step - loss: 0.0275 - categorical_accuracy: 0.9899 - val_loss: 0.0801 - val_categorical_accuracy: 0.9743\n",
      "Epoch 20/20\n",
      "93/93 [==============================] - 1s 13ms/step - loss: 0.0130 - categorical_accuracy: 0.9976 - val_loss: 0.0931 - val_categorical_accuracy: 0.9676\n"
     ]
    }
   ],
   "source": [
    "baseline_model_weighted_2_hidden = tf.keras.models.Sequential([\n",
    "    tf.keras.layers.Flatten(input_shape=(28,28,1)),\n",
    "    tf.keras.layers.Dense(128, activation='relu'),\n",
    "    tf.keras.layers.Dense(256, activation='relu'),\n",
    "    tf.keras.layers.Dense(5,activation='softmax')\n",
    "])\n",
    "baseline_model_weighted_2_hidden.compile(optimizer='adam',loss='categorical_crossentropy',\n",
    "              metrics=['categorical_accuracy'])\n",
    "fitted_baseline_weighted_2_hidden=baseline_model_weighted_2_hidden.fit(train_gen,validation_data=val_gen,batch_size=32,epochs=20,class_weight=weights_dict,shuffle=False)"
   ]
  },
  {
   "cell_type": "code",
   "execution_count": 34,
   "id": "3e3502b4",
   "metadata": {},
   "outputs": [
    {
     "data": {
      "text/plain": [
       "<matplotlib.legend.Legend at 0x26d5b82f040>"
      ]
     },
     "execution_count": 34,
     "metadata": {},
     "output_type": "execute_result"
    },
    {
     "data": {
      "image/png": "[encoded data removed]",
      "text/plain": [
       "<Figure size 432x288 with 1 Axes>"
      ]
     },
     "metadata": {
      "needs_background": "light"
     },
     "output_type": "display_data"
    }
   ],
   "source": [
    "plt.plot(fitted_baseline_weighted_2_hidden.history['categorical_accuracy'],label='tr_acc')\n",
    "plt.plot(fitted_baseline_weighted_2_hidden.history['val_categorical_accuracy'],label='val_acc')\n",
    "plt.legend(loc='best')"
   ]
  },
  {
   "cell_type": "code",
   "execution_count": 35,
   "id": "b6e67470",
   "metadata": {},
   "outputs": [],
   "source": [
    "#creating image data generators with augmentation"
   ]
  },
  {
   "cell_type": "code",
   "execution_count": 36,
   "id": "f2653635",
   "metadata": {},
   "outputs": [
    {
     "name": "stdout",
     "output_type": "stream",
     "text": [
      "Found 2959 validated image filenames belonging to 5 classes.\n",
      "Found 740 validated image filenames belonging to 5 classes.\n"
     ]
    }
   ],
   "source": [
    "new_idg_train=ImageDataGenerator(rescale=1/255.0,\n",
    "                                 data_format='channels_last',\n",
    "                                 rotation_range=95,\n",
    "                                 #width_shift_range=0.2,\n",
    "                                 #height_shift_range=0.2,\n",
    "                                 #shear_range=0.2,\n",
    "                                 zoom_range=0.2,\n",
    "                                 fill_mode='nearest',\n",
    "                                 horizontal_flip=True,\n",
    "                                 vertical_flip=True)\n",
    "new_idg_val=ImageDataGenerator(rescale=1/255.0,\n",
    "                                 data_format='channels_last',\n",
    "                                 rotation_range=95,\n",
    "                                 #width_shift_range=0.2,\n",
    "                                 #height_shift_range=0.2,\n",
    "                                 #shear_range=0.2,\n",
    "                                 zoom_range=0.2,\n",
    "                                 fill_mode='nearest',\n",
    "                                 horizontal_flip=True,\n",
    "                                 vertical_flip=True)\n",
    "new_train_gen=new_idg_train.flow_from_dataframe(dataframe=train_df,\n",
    "                                        batch_size=32,\n",
    "                                        seed=10,\n",
    "                                        class_mode='categorical',\n",
    "                                        target_size=(28, 28),\n",
    "                                        x_col='Paths',\n",
    "                                        y_col='Shapes',\n",
    "                                        color_mode = 'grayscale')\n",
    "new_val_gen=new_idg_val.flow_from_dataframe(dataframe=val_df,\n",
    "                                       batch_size=32,\n",
    "                                       seed=10,\n",
    "                                       class_mode='categorical',\n",
    "                                       target_size=(28, 28),\n",
    "                                       x_col='Paths',\n",
    "                                       y_col='Shapes',\n",
    "                                       color_mode = 'grayscale'\n",
    "                                      )"
   ]
  },
  {
   "cell_type": "code",
   "execution_count": 37,
   "id": "fb5543f0",
   "metadata": {},
   "outputs": [
    {
     "name": "stdout",
     "output_type": "stream",
     "text": [
      "Epoch 1/100\n",
      "93/93 [==============================] - 2s 21ms/step - loss: 1.5848 - categorical_accuracy: 0.2497 - val_loss: 1.7125 - val_categorical_accuracy: 0.1216\n",
      "Epoch 2/100\n",
      "93/93 [==============================] - 2s 20ms/step - loss: 1.3960 - categorical_accuracy: 0.2971 - val_loss: 1.4094 - val_categorical_accuracy: 0.3527\n",
      "Epoch 3/100\n",
      "93/93 [==============================] - 2s 20ms/step - loss: 1.2672 - categorical_accuracy: 0.3650 - val_loss: 1.6589 - val_categorical_accuracy: 0.2095\n",
      "Epoch 4/100\n",
      "93/93 [==============================] - 2s 20ms/step - loss: 1.2604 - categorical_accuracy: 0.3464 - val_loss: 1.4556 - val_categorical_accuracy: 0.2851\n",
      "Epoch 5/100\n",
      "93/93 [==============================] - 2s 20ms/step - loss: 1.1796 - categorical_accuracy: 0.4140 - val_loss: 1.3213 - val_categorical_accuracy: 0.3757\n",
      "Epoch 6/100\n",
      "93/93 [==============================] - 2s 20ms/step - loss: 1.1518 - categorical_accuracy: 0.4194 - val_loss: 1.5305 - val_categorical_accuracy: 0.2784\n",
      "Epoch 7/100\n",
      "93/93 [==============================] - 2s 20ms/step - loss: 1.0963 - categorical_accuracy: 0.4164 - val_loss: 1.2788 - val_categorical_accuracy: 0.3946\n",
      "Epoch 8/100\n",
      "93/93 [==============================] - 2s 20ms/step - loss: 1.1249 - categorical_accuracy: 0.4268 - val_loss: 1.3286 - val_categorical_accuracy: 0.3514\n",
      "Epoch 9/100\n",
      "93/93 [==============================] - 2s 20ms/step - loss: 1.0503 - categorical_accuracy: 0.4458 - val_loss: 1.3275 - val_categorical_accuracy: 0.3757\n",
      "Epoch 10/100\n",
      "93/93 [==============================] - 2s 21ms/step - loss: 1.0631 - categorical_accuracy: 0.4471 - val_loss: 1.2515 - val_categorical_accuracy: 0.4122\n",
      "Epoch 11/100\n",
      "93/93 [==============================] - 2s 20ms/step - loss: 1.0166 - categorical_accuracy: 0.4600 - val_loss: 1.1332 - val_categorical_accuracy: 0.5068\n",
      "Epoch 12/100\n",
      "93/93 [==============================] - 2s 20ms/step - loss: 1.0048 - categorical_accuracy: 0.4735 - val_loss: 1.1496 - val_categorical_accuracy: 0.5000\n",
      "Epoch 13/100\n",
      "93/93 [==============================] - 2s 20ms/step - loss: 1.0105 - categorical_accuracy: 0.4937 - val_loss: 1.2404 - val_categorical_accuracy: 0.4311\n",
      "Epoch 14/100\n",
      "93/93 [==============================] - 2s 20ms/step - loss: 0.9951 - categorical_accuracy: 0.4772 - val_loss: 1.0631 - val_categorical_accuracy: 0.5216\n",
      "Epoch 15/100\n",
      "93/93 [==============================] - 2s 20ms/step - loss: 0.9431 - categorical_accuracy: 0.5167 - val_loss: 1.0924 - val_categorical_accuracy: 0.5041\n",
      "Epoch 16/100\n",
      "93/93 [==============================] - 2s 20ms/step - loss: 0.9627 - categorical_accuracy: 0.4961 - val_loss: 1.3875 - val_categorical_accuracy: 0.3838\n",
      "Epoch 17/100\n",
      "93/93 [==============================] - 2s 20ms/step - loss: 1.0376 - categorical_accuracy: 0.4752 - val_loss: 1.1905 - val_categorical_accuracy: 0.4743\n",
      "Epoch 18/100\n",
      "93/93 [==============================] - 2s 21ms/step - loss: 0.9614 - categorical_accuracy: 0.5096 - val_loss: 1.2400 - val_categorical_accuracy: 0.4378\n",
      "Epoch 19/100\n",
      "93/93 [==============================] - 2s 20ms/step - loss: 0.9215 - categorical_accuracy: 0.5127 - val_loss: 1.1602 - val_categorical_accuracy: 0.4662\n",
      "Epoch 20/100\n",
      "93/93 [==============================] - 2s 20ms/step - loss: 0.9477 - categorical_accuracy: 0.5174 - val_loss: 1.2860 - val_categorical_accuracy: 0.3905\n",
      "Epoch 21/100\n",
      "93/93 [==============================] - 2s 20ms/step - loss: 0.9506 - categorical_accuracy: 0.5177 - val_loss: 1.3079 - val_categorical_accuracy: 0.4216\n",
      "Epoch 22/100\n",
      "93/93 [==============================] - 2s 20ms/step - loss: 0.8956 - categorical_accuracy: 0.5370 - val_loss: 0.8755 - val_categorical_accuracy: 0.6149\n",
      "Epoch 23/100\n",
      "93/93 [==============================] - 2s 20ms/step - loss: 0.8631 - categorical_accuracy: 0.5546 - val_loss: 1.1199 - val_categorical_accuracy: 0.5054\n",
      "Epoch 24/100\n",
      "93/93 [==============================] - 2s 20ms/step - loss: 0.8003 - categorical_accuracy: 0.5847 - val_loss: 0.9529 - val_categorical_accuracy: 0.5892\n",
      "Epoch 25/100\n",
      "93/93 [==============================] - 2s 20ms/step - loss: 0.7858 - categorical_accuracy: 0.5765 - val_loss: 0.9821 - val_categorical_accuracy: 0.5716\n",
      "Epoch 26/100\n",
      "93/93 [==============================] - 2s 20ms/step - loss: 0.7828 - categorical_accuracy: 0.5820 - val_loss: 0.9082 - val_categorical_accuracy: 0.6054\n",
      "Epoch 27/100\n",
      "93/93 [==============================] - 2s 20ms/step - loss: 0.7652 - categorical_accuracy: 0.6083 - val_loss: 0.9888 - val_categorical_accuracy: 0.5568\n",
      "Epoch 28/100\n",
      "93/93 [==============================] - 2s 20ms/step - loss: 0.7304 - categorical_accuracy: 0.6130 - val_loss: 1.0117 - val_categorical_accuracy: 0.5649\n",
      "Epoch 29/100\n",
      "93/93 [==============================] - 2s 20ms/step - loss: 0.8930 - categorical_accuracy: 0.5583 - val_loss: 0.9641 - val_categorical_accuracy: 0.5703\n",
      "Epoch 30/100\n",
      "93/93 [==============================] - 2s 20ms/step - loss: 0.6838 - categorical_accuracy: 0.6323 - val_loss: 0.8204 - val_categorical_accuracy: 0.6432\n",
      "Epoch 31/100\n",
      "93/93 [==============================] - 2s 20ms/step - loss: 0.6603 - categorical_accuracy: 0.6462 - val_loss: 0.7571 - val_categorical_accuracy: 0.6919\n",
      "Epoch 32/100\n",
      "93/93 [==============================] - 2s 20ms/step - loss: 0.6210 - categorical_accuracy: 0.6587 - val_loss: 0.8371 - val_categorical_accuracy: 0.6392\n",
      "Epoch 33/100\n",
      "93/93 [==============================] - 2s 20ms/step - loss: 0.5899 - categorical_accuracy: 0.6874 - val_loss: 0.7447 - val_categorical_accuracy: 0.6770\n",
      "Epoch 34/100\n",
      "93/93 [==============================] - 2s 20ms/step - loss: 0.7148 - categorical_accuracy: 0.6360 - val_loss: 0.7662 - val_categorical_accuracy: 0.6784\n",
      "Epoch 35/100\n",
      "93/93 [==============================] - 2s 20ms/step - loss: 0.6207 - categorical_accuracy: 0.6803 - val_loss: 0.7418 - val_categorical_accuracy: 0.7068\n",
      "Epoch 36/100\n",
      "93/93 [==============================] - 2s 21ms/step - loss: 0.6387 - categorical_accuracy: 0.6735 - val_loss: 0.6683 - val_categorical_accuracy: 0.7216\n",
      "Epoch 37/100\n",
      "93/93 [==============================] - 2s 21ms/step - loss: 0.5886 - categorical_accuracy: 0.6985 - val_loss: 0.6965 - val_categorical_accuracy: 0.7095\n",
      "Epoch 38/100\n",
      "93/93 [==============================] - 2s 20ms/step - loss: 0.5706 - categorical_accuracy: 0.6945 - val_loss: 0.7644 - val_categorical_accuracy: 0.6595\n",
      "Epoch 39/100\n",
      "93/93 [==============================] - 2s 20ms/step - loss: 0.5647 - categorical_accuracy: 0.7029 - val_loss: 0.6759 - val_categorical_accuracy: 0.7135\n",
      "Epoch 40/100\n",
      "93/93 [==============================] - 2s 20ms/step - loss: 0.5646 - categorical_accuracy: 0.7080 - val_loss: 0.9274 - val_categorical_accuracy: 0.6392\n",
      "Epoch 41/100\n",
      "93/93 [==============================] - 2s 20ms/step - loss: 0.5596 - categorical_accuracy: 0.7040 - val_loss: 0.6767 - val_categorical_accuracy: 0.7176\n",
      "Epoch 42/100\n",
      "93/93 [==============================] - 2s 20ms/step - loss: 0.5347 - categorical_accuracy: 0.7279 - val_loss: 0.7259 - val_categorical_accuracy: 0.6811\n",
      "Epoch 43/100\n",
      "93/93 [==============================] - 2s 20ms/step - loss: 0.5176 - categorical_accuracy: 0.7266 - val_loss: 0.6066 - val_categorical_accuracy: 0.7405\n",
      "Epoch 44/100\n",
      "93/93 [==============================] - 2s 20ms/step - loss: 0.5230 - categorical_accuracy: 0.7246 - val_loss: 0.6606 - val_categorical_accuracy: 0.7351\n",
      "Epoch 45/100\n",
      "93/93 [==============================] - 2s 20ms/step - loss: 0.5193 - categorical_accuracy: 0.7347 - val_loss: 0.7671 - val_categorical_accuracy: 0.6878\n",
      "Epoch 46/100\n",
      "93/93 [==============================] - 2s 20ms/step - loss: 0.5451 - categorical_accuracy: 0.7286 - val_loss: 0.6712 - val_categorical_accuracy: 0.7203\n",
      "Epoch 47/100\n",
      "93/93 [==============================] - 2s 20ms/step - loss: 0.5424 - categorical_accuracy: 0.7198 - val_loss: 0.6461 - val_categorical_accuracy: 0.7108\n",
      "Epoch 48/100\n",
      "93/93 [==============================] - 2s 20ms/step - loss: 0.4921 - categorical_accuracy: 0.7472 - val_loss: 0.6135 - val_categorical_accuracy: 0.7541\n",
      "Epoch 49/100\n",
      "93/93 [==============================] - 2s 20ms/step - loss: 0.5313 - categorical_accuracy: 0.7347 - val_loss: 0.7627 - val_categorical_accuracy: 0.6932\n",
      "Epoch 50/100\n",
      "93/93 [==============================] - 2s 20ms/step - loss: 0.4823 - categorical_accuracy: 0.7506 - val_loss: 0.7420 - val_categorical_accuracy: 0.6986\n",
      "Epoch 51/100\n",
      "93/93 [==============================] - 2s 20ms/step - loss: 0.5071 - categorical_accuracy: 0.7279 - val_loss: 0.7790 - val_categorical_accuracy: 0.6851\n",
      "Epoch 52/100\n",
      "93/93 [==============================] - 2s 20ms/step - loss: 0.4859 - categorical_accuracy: 0.7513 - val_loss: 0.6544 - val_categorical_accuracy: 0.7392\n",
      "Epoch 53/100\n",
      "93/93 [==============================] - 2s 20ms/step - loss: 0.5249 - categorical_accuracy: 0.7469 - val_loss: 0.6894 - val_categorical_accuracy: 0.7122\n",
      "Epoch 54/100\n",
      "93/93 [==============================] - 2s 20ms/step - loss: 0.5538 - categorical_accuracy: 0.7188 - val_loss: 0.7184 - val_categorical_accuracy: 0.7041\n",
      "Epoch 55/100\n",
      "93/93 [==============================] - 2s 20ms/step - loss: 0.5813 - categorical_accuracy: 0.7148 - val_loss: 0.6732 - val_categorical_accuracy: 0.7446\n",
      "Epoch 56/100\n",
      "93/93 [==============================] - 2s 20ms/step - loss: 0.4667 - categorical_accuracy: 0.7655 - val_loss: 0.5405 - val_categorical_accuracy: 0.7946\n",
      "Epoch 57/100\n",
      "93/93 [==============================] - 2s 20ms/step - loss: 0.4393 - categorical_accuracy: 0.7830 - val_loss: 0.6221 - val_categorical_accuracy: 0.7284\n",
      "Epoch 58/100\n",
      "93/93 [==============================] - 2s 20ms/step - loss: 0.4513 - categorical_accuracy: 0.7773 - val_loss: 0.6057 - val_categorical_accuracy: 0.7689\n",
      "Epoch 59/100\n",
      "93/93 [==============================] - 2s 20ms/step - loss: 0.4101 - categorical_accuracy: 0.7966 - val_loss: 0.5533 - val_categorical_accuracy: 0.7716\n",
      "Epoch 60/100\n",
      "93/93 [==============================] - 2s 20ms/step - loss: 0.4269 - categorical_accuracy: 0.7817 - val_loss: 0.5241 - val_categorical_accuracy: 0.8000\n",
      "Epoch 61/100\n",
      "93/93 [==============================] - 2s 20ms/step - loss: 0.4166 - categorical_accuracy: 0.7972 - val_loss: 0.5379 - val_categorical_accuracy: 0.7959\n",
      "Epoch 62/100\n",
      "93/93 [==============================] - 2s 20ms/step - loss: 0.6549 - categorical_accuracy: 0.6985 - val_loss: 0.5495 - val_categorical_accuracy: 0.7757\n",
      "Epoch 63/100\n",
      "93/93 [==============================] - 2s 20ms/step - loss: 0.4917 - categorical_accuracy: 0.7570 - val_loss: 0.7563 - val_categorical_accuracy: 0.6959\n",
      "Epoch 64/100\n",
      "93/93 [==============================] - 2s 20ms/step - loss: 0.4365 - categorical_accuracy: 0.7800 - val_loss: 0.5350 - val_categorical_accuracy: 0.8014\n",
      "Epoch 65/100\n",
      "93/93 [==============================] - 2s 20ms/step - loss: 0.4358 - categorical_accuracy: 0.7922 - val_loss: 0.5351 - val_categorical_accuracy: 0.7892\n",
      "Epoch 66/100\n",
      "93/93 [==============================] - 2s 20ms/step - loss: 0.5252 - categorical_accuracy: 0.7472 - val_loss: 0.7970 - val_categorical_accuracy: 0.6811\n",
      "Epoch 67/100\n",
      "93/93 [==============================] - 2s 20ms/step - loss: 0.4150 - categorical_accuracy: 0.7685 - val_loss: 0.5264 - val_categorical_accuracy: 0.8014\n",
      "Epoch 68/100\n",
      "93/93 [==============================] - 2s 20ms/step - loss: 0.4281 - categorical_accuracy: 0.7922 - val_loss: 0.4604 - val_categorical_accuracy: 0.8297\n",
      "Epoch 69/100\n",
      "93/93 [==============================] - 2s 20ms/step - loss: 0.4242 - categorical_accuracy: 0.7908 - val_loss: 0.5466 - val_categorical_accuracy: 0.7662\n",
      "Epoch 70/100\n",
      "93/93 [==============================] - 2s 20ms/step - loss: 0.4077 - categorical_accuracy: 0.7989 - val_loss: 0.5134 - val_categorical_accuracy: 0.7905\n",
      "Epoch 71/100\n",
      "93/93 [==============================] - 2s 20ms/step - loss: 0.4110 - categorical_accuracy: 0.7942 - val_loss: 0.5171 - val_categorical_accuracy: 0.8014\n",
      "Epoch 72/100\n",
      "93/93 [==============================] - 2s 20ms/step - loss: 0.4985 - categorical_accuracy: 0.7584 - val_loss: 0.5103 - val_categorical_accuracy: 0.8027\n",
      "Epoch 73/100\n",
      "93/93 [==============================] - 2s 20ms/step - loss: 0.3996 - categorical_accuracy: 0.7925 - val_loss: 0.5457 - val_categorical_accuracy: 0.7797\n",
      "Epoch 74/100\n",
      "93/93 [==============================] - 2s 20ms/step - loss: 0.4572 - categorical_accuracy: 0.7888 - val_loss: 1.6142 - val_categorical_accuracy: 0.5243\n",
      "Epoch 75/100\n",
      "93/93 [==============================] - 2s 20ms/step - loss: 0.5652 - categorical_accuracy: 0.7225 - val_loss: 0.4945 - val_categorical_accuracy: 0.8068\n",
      "Epoch 76/100\n",
      "93/93 [==============================] - 2s 20ms/step - loss: 0.4047 - categorical_accuracy: 0.7895 - val_loss: 0.6244 - val_categorical_accuracy: 0.7297\n",
      "Epoch 77/100\n",
      "93/93 [==============================] - 2s 20ms/step - loss: 0.4058 - categorical_accuracy: 0.7996 - val_loss: 0.5126 - val_categorical_accuracy: 0.8095\n",
      "Epoch 78/100\n",
      "93/93 [==============================] - 2s 20ms/step - loss: 0.4086 - categorical_accuracy: 0.8043 - val_loss: 0.4727 - val_categorical_accuracy: 0.8176\n",
      "Epoch 79/100\n",
      "93/93 [==============================] - 2s 20ms/step - loss: 0.4013 - categorical_accuracy: 0.8020 - val_loss: 0.5876 - val_categorical_accuracy: 0.7473\n",
      "Epoch 80/100\n",
      "93/93 [==============================] - 2s 20ms/step - loss: 0.5076 - categorical_accuracy: 0.7526 - val_loss: 0.5200 - val_categorical_accuracy: 0.8041\n",
      "Epoch 81/100\n",
      "93/93 [==============================] - 2s 20ms/step - loss: 0.4289 - categorical_accuracy: 0.7874 - val_loss: 0.5306 - val_categorical_accuracy: 0.7878\n",
      "Epoch 82/100\n",
      "93/93 [==============================] - 2s 20ms/step - loss: 0.4289 - categorical_accuracy: 0.7857 - val_loss: 0.4994 - val_categorical_accuracy: 0.8081\n",
      "Epoch 83/100\n",
      "93/93 [==============================] - 2s 20ms/step - loss: 0.4507 - categorical_accuracy: 0.7803 - val_loss: 0.6096 - val_categorical_accuracy: 0.7500\n",
      "Epoch 84/100\n",
      "93/93 [==============================] - 2s 20ms/step - loss: 0.4373 - categorical_accuracy: 0.7692 - val_loss: 0.5264 - val_categorical_accuracy: 0.7824\n",
      "Epoch 85/100\n",
      "93/93 [==============================] - 2s 20ms/step - loss: 0.3733 - categorical_accuracy: 0.8084 - val_loss: 0.4644 - val_categorical_accuracy: 0.8135\n",
      "Epoch 86/100\n",
      "93/93 [==============================] - 2s 20ms/step - loss: 0.3776 - categorical_accuracy: 0.8043 - val_loss: 0.4979 - val_categorical_accuracy: 0.8041\n",
      "Epoch 87/100\n",
      "93/93 [==============================] - 2s 20ms/step - loss: 0.4088 - categorical_accuracy: 0.7935 - val_loss: 0.5965 - val_categorical_accuracy: 0.7486\n",
      "Epoch 88/100\n",
      "93/93 [==============================] - 2s 20ms/step - loss: 0.3941 - categorical_accuracy: 0.8074 - val_loss: 0.5014 - val_categorical_accuracy: 0.8068\n",
      "Epoch 89/100\n",
      "93/93 [==============================] - 2s 20ms/step - loss: 0.4016 - categorical_accuracy: 0.8006 - val_loss: 0.5612 - val_categorical_accuracy: 0.7527\n",
      "Epoch 90/100\n",
      "93/93 [==============================] - 2s 20ms/step - loss: 0.4089 - categorical_accuracy: 0.8023 - val_loss: 0.4629 - val_categorical_accuracy: 0.8284\n",
      "Epoch 91/100\n",
      "93/93 [==============================] - 2s 20ms/step - loss: 0.3317 - categorical_accuracy: 0.8314 - val_loss: 0.4758 - val_categorical_accuracy: 0.8203\n",
      "Epoch 92/100\n",
      "93/93 [==============================] - 2s 20ms/step - loss: 0.3390 - categorical_accuracy: 0.8378 - val_loss: 0.5724 - val_categorical_accuracy: 0.7716\n",
      "Epoch 93/100\n",
      "93/93 [==============================] - 2s 20ms/step - loss: 0.4115 - categorical_accuracy: 0.7972 - val_loss: 0.5810 - val_categorical_accuracy: 0.7824\n",
      "Epoch 94/100\n",
      "93/93 [==============================] - 2s 20ms/step - loss: 0.3349 - categorical_accuracy: 0.8199 - val_loss: 0.5047 - val_categorical_accuracy: 0.8054\n",
      "Epoch 95/100\n",
      "93/93 [==============================] - 2s 20ms/step - loss: 0.3509 - categorical_accuracy: 0.8320 - val_loss: 0.5822 - val_categorical_accuracy: 0.7865\n",
      "Epoch 96/100\n",
      "93/93 [==============================] - 2s 20ms/step - loss: 0.3748 - categorical_accuracy: 0.8074 - val_loss: 0.4337 - val_categorical_accuracy: 0.8419\n",
      "Epoch 97/100\n",
      "93/93 [==============================] - 2s 20ms/step - loss: 0.3776 - categorical_accuracy: 0.7979 - val_loss: 0.6225 - val_categorical_accuracy: 0.7554\n",
      "Epoch 98/100\n",
      "93/93 [==============================] - 2s 20ms/step - loss: 0.3826 - categorical_accuracy: 0.8216 - val_loss: 0.7089 - val_categorical_accuracy: 0.7311\n",
      "Epoch 99/100\n"
     ]
    },
    {
     "name": "stdout",
     "output_type": "stream",
     "text": [
      "93/93 [==============================] - 2s 20ms/step - loss: 0.3690 - categorical_accuracy: 0.7989 - val_loss: 0.5613 - val_categorical_accuracy: 0.7797\n",
      "Epoch 100/100\n",
      "93/93 [==============================] - 2s 20ms/step - loss: 0.3985 - categorical_accuracy: 0.7989 - val_loss: 0.5151 - val_categorical_accuracy: 0.7865\n"
     ]
    }
   ],
   "source": [
    "baseline_model_weighted_2_hidden_aug = tf.keras.models.Sequential([\n",
    "    tf.keras.layers.Flatten(input_shape=(28,28,1)),\n",
    "    tf.keras.layers.Dense(128, activation='relu'),\n",
    "    tf.keras.layers.Dense(256, activation='relu'),\n",
    "    tf.keras.layers.Dense(5,activation='softmax')\n",
    "])\n",
    "baseline_model_weighted_2_hidden_aug.compile(optimizer='adam',loss='categorical_crossentropy',\n",
    "              metrics=['categorical_accuracy'])\n",
    "fitted_baseline_model_weighted_2_hidden_aug=baseline_model_weighted_2_hidden_aug.fit(new_train_gen,validation_data=new_val_gen,batch_size=32,epochs=100,class_weight=weights_dict,shuffle=False)"
   ]
  },
  {
   "cell_type": "code",
   "execution_count": 39,
   "id": "d1e8980e",
   "metadata": {},
   "outputs": [
    {
     "data": {
      "text/plain": [
       "<matplotlib.legend.Legend at 0x26d5b6cdd00>"
      ]
     },
     "execution_count": 39,
     "metadata": {},
     "output_type": "execute_result"
    },
    {
     "data": {
      "image/png": "[encoded data removed]",
      "text/plain": [
       "<Figure size 432x288 with 1 Axes>"
      ]
     },
     "metadata": {
      "needs_background": "light"
     },
     "output_type": "display_data"
    }
   ],
   "source": [
    "plt.plot(fitted_baseline_model_weighted_2_hidden_aug.history['categorical_accuracy'],label='tr_acc')\n",
    "plt.plot(fitted_baseline_model_weighted_2_hidden_aug.history['val_categorical_accuracy'],label='val_acc')\n",
    "plt.legend(loc='best')"
   ]
  },
  {
   "cell_type": "code",
   "execution_count": 40,
   "id": "6b1831b0",
   "metadata": {},
   "outputs": [],
   "source": [
    "#adding pooling and conv2dlayers"
   ]
  },
  {
   "cell_type": "code",
   "execution_count": 1,
   "id": "70d038fa",
   "metadata": {},
   "outputs": [
    {
     "ename": "NameError",
     "evalue": "name 'tf' is not defined",
     "output_type": "error",
     "traceback": [
      "\u001b[1;31m---------------------------------------------------------------------------\u001b[0m",
      "\u001b[1;31mNameError\u001b[0m                                 Traceback (most recent call last)",
      "\u001b[1;32m~\\AppData\\Local\\Temp/ipykernel_19608/406835765.py\u001b[0m in \u001b[0;36m<module>\u001b[1;34m\u001b[0m\n\u001b[1;32m----> 1\u001b[1;33m max_conv_model=tf.keras.models.Sequential([\n\u001b[0m\u001b[0;32m      2\u001b[0m                                   \u001b[0mtf\u001b[0m\u001b[1;33m.\u001b[0m\u001b[0mkeras\u001b[0m\u001b[1;33m.\u001b[0m\u001b[0mlayers\u001b[0m\u001b[1;33m.\u001b[0m\u001b[0mConv2D\u001b[0m\u001b[1;33m(\u001b[0m\u001b[1;36m5\u001b[0m\u001b[1;33m,\u001b[0m\u001b[1;33m(\u001b[0m\u001b[1;36m3\u001b[0m\u001b[1;33m,\u001b[0m\u001b[1;36m3\u001b[0m\u001b[1;33m)\u001b[0m\u001b[1;33m,\u001b[0m\u001b[0mactivation\u001b[0m\u001b[1;33m=\u001b[0m\u001b[1;34m'relu'\u001b[0m\u001b[1;33m,\u001b[0m\u001b[0minput_shape\u001b[0m\u001b[1;33m=\u001b[0m\u001b[1;33m(\u001b[0m\u001b[1;36m28\u001b[0m\u001b[1;33m,\u001b[0m\u001b[1;36m28\u001b[0m\u001b[1;33m,\u001b[0m\u001b[1;36m1\u001b[0m\u001b[1;33m)\u001b[0m\u001b[1;33m)\u001b[0m\u001b[1;33m,\u001b[0m\u001b[1;33m\u001b[0m\u001b[1;33m\u001b[0m\u001b[0m\n\u001b[0;32m      3\u001b[0m                                   \u001b[0mtf\u001b[0m\u001b[1;33m.\u001b[0m\u001b[0mkeras\u001b[0m\u001b[1;33m.\u001b[0m\u001b[0mlayers\u001b[0m\u001b[1;33m.\u001b[0m\u001b[0mMaxPooling2D\u001b[0m\u001b[1;33m(\u001b[0m\u001b[1;36m2\u001b[0m\u001b[1;33m,\u001b[0m\u001b[1;36m2\u001b[0m\u001b[1;33m)\u001b[0m\u001b[1;33m,\u001b[0m\u001b[1;33m\u001b[0m\u001b[1;33m\u001b[0m\u001b[0m\n\u001b[0;32m      4\u001b[0m                                   \u001b[0mtf\u001b[0m\u001b[1;33m.\u001b[0m\u001b[0mkeras\u001b[0m\u001b[1;33m.\u001b[0m\u001b[0mlayers\u001b[0m\u001b[1;33m.\u001b[0m\u001b[0mFlatten\u001b[0m\u001b[1;33m(\u001b[0m\u001b[1;33m)\u001b[0m\u001b[1;33m,\u001b[0m\u001b[1;33m\u001b[0m\u001b[1;33m\u001b[0m\u001b[0m\n\u001b[0;32m      5\u001b[0m                                   \u001b[0mtf\u001b[0m\u001b[1;33m.\u001b[0m\u001b[0mkeras\u001b[0m\u001b[1;33m.\u001b[0m\u001b[0mlayers\u001b[0m\u001b[1;33m.\u001b[0m\u001b[0mDense\u001b[0m\u001b[1;33m(\u001b[0m\u001b[1;36m128\u001b[0m\u001b[1;33m,\u001b[0m\u001b[0mactivation\u001b[0m\u001b[1;33m=\u001b[0m\u001b[1;34m'relu'\u001b[0m\u001b[1;33m)\u001b[0m\u001b[1;33m,\u001b[0m\u001b[1;33m\u001b[0m\u001b[1;33m\u001b[0m\u001b[0m\n",
      "\u001b[1;31mNameError\u001b[0m: name 'tf' is not defined"
     ]
    }
   ],
   "source": [
    "max_conv_model=tf.keras.models.Sequential([\n",
    "                                  tf.keras.layers.Conv2D(5,(3,3),activation='relu',input_shape=(28,28,1)),\n",
    "                                  tf.keras.layers.MaxPooling2D(2,2),\n",
    "                                  tf.keras.layers.Flatten(),\n",
    "                                  tf.keras.layers.Dense(128,activation='relu'),\n",
    "                                  tf.keras.layers.Dense(256,activation='relu'),\n",
    "                                  tf.keras.layers.Dense(4,activation='softmax')\n",
    "])\n",
    "max_conv_model.compile(optimizer='adam',loss='categorical_crossentropy',\n",
    "              metrics=['categorical_accuracy'])\n",
    "fitted_max_conv_model=max_conv_model.fit(new_train_gen,validation_data=new_val_gen,batch_size=32,epochs=100,class_weight=weights_dict,shuffle=False)"
   ]
  },
  {
   "cell_type": "code",
   "execution_count": 42,
   "id": "dcb8c0b9",
   "metadata": {},
   "outputs": [
    {
     "name": "stdout",
     "output_type": "stream",
     "text": [
      "Model: \"sequential_4\"\n",
      "_________________________________________________________________\n",
      " Layer (type)                Output Shape              Param #   \n",
      "=================================================================\n",
      " conv2d (Conv2D)             (None, 26, 26, 16)        160       \n",
      "                                                                 \n",
      " max_pooling2d (MaxPooling2D  (None, 13, 13, 16)       0         \n",
      " )                                                               \n",
      "                                                                 \n",
      " flatten_4 (Flatten)         (None, 2704)              0         \n",
      "                                                                 \n",
      " dense_10 (Dense)            (None, 128)               346240    \n",
      "                                                                 \n",
      " dense_11 (Dense)            (None, 256)               33024     \n",
      "                                                                 \n",
      " dense_12 (Dense)            (None, 4)                 1028      \n",
      "                                                                 \n",
      "=================================================================\n",
      "Total params: 380,452\n",
      "Trainable params: 380,452\n",
      "Non-trainable params: 0\n",
      "_________________________________________________________________\n"
     ]
    }
   ],
   "source": [
    "max_conv_model.summary()"
   ]
  },
  {
   "cell_type": "code",
   "execution_count": null,
   "id": "1a34880b",
   "metadata": {},
   "outputs": [],
   "source": []
  }
 ],
 "metadata": {
  "kernelspec": {
   "display_name": "Python 3 (ipykernel)",
   "language": "python",
   "name": "python3"
  },
  "language_info": {
   "codemirror_mode": {
    "name": "ipython",
    "version": 3
   },
   "file_extension": ".py",
   "mimetype": "text/x-python",
   "name": "python",
   "nbconvert_exporter": "python",
   "pygments_lexer": "ipython3",
   "version": "3.9.7"
  }
 },
 "nbformat": 4,
 "nbformat_minor": 5
}
