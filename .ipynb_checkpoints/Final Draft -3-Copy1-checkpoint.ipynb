{
 "cells": [
  {
   "cell_type": "code",
   "execution_count": 1,
   "id": "17daba8b",
   "metadata": {},
   "outputs": [],
   "source": [
    "import numpy as np\n",
    "import os\n",
    "import PIL\n",
    "import PIL.Image\n",
    "import tensorflow as tf\n",
    "from sklearn.impute import SimpleImputer\n",
    "import pandas as pd\n",
    "from sklearn.model_selection import train_test_split\n",
    "import matplotlib.image as mpimg\n",
    "from keras.preprocessing import image\n",
    "from keras.preprocessing.image import ImageDataGenerator\n",
    "from keras.utils.vis_utils import plot_model\n",
    "from tensorflow.keras.optimizers import RMSprop\n",
    "import matplotlib.pyplot as plt\n",
    "from sklearn.utils.class_weight import compute_class_weight\n",
    "from tensorflow.keras import regularizers\n"
   ]
  },
  {
   "cell_type": "code",
   "execution_count": 2,
   "id": "d0a597a4",
   "metadata": {},
   "outputs": [],
   "source": [
    "tf.keras.utils.set_random_seed(1)\n"
   ]
  },
  {
   "cell_type": "code",
   "execution_count": 3,
   "id": "6f5850bc",
   "metadata": {},
   "outputs": [],
   "source": [
    "path =\"./trafficsigns_dataset/\"\n",
    "lst = []\n",
    "for root, dirs, files in os.walk(path):\n",
    "    for file in files:\n",
    "        if(file.endswith(\".png\")):\n",
    "#             print(root)\n",
    "            root1=root.split(\"/\")[-1].split(\"\\\\\")\n",
    "            filepath=path+root1[0]+'/'+root1[1]+'/'+file\n",
    "            lst.append([root1[0], root1[1], file, filepath])\n",
    "dfdata = pd.DataFrame(lst, columns=['shape', 'sign', 'imageName','filePath'])"
   ]
  },
  {
   "cell_type": "code",
   "execution_count": 4,
   "id": "b40c086d",
   "metadata": {},
   "outputs": [
    {
     "data": {
      "image/png": "[encoded data removed]",
      "text/plain": [
       "<Figure size 432x288 with 1 Axes>"
      ]
     },
     "metadata": {
      "needs_background": "light"
     },
     "output_type": "display_data"
    }
   ],
   "source": [
    "img = mpimg.imread(filepath)\n",
    "imgplot = plt.imshow(img)\n",
    "plt.show()"
   ]
  },
  {
   "cell_type": "code",
   "execution_count": 5,
   "id": "013a4ba3",
   "metadata": {},
   "outputs": [
    {
     "data": {
      "text/plain": [
       "(28, 28)"
      ]
     },
     "execution_count": 5,
     "metadata": {},
     "output_type": "execute_result"
    }
   ],
   "source": [
    "img.shape"
   ]
  },
  {
   "cell_type": "code",
   "execution_count": 6,
   "id": "0a84194f",
   "metadata": {},
   "outputs": [
    {
     "data": {
      "image/png": "[encoded data removed]",
      "text/plain": [
       "<Figure size 2160x3600 with 2 Axes>"
      ]
     },
     "metadata": {
      "needs_background": "light"
     },
     "output_type": "display_data"
    }
   ],
   "source": [
    "plt.figure(figsize=(30,50))\n",
    "for i, col in enumerate(['shape', 'sign']):\n",
    "    plt.subplot(10,4,i+1)\n",
    "    plt.hist(dfdata[col], alpha=0.3, color='blue',bins=35)\n",
    "    plt.title(col)\n",
    "    plt.xticks(rotation='vertical')"
   ]
  },
  {
   "cell_type": "code",
   "execution_count": 7,
   "id": "c281e5c1",
   "metadata": {},
   "outputs": [
    {
     "data": {
      "text/plain": [
       "round       1760\n",
       "triangle     926\n",
       "square       688\n",
       "diamond      282\n",
       "hex           43\n",
       "Name: shape, dtype: int64"
      ]
     },
     "execution_count": 7,
     "metadata": {},
     "output_type": "execute_result"
    }
   ],
   "source": [
    "dfdata['shape'].value_counts()"
   ]
  },
  {
   "cell_type": "code",
   "execution_count": 8,
   "id": "d67d45bd",
   "metadata": {},
   "outputs": [
    {
     "data": {
      "text/plain": [
       "warning             695\n",
       "noentry             375\n",
       "speed               316\n",
       "bicycle             285\n",
       "rightofway          282\n",
       "parking             276\n",
       "noparking           242\n",
       "giveway             231\n",
       "continue            199\n",
       "trafficdirective    195\n",
       "limitedtraffic      125\n",
       "traveldirection     124\n",
       "laneend             118\n",
       "roundabout           98\n",
       "crossing             95\n",
       "stop                 43\n",
       "Name: sign, dtype: int64"
      ]
     },
     "execution_count": 8,
     "metadata": {},
     "output_type": "execute_result"
    }
   ],
   "source": [
    "dfdata['sign'].value_counts()"
   ]
  },
  {
   "cell_type": "code",
   "execution_count": 9,
   "id": "5f50a01e",
   "metadata": {},
   "outputs": [],
   "source": [
    "# model_1_df=pd.DataFrame()\n",
    "# model_1_df['Path']=dfdata['filePath']\n",
    "# model_1_df['Shape']=dfdata['shape']"
   ]
  },
  {
   "cell_type": "code",
   "execution_count": 10,
   "id": "bd9216bd",
   "metadata": {},
   "outputs": [],
   "source": [
    "model_2_df=pd.DataFrame()\n",
    "model_2_df['Path']=dfdata['filePath']\n",
    "model_2_df['Sign']=dfdata['sign']"
   ]
  },
  {
   "cell_type": "code",
   "execution_count": 11,
   "id": "6d1c935b",
   "metadata": {},
   "outputs": [
    {
     "data": {
      "text/html": [
       "<div>\n",
       "<style scoped>\n",
       "    .dataframe tbody tr th:only-of-type {\n",
       "        vertical-align: middle;\n",
       "    }\n",
       "\n",
       "    .dataframe tbody tr th {\n",
       "        vertical-align: top;\n",
       "    }\n",
       "\n",
       "    .dataframe thead th {\n",
       "        text-align: right;\n",
       "    }\n",
       "</style>\n",
       "<table border=\"1\" class=\"dataframe\">\n",
       "  <thead>\n",
       "    <tr style=\"text-align: right;\">\n",
       "      <th></th>\n",
       "      <th>Path</th>\n",
       "      <th>Sign</th>\n",
       "    </tr>\n",
       "  </thead>\n",
       "  <tbody>\n",
       "    <tr>\n",
       "      <th>0</th>\n",
       "      <td>./trafficsigns_dataset/diamond/rightofway/0003...</td>\n",
       "      <td>rightofway</td>\n",
       "    </tr>\n",
       "    <tr>\n",
       "      <th>1</th>\n",
       "      <td>./trafficsigns_dataset/diamond/rightofway/0003...</td>\n",
       "      <td>rightofway</td>\n",
       "    </tr>\n",
       "    <tr>\n",
       "      <th>2</th>\n",
       "      <td>./trafficsigns_dataset/diamond/rightofway/0003...</td>\n",
       "      <td>rightofway</td>\n",
       "    </tr>\n",
       "    <tr>\n",
       "      <th>3</th>\n",
       "      <td>./trafficsigns_dataset/diamond/rightofway/0003...</td>\n",
       "      <td>rightofway</td>\n",
       "    </tr>\n",
       "    <tr>\n",
       "      <th>4</th>\n",
       "      <td>./trafficsigns_dataset/diamond/rightofway/0003...</td>\n",
       "      <td>rightofway</td>\n",
       "    </tr>\n",
       "    <tr>\n",
       "      <th>...</th>\n",
       "      <td>...</td>\n",
       "      <td>...</td>\n",
       "    </tr>\n",
       "    <tr>\n",
       "      <th>3694</th>\n",
       "      <td>./trafficsigns_dataset/triangle/warning/01947_...</td>\n",
       "      <td>warning</td>\n",
       "    </tr>\n",
       "    <tr>\n",
       "      <th>3695</th>\n",
       "      <td>./trafficsigns_dataset/triangle/warning/01947_...</td>\n",
       "      <td>warning</td>\n",
       "    </tr>\n",
       "    <tr>\n",
       "      <th>3696</th>\n",
       "      <td>./trafficsigns_dataset/triangle/warning/01971_...</td>\n",
       "      <td>warning</td>\n",
       "    </tr>\n",
       "    <tr>\n",
       "      <th>3697</th>\n",
       "      <td>./trafficsigns_dataset/triangle/warning/01971_...</td>\n",
       "      <td>warning</td>\n",
       "    </tr>\n",
       "    <tr>\n",
       "      <th>3698</th>\n",
       "      <td>./trafficsigns_dataset/triangle/warning/01971_...</td>\n",
       "      <td>warning</td>\n",
       "    </tr>\n",
       "  </tbody>\n",
       "</table>\n",
       "<p>3699 rows × 2 columns</p>\n",
       "</div>"
      ],
      "text/plain": [
       "                                                   Path        Sign\n",
       "0     ./trafficsigns_dataset/diamond/rightofway/0003...  rightofway\n",
       "1     ./trafficsigns_dataset/diamond/rightofway/0003...  rightofway\n",
       "2     ./trafficsigns_dataset/diamond/rightofway/0003...  rightofway\n",
       "3     ./trafficsigns_dataset/diamond/rightofway/0003...  rightofway\n",
       "4     ./trafficsigns_dataset/diamond/rightofway/0003...  rightofway\n",
       "...                                                 ...         ...\n",
       "3694  ./trafficsigns_dataset/triangle/warning/01947_...     warning\n",
       "3695  ./trafficsigns_dataset/triangle/warning/01947_...     warning\n",
       "3696  ./trafficsigns_dataset/triangle/warning/01971_...     warning\n",
       "3697  ./trafficsigns_dataset/triangle/warning/01971_...     warning\n",
       "3698  ./trafficsigns_dataset/triangle/warning/01971_...     warning\n",
       "\n",
       "[3699 rows x 2 columns]"
      ]
     },
     "execution_count": 11,
     "metadata": {},
     "output_type": "execute_result"
    }
   ],
   "source": [
    "model_2_df"
   ]
  },
  {
   "cell_type": "code",
   "execution_count": 12,
   "id": "84b327cd",
   "metadata": {},
   "outputs": [],
   "source": [
    "trainX_2,valX_2,trainY_2,valY_2=train_test_split(model_2_df[\"Path\"],model_2_df[\"Sign\"],test_size=0.2,shuffle=True,random_state=10)"
   ]
  },
  {
   "cell_type": "code",
   "execution_count": 13,
   "id": "2413433f",
   "metadata": {},
   "outputs": [
    {
     "data": {
      "text/plain": [
       "warning             553\n",
       "noentry             287\n",
       "speed               257\n",
       "bicycle             236\n",
       "parking             230\n",
       "rightofway          215\n",
       "giveway             191\n",
       "noparking           184\n",
       "continue            165\n",
       "trafficdirective    152\n",
       "limitedtraffic      104\n",
       "traveldirection      98\n",
       "laneend              97\n",
       "crossing             81\n",
       "roundabout           72\n",
       "stop                 37\n",
       "Name: Sign, dtype: int64"
      ]
     },
     "execution_count": 13,
     "metadata": {},
     "output_type": "execute_result"
    }
   ],
   "source": [
    "trainY_2\n",
    "trainY_2.value_counts()"
   ]
  },
  {
   "cell_type": "code",
   "execution_count": 14,
   "id": "d1f7a691",
   "metadata": {
    "scrolled": true
   },
   "outputs": [
    {
     "data": {
      "text/plain": [
       "warning             142\n",
       "noentry              88\n",
       "rightofway           67\n",
       "speed                59\n",
       "noparking            58\n",
       "bicycle              49\n",
       "parking              46\n",
       "trafficdirective     43\n",
       "giveway              40\n",
       "continue             34\n",
       "traveldirection      26\n",
       "roundabout           26\n",
       "limitedtraffic       21\n",
       "laneend              21\n",
       "crossing             14\n",
       "stop                  6\n",
       "Name: Sign, dtype: int64"
      ]
     },
     "execution_count": 14,
     "metadata": {},
     "output_type": "execute_result"
    }
   ],
   "source": [
    "valY_2.value_counts()"
   ]
  },
  {
   "cell_type": "code",
   "execution_count": 15,
   "id": "1c32e08d",
   "metadata": {},
   "outputs": [],
   "source": [
    "train_df=pd.DataFrame()\n",
    "train_df[\"Paths\"]=trainX_2\n",
    "train_df[\"sign\"]=trainY_2\n",
    "val_df=pd.DataFrame()\n",
    "val_df[\"Paths\"]=valX_2\n",
    "val_df[\"sign\"]=valY_2"
   ]
  },
  {
   "cell_type": "code",
   "execution_count": 18,
   "id": "cc249132",
   "metadata": {},
   "outputs": [],
   "source": [
    "# len(np.unique(valY))\n",
    "# len((trainY))\n"
   ]
  },
  {
   "cell_type": "code",
   "execution_count": 19,
   "id": "3e5be7a8",
   "metadata": {},
   "outputs": [],
   "source": [
    "#imagedatagenerators"
   ]
  },
  {
   "cell_type": "code",
   "execution_count": null,
   "id": "5c78064d",
   "metadata": {},
   "outputs": [],
   "source": [
    "idg_train = ImageDataGenerator(rescale=1./255, data_format='channels_last')\n",
    "idg_val = ImageDataGenerator(rescale=1./255, data_format='channels_last')"
   ]
  },
  {
   "cell_type": "code",
   "execution_count": 20,
   "id": "f4ff3427",
   "metadata": {},
   "outputs": [
    {
     "name": "stdout",
     "output_type": "stream",
     "text": [
      "Model: \"sequential\"\n",
      "_________________________________________________________________\n",
      " Layer (type)                Output Shape              Param #   \n",
      "=================================================================\n",
      " flatten (Flatten)           (None, 2352)              0         \n",
      "                                                                 \n",
      " dense (Dense)               (None, 32)                75296     \n",
      "                                                                 \n",
      " dense_1 (Dense)             (None, 16)                528       \n",
      "                                                                 \n",
      "=================================================================\n",
      "Total params: 75,824\n",
      "Trainable params: 75,824\n",
      "Non-trainable params: 0\n",
      "_________________________________________________________________\n",
      "You must install pydot (`pip install pydot`) and install graphviz (see instructions at https://graphviz.gitlab.io/download/) for plot_model/model_to_dot to work.\n"
     ]
    }
   ],
   "source": [
    "import tensorflow as tf\n",
    "base_model = tf.keras.Sequential([\n",
    "    tf.keras.layers.Flatten(input_shape=(28,28,3)),\n",
    "    tf.keras.layers.Dense(32, activation='relu'),\n",
    "    tf.keras.layers.Dense(16)\n",
    "])\n",
    "base_model.summary()\n",
    "tf.keras.utils.plot_model(base_model, show_shapes=True)"
   ]
  },
  {
   "cell_type": "code",
   "execution_count": 42,
   "id": "6375af10",
   "metadata": {},
   "outputs": [
    {
     "name": "stdout",
     "output_type": "stream",
     "text": [
      "(2959, 2)\n",
      "(740, 2)\n"
     ]
    },
    {
     "ename": "SyntaxError",
     "evalue": "keyword argument repeated: seed (Temp/ipykernel_26172/2519757210.py, line 22)",
     "output_type": "error",
     "traceback": [
      "\u001b[1;36m  File \u001b[1;32m\"C:\\Users\\aksha\\AppData\\Local\\Temp/ipykernel_26172/2519757210.py\"\u001b[1;36m, line \u001b[1;32m22\u001b[0m\n\u001b[1;33m    train_generator = train_datagen.flow_from_dataframe(\u001b[0m\n\u001b[1;37m        ^\u001b[0m\n\u001b[1;31mSyntaxError\u001b[0m\u001b[1;31m:\u001b[0m keyword argument repeated: seed\n"
     ]
    }
   ],
   "source": [
    "base_model.compile(optimizer='SGD',\n",
    "              loss=tf.keras.losses.CategoricalCrossentropy(from_logits=True),\n",
    "              metrics=['categorical_accuracy'])\n",
    "train_datagen = ImageDataGenerator(rescale=1./255, data_format='channels_last')\n",
    "val_datagen = ImageDataGenerator(rescale=1./255, data_format='channels_last')\n",
    "\n",
    "trainX_2,valX_2,trainY_2,valY_2\n",
    "batch_size = 32\n",
    "train_df = pd.DataFrame(columns=['file_path','label'])\n",
    "\n",
    "train_df['file_path'] = trainX_2\n",
    "train_df['label'] = trainY_2\n",
    "print(train_df.shape)\n",
    "\n",
    "\n",
    "validation_df = pd.DataFrame(columns=['file_path','label'])\n",
    "validation_df['file_path'] = valX_2\n",
    "validation_df['label'] = valY_2\n",
    "\n",
    "print(validation_df.shape)\n",
    "\n",
    "train_generator = train_datagen.flow_from_dataframe(\n",
    "      dataframe= train_df,\n",
    "      batch_size=32,\n",
    "      seed=10,\n",
    "      class_mode='categorical',\n",
    "      target_size=(28, 28),\n",
    "      x_col='file_path',\n",
    "      seed=10,\n",
    "      y_col='label',\n",
    "      colSignor_mode = 'grayscale')\n",
    "\n",
    "validation_generator = val_datagen.flow_from_dataframe(\n",
    "        dataframe=validation_df,\n",
    "        directory=None,\n",
    "        x_col=\"file_path\",\n",
    "        seed=10,\n",
    "        y_col=\"label\",\n",
    "        target_size=(28, 28),\n",
    "        batch_size=batch_size,\n",
    "        class_mode='categorical')"
   ]
  },
  {
   "cell_type": "code",
   "execution_count": 43,
   "id": "8850da86",
   "metadata": {},
   "outputs": [
    {
     "name": "stdout",
     "output_type": "stream",
     "text": [
      "Epoch 1/50\n",
      "93/93 [==============================] - 1s 14ms/step - loss: 2.4044 - categorical_accuracy: 0.2883 - val_loss: 2.0277 - val_categorical_accuracy: 0.4446\n",
      "Epoch 2/50\n",
      "93/93 [==============================] - 1s 13ms/step - loss: 1.8111 - categorical_accuracy: 0.5569 - val_loss: 1.6324 - val_categorical_accuracy: 0.6324\n",
      "Epoch 3/50\n",
      "93/93 [==============================] - 1s 13ms/step - loss: 1.4310 - categorical_accuracy: 0.6982 - val_loss: 1.3293 - val_categorical_accuracy: 0.6716\n",
      "Epoch 4/50\n",
      "93/93 [==============================] - 1s 12ms/step - loss: 1.1759 - categorical_accuracy: 0.7513 - val_loss: 1.1071 - val_categorical_accuracy: 0.7662\n",
      "Epoch 5/50\n",
      "93/93 [==============================] - 1s 12ms/step - loss: 0.9990 - categorical_accuracy: 0.7888 - val_loss: 0.9755 - val_categorical_accuracy: 0.7716\n",
      "Epoch 6/50\n",
      "93/93 [==============================] - 1s 13ms/step - loss: 0.8748 - categorical_accuracy: 0.8138 - val_loss: 0.8395 - val_categorical_accuracy: 0.8459\n",
      "Epoch 7/50\n",
      "93/93 [==============================] - 1s 13ms/step - loss: 0.7764 - categorical_accuracy: 0.8401 - val_loss: 0.7641 - val_categorical_accuracy: 0.8243\n",
      "Epoch 8/50\n",
      "93/93 [==============================] - 1s 12ms/step - loss: 0.6995 - categorical_accuracy: 0.8567 - val_loss: 0.7276 - val_categorical_accuracy: 0.8689\n",
      "Epoch 9/50\n",
      "93/93 [==============================] - 1s 13ms/step - loss: 0.6423 - categorical_accuracy: 0.8702 - val_loss: 0.6452 - val_categorical_accuracy: 0.8824\n",
      "Epoch 10/50\n",
      "93/93 [==============================] - 1s 13ms/step - loss: 0.5913 - categorical_accuracy: 0.8790 - val_loss: 0.6391 - val_categorical_accuracy: 0.8703\n",
      "Epoch 11/50\n",
      "93/93 [==============================] - 1s 13ms/step - loss: 0.5491 - categorical_accuracy: 0.8959 - val_loss: 0.5712 - val_categorical_accuracy: 0.8838\n",
      "Epoch 12/50\n",
      "93/93 [==============================] - 1s 13ms/step - loss: 0.5174 - categorical_accuracy: 0.9003 - val_loss: 0.5410 - val_categorical_accuracy: 0.8892\n",
      "Epoch 13/50\n",
      "93/93 [==============================] - 1s 14ms/step - loss: 0.4848 - categorical_accuracy: 0.9047 - val_loss: 0.5128 - val_categorical_accuracy: 0.8946\n",
      "Epoch 14/50\n",
      "93/93 [==============================] - 1s 13ms/step - loss: 0.4623 - categorical_accuracy: 0.9148 - val_loss: 0.4905 - val_categorical_accuracy: 0.9041\n",
      "Epoch 15/50\n",
      "93/93 [==============================] - 1s 13ms/step - loss: 0.4381 - categorical_accuracy: 0.9148 - val_loss: 0.4795 - val_categorical_accuracy: 0.9014\n",
      "Epoch 16/50\n",
      "93/93 [==============================] - 1s 13ms/step - loss: 0.4167 - categorical_accuracy: 0.9226 - val_loss: 0.4493 - val_categorical_accuracy: 0.9095\n",
      "Epoch 17/50\n",
      "93/93 [==============================] - 1s 12ms/step - loss: 0.4009 - categorical_accuracy: 0.9233 - val_loss: 0.4263 - val_categorical_accuracy: 0.9122\n",
      "Epoch 18/50\n",
      "93/93 [==============================] - 1s 13ms/step - loss: 0.3862 - categorical_accuracy: 0.9267 - val_loss: 0.4118 - val_categorical_accuracy: 0.9203\n",
      "Epoch 19/50\n",
      "93/93 [==============================] - 1s 13ms/step - loss: 0.3686 - categorical_accuracy: 0.9324 - val_loss: 0.4215 - val_categorical_accuracy: 0.9162\n",
      "Epoch 20/50\n",
      "93/93 [==============================] - 1s 13ms/step - loss: 0.3545 - categorical_accuracy: 0.9341 - val_loss: 0.4034 - val_categorical_accuracy: 0.9216\n",
      "Epoch 21/50\n",
      "93/93 [==============================] - 1s 13ms/step - loss: 0.3461 - categorical_accuracy: 0.9348 - val_loss: 0.3816 - val_categorical_accuracy: 0.9257\n",
      "Epoch 22/50\n",
      "93/93 [==============================] - 1s 12ms/step - loss: 0.3311 - categorical_accuracy: 0.9382 - val_loss: 0.4074 - val_categorical_accuracy: 0.9068\n",
      "Epoch 23/50\n",
      "93/93 [==============================] - 1s 12ms/step - loss: 0.3226 - categorical_accuracy: 0.9358 - val_loss: 0.3739 - val_categorical_accuracy: 0.9203\n",
      "Epoch 24/50\n",
      "93/93 [==============================] - 1s 13ms/step - loss: 0.3125 - categorical_accuracy: 0.9442 - val_loss: 0.3561 - val_categorical_accuracy: 0.9351\n",
      "Epoch 25/50\n",
      "93/93 [==============================] - 1s 13ms/step - loss: 0.3036 - categorical_accuracy: 0.9442 - val_loss: 0.3603 - val_categorical_accuracy: 0.9311\n",
      "Epoch 26/50\n",
      "93/93 [==============================] - 1s 13ms/step - loss: 0.2943 - categorical_accuracy: 0.9456 - val_loss: 0.3387 - val_categorical_accuracy: 0.9338\n",
      "Epoch 27/50\n",
      "93/93 [==============================] - 1s 13ms/step - loss: 0.2855 - categorical_accuracy: 0.9469 - val_loss: 0.3297 - val_categorical_accuracy: 0.9297\n",
      "Epoch 28/50\n",
      "93/93 [==============================] - 1s 13ms/step - loss: 0.2765 - categorical_accuracy: 0.9486 - val_loss: 0.3395 - val_categorical_accuracy: 0.9311\n",
      "Epoch 29/50\n",
      "93/93 [==============================] - 1s 13ms/step - loss: 0.2699 - categorical_accuracy: 0.9513 - val_loss: 0.3205 - val_categorical_accuracy: 0.9392\n",
      "Epoch 30/50\n",
      "93/93 [==============================] - 1s 13ms/step - loss: 0.2619 - categorical_accuracy: 0.9523 - val_loss: 0.3342 - val_categorical_accuracy: 0.9270\n",
      "Epoch 31/50\n",
      "93/93 [==============================] - 1s 12ms/step - loss: 0.2569 - categorical_accuracy: 0.9517 - val_loss: 0.3132 - val_categorical_accuracy: 0.9351\n",
      "Epoch 32/50\n",
      "93/93 [==============================] - 1s 13ms/step - loss: 0.2479 - categorical_accuracy: 0.9523 - val_loss: 0.2967 - val_categorical_accuracy: 0.9405\n",
      "Epoch 33/50\n",
      "93/93 [==============================] - 1s 13ms/step - loss: 0.2448 - categorical_accuracy: 0.9554 - val_loss: 0.2945 - val_categorical_accuracy: 0.9392\n",
      "Epoch 34/50\n",
      "93/93 [==============================] - 1s 13ms/step - loss: 0.2367 - categorical_accuracy: 0.9564 - val_loss: 0.3069 - val_categorical_accuracy: 0.9338\n",
      "Epoch 35/50\n",
      "93/93 [==============================] - 1s 13ms/step - loss: 0.2320 - categorical_accuracy: 0.9584 - val_loss: 0.2992 - val_categorical_accuracy: 0.9378\n",
      "Epoch 36/50\n",
      "93/93 [==============================] - 1s 13ms/step - loss: 0.2256 - categorical_accuracy: 0.9584 - val_loss: 0.3128 - val_categorical_accuracy: 0.9230\n",
      "Epoch 37/50\n",
      "93/93 [==============================] - 1s 13ms/step - loss: 0.2215 - categorical_accuracy: 0.9611 - val_loss: 0.2927 - val_categorical_accuracy: 0.9365\n",
      "Epoch 38/50\n",
      "93/93 [==============================] - 1s 13ms/step - loss: 0.2169 - categorical_accuracy: 0.9598 - val_loss: 0.2894 - val_categorical_accuracy: 0.9419\n",
      "Epoch 39/50\n",
      "93/93 [==============================] - 1s 13ms/step - loss: 0.2113 - categorical_accuracy: 0.9608 - val_loss: 0.2796 - val_categorical_accuracy: 0.9338\n",
      "Epoch 40/50\n",
      "93/93 [==============================] - 1s 13ms/step - loss: 0.2054 - categorical_accuracy: 0.9611 - val_loss: 0.2898 - val_categorical_accuracy: 0.9284\n",
      "Epoch 41/50\n",
      "93/93 [==============================] - 1s 13ms/step - loss: 0.2023 - categorical_accuracy: 0.9625 - val_loss: 0.2788 - val_categorical_accuracy: 0.9365\n",
      "Epoch 42/50\n",
      "93/93 [==============================] - 1s 13ms/step - loss: 0.1975 - categorical_accuracy: 0.9649 - val_loss: 0.2986 - val_categorical_accuracy: 0.9216\n",
      "Epoch 43/50\n",
      "93/93 [==============================] - 1s 12ms/step - loss: 0.1972 - categorical_accuracy: 0.9618 - val_loss: 0.2698 - val_categorical_accuracy: 0.9365\n",
      "Epoch 44/50\n",
      "93/93 [==============================] - 1s 12ms/step - loss: 0.1915 - categorical_accuracy: 0.9669 - val_loss: 0.2676 - val_categorical_accuracy: 0.9392\n",
      "Epoch 45/50\n",
      "93/93 [==============================] - 1s 13ms/step - loss: 0.1846 - categorical_accuracy: 0.9662 - val_loss: 0.2620 - val_categorical_accuracy: 0.9446\n",
      "Epoch 46/50\n",
      "93/93 [==============================] - 1s 12ms/step - loss: 0.1825 - categorical_accuracy: 0.9672 - val_loss: 0.2724 - val_categorical_accuracy: 0.9365\n",
      "Epoch 47/50\n",
      "93/93 [==============================] - 1s 13ms/step - loss: 0.1790 - categorical_accuracy: 0.9665 - val_loss: 0.2743 - val_categorical_accuracy: 0.9419\n",
      "Epoch 48/50\n",
      "93/93 [==============================] - 1s 13ms/step - loss: 0.1765 - categorical_accuracy: 0.9665 - val_loss: 0.2648 - val_categorical_accuracy: 0.9392\n",
      "Epoch 49/50\n",
      "93/93 [==============================] - 1s 12ms/step - loss: 0.1712 - categorical_accuracy: 0.9709 - val_loss: 0.2702 - val_categorical_accuracy: 0.9392\n",
      "Epoch 50/50\n",
      "93/93 [==============================] - 1s 13ms/step - loss: 0.1694 - categorical_accuracy: 0.9699 - val_loss: 0.2471 - val_categorical_accuracy: 0.9405\n"
     ]
    }
   ],
   "source": [
    "\n",
    "history = base_model.fit(train_generator, validation_data = validation_generator,batch_size=32,epochs=50,shuffle=False)\n"
   ]
  },
  {
   "cell_type": "code",
   "execution_count": 44,
   "id": "f52d139b",
   "metadata": {},
   "outputs": [
    {
     "data": {
      "text/plain": [
       "<matplotlib.legend.Legend at 0x2946534fcd0>"
      ]
     },
     "execution_count": 44,
     "metadata": {},
     "output_type": "execute_result"
    },
    {
     "data": {
      "image/png": "[encoded data removed]",
      "text/plain": [
       "<Figure size 432x288 with 1 Axes>"
      ]
     },
     "metadata": {
      "needs_background": "light"
     },
     "output_type": "display_data"
    }
   ],
   "source": [
    "plt.plot(history.history['categorical_accuracy'],label='tr_acc')\n",
    "plt.plot(history.history['val_categorical_accuracy'],label='val_acc')\n",
    "plt.legend(loc='best')"
   ]
  },
  {
   "cell_type": "code",
   "execution_count": null,
   "id": "abde8682",
   "metadata": {},
   "outputs": [],
   "source": [
    "idg_train=ImageDataGenerator(rescale=1/255.0,data_format='channels_last')\n",
    "idg_val=ImageDataGenerator(rescale=1/255.0,data_format='channels_last')"
   ]
  },
  {
   "cell_type": "code",
   "execution_count": null,
   "id": "af53fb43",
   "metadata": {},
   "outputs": [],
   "source": [
    "train_gen=idg_train.flow_from_dataframe(dataframe=train_df,\n",
    "                                        batch_size=32,\n",
    "                                        seed=10,\n",
    "                                        class_mode='categorical',\n",
    "                                        target_size=(28, 28),\n",
    "                                        x_col='Paths',\n",
    "                                        y_col='sign',\n",
    "                                        colSignor_mode = 'grayscale')\n",
    "val_gen=idg_val.flow_from_dataframe(dataframe=val_df,\n",
    "                                       batch_size=32,\n",
    "                                       seed=10,\n",
    "                                       class_mode='categorical',\n",
    "                                       target_size=(28, 28),\n",
    "                                       x_col='Paths',\n",
    "                                       y_col='sign',\n",
    "                                       color_mode = 'grayscale'\n",
    "                                      )"
   ]
  },
  {
   "cell_type": "code",
   "execution_count": null,
   "id": "8f48c9e8",
   "metadata": {},
   "outputs": [],
   "source": [
    "train_gen\n"
   ]
  },
  {
   "cell_type": "code",
   "execution_count": null,
   "id": "a1749e0b",
   "metadata": {},
   "outputs": [],
   "source": [
    "#baseline--tiny"
   ]
  },
  {
   "cell_type": "code",
   "execution_count": null,
   "id": "52ebb9e9",
   "metadata": {},
   "outputs": [],
   "source": [
    "baseline_model = tf.keras.models.Sequential([\n",
    "    tf.keras.layers.Flatten(input_shape=(28,28,1)),\n",
    "    tf.keras.layers.Dense(96, activation='relu'),\n",
    "   tf.keras.layers.Dense(16,activation='softmax')\n",
    "\n",
    "])"
   ]
  },
  {
   "cell_type": "code",
   "execution_count": null,
   "id": "3b1e179c",
   "metadata": {},
   "outputs": [],
   "source": [
    "baseline_model.summary()"
   ]
  },
  {
   "cell_type": "code",
   "execution_count": null,
   "id": "4601f167",
   "metadata": {},
   "outputs": [],
   "source": [
    "baseline_model.compile(optimizer='SGD',loss='categorical_crossentropy',\n",
    "              metrics=['categorical_accuracy'])"
   ]
  },
  {
   "cell_type": "code",
   "execution_count": null,
   "id": "e55018c0",
   "metadata": {},
   "outputs": [],
   "source": [
    "fitted_baseline=baseline_model.fit(train_gen,validation_data=val_gen,batch_size=32,epochs=50,shuffle=False)\n",
    "# history = baseline_model.fit(train_gen, validation_data = val_gen, epochs=50, verbose=0)\n"
   ]
  },
  {
   "cell_type": "code",
   "execution_count": null,
   "id": "3f2a144e",
   "metadata": {},
   "outputs": [],
   "source": [
    "plt.plot(fitted_baseline.history['categorical_accuracy'],label='tr_acc')\n",
    "plt.plot(fitted_baseline.history['val_categorical_accuracy'],label='val_acc')\n",
    "plt.legend(loc='best')"
   ]
  },
  {
   "cell_type": "code",
   "execution_count": null,
   "id": "b90dad08",
   "metadata": {},
   "outputs": [],
   "source": [
    "plt.plot(fitted_baseline.history['loss'],label='tr_loss')\n",
    "plt.plot(fitted_baseline.history['val_loss'],label='val_loss')\n",
    "plt.legend(loc='best')"
   ]
  },
  {
   "cell_type": "code",
   "execution_count": null,
   "id": "d5e145ee",
   "metadata": {},
   "outputs": [],
   "source": [
    "#handling imbalance "
   ]
  },
  {
   "cell_type": "code",
   "execution_count": null,
   "id": "c5f31c68",
   "metadata": {},
   "outputs": [],
   "source": []
  },
  {
   "cell_type": "code",
   "execution_count": null,
   "id": "372cf0d7",
   "metadata": {},
   "outputs": [],
   "source": [
    "weights = compute_class_weight(\"balanced\",np.unique(train_gen.classes),train_gen.classes)"
   ]
  },
  {
   "cell_type": "code",
   "execution_count": null,
   "id": "a80bf48e",
   "metadata": {},
   "outputs": [],
   "source": [
    "weights_dict={}\n",
    "for i in range(weights.shape[0]):\n",
    "    weights_dict[np.unique(train_gen.classes)[i]]=weights[i]"
   ]
  },
  {
   "cell_type": "code",
   "execution_count": null,
   "id": "9d376158",
   "metadata": {},
   "outputs": [],
   "source": [
    "weights_dict"
   ]
  },
  {
   "cell_type": "code",
   "execution_count": null,
   "id": "ded6b249",
   "metadata": {},
   "outputs": [],
   "source": [
    "#training weighted model"
   ]
  },
  {
   "cell_type": "code",
   "execution_count": null,
   "id": "647bb64f",
   "metadata": {},
   "outputs": [],
   "source": [
    "baseline_model_weighted = tf.keras.models.Sequential([\n",
    "    tf.keras.layers.Flatten(input_shape=(28,28,1)),\n",
    "    tf.keras.layers.Dense(32, activation='relu'),\n",
    "    tf.keras.layers.Dense(5,activation='softmax')\n",
    "])\n",
    "baseline_model_weighted.compile(optimizer='SGD',loss='categorical_crossentropy',\n",
    "              metrics=['categorical_accuracy'])\n",
    "fitted_baseline_weighted=baseline_model_weighted.fit(train_gen,validation_data=val_gen,batch_size=32,epochs=50,class_weight=weights_dict,shuffle=False)"
   ]
  },
  {
   "cell_type": "code",
   "execution_count": null,
   "id": "2d01993d",
   "metadata": {},
   "outputs": [],
   "source": [
    "plt.plot(fitted_baseline_weighted.history['categorical_accuracy'],label='tr_acc')\n",
    "plt.plot(fitted_baseline_weighted.history['val_categorical_accuracy'],label='val_acc')\n",
    "plt.legend(loc='best')"
   ]
  },
  {
   "cell_type": "code",
   "execution_count": null,
   "id": "3bdbfe23",
   "metadata": {},
   "outputs": [],
   "source": [
    "#incremental_improvements --small"
   ]
  },
  {
   "cell_type": "code",
   "execution_count": null,
   "id": "aabf5a7b",
   "metadata": {},
   "outputs": [],
   "source": [
    "baseline_model_weighted_2_hidden = tf.keras.models.Sequential([\n",
    "    tf.keras.layers.Flatten(input_shape=(28,28,1)),\n",
    "    tf.keras.layers.Dense(32, activation='relu'),\n",
    "    tf.keras.layers.Dense(32, activation='relu'),\n",
    "    tf.keras.layers.Dense(5,activation='softmax')\n",
    "])\n",
    "baseline_model_weighted_2_hidden.compile(optimizer='SGD',loss='categorical_crossentropy',\n",
    "              metrics=['categorical_accuracy'])\n",
    "fitted_baseline_weighted_2_hidden=baseline_model_weighted_2_hidden.fit(train_gen,validation_data=val_gen,batch_size=32,epochs=50,class_weight=weights_dict,shuffle=False)"
   ]
  },
  {
   "cell_type": "code",
   "execution_count": null,
   "id": "3e3502b4",
   "metadata": {},
   "outputs": [],
   "source": [
    "plt.plot(fitted_baseline_weighted_2_hidden.history['categorical_accuracy'],label='tr_acc')\n",
    "plt.plot(fitted_baseline_weighted_2_hidden.history['val_categorical_accuracy'],label='val_acc')\n",
    "plt.legend(loc='best')"
   ]
  },
  {
   "cell_type": "code",
   "execution_count": null,
   "id": "dd490b05",
   "metadata": {},
   "outputs": [],
   "source": [
    "#Medium model"
   ]
  },
  {
   "cell_type": "code",
   "execution_count": null,
   "id": "1ff73a30",
   "metadata": {},
   "outputs": [],
   "source": [
    "baseline_model_weighted_3_hidden = tf.keras.models.Sequential([\n",
    "    tf.keras.layers.Flatten(input_shape=(28,28,1)),\n",
    "    tf.keras.layers.Dense(64, activation='relu'),\n",
    "    tf.keras.layers.Dense(64, activation='relu'),\n",
    "    tf.keras.layers.Dense(64, activation='relu'),\n",
    "\n",
    "    tf.keras.layers.Dense(5,activation='softmax')\n",
    "])\n",
    "baseline_model_weighted_3_hidden.compile(optimizer='SGD',loss='categorical_crossentropy',\n",
    "              metrics=['categorical_accuracy'])\n",
    "fitted_baseline_weighted_3_hidden=baseline_model_weighted_3_hidden.fit(train_gen,validation_data=val_gen,batch_size=32,epochs=50,class_weight=weights_dict,shuffle=False)"
   ]
  },
  {
   "cell_type": "code",
   "execution_count": null,
   "id": "c6ccbc89",
   "metadata": {},
   "outputs": [],
   "source": [
    "plt.plot(fitted_baseline_weighted_3_hidden.history['categorical_accuracy'],label='tr_acc')\n",
    "plt.plot(fitted_baseline_weighted_3_hidden.history['val_categorical_accuracy'],label='val_acc')\n",
    "plt.legend(loc='best')"
   ]
  },
  {
   "cell_type": "code",
   "execution_count": null,
   "id": "ac2c110b",
   "metadata": {},
   "outputs": [],
   "source": [
    "#Large"
   ]
  },
  {
   "cell_type": "code",
   "execution_count": null,
   "id": "74af2088",
   "metadata": {},
   "outputs": [],
   "source": [
    "baseline_model_weighted_4_hidden = tf.keras.models.Sequential([\n",
    "    tf.keras.layers.Flatten(input_shape=(28,28,1)),\n",
    "    tf.keras.layers.Dense(512, activation='relu'),\n",
    "    tf.keras.layers.Dense(512, activation='relu'),\n",
    "    tf.keras.layers.Dense(512, activation='relu'),\n",
    "    tf.keras.layers.Dense(512, activation='relu'),\n",
    "\n",
    "    tf.keras.layers.Dense(5,activation='softmax')\n",
    "])\n",
    "baseline_model_weighted_4_hidden.compile(optimizer='SGD',loss='categorical_crossentropy',\n",
    "              metrics=['categorical_accuracy'])\n",
    "fitted_baseline_weighted_4_hidden=baseline_model_weighted_4_hidden.fit(train_gen,validation_data=val_gen,batch_size=32,epochs=50,class_weight=weights_dict,shuffle=False)"
   ]
  },
  {
   "cell_type": "code",
   "execution_count": null,
   "id": "c9c291eb",
   "metadata": {},
   "outputs": [],
   "source": [
    "plt.plot(fitted_baseline_weighted_4_hidden.history['categorical_accuracy'],label='tr_acc')\n",
    "plt.plot(fitted_baseline_weighted_4_hidden.history['val_categorical_accuracy'],label='val_acc')\n",
    "plt.legend(loc='best')"
   ]
  },
  {
   "cell_type": "code",
   "execution_count": null,
   "id": "44851d91",
   "metadata": {},
   "outputs": [],
   "source": [
    "#Overfiiting prevention regularizers"
   ]
  },
  {
   "cell_type": "code",
   "execution_count": null,
   "id": "edfa5cb2",
   "metadata": {},
   "outputs": [],
   "source": [
    "baseline_model_weighted_regularized = tf.keras.models.Sequential([\n",
    "    tf.keras.layers.Flatten(input_shape=(28,28,1)),\n",
    "    tf.keras.layers.Dense(512, activation='relu', kernel_regularizer=regularizers.l2(0.001)),\n",
    "    tf.keras.layers.Dense(512, activation='relu', kernel_regularizer=regularizers.l2(0.001)),\n",
    "    tf.keras.layers.Dense(512, activation='relu', kernel_regularizer=regularizers.l2(0.001)),\n",
    "    tf.keras.layers.Dense(512, activation='relu', kernel_regularizer=regularizers.l2(0.001)),\n",
    "\n",
    "    tf.keras.layers.Dense(5,activation='softmax')\n",
    "])\n",
    "baseline_model_weighted_regularized.compile(optimizer='SGD',loss='categorical_crossentropy',\n",
    "              metrics=['categorical_accuracy'])\n",
    "baseline_model_weighted_regularized=baseline_model_weighted_regularized.fit(train_gen,validation_data=val_gen,batch_size=32,epochs=50,class_weight=weights_dict,shuffle=False)"
   ]
  },
  {
   "cell_type": "code",
   "execution_count": null,
   "id": "09773213",
   "metadata": {},
   "outputs": [],
   "source": [
    "plt.plot(baseline_model_weighted_regularized.history['categorical_accuracy'],label='tr_acc')\n",
    "plt.plot(baseline_model_weighted_regularized.history['val_categorical_accuracy'],label='val_acc')\n",
    "plt.legend(loc='best')"
   ]
  },
  {
   "cell_type": "code",
   "execution_count": null,
   "id": "43de07e3",
   "metadata": {},
   "outputs": [],
   "source": [
    "#DropOut"
   ]
  },
  {
   "cell_type": "code",
   "execution_count": null,
   "id": "39db2397",
   "metadata": {},
   "outputs": [],
   "source": [
    "baseline_model_weighted_only_dropOut = tf.keras.models.Sequential([\n",
    "    tf.keras.layers.Flatten(input_shape=(28,28,1)),\n",
    "    tf.keras.layers.Dense(512, activation='relu'),\n",
    "    tf.keras.layers.Dropout(0.5),\n",
    "    tf.keras.layers.Dense(512, activation='relu'),\n",
    "    tf.keras.layers.Dropout(0.5),\n",
    "    tf.keras.layers.Dense(512, activation='relu'),\n",
    "    tf.keras.layers.Dropout(0.5),\n",
    "    tf.keras.layers.Dense(512, activation='relu'),\n",
    "    tf.keras.layers.Dropout(0.5),\n",
    "\n",
    "    tf.keras.layers.Dense(5,activation='softmax')\n",
    "])\n",
    "baseline_model_weighted_only_dropOut.compile(optimizer='SGD',loss='categorical_crossentropy',\n",
    "              metrics=['categorical_accuracy'])\n",
    "baseline_model_weighted_only_dropOut=baseline_model_weighted_only_dropOut.fit(train_gen,validation_data=val_gen,batch_size=32,epochs=50,class_weight=weights_dict,shuffle=False)"
   ]
  },
  {
   "cell_type": "code",
   "execution_count": null,
   "id": "55846acd",
   "metadata": {},
   "outputs": [],
   "source": [
    "plt.plot(baseline_model_weighted_only_dropOut.history['categorical_accuracy'],label='tr_acc')\n",
    "plt.plot(baseline_model_weighted_only_dropOut.history['val_categorical_accuracy'],label='val_acc')\n",
    "plt.legend(loc='best')"
   ]
  },
  {
   "cell_type": "code",
   "execution_count": null,
   "id": "d038d56b",
   "metadata": {},
   "outputs": [],
   "source": [
    "#DropOut and regularized"
   ]
  },
  {
   "cell_type": "code",
   "execution_count": null,
   "id": "301da1f5",
   "metadata": {},
   "outputs": [],
   "source": [
    "baseline_model_weighted_dropOut = tf.keras.models.Sequential([\n",
    "    tf.keras.layers.Flatten(input_shape=(28,28,1)),\n",
    "    tf.keras.layers.Dense(512, activation='relu', kernel_regularizer=regularizers.l2(0.001)),\n",
    "    tf.keras.layers.Dropout(0.5),\n",
    "    tf.keras.layers.Dense(512, activation='relu', kernel_regularizer=regularizers.l2(0.001)),\n",
    "    tf.keras.layers.Dropout(0.5),\n",
    "    tf.keras.layers.Dense(512, activation='relu', kernel_regularizer=regularizers.l2(0.001)),\n",
    "    tf.keras.layers.Dropout(0.5),\n",
    "    tf.keras.layers.Dense(512, activation='relu', kernel_regularizer=regularizers.l2(0.001)),\n",
    "    tf.keras.layers.Dropout(0.5),\n",
    "\n",
    "    tf.keras.layers.Dense(5,activation='softmax')\n",
    "])\n",
    "baseline_model_weighted_dropOut.compile(optimizer='SGD',loss='categorical_crossentropy',\n",
    "              metrics=['categorical_accuracy'])\n",
    "baseline_model_weighted_dropOut=baseline_model_weighted_dropOut.fit(train_gen,validation_data=val_gen,batch_size=32,epochs=50,class_weight=weights_dict,shuffle=False)"
   ]
  },
  {
   "cell_type": "code",
   "execution_count": null,
   "id": "5a321576",
   "metadata": {},
   "outputs": [],
   "source": [
    "plt.plot(baseline_model_weighted_dropOut.history['categorical_accuracy'],label='tr_acc')\n",
    "plt.plot(baseline_model_weighted_dropOut.history['val_categorical_accuracy'],label='val_acc')\n",
    "plt.legend(loc='best')"
   ]
  },
  {
   "cell_type": "code",
   "execution_count": null,
   "id": "7b2d80a4",
   "metadata": {},
   "outputs": [],
   "source": [
    "#"
   ]
  },
  {
   "cell_type": "code",
   "execution_count": null,
   "id": "b6e67470",
   "metadata": {},
   "outputs": [],
   "source": [
    "#creating image data generators with augmentation\n",
    "\n"
   ]
  },
  {
   "cell_type": "code",
   "execution_count": null,
   "id": "f2653635",
   "metadata": {},
   "outputs": [],
   "source": [
    "new_idg_train=ImageDataGenerator(rescale=1/255.0,\n",
    "                                 data_format='channels_last',\n",
    "                                 rotation_range=95, #type data cannot do\n",
    "                                 #width_shift_range=0.2,\n",
    "                                 #height_shift_range=0.2,\n",
    "                                 #shear_range=0.2,\n",
    "                                 zoom_range=0.2,\n",
    "                                 fill_mode='nearest',\n",
    "                                 horizontal_flip=True, #type data cannot do\n",
    "                                 vertical_flip=True)#type data cannot do\n",
    "new_idg_val=ImageDataGenerator(rescale=1/255.0,\n",
    "                                 data_format='channels_last',\n",
    "                                 rotation_range=95,\n",
    "                                 #width_shift_range=0.2,\n",
    "                                 #height_shift_range=0.2,\n",
    "                                 #shear_range=0.2,\n",
    "                                 zoom_range=0.2,\n",
    "                                 fill_mode='nearest',\n",
    "                                 horizontal_flip=True,\n",
    "                                 vertical_flip=True)\n",
    "new_train_gen=new_idg_train.flow_from_dataframe(dataframe=train_df,\n",
    "                                        batch_size=32,\n",
    "                                        seed=10,\n",
    "                                        class_mode='categorical',\n",
    "                                        target_size=(28, 28),\n",
    "                                        x_col='Paths',\n",
    "                                        y_col='Shapes',\n",
    "                                        color_mode = 'grayscale')\n",
    "new_val_gen=new_idg_val.flow_from_dataframe(dataframe=val_df,\n",
    "                                       batch_size=32,\n",
    "                                       seed=10,\n",
    "                                       class_mode='categorical',\n",
    "                                       target_size=(28, 28),\n",
    "                                       x_col='Paths',\n",
    "                                       y_col='Shapes',\n",
    "                                       color_mode = 'grayscale'\n",
    "                                      )"
   ]
  },
  {
   "cell_type": "code",
   "execution_count": null,
   "id": "c07633ab",
   "metadata": {},
   "outputs": [],
   "source": [
    "#Using best model from above baseline model with new image data generators (Augmentation) and max pooling layer"
   ]
  },
  {
   "cell_type": "code",
   "execution_count": null,
   "id": "a337339d",
   "metadata": {},
   "outputs": [],
   "source": [
    "best_aug = tf.keras.models.Sequential([\n",
    "        tf.keras.layers.Conv2D(5,(3,3),activation='relu',input_shape=(28,28,1)),\n",
    "    tf.keras.layers.MaxPooling2D(2,2),\n",
    "    tf.keras.layers.Flatten(),\n",
    "    tf.keras.layers.Dense(32, activation='relu'),\n",
    "    tf.keras.layers.Dense(32, activation='relu'),\n",
    "    tf.keras.layers.Dense(5,activation='softmax'),\n",
    "    \n",
    "])\n",
    "best_aug.compile(optimizer='adam',loss='categorical_crossentropy',\n",
    "              metrics=['categorical_accuracy'])\n",
    "best_aug=best_aug.fit(new_train_gen,validation_data=new_val_gen,batch_size=32,epochs=100,class_weight=weights_dict,shuffle=False)"
   ]
  },
  {
   "cell_type": "code",
   "execution_count": null,
   "id": "9c614bee",
   "metadata": {},
   "outputs": [],
   "source": [
    "plt.plot(best_aug.history['categorical_accuracy'],label='tr_acc')\n",
    "plt.plot(best_aug.history['val_categorical_accuracy'],label='val_acc')\n",
    "plt.legend(loc='best')"
   ]
  },
  {
   "cell_type": "code",
   "execution_count": null,
   "id": "92a64006",
   "metadata": {},
   "outputs": [],
   "source": [
    "#Max pooling layyers added more"
   ]
  },
  {
   "cell_type": "code",
   "execution_count": null,
   "id": "1313f070",
   "metadata": {},
   "outputs": [],
   "source": [
    "best_aug_1 = tf.keras.models.Sequential([\n",
    "        tf.keras.layers.Conv2D(5,(3,3),activation='relu',input_shape=(28,28,1)),\n",
    "    tf.keras.layers.MaxPooling2D(2,2),\n",
    "     tf.keras.layers.Conv2D(5,(3,3),activation='relu',input_shape=(28,28,1)),\n",
    "    tf.keras.layers.MaxPooling2D(2,2),\n",
    "    tf.keras.layers.Flatten(),\n",
    "    tf.keras.layers.Dense(32, activation='relu'),\n",
    "    tf.keras.layers.Dense(32, activation='relu'),\n",
    "    tf.keras.layers.Dense(5,activation='softmax'),\n",
    "    \n",
    "])\n",
    "best_aug_1.compile(optimizer='adam',loss='categorical_crossentropy',\n",
    "              metrics=['categorical_accuracy'])\n",
    "best_aug_1=best_aug_1.fit(new_train_gen,validation_data=new_val_gen,batch_size=32,epochs=100,class_weight=weights_dict,shuffle=False)"
   ]
  },
  {
   "cell_type": "code",
   "execution_count": null,
   "id": "4fb4e395",
   "metadata": {},
   "outputs": [],
   "source": [
    "plt.plot(best_aug_1.history['categorical_accuracy'],label='tr_acc')\n",
    "plt.plot(best_aug_1.history['val_categorical_accuracy'],label='val_acc')\n",
    "plt.legend(loc='best')"
   ]
  },
  {
   "cell_type": "code",
   "execution_count": null,
   "id": "eb4fff9f",
   "metadata": {},
   "outputs": [],
   "source": [
    "#Max pooling layyers added more+more"
   ]
  },
  {
   "cell_type": "code",
   "execution_count": null,
   "id": "e2080e7a",
   "metadata": {},
   "outputs": [],
   "source": [
    "best_aug_2 = tf.keras.models.Sequential([\n",
    "        tf.keras.layers.Conv2D(5,(3,3),activation='relu',input_shape=(28,28,1)),\n",
    "    tf.keras.layers.MaxPooling2D(2,2),\n",
    "     tf.keras.layers.Conv2D(10,(3,3),activation='relu',input_shape=(28,28,1)),\n",
    "    tf.keras.layers.MaxPooling2D(2,2),\n",
    "       tf.keras.layers.Conv2D(15,(3,3),activation='relu',input_shape=(28,28,1)),\n",
    "    tf.keras.layers.MaxPooling2D(2,2),\n",
    "    tf.keras.layers.Flatten(),\n",
    "    tf.keras.layers.Dense(32, activation='relu'),\n",
    "    tf.keras.layers.Dense(32, activation='relu'),\n",
    "    tf.keras.layers.Dense(5,activation='softmax'),\n",
    "    \n",
    "])\n",
    "best_aug_2.compile(optimizer='adam',loss='categorical_crossentropy',\n",
    "              metrics=['categorical_accuracy'])\n",
    "best_aug_2=best_aug_2.fit(new_train_gen,validation_data=new_val_gen,batch_size=32,epochs=100,class_weight=weights_dict,shuffle=False)"
   ]
  },
  {
   "cell_type": "code",
   "execution_count": null,
   "id": "c9c4aaa3",
   "metadata": {},
   "outputs": [],
   "source": [
    "plt.plot(best_aug_2.history['categorical_accuracy'],label='tr_acc')\n",
    "plt.plot(best_aug_2.history['val_categorical_accuracy'],label='val_acc')\n",
    "plt.legend(loc='best')"
   ]
  },
  {
   "cell_type": "code",
   "execution_count": null,
   "id": "8534fcb1",
   "metadata": {},
   "outputs": [],
   "source": [
    "#SGD"
   ]
  },
  {
   "cell_type": "code",
   "execution_count": null,
   "id": "63932b62",
   "metadata": {},
   "outputs": [],
   "source": [
    "best_aug_3 = tf.keras.models.Sequential([\n",
    "        tf.keras.layers.Conv2D(5,(3,3),activation='relu',input_shape=(28,28,1)),\n",
    "    tf.keras.layers.MaxPooling2D(2,2),\n",
    "     tf.keras.layers.Conv2D(10,(3,3),activation='relu',input_shape=(28,28,1)),\n",
    "    tf.keras.layers.MaxPooling2D(2,2),\n",
    "       tf.keras.layers.Conv2D(15,(3,3),activation='relu',input_shape=(28,28,1)),\n",
    "    tf.keras.layers.MaxPooling2D(2,2),\n",
    "    tf.keras.layers.Flatten(),\n",
    "    tf.keras.layers.Dense(32, activation='relu'),\n",
    "    tf.keras.layers.Dense(32, activation='relu'),\n",
    "    tf.keras.layers.Dense(5,activation='softmax'),\n",
    "    \n",
    "])\n",
    "best_aug_3.compile(optimizer='SGD',loss='categorical_crossentropy',\n",
    "              metrics=['categorical_accuracy'])\n",
    "best_aug_3=best_aug_3.fit(new_train_gen,validation_data=new_val_gen,batch_size=32,epochs=100,class_weight=weights_dict,shuffle=False)"
   ]
  },
  {
   "cell_type": "code",
   "execution_count": null,
   "id": "614aa17b",
   "metadata": {},
   "outputs": [],
   "source": [
    "plt.plot(best_aug_3.history['categorical_accuracy'],label='tr_acc')\n",
    "plt.plot(best_aug_3.history['val_categorical_accuracy'],label='val_acc')\n",
    "plt.legend(loc='best')"
   ]
  },
  {
   "cell_type": "code",
   "execution_count": null,
   "id": "fb5543f0",
   "metadata": {},
   "outputs": [],
   "source": [
    "# baseline_model_weighted_2_hidden_aug = tf.keras.models.Sequential([\n",
    "#     tf.keras.layers.Flatten(input_shape=(28,28,1)),\n",
    "#     tf.keras.layers.Dense(128, activation='relu'),\n",
    "#     tf.keras.layers.Dense(256, activation='relu'),\n",
    "#     tf.keras.layers.Dense(5,activation='softmax')\n",
    "# ])\n",
    "# baseline_model_weighted_2_hidden_aug.compile(optimizer='SGD',loss='categorical_crossentropy',\n",
    "#               metrics=['categorical_accuracy'])\n",
    "# fitted_baseline_model_weighted_2_hidden_aug=baseline_model_weighted_2_hidden_aug.fit(\n",
    "#     new_train_gen,validation_data=new_val_gen,batch_size=32,epochs=100,class_weight=weights_dict,shuffle=False)"
   ]
  },
  {
   "cell_type": "code",
   "execution_count": null,
   "id": "d1e8980e",
   "metadata": {},
   "outputs": [],
   "source": [
    "plt.plot(fitted_baseline_model_weighted_2_hidden_aug.history['categorical_accuracy'],label='tr_acc')\n",
    "plt.plot(fitted_baseline_model_weighted_2_hidden_aug.history['val_categorical_accuracy'],label='val_acc')\n",
    "plt.legend(loc='best')"
   ]
  },
  {
   "cell_type": "code",
   "execution_count": null,
   "id": "6b1831b0",
   "metadata": {},
   "outputs": [],
   "source": [
    "#adding pooling and conv2dlayers"
   ]
  },
  {
   "cell_type": "code",
   "execution_count": null,
   "id": "69515d59",
   "metadata": {},
   "outputs": [],
   "source": [
    "# max_conv_model= tf.keras.models.Sequential([\n",
    "#     tf.keras.layers.Conv2D(5,(3,3),activation='relu',input_shape=(28,28,1)),\n",
    "#     tf.keras.layers.MaxPooling2D(2,2),\n",
    "#     tf.keras.layers.Flatten(input_shape=(28,28,1)),\n",
    "#     tf.keras.layers.Dense(32, activation='relu'),\n",
    "#     tf.keras.layers.Dense(5,activation='softmax')\n",
    "# ])\n",
    "# max_conv_model.compile(optimizer='adam',loss='categorical_crossentropy',\n",
    "#               metrics=['categorical_accuracy'])\n",
    "# fitted_max_conv_model=max_conv_model.fit(new_train_gen,validation_data=new_val_gen,batch_size=32,\n",
    "#                                          epochs=100,class_weight=weights_dict,shuffle=False)"
   ]
  },
  {
   "cell_type": "code",
   "execution_count": null,
   "id": "70d038fa",
   "metadata": {},
   "outputs": [],
   "source": [
    "max_conv_model=tf.keras.models.Sequential([\n",
    "                                  tf.keras.layers.Conv2D(5,(3,3),activation='relu',input_shape=(28,28,1)),\n",
    "                                  tf.keras.layers.MaxPooling2D(2,2),\n",
    "    \n",
    "    \n",
    "    \n",
    "        tf.keras.layers.Conv2D(64, (3, 3), activation='relu', padding='same'),\n",
    "    tf.keras.layers.Conv2D(64, (3, 3), activation='relu', padding='same'),\n",
    "    tf.keras.layers.MaxPooling2D((2, 2)),\n",
    "    \n",
    "    \n",
    "                                  tf.keras.layers.Flatten(),\n",
    "                                  tf.keras.layers.Dense(128,activation='relu'),\n",
    "                                  tf.keras.layers.Dense(256,activation='relu'),\n",
    "                                  tf.keras.layers.Dense(5,activation='softmax')\n",
    "])\n",
    "max_conv_model.compile(optimizer='sgd',loss='categorical_crossentropy',\n",
    "              metrics=['categorical_accuracy'])\n",
    "fitted_max_conv_model=max_conv_model.fit(new_train_gen,validation_data=new_val_gen,batch_size=32,epochs=50,class_weight=weights_dict,shuffle=False)"
   ]
  },
  {
   "cell_type": "code",
   "execution_count": null,
   "id": "dcb8c0b9",
   "metadata": {},
   "outputs": [],
   "source": [
    "max_conv_model.summary()"
   ]
  },
  {
   "cell_type": "code",
   "execution_count": null,
   "id": "1a34880b",
   "metadata": {},
   "outputs": [],
   "source": [
    "plt.plot(fitted_max_conv_model.history['categorical_accuracy'],label='tr_acc')\n",
    "plt.plot(fitted_max_conv_model.history['val_categorical_accuracy'],label='val_acc')\n",
    "plt.legend(loc='best')"
   ]
  },
  {
   "cell_type": "code",
   "execution_count": null,
   "id": "b0f3c49d",
   "metadata": {},
   "outputs": [],
   "source": []
  },
  {
   "cell_type": "code",
   "execution_count": null,
   "id": "eb01a2ff",
   "metadata": {},
   "outputs": [],
   "source": []
  }
 ],
 "metadata": {
  "kernelspec": {
   "display_name": "Python 3 (ipykernel)",
   "language": "python",
   "name": "python3"
  },
  "language_info": {
   "codemirror_mode": {
    "name": "ipython",
    "version": 3
   },
   "file_extension": ".py",
   "mimetype": "text/x-python",
   "name": "python",
   "nbconvert_exporter": "python",
   "pygments_lexer": "ipython3",
   "version": "3.9.7"
  }
 },
 "nbformat": 4,
 "nbformat_minor": 5
}
