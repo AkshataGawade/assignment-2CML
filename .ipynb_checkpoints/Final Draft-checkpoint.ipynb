{
 "cells": [
  {
   "cell_type": "code",
   "execution_count": 1,
   "id": "17daba8b",
   "metadata": {},
   "outputs": [],
   "source": [
    "import numpy as np\n",
    "import os\n",
    "import PIL\n",
    "import PIL.Image\n",
    "import tensorflow as tf\n",
    "from sklearn.impute import SimpleImputer\n",
    "import pandas as pd\n",
    "from sklearn.model_selection import train_test_split\n",
    "import matplotlib.image as mpimg\n",
    "from keras.preprocessing import image\n",
    "from keras.preprocessing.image import ImageDataGenerator\n",
    "from keras.utils.vis_utils import plot_model\n",
    "from tensorflow.keras.optimizers import RMSprop\n",
    "import matplotlib.pyplot as plt\n",
    "from sklearn.utils.class_weight import compute_class_weight\n",
    "from tensorflow.keras import regularizers\n"
   ]
  },
  {
   "cell_type": "code",
   "execution_count": 2,
   "id": "6f5850bc",
   "metadata": {},
   "outputs": [],
   "source": [
    "path =\"./trafficsigns_dataset/\"\n",
    "lst = []\n",
    "for root, dirs, files in os.walk(path):\n",
    "    for file in files:\n",
    "        if(file.endswith(\".png\")):\n",
    "#             print(root)\n",
    "            root1=root.split(\"/\")[-1].split(\"\\\\\")\n",
    "            filepath=path+root1[0]+'/'+root1[1]+'/'+file\n",
    "            lst.append([root1[0], root1[1], file, filepath])\n",
    "dfdata = pd.DataFrame(lst, columns=['shape', 'sign', 'imageName','filePath'])"
   ]
  },
  {
   "cell_type": "code",
   "execution_count": 3,
   "id": "b40c086d",
   "metadata": {},
   "outputs": [
    {
     "data": {
      "image/png": "[encoded data removed]",
      "text/plain": [
       "<Figure size 432x288 with 1 Axes>"
      ]
     },
     "metadata": {
      "needs_background": "light"
     },
     "output_type": "display_data"
    }
   ],
   "source": [
    "img = mpimg.imread(filepath)\n",
    "imgplot = plt.imshow(img)\n",
    "plt.show()"
   ]
  },
  {
   "cell_type": "code",
   "execution_count": 4,
   "id": "013a4ba3",
   "metadata": {},
   "outputs": [
    {
     "data": {
      "text/plain": [
       "(28, 28)"
      ]
     },
     "execution_count": 4,
     "metadata": {},
     "output_type": "execute_result"
    }
   ],
   "source": [
    "img.shape"
   ]
  },
  {
   "cell_type": "code",
   "execution_count": 5,
   "id": "0a84194f",
   "metadata": {},
   "outputs": [
    {
     "data": {
      "image/png": "[encoded data removed]",
      "text/plain": [
       "<Figure size 2160x3600 with 2 Axes>"
      ]
     },
     "metadata": {
      "needs_background": "light"
     },
     "output_type": "display_data"
    }
   ],
   "source": [
    "plt.figure(figsize=(30,50))\n",
    "for i, col in enumerate(['shape', 'sign']):\n",
    "    plt.subplot(10,4,i+1)\n",
    "    plt.hist(dfdata[col], alpha=0.3, color='blue',bins=35)\n",
    "    plt.title(col)\n",
    "    plt.xticks(rotation='vertical')"
   ]
  },
  {
   "cell_type": "code",
   "execution_count": 6,
   "id": "c281e5c1",
   "metadata": {},
   "outputs": [
    {
     "data": {
      "text/plain": [
       "round       1760\n",
       "triangle     926\n",
       "square       688\n",
       "diamond      282\n",
       "hex           43\n",
       "Name: shape, dtype: int64"
      ]
     },
     "execution_count": 6,
     "metadata": {},
     "output_type": "execute_result"
    }
   ],
   "source": [
    "dfdata['shape'].value_counts()"
   ]
  },
  {
   "cell_type": "code",
   "execution_count": 7,
   "id": "d67d45bd",
   "metadata": {},
   "outputs": [
    {
     "data": {
      "text/plain": [
       "warning             695\n",
       "noentry             375\n",
       "speed               316\n",
       "bicycle             285\n",
       "rightofway          282\n",
       "parking             276\n",
       "noparking           242\n",
       "giveway             231\n",
       "continue            199\n",
       "trafficdirective    195\n",
       "limitedtraffic      125\n",
       "traveldirection     124\n",
       "laneend             118\n",
       "roundabout           98\n",
       "crossing             95\n",
       "stop                 43\n",
       "Name: sign, dtype: int64"
      ]
     },
     "execution_count": 7,
     "metadata": {},
     "output_type": "execute_result"
    }
   ],
   "source": [
    "dfdata['sign'].value_counts()"
   ]
  },
  {
   "cell_type": "code",
   "execution_count": 8,
   "id": "5f50a01e",
   "metadata": {},
   "outputs": [],
   "source": [
    "model_1_df=pd.DataFrame()\n",
    "model_1_df['Path']=dfdata['filePath']\n",
    "model_1_df['Shape']=dfdata['shape']"
   ]
  },
  {
   "cell_type": "code",
   "execution_count": 9,
   "id": "6d1c935b",
   "metadata": {},
   "outputs": [
    {
     "data": {
      "text/html": [
       "<div>\n",
       "<style scoped>\n",
       "    .dataframe tbody tr th:only-of-type {\n",
       "        vertical-align: middle;\n",
       "    }\n",
       "\n",
       "    .dataframe tbody tr th {\n",
       "        vertical-align: top;\n",
       "    }\n",
       "\n",
       "    .dataframe thead th {\n",
       "        text-align: right;\n",
       "    }\n",
       "</style>\n",
       "<table border=\"1\" class=\"dataframe\">\n",
       "  <thead>\n",
       "    <tr style=\"text-align: right;\">\n",
       "      <th></th>\n",
       "      <th>Path</th>\n",
       "      <th>Shape</th>\n",
       "    </tr>\n",
       "  </thead>\n",
       "  <tbody>\n",
       "    <tr>\n",
       "      <th>0</th>\n",
       "      <td>./trafficsigns_dataset/diamond/rightofway/0003...</td>\n",
       "      <td>diamond</td>\n",
       "    </tr>\n",
       "    <tr>\n",
       "      <th>1</th>\n",
       "      <td>./trafficsigns_dataset/diamond/rightofway/0003...</td>\n",
       "      <td>diamond</td>\n",
       "    </tr>\n",
       "    <tr>\n",
       "      <th>2</th>\n",
       "      <td>./trafficsigns_dataset/diamond/rightofway/0003...</td>\n",
       "      <td>diamond</td>\n",
       "    </tr>\n",
       "    <tr>\n",
       "      <th>3</th>\n",
       "      <td>./trafficsigns_dataset/diamond/rightofway/0003...</td>\n",
       "      <td>diamond</td>\n",
       "    </tr>\n",
       "    <tr>\n",
       "      <th>4</th>\n",
       "      <td>./trafficsigns_dataset/diamond/rightofway/0003...</td>\n",
       "      <td>diamond</td>\n",
       "    </tr>\n",
       "    <tr>\n",
       "      <th>...</th>\n",
       "      <td>...</td>\n",
       "      <td>...</td>\n",
       "    </tr>\n",
       "    <tr>\n",
       "      <th>3694</th>\n",
       "      <td>./trafficsigns_dataset/triangle/warning/01947_...</td>\n",
       "      <td>triangle</td>\n",
       "    </tr>\n",
       "    <tr>\n",
       "      <th>3695</th>\n",
       "      <td>./trafficsigns_dataset/triangle/warning/01947_...</td>\n",
       "      <td>triangle</td>\n",
       "    </tr>\n",
       "    <tr>\n",
       "      <th>3696</th>\n",
       "      <td>./trafficsigns_dataset/triangle/warning/01971_...</td>\n",
       "      <td>triangle</td>\n",
       "    </tr>\n",
       "    <tr>\n",
       "      <th>3697</th>\n",
       "      <td>./trafficsigns_dataset/triangle/warning/01971_...</td>\n",
       "      <td>triangle</td>\n",
       "    </tr>\n",
       "    <tr>\n",
       "      <th>3698</th>\n",
       "      <td>./trafficsigns_dataset/triangle/warning/01971_...</td>\n",
       "      <td>triangle</td>\n",
       "    </tr>\n",
       "  </tbody>\n",
       "</table>\n",
       "<p>3699 rows × 2 columns</p>\n",
       "</div>"
      ],
      "text/plain": [
       "                                                   Path     Shape\n",
       "0     ./trafficsigns_dataset/diamond/rightofway/0003...   diamond\n",
       "1     ./trafficsigns_dataset/diamond/rightofway/0003...   diamond\n",
       "2     ./trafficsigns_dataset/diamond/rightofway/0003...   diamond\n",
       "3     ./trafficsigns_dataset/diamond/rightofway/0003...   diamond\n",
       "4     ./trafficsigns_dataset/diamond/rightofway/0003...   diamond\n",
       "...                                                 ...       ...\n",
       "3694  ./trafficsigns_dataset/triangle/warning/01947_...  triangle\n",
       "3695  ./trafficsigns_dataset/triangle/warning/01947_...  triangle\n",
       "3696  ./trafficsigns_dataset/triangle/warning/01971_...  triangle\n",
       "3697  ./trafficsigns_dataset/triangle/warning/01971_...  triangle\n",
       "3698  ./trafficsigns_dataset/triangle/warning/01971_...  triangle\n",
       "\n",
       "[3699 rows x 2 columns]"
      ]
     },
     "execution_count": 9,
     "metadata": {},
     "output_type": "execute_result"
    }
   ],
   "source": [
    "model_1_df"
   ]
  },
  {
   "cell_type": "code",
   "execution_count": 10,
   "id": "84b327cd",
   "metadata": {},
   "outputs": [],
   "source": [
    "trainX,valX,trainY,valY=train_test_split(model_1_df[\"Path\"],model_1_df[\"Shape\"],test_size=0.2,shuffle=True,random_state=10)"
   ]
  },
  {
   "cell_type": "code",
   "execution_count": 11,
   "id": "2413433f",
   "metadata": {},
   "outputs": [
    {
     "data": {
      "text/plain": [
       "round       1390\n",
       "triangle     744\n",
       "square       573\n",
       "diamond      215\n",
       "hex           37\n",
       "Name: Shape, dtype: int64"
      ]
     },
     "execution_count": 11,
     "metadata": {},
     "output_type": "execute_result"
    }
   ],
   "source": [
    "trainY\n",
    "trainY.value_counts()"
   ]
  },
  {
   "cell_type": "code",
   "execution_count": 12,
   "id": "7ff1923f",
   "metadata": {},
   "outputs": [
    {
     "data": {
      "text/plain": [
       "round       370\n",
       "triangle    182\n",
       "square      115\n",
       "diamond      67\n",
       "hex           6\n",
       "Name: Shape, dtype: int64"
      ]
     },
     "execution_count": 12,
     "metadata": {},
     "output_type": "execute_result"
    }
   ],
   "source": [
    "valY.value_counts()"
   ]
  },
  {
   "cell_type": "code",
   "execution_count": 13,
   "id": "1c32e08d",
   "metadata": {},
   "outputs": [],
   "source": [
    "train_df=pd.DataFrame()\n",
    "train_df[\"Paths\"]=trainX\n",
    "train_df[\"Shapes\"]=trainY\n",
    "val_df=pd.DataFrame()\n",
    "val_df[\"Paths\"]=valX\n",
    "val_df[\"Shapes\"]=valY"
   ]
  },
  {
   "cell_type": "code",
   "execution_count": 14,
   "id": "cc249132",
   "metadata": {},
   "outputs": [
    {
     "data": {
      "text/plain": [
       "(740, 2)"
      ]
     },
     "execution_count": 14,
     "metadata": {},
     "output_type": "execute_result"
    }
   ],
   "source": [
    "val_df.shape"
   ]
  },
  {
   "cell_type": "code",
   "execution_count": 15,
   "id": "3e5be7a8",
   "metadata": {},
   "outputs": [],
   "source": [
    "#imagedatagenerators"
   ]
  },
  {
   "cell_type": "code",
   "execution_count": 16,
   "id": "abde8682",
   "metadata": {},
   "outputs": [],
   "source": [
    "idg_train=ImageDataGenerator(rescale=1/255.0,data_format='channels_last')\n",
    "idg_val=ImageDataGenerator(rescale=1/255.0,data_format='channels_last')"
   ]
  },
  {
   "cell_type": "code",
   "execution_count": 17,
   "id": "af53fb43",
   "metadata": {},
   "outputs": [
    {
     "name": "stdout",
     "output_type": "stream",
     "text": [
      "Found 2959 validated image filenames belonging to 5 classes.\n",
      "Found 740 validated image filenames belonging to 5 classes.\n"
     ]
    }
   ],
   "source": [
    "train_gen=idg_train.flow_from_dataframe(dataframe=train_df,\n",
    "                                        batch_size=32,\n",
    "                                        seed=10,\n",
    "                                        class_mode='categorical',\n",
    "                                        target_size=(28, 28),\n",
    "                                        x_col='Paths',\n",
    "                                        y_col='Shapes',\n",
    "                                        color_mode = 'grayscale')\n",
    "val_gen=idg_val.flow_from_dataframe(dataframe=val_df,\n",
    "                                       batch_size=32,\n",
    "                                       seed=10,\n",
    "                                       class_mode='categorical',\n",
    "                                       target_size=(28, 28),\n",
    "                                       x_col='Paths',\n",
    "                                       y_col='Shapes',\n",
    "                                       color_mode = 'grayscale'\n",
    "                                      )"
   ]
  },
  {
   "cell_type": "code",
   "execution_count": 18,
   "id": "8f48c9e8",
   "metadata": {},
   "outputs": [
    {
     "data": {
      "text/plain": [
       "<keras.preprocessing.image.DataFrameIterator at 0x1c4927726d0>"
      ]
     },
     "execution_count": 18,
     "metadata": {},
     "output_type": "execute_result"
    }
   ],
   "source": [
    "train_gen"
   ]
  },
  {
   "cell_type": "code",
   "execution_count": 19,
   "id": "a1749e0b",
   "metadata": {},
   "outputs": [],
   "source": [
    "#baseline"
   ]
  },
  {
   "cell_type": "code",
   "execution_count": 20,
   "id": "52ebb9e9",
   "metadata": {},
   "outputs": [],
   "source": [
    "baseline_model = tf.keras.models.Sequential([\n",
    "#     tf.keras.layers.Conv2D(5,(3,3),activation='relu',input_shape=(28,28,1)),\n",
    "#     tf.keras.layers.MaxPooling2D(2,2),\n",
    "    tf.keras.layers.Flatten(input_shape=(28,28,1)),\n",
    "    tf.keras.layers.Dense(32, activation='relu'),\n",
    "    tf.keras.layers.Dense(5,activation='softmax')\n",
    "])"
   ]
  },
  {
   "cell_type": "code",
   "execution_count": 21,
   "id": "3b1e179c",
   "metadata": {},
   "outputs": [
    {
     "name": "stdout",
     "output_type": "stream",
     "text": [
      "Model: \"sequential\"\n",
      "_________________________________________________________________\n",
      " Layer (type)                Output Shape              Param #   \n",
      "=================================================================\n",
      " flatten (Flatten)           (None, 784)               0         \n",
      "                                                                 \n",
      " dense (Dense)               (None, 32)                25120     \n",
      "                                                                 \n",
      " dense_1 (Dense)             (None, 5)                 165       \n",
      "                                                                 \n",
      "=================================================================\n",
      "Total params: 25,285\n",
      "Trainable params: 25,285\n",
      "Non-trainable params: 0\n",
      "_________________________________________________________________\n"
     ]
    }
   ],
   "source": [
    "baseline_model.summary()"
   ]
  },
  {
   "cell_type": "code",
   "execution_count": 22,
   "id": "4601f167",
   "metadata": {},
   "outputs": [],
   "source": [
    "baseline_model.compile(optimizer='adam',loss='categorical_crossentropy',\n",
    "              metrics=['categorical_accuracy'])"
   ]
  },
  {
   "cell_type": "code",
   "execution_count": 23,
   "id": "e55018c0",
   "metadata": {},
   "outputs": [
    {
     "name": "stdout",
     "output_type": "stream",
     "text": [
      "Epoch 1/20\n",
      "93/93 [==============================] - 8s 70ms/step - loss: 1.0448 - categorical_accuracy: 0.6353 - val_loss: 0.7896 - val_categorical_accuracy: 0.7622\n",
      "Epoch 2/20\n",
      "93/93 [==============================] - 5s 55ms/step - loss: 0.6567 - categorical_accuracy: 0.8040 - val_loss: 0.5716 - val_categorical_accuracy: 0.8392\n",
      "Epoch 3/20\n",
      "93/93 [==============================] - 6s 60ms/step - loss: 0.4939 - categorical_accuracy: 0.8736 - val_loss: 0.4291 - val_categorical_accuracy: 0.9162\n",
      "Epoch 4/20\n",
      "93/93 [==============================] - 6s 64ms/step - loss: 0.4074 - categorical_accuracy: 0.8990 - val_loss: 0.3748 - val_categorical_accuracy: 0.9122\n",
      "Epoch 5/20\n",
      "93/93 [==============================] - 6s 65ms/step - loss: 0.3529 - categorical_accuracy: 0.9131 - val_loss: 0.3334 - val_categorical_accuracy: 0.9230\n",
      "Epoch 6/20\n",
      "93/93 [==============================] - 6s 65ms/step - loss: 0.3164 - categorical_accuracy: 0.9121 - val_loss: 0.2825 - val_categorical_accuracy: 0.9284\n",
      "Epoch 7/20\n",
      "93/93 [==============================] - 6s 64ms/step - loss: 0.2783 - categorical_accuracy: 0.9280 - val_loss: 0.2469 - val_categorical_accuracy: 0.9392\n",
      "Epoch 8/20\n",
      "93/93 [==============================] - 6s 65ms/step - loss: 0.2602 - categorical_accuracy: 0.9277 - val_loss: 0.2323 - val_categorical_accuracy: 0.9392\n",
      "Epoch 9/20\n",
      "93/93 [==============================] - 6s 67ms/step - loss: 0.2323 - categorical_accuracy: 0.9375 - val_loss: 0.2504 - val_categorical_accuracy: 0.9203\n",
      "Epoch 10/20\n",
      "93/93 [==============================] - 7s 71ms/step - loss: 0.2223 - categorical_accuracy: 0.9446 - val_loss: 0.2085 - val_categorical_accuracy: 0.9405\n",
      "Epoch 11/20\n",
      "93/93 [==============================] - 7s 70ms/step - loss: 0.2085 - categorical_accuracy: 0.9449 - val_loss: 0.2047 - val_categorical_accuracy: 0.9568\n",
      "Epoch 12/20\n",
      "93/93 [==============================] - 7s 71ms/step - loss: 0.1895 - categorical_accuracy: 0.9503 - val_loss: 0.1944 - val_categorical_accuracy: 0.9405\n",
      "Epoch 13/20\n",
      "93/93 [==============================] - 6s 70ms/step - loss: 0.1850 - categorical_accuracy: 0.9507 - val_loss: 0.1807 - val_categorical_accuracy: 0.9649\n",
      "Epoch 14/20\n",
      "93/93 [==============================] - 7s 72ms/step - loss: 0.1683 - categorical_accuracy: 0.9564 - val_loss: 0.2203 - val_categorical_accuracy: 0.9243\n",
      "Epoch 15/20\n",
      "93/93 [==============================] - 6s 69ms/step - loss: 0.1571 - categorical_accuracy: 0.9615 - val_loss: 0.1856 - val_categorical_accuracy: 0.9378\n",
      "Epoch 16/20\n",
      "93/93 [==============================] - 6s 67ms/step - loss: 0.1515 - categorical_accuracy: 0.9608 - val_loss: 0.1677 - val_categorical_accuracy: 0.9581\n",
      "Epoch 17/20\n",
      "93/93 [==============================] - 6s 63ms/step - loss: 0.1512 - categorical_accuracy: 0.9601 - val_loss: 0.1874 - val_categorical_accuracy: 0.9568\n",
      "Epoch 18/20\n",
      "93/93 [==============================] - 2s 24ms/step - loss: 0.1397 - categorical_accuracy: 0.9645 - val_loss: 0.1590 - val_categorical_accuracy: 0.9635\n",
      "Epoch 19/20\n",
      "93/93 [==============================] - 1s 12ms/step - loss: 0.1356 - categorical_accuracy: 0.9645 - val_loss: 0.1770 - val_categorical_accuracy: 0.9514\n",
      "Epoch 20/20\n",
      "93/93 [==============================] - 1s 12ms/step - loss: 0.1270 - categorical_accuracy: 0.9669 - val_loss: 0.1456 - val_categorical_accuracy: 0.9608\n"
     ]
    }
   ],
   "source": [
    "fitted_baseline=baseline_model.fit(train_gen,validation_data=val_gen,batch_size=32,epochs=20,shuffle=False)"
   ]
  },
  {
   "cell_type": "code",
   "execution_count": 24,
   "id": "3f2a144e",
   "metadata": {},
   "outputs": [
    {
     "data": {
      "text/plain": [
       "<matplotlib.legend.Legend at 0x1c4926b23d0>"
      ]
     },
     "execution_count": 24,
     "metadata": {},
     "output_type": "execute_result"
    },
    {
     "data": {
      "image/png": "[encoded data removed]",
      "text/plain": [
       "<Figure size 432x288 with 1 Axes>"
      ]
     },
     "metadata": {
      "needs_background": "light"
     },
     "output_type": "display_data"
    }
   ],
   "source": [
    "plt.plot(fitted_baseline.history['categorical_accuracy'],label='tr_acc')\n",
    "plt.plot(fitted_baseline.history['val_categorical_accuracy'],label='val_acc')\n",
    "plt.legend(loc='best')"
   ]
  },
  {
   "cell_type": "code",
   "execution_count": 25,
   "id": "b90dad08",
   "metadata": {},
   "outputs": [
    {
     "data": {
      "text/plain": [
       "<matplotlib.legend.Legend at 0x1c4926042e0>"
      ]
     },
     "execution_count": 25,
     "metadata": {},
     "output_type": "execute_result"
    },
    {
     "data": {
      "image/png": "[encoded data removed]",
      "text/plain": [
       "<Figure size 432x288 with 1 Axes>"
      ]
     },
     "metadata": {
      "needs_background": "light"
     },
     "output_type": "display_data"
    }
   ],
   "source": [
    "plt.plot(fitted_baseline.history['loss'],label='tr_loss')\n",
    "plt.plot(fitted_baseline.history['val_loss'],label='val_loss')\n",
    "plt.legend(loc='best')"
   ]
  },
  {
   "cell_type": "code",
   "execution_count": 26,
   "id": "d5e145ee",
   "metadata": {},
   "outputs": [],
   "source": [
    "#handling imbalance"
   ]
  },
  {
   "cell_type": "code",
   "execution_count": 27,
   "id": "372cf0d7",
   "metadata": {},
   "outputs": [
    {
     "name": "stderr",
     "output_type": "stream",
     "text": [
      "C:\\Users\\aksha\\anaconda3\\lib\\site-packages\\sklearn\\utils\\validation.py:70: FutureWarning: Pass classes=[0 1 2 3 4], y=[0, 2, 2, 2, 0, 4, 4, 2, 2, 3, 2, 3, 0, 3, 4, 2, 2, 3, 4, 2, 2, 2, 2, 3, 0, 0, 4, 4, 2, 4, 2, 4, 4, 2, 2, 3, 3, 2, 2, 4, 2, 2, 4, 2, 2, 4, 2, 2, 2, 3, 2, 3, 4, 2, 2, 0, 2, 2, 2, 2, 3, 2, 0, 4, 1, 3, 2, 4, 4, 2, 2, 4, 2, 3, 0, 3, 3, 2, 4, 3, 2, 2, 2, 3, 2, 4, 3, 4, 2, 4, 2, 4, 2, 2, 4, 2, 2, 2, 4, 4, 2, 3, 4, 2, 4, 1, 2, 3, 3, 0, 4, 4, 4, 4, 4, 3, 3, 2, 0, 4, 2, 2, 3, 3, 2, 4, 2, 2, 3, 4, 4, 2, 2, 2, 2, 2, 2, 2, 4, 4, 3, 2, 2, 2, 2, 2, 0, 4, 4, 4, 4, 3, 4, 2, 4, 2, 3, 2, 4, 2, 4, 4, 0, 2, 3, 2, 2, 2, 4, 3, 3, 4, 2, 4, 4, 2, 3, 3, 4, 2, 2, 4, 2, 2, 2, 2, 2, 3, 3, 2, 2, 2, 4, 2, 3, 2, 2, 3, 2, 0, 4, 3, 0, 2, 3, 2, 0, 2, 3, 3, 2, 4, 3, 0, 4, 2, 4, 3, 4, 2, 3, 2, 4, 2, 3, 3, 4, 1, 2, 2, 4, 3, 2, 2, 2, 4, 4, 2, 2, 4, 4, 2, 2, 3, 4, 3, 3, 4, 2, 2, 2, 4, 2, 2, 2, 2, 3, 3, 3, 2, 4, 4, 2, 2, 2, 3, 2, 4, 0, 0, 2, 4, 4, 3, 2, 1, 3, 4, 3, 2, 2, 2, 4, 4, 2, 2, 4, 2, 3, 2, 2, 2, 4, 4, 2, 2, 1, 2, 2, 4, 2, 2, 4, 2, 2, 4, 2, 2, 2, 2, 4, 2, 4, 2, 2, 4, 2, 2, 3, 4, 2, 3, 2, 3, 4, 4, 4, 4, 3, 2, 2, 4, 2, 4, 4, 4, 3, 2, 4, 0, 0, 2, 2, 0, 4, 0, 0, 4, 4, 4, 1, 4, 3, 4, 0, 4, 2, 2, 2, 4, 2, 2, 3, 2, 3, 0, 3, 0, 2, 0, 2, 2, 2, 2, 3, 3, 2, 2, 4, 0, 2, 2, 3, 3, 2, 4, 4, 2, 4, 2, 2, 0, 2, 4, 2, 3, 2, 2, 4, 4, 3, 2, 2, 4, 4, 2, 2, 2, 2, 2, 0, 2, 2, 3, 2, 2, 0, 2, 2, 4, 4, 2, 2, 1, 2, 4, 2, 2, 2, 4, 3, 3, 4, 2, 3, 4, 2, 3, 0, 2, 2, 0, 3, 2, 2, 4, 2, 2, 4, 2, 4, 2, 2, 4, 3, 2, 3, 2, 4, 2, 2, 2, 2, 4, 3, 2, 2, 2, 2, 3, 2, 3, 4, 4, 2, 2, 2, 2, 0, 0, 0, 4, 2, 3, 2, 2, 4, 4, 3, 2, 0, 4, 4, 2, 4, 2, 0, 2, 2, 2, 4, 2, 3, 2, 3, 3, 0, 4, 2, 4, 4, 2, 2, 2, 2, 2, 3, 2, 4, 4, 2, 3, 4, 2, 4, 4, 2, 4, 4, 4, 2, 2, 0, 3, 2, 2, 4, 2, 2, 3, 2, 2, 0, 2, 4, 2, 2, 2, 4, 4, 2, 4, 3, 4, 2, 4, 2, 4, 2, 3, 2, 2, 2, 2, 4, 2, 2, 2, 3, 2, 4, 0, 0, 2, 2, 4, 2, 3, 3, 0, 2, 2, 2, 2, 2, 2, 2, 2, 3, 4, 2, 4, 4, 3, 4, 2, 2, 2, 0, 2, 4, 3, 2, 0, 2, 4, 2, 2, 2, 4, 4, 2, 4, 2, 4, 4, 2, 2, 3, 2, 3, 2, 2, 4, 2, 4, 3, 3, 0, 4, 2, 2, 1, 4, 1, 2, 3, 3, 2, 2, 4, 2, 0, 2, 4, 2, 2, 4, 4, 2, 2, 3, 4, 4, 2, 2, 0, 2, 2, 4, 4, 2, 2, 3, 4, 4, 2, 4, 3, 4, 2, 4, 2, 2, 4, 2, 0, 2, 4, 3, 2, 2, 0, 3, 2, 2, 4, 3, 3, 2, 4, 4, 4, 2, 2, 0, 4, 1, 2, 2, 3, 2, 2, 0, 2, 3, 2, 3, 2, 2, 2, 4, 2, 1, 4, 4, 3, 3, 2, 4, 4, 2, 3, 2, 2, 2, 2, 2, 2, 2, 4, 3, 3, 2, 4, 3, 4, 0, 2, 2, 3, 2, 4, 4, 2, 3, 2, 2, 2, 4, 2, 2, 3, 0, 2, 3, 4, 2, 2, 2, 2, 2, 4, 4, 3, 4, 2, 2, 2, 4, 2, 4, 4, 3, 2, 4, 0, 0, 2, 2, 2, 4, 3, 3, 2, 2, 4, 2, 2, 2, 0, 3, 2, 2, 3, 3, 2, 3, 2, 2, 0, 4, 2, 4, 2, 3, 0, 0, 2, 3, 4, 3, 2, 4, 3, 2, 4, 4, 4, 0, 2, 2, 2, 2, 2, 4, 3, 3, 2, 0, 4, 2, 2, 2, 2, 0, 3, 3, 2, 2, 3, 4, 3, 0, 4, 2, 2, 3, 2, 2, 3, 2, 2, 4, 2, 2, 3, 4, 4, 2, 3, 3, 4, 2, 3, 4, 4, 2, 4, 3, 3, 4, 4, 2, 3, 2, 2, 4, 2, 3, 2, 3, 3, 2, 4, 3, 2, 3, 2, 0, 2, 0, 0, 2, 2, 2, 2, 2, 0, 2, 2, 3, 2, 3, 2, 2, 3, 2, 2, 2, 3, 0, 2, 4, 3, 2, 2, 0, 3, 3, 2, 2, 4, 4, 2, 2, 2, 3, 0, 3, 2, 3, 2, 3, 3, 2, 0, 4, 2, 2, 2, 4, 0, 1, 2, 3, 2, 4, 2, 4, 2, 2, 2, 3, 2, 2, 2, 3, 2, 3, 4, 4, 0, 3, 2, 4, 4, 3, 4, 2, 2, 4, 3, 2, 4, 2, 4, 2, 4, 2, 2, 2, 2, 2, 2, 2, 4, 4, 4, 3, 0, 3, 3, 2, 2, 2, 2, 2, 2, 2, 2, 3, 4, 2, 0, 2, 2, 0, 2, 4, 2, 2, 2, 4, 4, 4, 0, 2, 2, 2, 2, 2, 2, 2, 2, 4, 3, 4, 4, 3, 4, 2, 0, 2, 2, 2, 4, 0, 3, 1, 4, 2, 3, 4, 2, 0, 4, 2, 2, 2, 4, 4, 2, 2, 4, 4, 2, 0, 3, 2, 4, 4, 2, 2, 4, 2, 2, 2, 4, 4, 4, 1, 2, 3, 0, 2, 2, 3, 4, 2, 2, 3, 2, 3, 2, 2, 2, 2, 2, 4, 2, 2, 0, 3, 4, 2, 4, 3, 4, 2, 2, 4, 4, 3, 2, 2, 2, 3, 2, 3, 2, 4, 4, 4, 2, 2, 4, 2, 2, 3, 2, 3, 2, 3, 2, 2, 3, 2, 4, 0, 4, 3, 4, 3, 3, 4, 3, 2, 2, 2, 2, 4, 4, 4, 2, 2, 4, 2, 4, 2, 4, 4, 3, 3, 2, 4, 4, 4, 2, 4, 2, 2, 2, 4, 0, 2, 4, 2, 4, 3, 4, 2, 3, 0, 2, 4, 2, 2, 3, 2, 4, 2, 4, 1, 2, 3, 3, 2, 3, 2, 2, 2, 4, 4, 0, 3, 4, 2, 4, 3, 4, 0, 2, 2, 4, 4, 4, 2, 2, 2, 0, 2, 2, 2, 2, 4, 2, 4, 2, 2, 4, 2, 2, 4, 2, 2, 3, 2, 2, 4, 2, 3, 0, 2, 2, 2, 3, 0, 3, 4, 2, 4, 2, 2, 3, 2, 3, 2, 2, 4, 4, 2, 3, 3, 2, 2, 2, 2, 4, 4, 4, 2, 2, 4, 2, 2, 4, 2, 2, 3, 0, 1, 4, 2, 2, 2, 3, 2, 2, 3, 4, 2, 4, 3, 2, 3, 4, 3, 4, 1, 2, 4, 2, 2, 2, 2, 4, 2, 2, 4, 3, 2, 2, 4, 3, 4, 3, 4, 2, 4, 4, 4, 2, 4, 3, 3, 4, 2, 2, 2, 3, 3, 3, 3, 2, 2, 3, 2, 4, 2, 2, 2, 0, 4, 2, 4, 3, 2, 0, 0, 4, 4, 3, 4, 1, 2, 3, 2, 2, 4, 2, 4, 3, 0, 2, 2, 0, 2, 3, 2, 4, 4, 4, 2, 0, 0, 0, 3, 3, 2, 4, 4, 3, 2, 4, 0, 3, 3, 2, 3, 2, 4, 3, 2, 2, 4, 3, 2, 0, 4, 3, 0, 4, 2, 0, 4, 2, 2, 2, 0, 3, 0, 3, 2, 4, 4, 3, 3, 2, 4, 2, 2, 1, 4, 2, 4, 4, 4, 3, 2, 4, 2, 2, 4, 4, 3, 4, 3, 2, 4, 2, 0, 4, 3, 2, 3, 3, 3, 3, 2, 2, 4, 4, 2, 3, 0, 0, 4, 1, 4, 4, 2, 4, 4, 0, 2, 4, 2, 0, 2, 4, 4, 4, 0, 2, 2, 2, 3, 2, 0, 2, 4, 1, 3, 2, 3, 4, 4, 2, 4, 2, 2, 2, 2, 3, 2, 2, 2, 2, 4, 4, 2, 3, 2, 3, 2, 2, 2, 4, 3, 3, 2, 2, 4, 4, 3, 3, 4, 2, 2, 2, 4, 2, 4, 2, 2, 2, 4, 4, 2, 4, 2, 2, 2, 2, 2, 2, 2, 3, 2, 2, 2, 2, 3, 2, 0, 2, 2, 2, 2, 2, 2, 3, 2, 4, 3, 4, 3, 4, 3, 2, 3, 4, 2, 3, 3, 2, 2, 2, 3, 4, 3, 0, 2, 4, 2, 3, 2, 4, 2, 4, 3, 3, 3, 3, 4, 4, 2, 1, 3, 4, 3, 3, 4, 4, 1, 3, 4, 3, 3, 4, 2, 2, 3, 3, 4, 2, 2, 3, 4, 3, 4, 2, 3, 4, 2, 4, 0, 2, 3, 4, 2, 2, 2, 2, 4, 3, 3, 2, 2, 4, 3, 4, 3, 2, 2, 3, 2, 4, 3, 4, 3, 3, 2, 2, 3, 0, 2, 3, 0, 2, 3, 4, 4, 4, 2, 3, 3, 2, 2, 2, 2, 2, 2, 2, 4, 2, 4, 3, 3, 0, 2, 2, 2, 2, 2, 0, 2, 2, 3, 4, 2, 4, 2, 0, 2, 2, 3, 3, 3, 4, 2, 2, 2, 4, 2, 2, 2, 0, 2, 4, 0, 2, 2, 4, 1, 2, 3, 2, 4, 3, 4, 2, 4, 2, 2, 2, 3, 4, 3, 2, 3, 2, 4, 4, 4, 2, 4, 4, 4, 4, 4, 3, 4, 4, 2, 3, 2, 0, 0, 2, 2, 3, 2, 2, 2, 2, 3, 2, 4, 2, 3, 2, 2, 2, 3, 2, 2, 3, 2, 4, 2, 2, 2, 2, 2, 4, 2, 2, 2, 2, 3, 4, 2, 4, 2, 2, 2, 4, 4, 0, 4, 2, 2, 3, 2, 2, 2, 0, 2, 2, 4, 4, 2, 3, 3, 2, 2, 3, 4, 0, 3, 2, 0, 2, 2, 0, 2, 2, 0, 2, 4, 2, 2, 2, 4, 2, 4, 2, 3, 4, 2, 4, 4, 2, 3, 4, 2, 3, 4, 0, 2, 4, 2, 2, 4, 2, 3, 0, 0, 2, 2, 2, 0, 2, 4, 4, 2, 2, 2, 2, 2, 3, 3, 4, 2, 2, 2, 4, 4, 2, 4, 3, 0, 2, 4, 2, 2, 3, 2, 2, 2, 2, 4, 2, 2, 2, 4, 2, 2, 3, 1, 2, 3, 0, 0, 4, 3, 4, 2, 0, 3, 2, 0, 4, 2, 4, 2, 2, 2, 3, 4, 3, 2, 3, 3, 3, 2, 3, 2, 4, 2, 2, 2, 2, 3, 2, 2, 2, 3, 4, 2, 3, 4, 2, 2, 0, 3, 4, 4, 2, 2, 2, 3, 2, 2, 2, 3, 3, 2, 2, 4, 4, 4, 2, 3, 2, 4, 2, 4, 4, 0, 4, 4, 3, 4, 4, 3, 4, 2, 2, 4, 3, 2, 3, 4, 2, 2, 2, 2, 3, 2, 3, 0, 3, 4, 0, 2, 4, 3, 2, 2, 2, 2, 3, 4, 3, 3, 4, 3, 4, 4, 4, 4, 3, 4, 0, 2, 2, 2, 2, 2, 2, 0, 3, 2, 4, 4, 2, 2, 4, 2, 2, 2, 2, 2, 3, 3, 1, 2, 4, 4, 3, 2, 2, 2, 4, 2, 0, 2, 0, 3, 3, 2, 2, 2, 4, 3, 4, 0, 2, 2, 3, 2, 4, 4, 3, 3, 4, 2, 2, 0, 3, 2, 3, 2, 0, 4, 2, 3, 3, 2, 2, 2, 0, 3, 4, 2, 4, 3, 2, 2, 2, 2, 4, 2, 4, 2, 2, 4, 3, 3, 3, 1, 0, 2, 4, 4, 3, 2, 4, 3, 2, 3, 4, 2, 2, 2, 2, 2, 3, 3, 3, 4, 4, 2, 2, 4, 2, 2, 4, 4, 2, 0, 3, 4, 4, 2, 2, 2, 4, 2, 4, 2, 3, 2, 0, 2, 2, 3, 0, 2, 3, 3, 3, 4, 2, 2, 2, 3, 0, 4, 3, 3, 4, 3, 2, 3, 2, 4, 4, 2, 2, 2, 4, 2, 2, 3, 2, 3, 2, 2, 2, 3, 3, 3, 3, 2, 2, 2, 4, 3, 2, 2, 2, 4, 2, 0, 3, 4, 2, 2, 2, 2, 3, 3, 2, 3, 0, 2, 0, 3, 2, 4, 2, 3, 2, 2, 0, 4, 3, 3, 2, 3, 2, 3, 2, 2, 4, 4, 2, 2, 4, 4, 2, 3, 2, 2, 3, 2, 2, 3, 2, 4, 2, 2, 3, 2, 2, 2, 4, 2, 4, 4, 4, 2, 3, 2, 2, 2, 2, 2, 4, 2, 4, 2, 2, 2, 2, 2, 4, 3, 3, 4, 2, 4, 4, 3, 2, 4, 2, 2, 2, 2, 2, 2, 3, 1, 3, 2, 3, 4, 3, 4, 2, 2, 3, 4, 3, 2, 2, 4, 2, 0, 4, 4, 3, 4, 2, 2, 4, 3, 2, 3, 4, 2, 2, 2, 3, 4, 3, 2, 4, 2, 3, 4, 2, 0, 2, 0, 3, 2, 2, 2, 3, 2, 2, 2, 2, 4, 4, 2, 4, 2, 4, 2, 2, 3, 2, 4, 3, 2, 2, 4, 4, 2, 4, 3, 4, 4, 4, 2, 2, 2, 2, 2, 2, 4, 2, 2, 2, 4, 2, 4, 2, 0, 2, 2, 2, 0, 2, 2, 2, 2, 3, 2, 2, 4, 3, 2, 4, 2, 2, 2, 2, 0, 4, 3, 0, 3, 3, 4, 2, 2, 3, 2, 2, 2, 2, 0, 3, 2, 4, 2, 4, 3, 4, 2, 4, 2, 4, 2, 4, 2, 2, 3, 2, 4, 2, 0, 2, 2, 4, 2, 2, 3, 3, 2, 2, 4, 2, 3, 4, 3, 3, 0, 4, 2, 2, 4, 3, 2, 0, 4, 2, 4, 3, 2, 4, 3, 4, 2, 0, 2, 2, 2, 2, 2, 2, 2, 2, 3, 2, 0, 2, 2, 0, 2, 0, 4, 3, 2, 1, 4, 4, 2, 2, 4, 2, 3, 2, 3, 2, 2, 4, 3, 2, 2, 0, 3, 3, 3, 4, 2, 2, 0, 3, 3, 4, 2, 4, 2, 2, 2, 2, 0, 2, 2, 2, 4, 3, 2, 4, 2, 0, 3, 4, 2, 0, 4, 2, 2, 3, 2, 3, 4, 2, 3, 3, 2, 2, 4, 2, 2, 2, 3, 2, 4, 0, 2, 4, 3, 3, 2, 3, 2, 2, 4, 3, 2, 3, 2, 2, 2, 3, 1, 3, 3, 2, 2, 2, 2, 2, 0, 3, 3, 4, 2, 2, 4, 2, 2, 3, 2, 4, 2, 3, 2, 2, 2, 2, 0, 2, 4, 3, 3, 4, 0, 2, 4, 1, 2, 2, 4, 2, 2, 2, 4, 4, 2, 0, 2, 0, 3, 4, 4, 4, 4, 3, 0, 4, 0, 0, 4, 3, 2, 0, 2, 2, 2, 2, 4, 2, 4, 2, 2, 2, 3, 4, 2, 4, 2, 3, 2, 2, 4, 4, 2, 0, 0, 3, 2, 2, 2, 4, 3, 0, 2, 2, 1, 2, 2, 4, 4, 2, 4, 3, 3, 4, 1, 2, 4, 1, 3, 2, 4, 3, 3, 4, 4, 4, 4, 2, 2, 3, 3, 0, 2, 2, 2, 2, 2, 2, 4, 2, 2, 2, 2, 2, 2, 4, 2, 2, 2, 4, 3, 2, 4, 0, 3, 2, 0, 1, 3, 2, 2, 2, 3, 4, 2, 2, 2, 4, 2, 2, 0, 3, 2, 3, 3, 2, 4, 4, 2, 0, 2, 2, 4, 2, 2, 4, 3, 2, 3, 2, 2, 2, 4, 4, 2, 4, 2, 2, 2, 0, 3, 2, 2, 4, 2, 2, 3, 2, 2, 4, 2, 4, 4, 2, 3, 3, 3, 2, 2, 2, 3, 2, 4, 2, 2, 2, 0, 2, 2, 0, 2, 2, 3, 2, 4, 3, 4, 2, 2, 3, 2, 2, 2, 2, 2, 3, 3, 2, 2, 4, 4, 2, 4, 2, 4, 3, 2, 2, 4, 2, 2, 2, 2, 2, 2, 2, 2, 2, 2, 3, 2, 2, 2, 4, 2, 4, 2, 4, 3, 2, 2, 2, 0, 2, 2, 3, 4, 2, 2, 4, 1, 2, 0, 3, 4, 3, 4, 4, 4, 2, 2, 2, 4, 2, 2, 4, 2, 4, 2, 2, 4, 4, 2, 3, 2, 3, 3, 2, 3, 4, 4, 2, 3, 4, 0, 3, 2, 3, 2, 0, 2, 4, 2, 3, 2, 3, 4, 3, 2, 3, 4, 3, 4, 4, 4, 2, 3, 4, 2, 2, 2, 4, 3, 2, 3, 0, 3, 4, 2, 4, 2, 3, 2, 2, 2, 2, 4, 2, 2, 4, 4, 2, 4, 2, 4, 2, 2, 4, 3, 4, 3, 4, 0, 4, 1, 2, 4, 3, 4, 3, 0, 3, 2, 2, 2, 2, 4, 0, 4, 0, 4, 2, 2, 2, 4, 2, 4, 4, 4, 3, 3, 0, 2, 2, 3, 4, 3, 0, 3, 3, 2, 2, 2, 2, 2, 2, 2, 2, 4, 4, 2, 2, 4, 2] as keyword args. From version 1.0 (renaming of 0.25) passing these as positional arguments will result in an error\n",
      "  warnings.warn(f\"Pass {args_msg} as keyword args. From version \"\n"
     ]
    }
   ],
   "source": [
    "weights = compute_class_weight(\"balanced\",np.unique(train_gen.classes),train_gen.classes)"
   ]
  },
  {
   "cell_type": "code",
   "execution_count": 28,
   "id": "a80bf48e",
   "metadata": {},
   "outputs": [],
   "source": [
    "weights_dict={}\n",
    "for i in range(weights.shape[0]):\n",
    "    weights_dict[np.unique(train_gen.classes)[i]]=weights[i]"
   ]
  },
  {
   "cell_type": "code",
   "execution_count": 29,
   "id": "9d376158",
   "metadata": {},
   "outputs": [
    {
     "data": {
      "text/plain": [
       "{0: 2.7525581395348837,\n",
       " 1: 15.994594594594595,\n",
       " 2: 0.4257553956834532,\n",
       " 3: 1.0328097731239092,\n",
       " 4: 0.7954301075268817}"
      ]
     },
     "execution_count": 29,
     "metadata": {},
     "output_type": "execute_result"
    }
   ],
   "source": [
    "weights_dict"
   ]
  },
  {
   "cell_type": "code",
   "execution_count": 30,
   "id": "ded6b249",
   "metadata": {},
   "outputs": [],
   "source": [
    "#training weighted model"
   ]
  },
  {
   "cell_type": "code",
   "execution_count": 46,
   "id": "647bb64f",
   "metadata": {},
   "outputs": [
    {
     "name": "stdout",
     "output_type": "stream",
     "text": [
      "Epoch 1/20\n",
      "93/93 [==============================] - 1s 12ms/step - loss: 1.2152 - categorical_accuracy: 0.4667 - val_loss: 0.8335 - val_categorical_accuracy: 0.7851\n",
      "Epoch 2/20\n",
      "93/93 [==============================] - 1s 11ms/step - loss: 0.7501 - categorical_accuracy: 0.7242 - val_loss: 0.7416 - val_categorical_accuracy: 0.7541\n",
      "Epoch 3/20\n",
      "93/93 [==============================] - 1s 11ms/step - loss: 0.5344 - categorical_accuracy: 0.7986 - val_loss: 0.7584 - val_categorical_accuracy: 0.7243\n",
      "Epoch 4/20\n",
      "93/93 [==============================] - 1s 11ms/step - loss: 0.4512 - categorical_accuracy: 0.8273 - val_loss: 0.4649 - val_categorical_accuracy: 0.8770\n",
      "Epoch 5/20\n",
      "93/93 [==============================] - 1s 12ms/step - loss: 0.3651 - categorical_accuracy: 0.8668 - val_loss: 0.4478 - val_categorical_accuracy: 0.8703\n",
      "Epoch 6/20\n",
      "93/93 [==============================] - 1s 12ms/step - loss: 0.3194 - categorical_accuracy: 0.8844 - val_loss: 0.3600 - val_categorical_accuracy: 0.9054\n",
      "Epoch 7/20\n",
      "93/93 [==============================] - 1s 12ms/step - loss: 0.2815 - categorical_accuracy: 0.9091 - val_loss: 0.3557 - val_categorical_accuracy: 0.9041\n",
      "Epoch 8/20\n",
      "84/93 [==========================>...] - ETA: 0s - loss: 0.2579 - categorical_accuracy: 0.9115"
     ]
    },
    {
     "ename": "KeyboardInterrupt",
     "evalue": "",
     "output_type": "error",
     "traceback": [
      "\u001b[1;31m---------------------------------------------------------------------------\u001b[0m",
      "\u001b[1;31mKeyboardInterrupt\u001b[0m                         Traceback (most recent call last)",
      "\u001b[1;32m~\\AppData\\Local\\Temp/ipykernel_24696/1210682953.py\u001b[0m in \u001b[0;36m<module>\u001b[1;34m\u001b[0m\n\u001b[0;32m      6\u001b[0m baseline_model_weighted.compile(optimizer='adam',loss='categorical_crossentropy',\n\u001b[0;32m      7\u001b[0m               metrics=['categorical_accuracy'])\n\u001b[1;32m----> 8\u001b[1;33m \u001b[0mfitted_baseline_weighted\u001b[0m\u001b[1;33m=\u001b[0m\u001b[0mbaseline_model_weighted\u001b[0m\u001b[1;33m.\u001b[0m\u001b[0mfit\u001b[0m\u001b[1;33m(\u001b[0m\u001b[0mtrain_gen\u001b[0m\u001b[1;33m,\u001b[0m\u001b[0mvalidation_data\u001b[0m\u001b[1;33m=\u001b[0m\u001b[0mval_gen\u001b[0m\u001b[1;33m,\u001b[0m\u001b[0mbatch_size\u001b[0m\u001b[1;33m=\u001b[0m\u001b[1;36m32\u001b[0m\u001b[1;33m,\u001b[0m\u001b[0mepochs\u001b[0m\u001b[1;33m=\u001b[0m\u001b[1;36m20\u001b[0m\u001b[1;33m,\u001b[0m\u001b[0mclass_weight\u001b[0m\u001b[1;33m=\u001b[0m\u001b[0mweights_dict\u001b[0m\u001b[1;33m,\u001b[0m\u001b[0mshuffle\u001b[0m\u001b[1;33m=\u001b[0m\u001b[1;32mFalse\u001b[0m\u001b[1;33m)\u001b[0m\u001b[1;33m\u001b[0m\u001b[1;33m\u001b[0m\u001b[0m\n\u001b[0m",
      "\u001b[1;32m~\\anaconda3\\lib\\site-packages\\keras\\utils\\traceback_utils.py\u001b[0m in \u001b[0;36merror_handler\u001b[1;34m(*args, **kwargs)\u001b[0m\n\u001b[0;32m     62\u001b[0m     \u001b[0mfiltered_tb\u001b[0m \u001b[1;33m=\u001b[0m \u001b[1;32mNone\u001b[0m\u001b[1;33m\u001b[0m\u001b[1;33m\u001b[0m\u001b[0m\n\u001b[0;32m     63\u001b[0m     \u001b[1;32mtry\u001b[0m\u001b[1;33m:\u001b[0m\u001b[1;33m\u001b[0m\u001b[1;33m\u001b[0m\u001b[0m\n\u001b[1;32m---> 64\u001b[1;33m       \u001b[1;32mreturn\u001b[0m \u001b[0mfn\u001b[0m\u001b[1;33m(\u001b[0m\u001b[1;33m*\u001b[0m\u001b[0margs\u001b[0m\u001b[1;33m,\u001b[0m \u001b[1;33m**\u001b[0m\u001b[0mkwargs\u001b[0m\u001b[1;33m)\u001b[0m\u001b[1;33m\u001b[0m\u001b[1;33m\u001b[0m\u001b[0m\n\u001b[0m\u001b[0;32m     65\u001b[0m     \u001b[1;32mexcept\u001b[0m \u001b[0mException\u001b[0m \u001b[1;32mas\u001b[0m \u001b[0me\u001b[0m\u001b[1;33m:\u001b[0m  \u001b[1;31m# pylint: disable=broad-except\u001b[0m\u001b[1;33m\u001b[0m\u001b[1;33m\u001b[0m\u001b[0m\n\u001b[0;32m     66\u001b[0m       \u001b[0mfiltered_tb\u001b[0m \u001b[1;33m=\u001b[0m \u001b[0m_process_traceback_frames\u001b[0m\u001b[1;33m(\u001b[0m\u001b[0me\u001b[0m\u001b[1;33m.\u001b[0m\u001b[0m__traceback__\u001b[0m\u001b[1;33m)\u001b[0m\u001b[1;33m\u001b[0m\u001b[1;33m\u001b[0m\u001b[0m\n",
      "\u001b[1;32m~\\anaconda3\\lib\\site-packages\\keras\\engine\\training.py\u001b[0m in \u001b[0;36mfit\u001b[1;34m(self, x, y, batch_size, epochs, verbose, callbacks, validation_split, validation_data, shuffle, class_weight, sample_weight, initial_epoch, steps_per_epoch, validation_steps, validation_batch_size, validation_freq, max_queue_size, workers, use_multiprocessing)\u001b[0m\n\u001b[0;32m   1407\u001b[0m                 _r=1):\n\u001b[0;32m   1408\u001b[0m               \u001b[0mcallbacks\u001b[0m\u001b[1;33m.\u001b[0m\u001b[0mon_train_batch_begin\u001b[0m\u001b[1;33m(\u001b[0m\u001b[0mstep\u001b[0m\u001b[1;33m)\u001b[0m\u001b[1;33m\u001b[0m\u001b[1;33m\u001b[0m\u001b[0m\n\u001b[1;32m-> 1409\u001b[1;33m               \u001b[0mtmp_logs\u001b[0m \u001b[1;33m=\u001b[0m \u001b[0mself\u001b[0m\u001b[1;33m.\u001b[0m\u001b[0mtrain_function\u001b[0m\u001b[1;33m(\u001b[0m\u001b[0miterator\u001b[0m\u001b[1;33m)\u001b[0m\u001b[1;33m\u001b[0m\u001b[1;33m\u001b[0m\u001b[0m\n\u001b[0m\u001b[0;32m   1410\u001b[0m               \u001b[1;32mif\u001b[0m \u001b[0mdata_handler\u001b[0m\u001b[1;33m.\u001b[0m\u001b[0mshould_sync\u001b[0m\u001b[1;33m:\u001b[0m\u001b[1;33m\u001b[0m\u001b[1;33m\u001b[0m\u001b[0m\n\u001b[0;32m   1411\u001b[0m                 \u001b[0mcontext\u001b[0m\u001b[1;33m.\u001b[0m\u001b[0masync_wait\u001b[0m\u001b[1;33m(\u001b[0m\u001b[1;33m)\u001b[0m\u001b[1;33m\u001b[0m\u001b[1;33m\u001b[0m\u001b[0m\n",
      "\u001b[1;32m~\\anaconda3\\lib\\site-packages\\tensorflow\\python\\util\\traceback_utils.py\u001b[0m in \u001b[0;36merror_handler\u001b[1;34m(*args, **kwargs)\u001b[0m\n\u001b[0;32m    148\u001b[0m     \u001b[0mfiltered_tb\u001b[0m \u001b[1;33m=\u001b[0m \u001b[1;32mNone\u001b[0m\u001b[1;33m\u001b[0m\u001b[1;33m\u001b[0m\u001b[0m\n\u001b[0;32m    149\u001b[0m     \u001b[1;32mtry\u001b[0m\u001b[1;33m:\u001b[0m\u001b[1;33m\u001b[0m\u001b[1;33m\u001b[0m\u001b[0m\n\u001b[1;32m--> 150\u001b[1;33m       \u001b[1;32mreturn\u001b[0m \u001b[0mfn\u001b[0m\u001b[1;33m(\u001b[0m\u001b[1;33m*\u001b[0m\u001b[0margs\u001b[0m\u001b[1;33m,\u001b[0m \u001b[1;33m**\u001b[0m\u001b[0mkwargs\u001b[0m\u001b[1;33m)\u001b[0m\u001b[1;33m\u001b[0m\u001b[1;33m\u001b[0m\u001b[0m\n\u001b[0m\u001b[0;32m    151\u001b[0m     \u001b[1;32mexcept\u001b[0m \u001b[0mException\u001b[0m \u001b[1;32mas\u001b[0m \u001b[0me\u001b[0m\u001b[1;33m:\u001b[0m\u001b[1;33m\u001b[0m\u001b[1;33m\u001b[0m\u001b[0m\n\u001b[0;32m    152\u001b[0m       \u001b[0mfiltered_tb\u001b[0m \u001b[1;33m=\u001b[0m \u001b[0m_process_traceback_frames\u001b[0m\u001b[1;33m(\u001b[0m\u001b[0me\u001b[0m\u001b[1;33m.\u001b[0m\u001b[0m__traceback__\u001b[0m\u001b[1;33m)\u001b[0m\u001b[1;33m\u001b[0m\u001b[1;33m\u001b[0m\u001b[0m\n",
      "\u001b[1;32m~\\anaconda3\\lib\\site-packages\\tensorflow\\python\\eager\\def_function.py\u001b[0m in \u001b[0;36m__call__\u001b[1;34m(self, *args, **kwds)\u001b[0m\n\u001b[0;32m    913\u001b[0m \u001b[1;33m\u001b[0m\u001b[0m\n\u001b[0;32m    914\u001b[0m       \u001b[1;32mwith\u001b[0m \u001b[0mOptionalXlaContext\u001b[0m\u001b[1;33m(\u001b[0m\u001b[0mself\u001b[0m\u001b[1;33m.\u001b[0m\u001b[0m_jit_compile\u001b[0m\u001b[1;33m)\u001b[0m\u001b[1;33m:\u001b[0m\u001b[1;33m\u001b[0m\u001b[1;33m\u001b[0m\u001b[0m\n\u001b[1;32m--> 915\u001b[1;33m         \u001b[0mresult\u001b[0m \u001b[1;33m=\u001b[0m \u001b[0mself\u001b[0m\u001b[1;33m.\u001b[0m\u001b[0m_call\u001b[0m\u001b[1;33m(\u001b[0m\u001b[1;33m*\u001b[0m\u001b[0margs\u001b[0m\u001b[1;33m,\u001b[0m \u001b[1;33m**\u001b[0m\u001b[0mkwds\u001b[0m\u001b[1;33m)\u001b[0m\u001b[1;33m\u001b[0m\u001b[1;33m\u001b[0m\u001b[0m\n\u001b[0m\u001b[0;32m    916\u001b[0m \u001b[1;33m\u001b[0m\u001b[0m\n\u001b[0;32m    917\u001b[0m       \u001b[0mnew_tracing_count\u001b[0m \u001b[1;33m=\u001b[0m \u001b[0mself\u001b[0m\u001b[1;33m.\u001b[0m\u001b[0mexperimental_get_tracing_count\u001b[0m\u001b[1;33m(\u001b[0m\u001b[1;33m)\u001b[0m\u001b[1;33m\u001b[0m\u001b[1;33m\u001b[0m\u001b[0m\n",
      "\u001b[1;32m~\\anaconda3\\lib\\site-packages\\tensorflow\\python\\eager\\def_function.py\u001b[0m in \u001b[0;36m_call\u001b[1;34m(self, *args, **kwds)\u001b[0m\n\u001b[0;32m    945\u001b[0m       \u001b[1;31m# In this case we have created variables on the first call, so we run the\u001b[0m\u001b[1;33m\u001b[0m\u001b[1;33m\u001b[0m\u001b[0m\n\u001b[0;32m    946\u001b[0m       \u001b[1;31m# defunned version which is guaranteed to never create variables.\u001b[0m\u001b[1;33m\u001b[0m\u001b[1;33m\u001b[0m\u001b[0m\n\u001b[1;32m--> 947\u001b[1;33m       \u001b[1;32mreturn\u001b[0m \u001b[0mself\u001b[0m\u001b[1;33m.\u001b[0m\u001b[0m_stateless_fn\u001b[0m\u001b[1;33m(\u001b[0m\u001b[1;33m*\u001b[0m\u001b[0margs\u001b[0m\u001b[1;33m,\u001b[0m \u001b[1;33m**\u001b[0m\u001b[0mkwds\u001b[0m\u001b[1;33m)\u001b[0m  \u001b[1;31m# pylint: disable=not-callable\u001b[0m\u001b[1;33m\u001b[0m\u001b[1;33m\u001b[0m\u001b[0m\n\u001b[0m\u001b[0;32m    948\u001b[0m     \u001b[1;32melif\u001b[0m \u001b[0mself\u001b[0m\u001b[1;33m.\u001b[0m\u001b[0m_stateful_fn\u001b[0m \u001b[1;32mis\u001b[0m \u001b[1;32mnot\u001b[0m \u001b[1;32mNone\u001b[0m\u001b[1;33m:\u001b[0m\u001b[1;33m\u001b[0m\u001b[1;33m\u001b[0m\u001b[0m\n\u001b[0;32m    949\u001b[0m       \u001b[1;31m# Release the lock early so that multiple threads can perform the call\u001b[0m\u001b[1;33m\u001b[0m\u001b[1;33m\u001b[0m\u001b[0m\n",
      "\u001b[1;32m~\\anaconda3\\lib\\site-packages\\tensorflow\\python\\eager\\function.py\u001b[0m in \u001b[0;36m__call__\u001b[1;34m(self, *args, **kwargs)\u001b[0m\n\u001b[0;32m   2451\u001b[0m       (graph_function,\n\u001b[0;32m   2452\u001b[0m        filtered_flat_args) = self._maybe_define_function(args, kwargs)\n\u001b[1;32m-> 2453\u001b[1;33m     return graph_function._call_flat(\n\u001b[0m\u001b[0;32m   2454\u001b[0m         filtered_flat_args, captured_inputs=graph_function.captured_inputs)  # pylint: disable=protected-access\n\u001b[0;32m   2455\u001b[0m \u001b[1;33m\u001b[0m\u001b[0m\n",
      "\u001b[1;32m~\\anaconda3\\lib\\site-packages\\tensorflow\\python\\eager\\function.py\u001b[0m in \u001b[0;36m_call_flat\u001b[1;34m(self, args, captured_inputs, cancellation_manager)\u001b[0m\n\u001b[0;32m   1858\u001b[0m         and executing_eagerly):\n\u001b[0;32m   1859\u001b[0m       \u001b[1;31m# No tape is watching; skip to running the function.\u001b[0m\u001b[1;33m\u001b[0m\u001b[1;33m\u001b[0m\u001b[0m\n\u001b[1;32m-> 1860\u001b[1;33m       return self._build_call_outputs(self._inference_function.call(\n\u001b[0m\u001b[0;32m   1861\u001b[0m           ctx, args, cancellation_manager=cancellation_manager))\n\u001b[0;32m   1862\u001b[0m     forward_backward = self._select_forward_and_backward_functions(\n",
      "\u001b[1;32m~\\anaconda3\\lib\\site-packages\\tensorflow\\python\\eager\\function.py\u001b[0m in \u001b[0;36mcall\u001b[1;34m(self, ctx, args, cancellation_manager)\u001b[0m\n\u001b[0;32m    495\u001b[0m       \u001b[1;32mwith\u001b[0m \u001b[0m_InterpolateFunctionError\u001b[0m\u001b[1;33m(\u001b[0m\u001b[0mself\u001b[0m\u001b[1;33m)\u001b[0m\u001b[1;33m:\u001b[0m\u001b[1;33m\u001b[0m\u001b[1;33m\u001b[0m\u001b[0m\n\u001b[0;32m    496\u001b[0m         \u001b[1;32mif\u001b[0m \u001b[0mcancellation_manager\u001b[0m \u001b[1;32mis\u001b[0m \u001b[1;32mNone\u001b[0m\u001b[1;33m:\u001b[0m\u001b[1;33m\u001b[0m\u001b[1;33m\u001b[0m\u001b[0m\n\u001b[1;32m--> 497\u001b[1;33m           outputs = execute.execute(\n\u001b[0m\u001b[0;32m    498\u001b[0m               \u001b[0mstr\u001b[0m\u001b[1;33m(\u001b[0m\u001b[0mself\u001b[0m\u001b[1;33m.\u001b[0m\u001b[0msignature\u001b[0m\u001b[1;33m.\u001b[0m\u001b[0mname\u001b[0m\u001b[1;33m)\u001b[0m\u001b[1;33m,\u001b[0m\u001b[1;33m\u001b[0m\u001b[1;33m\u001b[0m\u001b[0m\n\u001b[0;32m    499\u001b[0m               \u001b[0mnum_outputs\u001b[0m\u001b[1;33m=\u001b[0m\u001b[0mself\u001b[0m\u001b[1;33m.\u001b[0m\u001b[0m_num_outputs\u001b[0m\u001b[1;33m,\u001b[0m\u001b[1;33m\u001b[0m\u001b[1;33m\u001b[0m\u001b[0m\n",
      "\u001b[1;32m~\\anaconda3\\lib\\site-packages\\tensorflow\\python\\eager\\execute.py\u001b[0m in \u001b[0;36mquick_execute\u001b[1;34m(op_name, num_outputs, inputs, attrs, ctx, name)\u001b[0m\n\u001b[0;32m     52\u001b[0m   \u001b[1;32mtry\u001b[0m\u001b[1;33m:\u001b[0m\u001b[1;33m\u001b[0m\u001b[1;33m\u001b[0m\u001b[0m\n\u001b[0;32m     53\u001b[0m     \u001b[0mctx\u001b[0m\u001b[1;33m.\u001b[0m\u001b[0mensure_initialized\u001b[0m\u001b[1;33m(\u001b[0m\u001b[1;33m)\u001b[0m\u001b[1;33m\u001b[0m\u001b[1;33m\u001b[0m\u001b[0m\n\u001b[1;32m---> 54\u001b[1;33m     tensors = pywrap_tfe.TFE_Py_Execute(ctx._handle, device_name, op_name,\n\u001b[0m\u001b[0;32m     55\u001b[0m                                         inputs, attrs, num_outputs)\n\u001b[0;32m     56\u001b[0m   \u001b[1;32mexcept\u001b[0m \u001b[0mcore\u001b[0m\u001b[1;33m.\u001b[0m\u001b[0m_NotOkStatusException\u001b[0m \u001b[1;32mas\u001b[0m \u001b[0me\u001b[0m\u001b[1;33m:\u001b[0m\u001b[1;33m\u001b[0m\u001b[1;33m\u001b[0m\u001b[0m\n",
      "\u001b[1;31mKeyboardInterrupt\u001b[0m: "
     ]
    }
   ],
   "source": [
    "baseline_model_weighted = tf.keras.models.Sequential([\n",
    "    tf.keras.layers.Flatten(input_shape=(28,28,1)),\n",
    "    tf.keras.layers.Dense(32, activation='relu'),\n",
    "    tf.keras.layers.Dense(5,activation='softmax')\n",
    "])\n",
    "baseline_model_weighted.compile(optimizer='S',loss='categorical_crossentropy',\n",
    "              metrics=['categorical_accuracy'])\n",
    "fitted_baseline_weighted=baseline_model_weighted.fit(train_gen,validation_data=val_gen,batch_size=32,epochs=20,class_weight=weights_dict,shuffle=False)"
   ]
  },
  {
   "cell_type": "code",
   "execution_count": 32,
   "id": "2d01993d",
   "metadata": {},
   "outputs": [
    {
     "data": {
      "text/plain": [
       "<matplotlib.legend.Legend at 0x1c493f9cb80>"
      ]
     },
     "execution_count": 32,
     "metadata": {},
     "output_type": "execute_result"
    },
    {
     "data": {
      "image/png": "[encoded data removed]",
      "text/plain": [
       "<Figure size 432x288 with 1 Axes>"
      ]
     },
     "metadata": {
      "needs_background": "light"
     },
     "output_type": "display_data"
    }
   ],
   "source": [
    "plt.plot(fitted_baseline_weighted.history['categorical_accuracy'],label='tr_acc')\n",
    "plt.plot(fitted_baseline_weighted.history['val_categorical_accuracy'],label='val_acc')\n",
    "plt.legend(loc='best')"
   ]
  },
  {
   "cell_type": "code",
   "execution_count": 33,
   "id": "3bdbfe23",
   "metadata": {},
   "outputs": [],
   "source": [
    "#incremental_improvements"
   ]
  },
  {
   "cell_type": "code",
   "execution_count": 34,
   "id": "aabf5a7b",
   "metadata": {},
   "outputs": [
    {
     "name": "stdout",
     "output_type": "stream",
     "text": [
      "Epoch 1/20\n",
      "93/93 [==============================] - 1s 13ms/step - loss: 1.1047 - categorical_accuracy: 0.5360 - val_loss: 0.5547 - val_categorical_accuracy: 0.8405\n",
      "Epoch 2/20\n",
      "93/93 [==============================] - 1s 12ms/step - loss: 0.6470 - categorical_accuracy: 0.7242 - val_loss: 0.4884 - val_categorical_accuracy: 0.8473\n",
      "Epoch 3/20\n",
      "93/93 [==============================] - 1s 12ms/step - loss: 0.3566 - categorical_accuracy: 0.8560 - val_loss: 0.3331 - val_categorical_accuracy: 0.9068\n",
      "Epoch 4/20\n",
      "93/93 [==============================] - 1s 12ms/step - loss: 0.2595 - categorical_accuracy: 0.8959 - val_loss: 0.4646 - val_categorical_accuracy: 0.8189\n",
      "Epoch 5/20\n",
      "93/93 [==============================] - 1s 12ms/step - loss: 0.2379 - categorical_accuracy: 0.8912 - val_loss: 0.4445 - val_categorical_accuracy: 0.8243\n",
      "Epoch 6/20\n",
      "93/93 [==============================] - 1s 12ms/step - loss: 0.1832 - categorical_accuracy: 0.9300 - val_loss: 0.2708 - val_categorical_accuracy: 0.9054\n",
      "Epoch 7/20\n",
      "93/93 [==============================] - 1s 12ms/step - loss: 0.1874 - categorical_accuracy: 0.9182 - val_loss: 0.2854 - val_categorical_accuracy: 0.8973\n",
      "Epoch 8/20\n",
      "93/93 [==============================] - 1s 12ms/step - loss: 0.1310 - categorical_accuracy: 0.9398 - val_loss: 0.1745 - val_categorical_accuracy: 0.9432\n",
      "Epoch 9/20\n",
      "93/93 [==============================] - 1s 12ms/step - loss: 0.1021 - categorical_accuracy: 0.9574 - val_loss: 0.1407 - val_categorical_accuracy: 0.9649\n",
      "Epoch 10/20\n",
      "93/93 [==============================] - 1s 12ms/step - loss: 0.0784 - categorical_accuracy: 0.9672 - val_loss: 0.1081 - val_categorical_accuracy: 0.9811\n",
      "Epoch 11/20\n",
      "93/93 [==============================] - 1s 12ms/step - loss: 0.0669 - categorical_accuracy: 0.9750 - val_loss: 0.1485 - val_categorical_accuracy: 0.9554\n",
      "Epoch 12/20\n",
      "93/93 [==============================] - 1s 12ms/step - loss: 0.0584 - categorical_accuracy: 0.9753 - val_loss: 0.1202 - val_categorical_accuracy: 0.9595\n",
      "Epoch 13/20\n",
      "93/93 [==============================] - 1s 12ms/step - loss: 0.0554 - categorical_accuracy: 0.9770 - val_loss: 0.0990 - val_categorical_accuracy: 0.9730\n",
      "Epoch 14/20\n",
      "93/93 [==============================] - 1s 12ms/step - loss: 0.0758 - categorical_accuracy: 0.9649 - val_loss: 0.0942 - val_categorical_accuracy: 0.9730\n",
      "Epoch 15/20\n",
      "93/93 [==============================] - 1s 12ms/step - loss: 0.0354 - categorical_accuracy: 0.9878 - val_loss: 0.0995 - val_categorical_accuracy: 0.9635\n",
      "Epoch 16/20\n",
      "93/93 [==============================] - 1s 12ms/step - loss: 0.0280 - categorical_accuracy: 0.9888 - val_loss: 0.0950 - val_categorical_accuracy: 0.9757\n",
      "Epoch 17/20\n",
      "93/93 [==============================] - 1s 12ms/step - loss: 0.1133 - categorical_accuracy: 0.9584 - val_loss: 0.1421 - val_categorical_accuracy: 0.9527\n",
      "Epoch 18/20\n",
      "93/93 [==============================] - 1s 12ms/step - loss: 0.0408 - categorical_accuracy: 0.9807 - val_loss: 0.0794 - val_categorical_accuracy: 0.9730\n",
      "Epoch 19/20\n",
      "93/93 [==============================] - 1s 12ms/step - loss: 0.0287 - categorical_accuracy: 0.9875 - val_loss: 0.0787 - val_categorical_accuracy: 0.9797\n",
      "Epoch 20/20\n",
      "93/93 [==============================] - 1s 12ms/step - loss: 0.0223 - categorical_accuracy: 0.9929 - val_loss: 0.1508 - val_categorical_accuracy: 0.9514\n"
     ]
    }
   ],
   "source": [
    "baseline_model_weighted_2_hidden = tf.keras.models.Sequential([\n",
    "    tf.keras.layers.Flatten(input_shape=(28,28,1)),\n",
    "    tf.keras.layers.Dense(128, activation='relu'),\n",
    "    tf.keras.layers.Dense(256, activation='relu'),\n",
    "    tf.keras.layers.Dense(5,activation='softmax')\n",
    "])\n",
    "baseline_model_weighted_2_hidden.compile(optimizer='adam',loss='categorical_crossentropy',\n",
    "              metrics=['categorical_accuracy'])\n",
    "fitted_baseline_weighted_2_hidden=baseline_model_weighted_2_hidden.fit(train_gen,validation_data=val_gen,batch_size=32,epochs=20,class_weight=weights_dict,shuffle=False)"
   ]
  },
  {
   "cell_type": "code",
   "execution_count": 35,
   "id": "3e3502b4",
   "metadata": {},
   "outputs": [
    {
     "data": {
      "text/plain": [
       "<matplotlib.legend.Legend at 0x1c494179b50>"
      ]
     },
     "execution_count": 35,
     "metadata": {},
     "output_type": "execute_result"
    },
    {
     "data": {
      "image/png": "[encoded data removed]",
      "text/plain": [
       "<Figure size 432x288 with 1 Axes>"
      ]
     },
     "metadata": {
      "needs_background": "light"
     },
     "output_type": "display_data"
    }
   ],
   "source": [
    "plt.plot(fitted_baseline_weighted_2_hidden.history['categorical_accuracy'],label='tr_acc')\n",
    "plt.plot(fitted_baseline_weighted_2_hidden.history['val_categorical_accuracy'],label='val_acc')\n",
    "plt.legend(loc='best')"
   ]
  },
  {
   "cell_type": "code",
   "execution_count": 36,
   "id": "b6e67470",
   "metadata": {},
   "outputs": [],
   "source": [
    "#creating image data generators with augmentation"
   ]
  },
  {
   "cell_type": "code",
   "execution_count": 37,
   "id": "f2653635",
   "metadata": {},
   "outputs": [
    {
     "name": "stdout",
     "output_type": "stream",
     "text": [
      "Found 2959 validated image filenames belonging to 5 classes.\n",
      "Found 740 validated image filenames belonging to 5 classes.\n"
     ]
    }
   ],
   "source": [
    "new_idg_train=ImageDataGenerator(rescale=1/255.0,\n",
    "                                 data_format='channels_last',\n",
    "                                 rotation_range=95,\n",
    "                                 #width_shift_range=0.2,\n",
    "                                 #height_shift_range=0.2,\n",
    "                                 #shear_range=0.2,\n",
    "                                 zoom_range=0.2,\n",
    "                                 fill_mode='nearest',\n",
    "                                 horizontal_flip=True,\n",
    "                                 vertical_flip=True)\n",
    "new_idg_val=ImageDataGenerator(rescale=1/255.0,\n",
    "                                 data_format='channels_last',\n",
    "                                 rotation_range=95,\n",
    "                                 #width_shift_range=0.2,\n",
    "                                 #height_shift_range=0.2,\n",
    "                                 #shear_range=0.2,\n",
    "                                 zoom_range=0.2,\n",
    "                                 fill_mode='nearest',\n",
    "                                 horizontal_flip=True,\n",
    "                                 vertical_flip=True)\n",
    "new_train_gen=new_idg_train.flow_from_dataframe(dataframe=train_df,\n",
    "                                        batch_size=32,\n",
    "                                        seed=10,\n",
    "                                        class_mode='categorical',\n",
    "                                        target_size=(28, 28),\n",
    "                                        x_col='Paths',\n",
    "                                        y_col='Shapes',\n",
    "                                        color_mode = 'grayscale')\n",
    "new_val_gen=new_idg_val.flow_from_dataframe(dataframe=val_df,\n",
    "                                       batch_size=32,\n",
    "                                       seed=10,\n",
    "                                       class_mode='categorical',\n",
    "                                       target_size=(28, 28),\n",
    "                                       x_col='Paths',\n",
    "                                       y_col='Shapes',\n",
    "                                       color_mode = 'grayscale'\n",
    "                                      )"
   ]
  },
  {
   "cell_type": "code",
   "execution_count": 38,
   "id": "fb5543f0",
   "metadata": {},
   "outputs": [
    {
     "name": "stdout",
     "output_type": "stream",
     "text": [
      "Epoch 1/100\n",
      "93/93 [==============================] - 2s 20ms/step - loss: 1.5820 - categorical_accuracy: 0.2822 - val_loss: 1.7968 - val_categorical_accuracy: 0.0932\n",
      "Epoch 2/100\n",
      "93/93 [==============================] - 2s 19ms/step - loss: 1.3977 - categorical_accuracy: 0.3102 - val_loss: 1.3781 - val_categorical_accuracy: 0.3716\n",
      "Epoch 3/100\n",
      "93/93 [==============================] - 2s 20ms/step - loss: 1.2708 - categorical_accuracy: 0.3616 - val_loss: 1.6141 - val_categorical_accuracy: 0.2054\n",
      "Epoch 4/100\n",
      "93/93 [==============================] - 2s 19ms/step - loss: 1.2509 - categorical_accuracy: 0.3680 - val_loss: 1.4513 - val_categorical_accuracy: 0.3014\n",
      "Epoch 5/100\n",
      "93/93 [==============================] - 2s 19ms/step - loss: 1.1883 - categorical_accuracy: 0.3934 - val_loss: 1.2828 - val_categorical_accuracy: 0.4324\n",
      "Epoch 6/100\n",
      "93/93 [==============================] - 2s 19ms/step - loss: 1.1600 - categorical_accuracy: 0.4228 - val_loss: 1.4814 - val_categorical_accuracy: 0.3095\n",
      "Epoch 7/100\n",
      "93/93 [==============================] - 2s 19ms/step - loss: 1.0912 - categorical_accuracy: 0.4032 - val_loss: 1.2190 - val_categorical_accuracy: 0.4311\n",
      "Epoch 8/100\n",
      "93/93 [==============================] - 2s 19ms/step - loss: 1.1055 - categorical_accuracy: 0.4387 - val_loss: 1.3437 - val_categorical_accuracy: 0.3378\n",
      "Epoch 9/100\n",
      "93/93 [==============================] - 2s 19ms/step - loss: 1.0468 - categorical_accuracy: 0.4535 - val_loss: 1.3057 - val_categorical_accuracy: 0.3730\n",
      "Epoch 10/100\n",
      "93/93 [==============================] - 2s 19ms/step - loss: 1.0656 - categorical_accuracy: 0.4616 - val_loss: 1.2890 - val_categorical_accuracy: 0.4108\n",
      "Epoch 11/100\n",
      "93/93 [==============================] - 2s 19ms/step - loss: 1.0128 - categorical_accuracy: 0.4667 - val_loss: 1.0737 - val_categorical_accuracy: 0.5203\n",
      "Epoch 12/100\n",
      "93/93 [==============================] - 2s 20ms/step - loss: 0.9741 - categorical_accuracy: 0.5052 - val_loss: 1.0859 - val_categorical_accuracy: 0.5324\n",
      "Epoch 13/100\n",
      "93/93 [==============================] - 2s 19ms/step - loss: 0.9712 - categorical_accuracy: 0.5005 - val_loss: 1.2327 - val_categorical_accuracy: 0.4541\n",
      "Epoch 14/100\n",
      "93/93 [==============================] - 2s 19ms/step - loss: 0.9911 - categorical_accuracy: 0.4890 - val_loss: 1.0599 - val_categorical_accuracy: 0.5459\n",
      "Epoch 15/100\n",
      "93/93 [==============================] - 2s 20ms/step - loss: 0.9388 - categorical_accuracy: 0.5090 - val_loss: 1.0924 - val_categorical_accuracy: 0.5135\n",
      "Epoch 16/100\n",
      "93/93 [==============================] - 2s 19ms/step - loss: 0.9424 - categorical_accuracy: 0.5079 - val_loss: 1.3117 - val_categorical_accuracy: 0.4014\n",
      "Epoch 17/100\n",
      "93/93 [==============================] - 2s 19ms/step - loss: 0.9787 - categorical_accuracy: 0.4981 - val_loss: 1.1643 - val_categorical_accuracy: 0.4784\n",
      "Epoch 18/100\n",
      "93/93 [==============================] - 2s 20ms/step - loss: 0.9413 - categorical_accuracy: 0.5309 - val_loss: 1.2259 - val_categorical_accuracy: 0.4486\n",
      "Epoch 19/100\n",
      "93/93 [==============================] - 2s 19ms/step - loss: 0.8765 - categorical_accuracy: 0.5350 - val_loss: 1.0600 - val_categorical_accuracy: 0.5230\n",
      "Epoch 20/100\n",
      "93/93 [==============================] - 2s 19ms/step - loss: 0.9068 - categorical_accuracy: 0.5455 - val_loss: 1.1971 - val_categorical_accuracy: 0.4676\n",
      "Epoch 21/100\n",
      "93/93 [==============================] - 2s 19ms/step - loss: 0.9247 - categorical_accuracy: 0.5292 - val_loss: 1.0150 - val_categorical_accuracy: 0.5527\n",
      "Epoch 22/100\n",
      "93/93 [==============================] - 2s 19ms/step - loss: 0.8382 - categorical_accuracy: 0.5667 - val_loss: 0.9967 - val_categorical_accuracy: 0.5500\n",
      "Epoch 23/100\n",
      "93/93 [==============================] - 2s 19ms/step - loss: 0.8420 - categorical_accuracy: 0.5664 - val_loss: 1.1777 - val_categorical_accuracy: 0.5000\n",
      "Epoch 24/100\n",
      "93/93 [==============================] - 2s 21ms/step - loss: 0.7951 - categorical_accuracy: 0.5732 - val_loss: 1.0345 - val_categorical_accuracy: 0.5473\n",
      "Epoch 25/100\n",
      "93/93 [==============================] - 2s 21ms/step - loss: 0.7981 - categorical_accuracy: 0.5762 - val_loss: 0.9218 - val_categorical_accuracy: 0.5919\n",
      "Epoch 26/100\n",
      "93/93 [==============================] - 2s 22ms/step - loss: 0.7561 - categorical_accuracy: 0.5921 - val_loss: 0.8481 - val_categorical_accuracy: 0.6338\n",
      "Epoch 27/100\n",
      "93/93 [==============================] - 2s 21ms/step - loss: 0.7404 - categorical_accuracy: 0.6134 - val_loss: 1.1724 - val_categorical_accuracy: 0.4824\n",
      "Epoch 28/100\n",
      "93/93 [==============================] - 2s 21ms/step - loss: 0.7306 - categorical_accuracy: 0.6120 - val_loss: 1.0479 - val_categorical_accuracy: 0.5595\n",
      "Epoch 29/100\n",
      "93/93 [==============================] - 2s 21ms/step - loss: 0.8539 - categorical_accuracy: 0.5728 - val_loss: 0.9329 - val_categorical_accuracy: 0.5703\n",
      "Epoch 30/100\n",
      "93/93 [==============================] - 2s 20ms/step - loss: 0.6991 - categorical_accuracy: 0.6357 - val_loss: 0.8187 - val_categorical_accuracy: 0.6486\n",
      "Epoch 31/100\n",
      "93/93 [==============================] - 2s 19ms/step - loss: 0.6652 - categorical_accuracy: 0.6374 - val_loss: 0.7962 - val_categorical_accuracy: 0.6811\n",
      "Epoch 32/100\n",
      "93/93 [==============================] - 2s 20ms/step - loss: 0.6582 - categorical_accuracy: 0.6468 - val_loss: 0.8617 - val_categorical_accuracy: 0.6108\n",
      "Epoch 33/100\n",
      "93/93 [==============================] - 2s 20ms/step - loss: 0.6167 - categorical_accuracy: 0.6620 - val_loss: 0.7493 - val_categorical_accuracy: 0.6743\n",
      "Epoch 34/100\n",
      "93/93 [==============================] - 2s 19ms/step - loss: 0.7056 - categorical_accuracy: 0.6465 - val_loss: 0.7744 - val_categorical_accuracy: 0.6905\n",
      "Epoch 35/100\n",
      "93/93 [==============================] - 2s 20ms/step - loss: 0.6677 - categorical_accuracy: 0.6472 - val_loss: 0.7840 - val_categorical_accuracy: 0.6595\n",
      "Epoch 36/100\n",
      "93/93 [==============================] - 2s 19ms/step - loss: 0.6386 - categorical_accuracy: 0.6752 - val_loss: 0.6789 - val_categorical_accuracy: 0.7176\n",
      "Epoch 37/100\n",
      "93/93 [==============================] - 2s 19ms/step - loss: 0.6035 - categorical_accuracy: 0.7060 - val_loss: 0.8408 - val_categorical_accuracy: 0.6338\n",
      "Epoch 38/100\n",
      "93/93 [==============================] - 2s 19ms/step - loss: 0.6004 - categorical_accuracy: 0.6793 - val_loss: 0.7060 - val_categorical_accuracy: 0.6973\n",
      "Epoch 39/100\n",
      "93/93 [==============================] - 2s 19ms/step - loss: 0.5859 - categorical_accuracy: 0.7002 - val_loss: 0.6195 - val_categorical_accuracy: 0.7554\n",
      "Epoch 40/100\n",
      "93/93 [==============================] - 2s 20ms/step - loss: 0.5865 - categorical_accuracy: 0.7131 - val_loss: 0.9108 - val_categorical_accuracy: 0.6473\n",
      "Epoch 41/100\n",
      "93/93 [==============================] - 2s 19ms/step - loss: 0.5894 - categorical_accuracy: 0.6975 - val_loss: 0.7020 - val_categorical_accuracy: 0.7000\n",
      "Epoch 42/100\n",
      "93/93 [==============================] - 2s 19ms/step - loss: 0.5614 - categorical_accuracy: 0.7100 - val_loss: 0.8761 - val_categorical_accuracy: 0.6338\n",
      "Epoch 43/100\n",
      "93/93 [==============================] - 2s 20ms/step - loss: 0.5411 - categorical_accuracy: 0.7269 - val_loss: 0.7176 - val_categorical_accuracy: 0.6973\n",
      "Epoch 44/100\n",
      "93/93 [==============================] - 2s 21ms/step - loss: 0.5380 - categorical_accuracy: 0.7124 - val_loss: 0.6950 - val_categorical_accuracy: 0.7054\n",
      "Epoch 45/100\n",
      "93/93 [==============================] - 2s 20ms/step - loss: 0.5605 - categorical_accuracy: 0.7175 - val_loss: 0.6779 - val_categorical_accuracy: 0.7149\n",
      "Epoch 46/100\n",
      "93/93 [==============================] - 2s 19ms/step - loss: 0.5494 - categorical_accuracy: 0.7225 - val_loss: 0.6135 - val_categorical_accuracy: 0.7419\n",
      "Epoch 47/100\n",
      "93/93 [==============================] - 2s 20ms/step - loss: 0.5371 - categorical_accuracy: 0.7236 - val_loss: 0.6703 - val_categorical_accuracy: 0.7149\n",
      "Epoch 48/100\n",
      "93/93 [==============================] - 2s 19ms/step - loss: 0.4993 - categorical_accuracy: 0.7445 - val_loss: 0.5637 - val_categorical_accuracy: 0.7743\n",
      "Epoch 49/100\n",
      "93/93 [==============================] - 2s 20ms/step - loss: 0.4852 - categorical_accuracy: 0.7557 - val_loss: 0.6707 - val_categorical_accuracy: 0.7270\n",
      "Epoch 50/100\n"
     ]
    },
    {
     "name": "stdout",
     "output_type": "stream",
     "text": [
      "93/93 [==============================] - 2s 20ms/step - loss: 0.5314 - categorical_accuracy: 0.7222 - val_loss: 0.7349 - val_categorical_accuracy: 0.6932\n",
      "Epoch 51/100\n",
      "93/93 [==============================] - 2s 22ms/step - loss: 0.5061 - categorical_accuracy: 0.7377 - val_loss: 0.8163 - val_categorical_accuracy: 0.6649\n",
      "Epoch 52/100\n",
      "93/93 [==============================] - 2s 23ms/step - loss: 0.5535 - categorical_accuracy: 0.7263 - val_loss: 0.7154 - val_categorical_accuracy: 0.7068\n",
      "Epoch 53/100\n",
      "93/93 [==============================] - 2s 19ms/step - loss: 0.5389 - categorical_accuracy: 0.7405 - val_loss: 0.6502 - val_categorical_accuracy: 0.7311\n",
      "Epoch 54/100\n",
      "93/93 [==============================] - 2s 21ms/step - loss: 0.4886 - categorical_accuracy: 0.7570 - val_loss: 0.6544 - val_categorical_accuracy: 0.7122\n",
      "Epoch 55/100\n",
      "93/93 [==============================] - 2s 24ms/step - loss: 0.5731 - categorical_accuracy: 0.7056 - val_loss: 0.7733 - val_categorical_accuracy: 0.6838\n",
      "Epoch 56/100\n",
      "93/93 [==============================] - 2s 22ms/step - loss: 0.4842 - categorical_accuracy: 0.7482 - val_loss: 0.5079 - val_categorical_accuracy: 0.8135\n",
      "Epoch 57/100\n",
      "93/93 [==============================] - 2s 22ms/step - loss: 0.4361 - categorical_accuracy: 0.7837 - val_loss: 0.6979 - val_categorical_accuracy: 0.7054\n",
      "Epoch 58/100\n",
      "93/93 [==============================] - 2s 20ms/step - loss: 0.4379 - categorical_accuracy: 0.7688 - val_loss: 0.5651 - val_categorical_accuracy: 0.7824\n",
      "Epoch 59/100\n",
      "93/93 [==============================] - 2s 23ms/step - loss: 0.4505 - categorical_accuracy: 0.7732 - val_loss: 0.6323 - val_categorical_accuracy: 0.7392\n",
      "Epoch 60/100\n",
      "93/93 [==============================] - 2s 25ms/step - loss: 0.4665 - categorical_accuracy: 0.7557 - val_loss: 0.6421 - val_categorical_accuracy: 0.7365\n",
      "Epoch 61/100\n",
      "93/93 [==============================] - 2s 21ms/step - loss: 0.4610 - categorical_accuracy: 0.7722 - val_loss: 0.5743 - val_categorical_accuracy: 0.7527\n",
      "Epoch 62/100\n",
      "93/93 [==============================] - 2s 24ms/step - loss: 0.4848 - categorical_accuracy: 0.7641 - val_loss: 0.5249 - val_categorical_accuracy: 0.7892\n",
      "Epoch 63/100\n",
      "93/93 [==============================] - 2s 20ms/step - loss: 0.5784 - categorical_accuracy: 0.7296 - val_loss: 0.8819 - val_categorical_accuracy: 0.6622\n",
      "Epoch 64/100\n",
      "93/93 [==============================] - 2s 20ms/step - loss: 0.5118 - categorical_accuracy: 0.7276 - val_loss: 0.5995 - val_categorical_accuracy: 0.7541\n",
      "Epoch 65/100\n",
      "93/93 [==============================] - 2s 20ms/step - loss: 0.4373 - categorical_accuracy: 0.7695 - val_loss: 0.5965 - val_categorical_accuracy: 0.7405\n",
      "Epoch 66/100\n",
      "93/93 [==============================] - 2s 24ms/step - loss: 0.4743 - categorical_accuracy: 0.7753 - val_loss: 0.8835 - val_categorical_accuracy: 0.6527\n",
      "Epoch 67/100\n",
      "93/93 [==============================] - 2s 21ms/step - loss: 0.4318 - categorical_accuracy: 0.7638 - val_loss: 0.5262 - val_categorical_accuracy: 0.7932\n",
      "Epoch 68/100\n",
      "93/93 [==============================] - 2s 20ms/step - loss: 0.4441 - categorical_accuracy: 0.7807 - val_loss: 0.4714 - val_categorical_accuracy: 0.8297\n",
      "Epoch 69/100\n",
      "93/93 [==============================] - 2s 21ms/step - loss: 0.4408 - categorical_accuracy: 0.7726 - val_loss: 0.6149 - val_categorical_accuracy: 0.7203\n",
      "Epoch 70/100\n",
      "93/93 [==============================] - 2s 21ms/step - loss: 0.4044 - categorical_accuracy: 0.7955 - val_loss: 0.5033 - val_categorical_accuracy: 0.8027\n",
      "Epoch 71/100\n",
      "93/93 [==============================] - 2s 20ms/step - loss: 0.3954 - categorical_accuracy: 0.7982 - val_loss: 0.4873 - val_categorical_accuracy: 0.8284\n",
      "Epoch 72/100\n",
      "93/93 [==============================] - 2s 21ms/step - loss: 0.4912 - categorical_accuracy: 0.7631 - val_loss: 0.5316 - val_categorical_accuracy: 0.7797\n",
      "Epoch 73/100\n",
      "93/93 [==============================] - 2s 22ms/step - loss: 0.4209 - categorical_accuracy: 0.7817 - val_loss: 0.5348 - val_categorical_accuracy: 0.7851\n",
      "Epoch 74/100\n",
      "93/93 [==============================] - 2s 22ms/step - loss: 0.4183 - categorical_accuracy: 0.7878 - val_loss: 0.8045 - val_categorical_accuracy: 0.6946\n",
      "Epoch 75/100\n",
      "93/93 [==============================] - 2s 21ms/step - loss: 0.4205 - categorical_accuracy: 0.7824 - val_loss: 0.5363 - val_categorical_accuracy: 0.7811\n",
      "Epoch 76/100\n",
      "93/93 [==============================] - 2s 20ms/step - loss: 0.3935 - categorical_accuracy: 0.7962 - val_loss: 0.6651 - val_categorical_accuracy: 0.7149\n",
      "Epoch 77/100\n",
      "93/93 [==============================] - 2s 21ms/step - loss: 0.4358 - categorical_accuracy: 0.7813 - val_loss: 0.5819 - val_categorical_accuracy: 0.7824\n",
      "Epoch 78/100\n",
      "93/93 [==============================] - 2s 20ms/step - loss: 0.4608 - categorical_accuracy: 0.7786 - val_loss: 0.5337 - val_categorical_accuracy: 0.7878\n",
      "Epoch 79/100\n",
      "93/93 [==============================] - 2s 22ms/step - loss: 0.4425 - categorical_accuracy: 0.7759 - val_loss: 0.5339 - val_categorical_accuracy: 0.7784\n",
      "Epoch 80/100\n",
      "93/93 [==============================] - 2s 25ms/step - loss: 0.4544 - categorical_accuracy: 0.7807 - val_loss: 0.5573 - val_categorical_accuracy: 0.7919\n",
      "Epoch 81/100\n",
      "93/93 [==============================] - 3s 29ms/step - loss: 0.4124 - categorical_accuracy: 0.7993 - val_loss: 0.4653 - val_categorical_accuracy: 0.8257\n",
      "Epoch 82/100\n",
      "93/93 [==============================] - 2s 22ms/step - loss: 0.4359 - categorical_accuracy: 0.7810 - val_loss: 0.6209 - val_categorical_accuracy: 0.7446\n",
      "Epoch 83/100\n",
      "93/93 [==============================] - 2s 22ms/step - loss: 0.4555 - categorical_accuracy: 0.7820 - val_loss: 0.5885 - val_categorical_accuracy: 0.7730\n",
      "Epoch 84/100\n",
      "93/93 [==============================] - 2s 20ms/step - loss: 0.3824 - categorical_accuracy: 0.7993 - val_loss: 0.5506 - val_categorical_accuracy: 0.7878\n",
      "Epoch 85/100\n",
      "93/93 [==============================] - 2s 19ms/step - loss: 0.4681 - categorical_accuracy: 0.7648 - val_loss: 0.5293 - val_categorical_accuracy: 0.7851\n",
      "Epoch 86/100\n",
      "93/93 [==============================] - 2s 19ms/step - loss: 0.4009 - categorical_accuracy: 0.7922 - val_loss: 0.5694 - val_categorical_accuracy: 0.7946\n",
      "Epoch 87/100\n",
      "93/93 [==============================] - 2s 22ms/step - loss: 0.3872 - categorical_accuracy: 0.8138 - val_loss: 0.5537 - val_categorical_accuracy: 0.7797\n",
      "Epoch 88/100\n",
      "93/93 [==============================] - 2s 21ms/step - loss: 0.4702 - categorical_accuracy: 0.7729 - val_loss: 0.5131 - val_categorical_accuracy: 0.8122\n",
      "Epoch 89/100\n",
      "93/93 [==============================] - 2s 19ms/step - loss: 0.3731 - categorical_accuracy: 0.8138 - val_loss: 0.5386 - val_categorical_accuracy: 0.7770\n",
      "Epoch 90/100\n",
      "93/93 [==============================] - 2s 19ms/step - loss: 0.4166 - categorical_accuracy: 0.8040 - val_loss: 0.5043 - val_categorical_accuracy: 0.7892\n",
      "Epoch 91/100\n",
      "93/93 [==============================] - 2s 19ms/step - loss: 0.3934 - categorical_accuracy: 0.7962 - val_loss: 0.4670 - val_categorical_accuracy: 0.8135\n",
      "Epoch 92/100\n",
      "93/93 [==============================] - 2s 20ms/step - loss: 0.3894 - categorical_accuracy: 0.8135 - val_loss: 0.4693 - val_categorical_accuracy: 0.8095\n",
      "Epoch 93/100\n",
      "93/93 [==============================] - 2s 19ms/step - loss: 0.4610 - categorical_accuracy: 0.7763 - val_loss: 0.6580 - val_categorical_accuracy: 0.7230\n",
      "Epoch 94/100\n",
      "93/93 [==============================] - 2s 19ms/step - loss: 0.5088 - categorical_accuracy: 0.7472 - val_loss: 0.4362 - val_categorical_accuracy: 0.8365\n",
      "Epoch 95/100\n",
      "93/93 [==============================] - 2s 22ms/step - loss: 0.3471 - categorical_accuracy: 0.8408 - val_loss: 0.5311 - val_categorical_accuracy: 0.7919\n",
      "Epoch 96/100\n",
      "93/93 [==============================] - 2s 21ms/step - loss: 0.3589 - categorical_accuracy: 0.8165 - val_loss: 0.5931 - val_categorical_accuracy: 0.7703\n",
      "Epoch 97/100\n",
      "93/93 [==============================] - 2s 19ms/step - loss: 0.3522 - categorical_accuracy: 0.8185 - val_loss: 0.5369 - val_categorical_accuracy: 0.7865\n",
      "Epoch 98/100\n",
      "93/93 [==============================] - 2s 21ms/step - loss: 0.3852 - categorical_accuracy: 0.8124 - val_loss: 0.6412 - val_categorical_accuracy: 0.7500\n",
      "Epoch 99/100\n"
     ]
    },
    {
     "name": "stdout",
     "output_type": "stream",
     "text": [
      "93/93 [==============================] - 2s 23ms/step - loss: 0.4037 - categorical_accuracy: 0.7898 - val_loss: 0.5741 - val_categorical_accuracy: 0.7635\n",
      "Epoch 100/100\n",
      "93/93 [==============================] - 2s 20ms/step - loss: 0.4540 - categorical_accuracy: 0.7631 - val_loss: 0.5687 - val_categorical_accuracy: 0.7703\n"
     ]
    }
   ],
   "source": [
    "baseline_model_weighted_2_hidden_aug = tf.keras.models.Sequential([\n",
    "    tf.keras.layers.Flatten(input_shape=(28,28,1)),\n",
    "    tf.keras.layers.Dense(128, activation='relu'),\n",
    "    tf.keras.layers.Dense(256, activation='relu'),\n",
    "    tf.keras.layers.Dense(5,activation='softmax')\n",
    "])\n",
    "baseline_model_weighted_2_hidden_aug.compile(optimizer='adam',loss='categorical_crossentropy',\n",
    "              metrics=['categorical_accuracy'])\n",
    "fitted_baseline_model_weighted_2_hidden_aug=baseline_model_weighted_2_hidden_aug.fit(\n",
    "    new_train_gen,validation_data=new_val_gen,batch_size=32,epochs=100,class_weight=weights_dict,shuffle=False)"
   ]
  },
  {
   "cell_type": "code",
   "execution_count": 39,
   "id": "d1e8980e",
   "metadata": {},
   "outputs": [
    {
     "data": {
      "text/plain": [
       "<matplotlib.legend.Legend at 0x1c49432ec10>"
      ]
     },
     "execution_count": 39,
     "metadata": {},
     "output_type": "execute_result"
    },
    {
     "data": {
      "image/png": "[encoded data removed]",
      "text/plain": [
       "<Figure size 432x288 with 1 Axes>"
      ]
     },
     "metadata": {
      "needs_background": "light"
     },
     "output_type": "display_data"
    }
   ],
   "source": [
    "plt.plot(fitted_baseline_model_weighted_2_hidden_aug.history['categorical_accuracy'],label='tr_acc')\n",
    "plt.plot(fitted_baseline_model_weighted_2_hidden_aug.history['val_categorical_accuracy'],label='val_acc')\n",
    "plt.legend(loc='best')"
   ]
  },
  {
   "cell_type": "code",
   "execution_count": 40,
   "id": "6b1831b0",
   "metadata": {},
   "outputs": [],
   "source": [
    "#adding pooling and conv2dlayers"
   ]
  },
  {
   "cell_type": "code",
   "execution_count": 41,
   "id": "28782a68",
   "metadata": {},
   "outputs": [],
   "source": [
    "# max_conv_model= tf.keras.models.Sequential([\n",
    "#     tf.keras.layers.Conv2D(5,(3,3),activation='relu',input_shape=(28,28,1)),\n",
    "#     tf.keras.layers.MaxPooling2D(2,2),\n",
    "#     tf.keras.layers.Flatten(input_shape=(28,28,1)),\n",
    "#     tf.keras.layers.Dense(32, activation='relu'),\n",
    "#     tf.keras.layers.Dense(5,activation='softmax')\n",
    "# ])\n",
    "# max_conv_model.compile(optimizer='adam',loss='categorical_crossentropy',\n",
    "#               metrics=['categorical_accuracy'])\n",
    "# fitted_max_conv_model=max_conv_model.fit(new_train_gen,validation_data=new_val_gen,batch_size=32,\n",
    "#                                          epochs=100,class_weight=weights_dict,shuffle=False)"
   ]
  },
  {
   "cell_type": "code",
   "execution_count": 42,
   "id": "70d038fa",
   "metadata": {},
   "outputs": [
    {
     "name": "stdout",
     "output_type": "stream",
     "text": [
      "Epoch 1/100\n",
      "93/93 [==============================] - 4s 37ms/step - loss: 1.6099 - categorical_accuracy: 0.1328 - val_loss: 1.6071 - val_categorical_accuracy: 0.0122\n",
      "Epoch 2/100\n",
      "93/93 [==============================] - 3s 32ms/step - loss: 1.6073 - categorical_accuracy: 0.1399 - val_loss: 1.6059 - val_categorical_accuracy: 0.0851\n",
      "Epoch 3/100\n",
      "93/93 [==============================] - 3s 31ms/step - loss: 1.6047 - categorical_accuracy: 0.1294 - val_loss: 1.6034 - val_categorical_accuracy: 0.3230\n",
      "Epoch 4/100\n",
      "93/93 [==============================] - 3s 31ms/step - loss: 1.6017 - categorical_accuracy: 0.1778 - val_loss: 1.6036 - val_categorical_accuracy: 0.2419\n",
      "Epoch 5/100\n",
      "93/93 [==============================] - 3s 32ms/step - loss: 1.5960 - categorical_accuracy: 0.2697 - val_loss: 1.6088 - val_categorical_accuracy: 0.0176\n",
      "Epoch 6/100\n",
      "93/93 [==============================] - 3s 30ms/step - loss: 1.5879 - categorical_accuracy: 0.1027 - val_loss: 1.5833 - val_categorical_accuracy: 0.3446\n",
      "Epoch 7/100\n",
      "93/93 [==============================] - 3s 31ms/step - loss: 1.5729 - categorical_accuracy: 0.2889 - val_loss: 1.5763 - val_categorical_accuracy: 0.2203\n",
      "Epoch 8/100\n",
      "93/93 [==============================] - 3s 32ms/step - loss: 1.5445 - categorical_accuracy: 0.2308 - val_loss: 1.4855 - val_categorical_accuracy: 0.3892\n",
      "Epoch 9/100\n",
      "93/93 [==============================] - 3s 36ms/step - loss: 1.4720 - categorical_accuracy: 0.3035 - val_loss: 1.4469 - val_categorical_accuracy: 0.3014\n",
      "Epoch 10/100\n",
      "93/93 [==============================] - 3s 37ms/step - loss: 1.3452 - categorical_accuracy: 0.3167 - val_loss: 1.3293 - val_categorical_accuracy: 0.3905\n",
      "Epoch 11/100\n",
      "93/93 [==============================] - 4s 38ms/step - loss: 1.2930 - categorical_accuracy: 0.3403 - val_loss: 1.3291 - val_categorical_accuracy: 0.3527\n",
      "Epoch 12/100\n",
      "93/93 [==============================] - 3s 35ms/step - loss: 1.2073 - categorical_accuracy: 0.3741 - val_loss: 1.4764 - val_categorical_accuracy: 0.2743\n",
      "Epoch 13/100\n",
      "93/93 [==============================] - 3s 35ms/step - loss: 1.1820 - categorical_accuracy: 0.3974 - val_loss: 1.1834 - val_categorical_accuracy: 0.4851\n",
      "Epoch 14/100\n",
      "93/93 [==============================] - 3s 36ms/step - loss: 1.1420 - categorical_accuracy: 0.4157 - val_loss: 1.1232 - val_categorical_accuracy: 0.4986\n",
      "Epoch 15/100\n",
      "93/93 [==============================] - 3s 35ms/step - loss: 1.1259 - categorical_accuracy: 0.4302 - val_loss: 1.2087 - val_categorical_accuracy: 0.4689\n",
      "Epoch 16/100\n",
      "93/93 [==============================] - 3s 37ms/step - loss: 1.0268 - categorical_accuracy: 0.4867 - val_loss: 1.1080 - val_categorical_accuracy: 0.5203\n",
      "Epoch 17/100\n",
      "93/93 [==============================] - 3s 35ms/step - loss: 1.0115 - categorical_accuracy: 0.4921 - val_loss: 1.1846 - val_categorical_accuracy: 0.4514\n",
      "Epoch 18/100\n",
      "93/93 [==============================] - 3s 34ms/step - loss: 0.9289 - categorical_accuracy: 0.5174 - val_loss: 1.2405 - val_categorical_accuracy: 0.4324\n",
      "Epoch 19/100\n",
      "93/93 [==============================] - 3s 37ms/step - loss: 0.8951 - categorical_accuracy: 0.5509 - val_loss: 1.0249 - val_categorical_accuracy: 0.5311\n",
      "Epoch 20/100\n",
      "93/93 [==============================] - 4s 45ms/step - loss: 0.8551 - categorical_accuracy: 0.5691 - val_loss: 1.0107 - val_categorical_accuracy: 0.5459\n",
      "Epoch 21/100\n",
      "93/93 [==============================] - 4s 46ms/step - loss: 0.7770 - categorical_accuracy: 0.5816 - val_loss: 0.8254 - val_categorical_accuracy: 0.6689\n",
      "Epoch 22/100\n",
      "93/93 [==============================] - 4s 38ms/step - loss: 0.6955 - categorical_accuracy: 0.6171 - val_loss: 0.7746 - val_categorical_accuracy: 0.7041\n",
      "Epoch 23/100\n",
      "93/93 [==============================] - 4s 47ms/step - loss: 0.6722 - categorical_accuracy: 0.6289 - val_loss: 0.6802 - val_categorical_accuracy: 0.7554\n",
      "Epoch 24/100\n",
      "93/93 [==============================] - 3s 37ms/step - loss: 0.6897 - categorical_accuracy: 0.6157 - val_loss: 0.9690 - val_categorical_accuracy: 0.5770\n",
      "Epoch 25/100\n",
      "93/93 [==============================] - 3s 37ms/step - loss: 0.6078 - categorical_accuracy: 0.6658 - val_loss: 1.1223 - val_categorical_accuracy: 0.5527\n",
      "Epoch 26/100\n",
      "93/93 [==============================] - 4s 39ms/step - loss: 0.6050 - categorical_accuracy: 0.6668 - val_loss: 0.8848 - val_categorical_accuracy: 0.5919\n",
      "Epoch 27/100\n",
      "93/93 [==============================] - 4s 38ms/step - loss: 0.5532 - categorical_accuracy: 0.7009 - val_loss: 0.7886 - val_categorical_accuracy: 0.6635\n",
      "Epoch 28/100\n",
      "93/93 [==============================] - 4s 41ms/step - loss: 0.5587 - categorical_accuracy: 0.7060 - val_loss: 0.6639 - val_categorical_accuracy: 0.6946\n",
      "Epoch 29/100\n",
      "93/93 [==============================] - 3s 37ms/step - loss: 0.5048 - categorical_accuracy: 0.7300 - val_loss: 0.5388 - val_categorical_accuracy: 0.7608\n",
      "Epoch 30/100\n",
      "93/93 [==============================] - 3s 37ms/step - loss: 0.4825 - categorical_accuracy: 0.7435 - val_loss: 0.4784 - val_categorical_accuracy: 0.8162\n",
      "Epoch 31/100\n",
      "93/93 [==============================] - 4s 40ms/step - loss: 0.5136 - categorical_accuracy: 0.7286 - val_loss: 0.5917 - val_categorical_accuracy: 0.7405\n",
      "Epoch 32/100\n",
      "93/93 [==============================] - 4s 39ms/step - loss: 0.4648 - categorical_accuracy: 0.7445 - val_loss: 0.5200 - val_categorical_accuracy: 0.7743\n",
      "Epoch 33/100\n",
      "93/93 [==============================] - 4s 43ms/step - loss: 0.4558 - categorical_accuracy: 0.7780 - val_loss: 0.6868 - val_categorical_accuracy: 0.7095\n",
      "Epoch 34/100\n",
      "93/93 [==============================] - 4s 43ms/step - loss: 0.4574 - categorical_accuracy: 0.7584 - val_loss: 0.5702 - val_categorical_accuracy: 0.7608\n",
      "Epoch 35/100\n",
      "93/93 [==============================] - 4s 46ms/step - loss: 0.3926 - categorical_accuracy: 0.8047 - val_loss: 0.9750 - val_categorical_accuracy: 0.6108\n",
      "Epoch 36/100\n",
      "93/93 [==============================] - 5s 50ms/step - loss: 0.3727 - categorical_accuracy: 0.8064 - val_loss: 0.5029 - val_categorical_accuracy: 0.7932\n",
      "Epoch 37/100\n",
      "93/93 [==============================] - 5s 51ms/step - loss: 0.3906 - categorical_accuracy: 0.8135 - val_loss: 0.3925 - val_categorical_accuracy: 0.8608\n",
      "Epoch 38/100\n",
      "93/93 [==============================] - 4s 39ms/step - loss: 0.3731 - categorical_accuracy: 0.8212 - val_loss: 0.5050 - val_categorical_accuracy: 0.7959\n",
      "Epoch 39/100\n",
      "93/93 [==============================] - 3s 37ms/step - loss: 0.3191 - categorical_accuracy: 0.8307 - val_loss: 0.3680 - val_categorical_accuracy: 0.8595\n",
      "Epoch 40/100\n",
      "93/93 [==============================] - 3s 35ms/step - loss: 0.3697 - categorical_accuracy: 0.8202 - val_loss: 0.4270 - val_categorical_accuracy: 0.8284\n",
      "Epoch 41/100\n",
      "93/93 [==============================] - 3s 37ms/step - loss: 0.3854 - categorical_accuracy: 0.8222 - val_loss: 0.4110 - val_categorical_accuracy: 0.8514\n",
      "Epoch 42/100\n",
      "93/93 [==============================] - 3s 36ms/step - loss: 0.3226 - categorical_accuracy: 0.8354 - val_loss: 0.3585 - val_categorical_accuracy: 0.8662\n",
      "Epoch 43/100\n",
      "93/93 [==============================] - 3s 36ms/step - loss: 0.3330 - categorical_accuracy: 0.8378 - val_loss: 1.6898 - val_categorical_accuracy: 0.5770\n",
      "Epoch 44/100\n",
      "93/93 [==============================] - 3s 36ms/step - loss: 0.2852 - categorical_accuracy: 0.8486 - val_loss: 0.3666 - val_categorical_accuracy: 0.8662\n",
      "Epoch 45/100\n",
      "93/93 [==============================] - 3s 36ms/step - loss: 0.3323 - categorical_accuracy: 0.8462 - val_loss: 0.3118 - val_categorical_accuracy: 0.8851\n",
      "Epoch 46/100\n",
      "93/93 [==============================] - 4s 42ms/step - loss: 0.3212 - categorical_accuracy: 0.8564 - val_loss: 0.3365 - val_categorical_accuracy: 0.8865\n",
      "Epoch 47/100\n",
      "93/93 [==============================] - 4s 43ms/step - loss: 0.3356 - categorical_accuracy: 0.8331 - val_loss: 0.4655 - val_categorical_accuracy: 0.8216\n",
      "Epoch 48/100\n",
      "93/93 [==============================] - 4s 40ms/step - loss: 0.3027 - categorical_accuracy: 0.8611 - val_loss: 0.4376 - val_categorical_accuracy: 0.8149\n",
      "Epoch 49/100\n",
      "93/93 [==============================] - 4s 44ms/step - loss: 0.2582 - categorical_accuracy: 0.8753 - val_loss: 0.2950 - val_categorical_accuracy: 0.8838\n",
      "Epoch 50/100\n"
     ]
    },
    {
     "name": "stdout",
     "output_type": "stream",
     "text": [
      "93/93 [==============================] - 4s 43ms/step - loss: 0.3223 - categorical_accuracy: 0.8604 - val_loss: 0.3093 - val_categorical_accuracy: 0.8865\n",
      "Epoch 51/100\n",
      "93/93 [==============================] - 3s 37ms/step - loss: 0.2520 - categorical_accuracy: 0.8861 - val_loss: 0.3164 - val_categorical_accuracy: 0.8784\n",
      "Epoch 52/100\n",
      "93/93 [==============================] - 4s 44ms/step - loss: 0.2306 - categorical_accuracy: 0.8986 - val_loss: 0.2864 - val_categorical_accuracy: 0.8865\n",
      "Epoch 53/100\n",
      "93/93 [==============================] - 4s 46ms/step - loss: 0.2486 - categorical_accuracy: 0.8861 - val_loss: 0.2129 - val_categorical_accuracy: 0.9365\n",
      "Epoch 54/100\n",
      "93/93 [==============================] - 4s 38ms/step - loss: 0.2522 - categorical_accuracy: 0.8898 - val_loss: 0.3007 - val_categorical_accuracy: 0.8838\n",
      "Epoch 55/100\n",
      "93/93 [==============================] - 4s 46ms/step - loss: 0.2341 - categorical_accuracy: 0.8895 - val_loss: 0.2565 - val_categorical_accuracy: 0.9041\n",
      "Epoch 56/100\n",
      "93/93 [==============================] - 3s 36ms/step - loss: 0.2427 - categorical_accuracy: 0.8962 - val_loss: 0.2220 - val_categorical_accuracy: 0.9270\n",
      "Epoch 57/100\n",
      "93/93 [==============================] - 4s 41ms/step - loss: 0.2334 - categorical_accuracy: 0.9040 - val_loss: 0.3585 - val_categorical_accuracy: 0.8716\n",
      "Epoch 58/100\n",
      "93/93 [==============================] - 3s 37ms/step - loss: 0.2019 - categorical_accuracy: 0.9081 - val_loss: 0.2207 - val_categorical_accuracy: 0.9243\n",
      "Epoch 59/100\n",
      "93/93 [==============================] - 3s 34ms/step - loss: 0.2666 - categorical_accuracy: 0.8898 - val_loss: 0.2281 - val_categorical_accuracy: 0.9270\n",
      "Epoch 60/100\n",
      "93/93 [==============================] - 4s 39ms/step - loss: 0.2342 - categorical_accuracy: 0.8898 - val_loss: 0.5385 - val_categorical_accuracy: 0.8014\n",
      "Epoch 61/100\n",
      "93/93 [==============================] - 4s 40ms/step - loss: 0.1954 - categorical_accuracy: 0.9071 - val_loss: 0.2030 - val_categorical_accuracy: 0.9311\n",
      "Epoch 62/100\n",
      "93/93 [==============================] - 4s 40ms/step - loss: 0.2187 - categorical_accuracy: 0.9044 - val_loss: 0.2502 - val_categorical_accuracy: 0.9014\n",
      "Epoch 63/100\n",
      "93/93 [==============================] - 4s 42ms/step - loss: 0.1873 - categorical_accuracy: 0.9189 - val_loss: 0.2469 - val_categorical_accuracy: 0.9189\n",
      "Epoch 64/100\n",
      "93/93 [==============================] - 4s 38ms/step - loss: 0.1998 - categorical_accuracy: 0.9165 - val_loss: 0.2236 - val_categorical_accuracy: 0.9149\n",
      "Epoch 65/100\n",
      "93/93 [==============================] - 3s 35ms/step - loss: 0.2339 - categorical_accuracy: 0.8895 - val_loss: 0.1827 - val_categorical_accuracy: 0.9351\n",
      "Epoch 66/100\n",
      "93/93 [==============================] - 3s 36ms/step - loss: 0.1674 - categorical_accuracy: 0.9253 - val_loss: 0.2586 - val_categorical_accuracy: 0.9054\n",
      "Epoch 67/100\n",
      "93/93 [==============================] - 3s 35ms/step - loss: 0.2180 - categorical_accuracy: 0.9017 - val_loss: 0.1845 - val_categorical_accuracy: 0.9365\n",
      "Epoch 68/100\n",
      "93/93 [==============================] - 3s 36ms/step - loss: 0.2221 - categorical_accuracy: 0.9064 - val_loss: 0.3018 - val_categorical_accuracy: 0.8757\n",
      "Epoch 69/100\n",
      "93/93 [==============================] - 3s 36ms/step - loss: 0.1596 - categorical_accuracy: 0.9287 - val_loss: 0.5834 - val_categorical_accuracy: 0.8041\n",
      "Epoch 70/100\n",
      "93/93 [==============================] - 4s 48ms/step - loss: 0.1494 - categorical_accuracy: 0.9324 - val_loss: 0.2971 - val_categorical_accuracy: 0.8865\n",
      "Epoch 71/100\n",
      "93/93 [==============================] - 4s 46ms/step - loss: 0.1362 - categorical_accuracy: 0.9412 - val_loss: 0.1632 - val_categorical_accuracy: 0.9378\n",
      "Epoch 72/100\n",
      "93/93 [==============================] - 4s 48ms/step - loss: 0.1666 - categorical_accuracy: 0.9334 - val_loss: 0.2381 - val_categorical_accuracy: 0.9122\n",
      "Epoch 73/100\n",
      "93/93 [==============================] - 5s 54ms/step - loss: 0.1733 - categorical_accuracy: 0.9270 - val_loss: 0.2061 - val_categorical_accuracy: 0.9216\n",
      "Epoch 74/100\n",
      "93/93 [==============================] - 3s 37ms/step - loss: 0.1324 - categorical_accuracy: 0.9415 - val_loss: 0.1840 - val_categorical_accuracy: 0.9297\n",
      "Epoch 75/100\n",
      "93/93 [==============================] - 4s 39ms/step - loss: 0.1551 - categorical_accuracy: 0.9280 - val_loss: 0.2170 - val_categorical_accuracy: 0.9284\n",
      "Epoch 76/100\n",
      "93/93 [==============================] - 4s 43ms/step - loss: 0.1506 - categorical_accuracy: 0.9324 - val_loss: 0.1791 - val_categorical_accuracy: 0.9419\n",
      "Epoch 77/100\n",
      "93/93 [==============================] - 4s 38ms/step - loss: 0.1302 - categorical_accuracy: 0.9371 - val_loss: 0.1659 - val_categorical_accuracy: 0.9392\n",
      "Epoch 78/100\n",
      "93/93 [==============================] - 4s 39ms/step - loss: 0.1622 - categorical_accuracy: 0.9300 - val_loss: 0.2213 - val_categorical_accuracy: 0.9122\n",
      "Epoch 79/100\n",
      "93/93 [==============================] - 3s 35ms/step - loss: 0.1817 - categorical_accuracy: 0.9209 - val_loss: 0.1496 - val_categorical_accuracy: 0.9568\n",
      "Epoch 80/100\n",
      "93/93 [==============================] - 3s 36ms/step - loss: 0.1942 - categorical_accuracy: 0.9138 - val_loss: 0.2184 - val_categorical_accuracy: 0.9284\n",
      "Epoch 81/100\n",
      "93/93 [==============================] - 3s 35ms/step - loss: 0.1272 - categorical_accuracy: 0.9459 - val_loss: 0.1442 - val_categorical_accuracy: 0.9419\n",
      "Epoch 82/100\n",
      "93/93 [==============================] - 3s 37ms/step - loss: 0.1440 - categorical_accuracy: 0.9388 - val_loss: 0.1795 - val_categorical_accuracy: 0.9392\n",
      "Epoch 83/100\n",
      "93/93 [==============================] - 3s 34ms/step - loss: 0.1329 - categorical_accuracy: 0.9449 - val_loss: 0.4210 - val_categorical_accuracy: 0.8527\n",
      "Epoch 84/100\n",
      "93/93 [==============================] - 3s 34ms/step - loss: 0.1175 - categorical_accuracy: 0.9510 - val_loss: 0.2001 - val_categorical_accuracy: 0.9216\n",
      "Epoch 85/100\n",
      "93/93 [==============================] - 3s 33ms/step - loss: 0.1137 - categorical_accuracy: 0.9493 - val_loss: 0.1748 - val_categorical_accuracy: 0.9365\n",
      "Epoch 86/100\n",
      "93/93 [==============================] - 3s 34ms/step - loss: 0.1962 - categorical_accuracy: 0.9142 - val_loss: 0.1947 - val_categorical_accuracy: 0.9419\n",
      "Epoch 87/100\n",
      "93/93 [==============================] - 3s 35ms/step - loss: 0.1881 - categorical_accuracy: 0.9138 - val_loss: 0.3468 - val_categorical_accuracy: 0.8541\n",
      "Epoch 88/100\n",
      "93/93 [==============================] - 3s 34ms/step - loss: 0.1288 - categorical_accuracy: 0.9422 - val_loss: 0.1540 - val_categorical_accuracy: 0.9473\n",
      "Epoch 89/100\n",
      "93/93 [==============================] - 4s 39ms/step - loss: 0.1195 - categorical_accuracy: 0.9469 - val_loss: 0.1428 - val_categorical_accuracy: 0.9527\n",
      "Epoch 90/100\n",
      "93/93 [==============================] - 4s 38ms/step - loss: 0.1217 - categorical_accuracy: 0.9493 - val_loss: 0.9169 - val_categorical_accuracy: 0.7554\n",
      "Epoch 91/100\n",
      "93/93 [==============================] - 4s 43ms/step - loss: 0.1735 - categorical_accuracy: 0.9331 - val_loss: 0.1432 - val_categorical_accuracy: 0.9514\n",
      "Epoch 92/100\n",
      "93/93 [==============================] - 4s 42ms/step - loss: 0.1113 - categorical_accuracy: 0.9520 - val_loss: 0.1331 - val_categorical_accuracy: 0.9486\n",
      "Epoch 93/100\n",
      "93/93 [==============================] - 3s 33ms/step - loss: 0.1012 - categorical_accuracy: 0.9554 - val_loss: 0.2016 - val_categorical_accuracy: 0.9284\n",
      "Epoch 94/100\n",
      "93/93 [==============================] - 3s 33ms/step - loss: 0.1086 - categorical_accuracy: 0.9513 - val_loss: 0.1778 - val_categorical_accuracy: 0.9324\n",
      "Epoch 95/100\n",
      "93/93 [==============================] - 3s 33ms/step - loss: 0.1068 - categorical_accuracy: 0.9523 - val_loss: 0.1351 - val_categorical_accuracy: 0.9500\n",
      "Epoch 96/100\n",
      "93/93 [==============================] - 3s 33ms/step - loss: 0.0949 - categorical_accuracy: 0.9557 - val_loss: 0.1367 - val_categorical_accuracy: 0.9500\n",
      "Epoch 97/100\n",
      "93/93 [==============================] - 3s 31ms/step - loss: 0.1047 - categorical_accuracy: 0.9496 - val_loss: 0.1448 - val_categorical_accuracy: 0.9486\n",
      "Epoch 98/100\n",
      "93/93 [==============================] - 3s 35ms/step - loss: 0.1114 - categorical_accuracy: 0.9513 - val_loss: 0.1367 - val_categorical_accuracy: 0.9541\n",
      "Epoch 99/100\n"
     ]
    },
    {
     "name": "stdout",
     "output_type": "stream",
     "text": [
      "93/93 [==============================] - 3s 36ms/step - loss: 0.1540 - categorical_accuracy: 0.9385 - val_loss: 0.1813 - val_categorical_accuracy: 0.9405\n",
      "Epoch 100/100\n",
      "93/93 [==============================] - 3s 36ms/step - loss: 0.1376 - categorical_accuracy: 0.9459 - val_loss: 0.1499 - val_categorical_accuracy: 0.9405\n"
     ]
    }
   ],
   "source": [
    "max_conv_model=tf.keras.models.Sequential([\n",
    "                                  tf.keras.layers.Conv2D(5,(3,3),activation='relu',input_shape=(28,28,1)),\n",
    "                                  tf.keras.layers.MaxPooling2D(2,2),\n",
    "    \n",
    "    \n",
    "    \n",
    "        tf.keras.layers.Conv2D(64, (3, 3), activation='relu', padding='same'),\n",
    "    tf.keras.layers.Conv2D(64, (3, 3), activation='relu', padding='same'),\n",
    "    tf.keras.layers.MaxPooling2D((2, 2)),\n",
    "    \n",
    "    \n",
    "                                  tf.keras.layers.Flatten(),\n",
    "                                  tf.keras.layers.Dense(128,activation='relu'),\n",
    "                                  tf.keras.layers.Dense(256,activation='relu'),\n",
    "                                  tf.keras.layers.Dense(5,activation='softmax')\n",
    "])\n",
    "max_conv_model.compile(optimizer='sgd',loss='categorical_crossentropy',\n",
    "              metrics=['categorical_accuracy'])\n",
    "fitted_max_conv_model=max_conv_model.fit(new_train_gen,validation_data=new_val_gen,batch_size=32,epochs=100,class_weight=weights_dict,shuffle=False)"
   ]
  },
  {
   "cell_type": "code",
   "execution_count": 43,
   "id": "dcb8c0b9",
   "metadata": {},
   "outputs": [
    {
     "name": "stdout",
     "output_type": "stream",
     "text": [
      "Model: \"sequential_4\"\n",
      "_________________________________________________________________\n",
      " Layer (type)                Output Shape              Param #   \n",
      "=================================================================\n",
      " conv2d (Conv2D)             (None, 26, 26, 5)         50        \n",
      "                                                                 \n",
      " max_pooling2d (MaxPooling2D  (None, 13, 13, 5)        0         \n",
      " )                                                               \n",
      "                                                                 \n",
      " conv2d_1 (Conv2D)           (None, 13, 13, 64)        2944      \n",
      "                                                                 \n",
      " conv2d_2 (Conv2D)           (None, 13, 13, 64)        36928     \n",
      "                                                                 \n",
      " max_pooling2d_1 (MaxPooling  (None, 6, 6, 64)         0         \n",
      " 2D)                                                             \n",
      "                                                                 \n",
      " flatten_4 (Flatten)         (None, 2304)              0         \n",
      "                                                                 \n",
      " dense_10 (Dense)            (None, 128)               295040    \n",
      "                                                                 \n",
      " dense_11 (Dense)            (None, 256)               33024     \n",
      "                                                                 \n",
      " dense_12 (Dense)            (None, 5)                 1285      \n",
      "                                                                 \n",
      "=================================================================\n",
      "Total params: 369,271\n",
      "Trainable params: 369,271\n",
      "Non-trainable params: 0\n",
      "_________________________________________________________________\n"
     ]
    }
   ],
   "source": [
    "max_conv_model.summary()"
   ]
  },
  {
   "cell_type": "code",
   "execution_count": 44,
   "id": "1a34880b",
   "metadata": {},
   "outputs": [
    {
     "data": {
      "text/plain": [
       "<matplotlib.legend.Legend at 0x1c494552fa0>"
      ]
     },
     "execution_count": 44,
     "metadata": {},
     "output_type": "execute_result"
    },
    {
     "data": {
      "image/png": "[encoded data removed]",
      "text/plain": [
       "<Figure size 432x288 with 1 Axes>"
      ]
     },
     "metadata": {
      "needs_background": "light"
     },
     "output_type": "display_data"
    }
   ],
   "source": [
    "plt.plot(fitted_max_conv_model.history['categorical_accuracy'],label='tr_acc')\n",
    "plt.plot(fitted_max_conv_model.history['val_categorical_accuracy'],label='val_acc')\n",
    "plt.legend(loc='best')"
   ]
  },
  {
   "cell_type": "code",
   "execution_count": null,
   "id": "1bb9f271",
   "metadata": {},
   "outputs": [],
   "source": []
  },
  {
   "cell_type": "code",
   "execution_count": null,
   "id": "5ecfd6ab",
   "metadata": {},
   "outputs": [],
   "source": []
  }
 ],
 "metadata": {
  "kernelspec": {
   "display_name": "Python 3 (ipykernel)",
   "language": "python",
   "name": "python3"
  },
  "language_info": {
   "codemirror_mode": {
    "name": "ipython",
    "version": 3
   },
   "file_extension": ".py",
   "mimetype": "text/x-python",
   "name": "python",
   "nbconvert_exporter": "python",
   "pygments_lexer": "ipython3",
   "version": "3.9.7"
  }
 },
 "nbformat": 4,
 "nbformat_minor": 5
}
