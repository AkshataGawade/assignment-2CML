{
 "cells": [
  {
   "cell_type": "code",
   "execution_count": 2,
   "id": "17daba8b",
   "metadata": {},
   "outputs": [],
   "source": [
    "import numpy as np\n",
    "import os\n",
    "import PIL\n",
    "import PIL.Image\n",
    "import tensorflow as tf\n",
    "from sklearn.impute import SimpleImputer\n",
    "import pandas as pd\n",
    "from sklearn.model_selection import train_test_split\n",
    "import matplotlib.image as mpimg\n",
    "from keras.preprocessing import image\n",
    "from keras.preprocessing.image import ImageDataGenerator\n",
    "from keras.utils.vis_utils import plot_model\n",
    "from tensorflow.keras.optimizers import RMSprop"
   ]
  },
  {
   "cell_type": "code",
   "execution_count": 3,
   "id": "6f5850bc",
   "metadata": {},
   "outputs": [],
   "source": [
    "path =\"./trafficsigns_dataset/\"\n",
    "lst = []\n",
    "for root, dirs, files in os.walk(path):\n",
    "    for file in files:\n",
    "        if(file.endswith(\".png\")):\n",
    "#             print(root)\n",
    "            root1=root.split(\"/\")[-1].split(\"\\\\\")\n",
    "            filepath=path+root1[0]+'/'+root1[1]+'/'+file\n",
    "            lst.append([root1[0], root1[1], file, filepath])\n",
    "dfdata = pd.DataFrame(lst, columns=['shape', 'sign', 'imageName','filePath'])"
   ]
  },
  {
   "cell_type": "code",
   "execution_count": 34,
   "id": "b40c086d",
   "metadata": {},
   "outputs": [
    {
     "data": {
      "image/png": "[encoded data removed]",
      "text/plain": [
       "<Figure size 432x288 with 1 Axes>"
      ]
     },
     "metadata": {
      "needs_background": "light"
     },
     "output_type": "display_data"
    }
   ],
   "source": [
    "img = mpimg.imread(filepath)\n",
    "imgplot = plt.imshow(img)\n",
    "plt.show()"
   ]
  },
  {
   "cell_type": "code",
   "execution_count": 55,
   "id": "05ac9ddc",
   "metadata": {},
   "outputs": [
    {
     "data": {
      "text/plain": [
       "array([ 45, 177, 254, 246, 255, 228,  62,  42, 166, 114,  29,  37, 243,\n",
       "        61, 183, 253, 255, 255, 254, 255, 255, 254, 250,  39, 201, 245,\n",
       "       243, 242,  39, 210, 254, 241, 253, 254, 250, 179,  99, 104, 118,\n",
       "       198, 240,  63, 223, 254, 255, 254, 254, 255, 255, 255, 252,  53,\n",
       "       223, 234, 236, 231,  46, 209, 240, 217, 239, 240, 242, 238, 246,\n",
       "       250, 106, 231, 226,  88, 250, 106, 176, 253, 255, 255, 255, 254,\n",
       "       203,  57, 233, 235, 243, 242,  46,  54,  56,  56,  46,  39,  38,\n",
       "        38,  41,  45,  39,  49,  43,  86,  73,  48,  52, 179, 190, 204,\n",
       "       219, 233, 119,  83, 163, 181, 184, 190,  88,  78,  89,  73,  59,\n",
       "        73,  89,  90,  76,  52,  65,  86,  88, 136,  47,  48,  47,  59,\n",
       "        60,  44,  50,  49,  40,  41,  40,  39,  40,  42,  84,  77,  88,\n",
       "        99, 102,  99,  98,  77,  85,  89,  98,  87,  97,  43,  51,  48,\n",
       "        47,  48,  70,  51,  47,  51,  39,  43,  45,  47,  48,  49,  58,\n",
       "        80,  78, 115,  84,  88,  64,  89,  73,  90,  72,  55, 100,  47,\n",
       "        45, 105,  47,  46,  63,  50,  62,  65,  42,  71, 121, 112,  99,\n",
       "        51,  50,  98,  69,  61,  56,  72,  80,  90,  89,  76,  82, 149,\n",
       "        46,  47,  79, 181,  59,  47,  52,  75,  53,  63,  62, 121, 152,\n",
       "       129, 110,  63,  84,  72,  58,  61,  64,  87,  80,  70,  94, 106,\n",
       "       110,  60,  47,  46, 183, 184, 113,  46,  46,  76,  95,  94,  78,\n",
       "        91,  86,  94,  88,  79,  56,  66,  67,  73,  81,  66,  54,  53,\n",
       "        61,  54, 124,  48,  45, 130, 185, 185, 167,  49,  48,  56,  92,\n",
       "        96,  96,  81,  68,  78,  94,  93,  58,  55,  73,  76,  77,  67,\n",
       "        54,  64,  82, 130,  52,  48,  64, 191, 189, 187, 186,  89,  46,\n",
       "        46,  87,  63,  69,  81,  74,  53,  75,  61,  79,  91,  65,  62,\n",
       "        57,  42,  60,  61,  66,  91,  52,  44, 170, 186, 189, 188, 188,\n",
       "       152,  46,  48,  62,  68,  53,  52,  95,  83,  45,  68,  56,  54,\n",
       "        53,  40,  45,  57,  52,  64, 155,  47,  47, 103, 187, 186, 188,\n",
       "       187, 189, 185,  68,  49,  48,  81,  68,  81,  86,  76,  82,  70,\n",
       "        35,  54,  59,  63,  55,  60,  50,  59,  55,  49,  49, 186, 187,\n",
       "       188, 192, 189, 189, 186, 132,  47,  42,  73,  81,  72,  73,  89,\n",
       "        57,  49,  75,  69,  47,  72,  50,  42,  32, 141,  51,  45, 146,\n",
       "       186, 186, 188, 187, 191, 189, 186, 177,  49,  46,  53,  84,  57,\n",
       "        67,  94,  54,  93,  39,  30,  31,  28,  37,  23, 119,  45,  45,\n",
       "        76, 194, 189, 188, 187, 190, 186, 192, 188, 189, 106,  44,  46,\n",
       "        56,  42,  60,  76,  81,  70,  48,  73,  72,  71,  45,  86,  75,\n",
       "        48,  46, 176, 186, 187, 188, 190, 187, 190, 190, 189, 187, 165,\n",
       "        43,  45,  57,  65,  72,  31,  48,  71,  82,  80,  94, 103,  48,\n",
       "       149,  48,  50, 113, 187, 188, 186, 187, 191, 189, 191, 188, 189,\n",
       "       187, 189,  82,  45,  45,  49,  57,  53,  63,  48,  81,  81,  96,\n",
       "        85, 117,  39,  49,  52, 194, 188, 187, 189, 147,  74,  67, 125,\n",
       "       183, 186, 185, 182, 150,  42,  44,  50,  34,  52,  55,  49,  67,\n",
       "        77,  73,  97, 105,  46,  43, 160, 188, 186, 161,  30,  25,  24,\n",
       "        23,  20,  49, 154, 185, 185, 183,  61,  44,  46,  38,  43,  29,\n",
       "        19,  60, 101, 118, 158,  41,  49,  85, 187,  71,  31,  31,  24,\n",
       "        27,  22,  23,  24,  21,  22,  45,  78, 181, 123,  42,  43,  47,\n",
       "        28,  26,  37,  82,  89, 106,  70,  48,  48, 179, 184, 184, 187,\n",
       "       187, 188, 184, 185, 183, 187, 186, 183, 180, 182, 180, 174,  49,\n",
       "        45,  46,  52,  42,  25,  64,  48, 111,  51,  46,  47,  51,  51,\n",
       "        56,  56,  57,  60,  59,  60,  63,  70,  73,  74,  77,  82,  91,\n",
       "        94,  50,  43,  41,  85,  93,  67,  80,  71,  63,  49,  46,  46,\n",
       "        47,  46,  46,  46,  47,  47,  46,  47,  46,  47,  46,  45,  45,\n",
       "        44,  45,  46,  45,  43,  44,  65,  90,  97, 125,  74,  86,  62,\n",
       "        44,  47,  46,  46,  43,  46,  47,  43,  46,  44,  45,  43,  44,\n",
       "        45,  43,  42,  45,  47,  42,  44,  40,  89,  82, 119,  77,  88,\n",
       "       132,  79,  73,  73,  77,  75,  93,  85,  88,  93,  40,  25,  45,\n",
       "       111,  72,  68,  74, 108,  85,  74,  95,  70, 100,  77,  61,  80,\n",
       "        55, 110,  55,  60,  60,  58,  60,  58, 103,  83,  56,  57,  69,\n",
       "        64,  69,  56,  64,  63,  70,  73,  77,  77,  87,  92, 110,  83,\n",
       "        76, 104,  59,  82,  62,  59,  61,  63,  59, 192, 154, 182,  82,\n",
       "       121, 177, 162, 150,  60,  62,  57,  55,  56,  56,  56,  55,  52,\n",
       "        53,  49,  62,  84])"
      ]
     },
     "execution_count": 55,
     "metadata": {},
     "output_type": "execute_result"
    }
   ],
   "source": [
    "img1=PIL.Image.open(filepath)\n",
    "img_seq=img1.getdata()\n",
    "np.array(img_seq)"
   ]
  },
  {
   "cell_type": "code",
   "execution_count": 56,
   "id": "013a4ba3",
   "metadata": {},
   "outputs": [
    {
     "data": {
      "text/plain": [
       "(28, 28)"
      ]
     },
     "execution_count": 56,
     "metadata": {},
     "output_type": "execute_result"
    }
   ],
   "source": [
    "img.shape"
   ]
  },
  {
   "cell_type": "code",
   "execution_count": 25,
   "id": "4fb666ce",
   "metadata": {},
   "outputs": [
    {
     "data": {
      "text/plain": [
       "'./trafficsigns_dataset/triangle/warning/01971_00002.png'"
      ]
     },
     "execution_count": 25,
     "metadata": {},
     "output_type": "execute_result"
    }
   ],
   "source": [
    "filepath"
   ]
  },
  {
   "cell_type": "code",
   "execution_count": 6,
   "id": "d9a84ed1",
   "metadata": {},
   "outputs": [],
   "source": [
    "root2=root.split(\"/\")\n",
    "root1=root.split(\"/\")[-1].split(\"\\\\\")"
   ]
  },
  {
   "cell_type": "code",
   "execution_count": 7,
   "id": "8270e774",
   "metadata": {},
   "outputs": [
    {
     "data": {
      "text/plain": [
       "['.', 'trafficsigns_dataset', 'triangle\\\\warning']"
      ]
     },
     "execution_count": 7,
     "metadata": {},
     "output_type": "execute_result"
    }
   ],
   "source": [
    "root2"
   ]
  },
  {
   "cell_type": "code",
   "execution_count": 15,
   "id": "a822cf97",
   "metadata": {},
   "outputs": [
    {
     "data": {
      "text/html": [
       "<div>\n",
       "<style scoped>\n",
       "    .dataframe tbody tr th:only-of-type {\n",
       "        vertical-align: middle;\n",
       "    }\n",
       "\n",
       "    .dataframe tbody tr th {\n",
       "        vertical-align: top;\n",
       "    }\n",
       "\n",
       "    .dataframe thead th {\n",
       "        text-align: right;\n",
       "    }\n",
       "</style>\n",
       "<table border=\"1\" class=\"dataframe\">\n",
       "  <thead>\n",
       "    <tr style=\"text-align: right;\">\n",
       "      <th></th>\n",
       "      <th>shape</th>\n",
       "      <th>sign</th>\n",
       "      <th>imageName</th>\n",
       "      <th>filePath</th>\n",
       "    </tr>\n",
       "  </thead>\n",
       "  <tbody>\n",
       "    <tr>\n",
       "      <th>0</th>\n",
       "      <td>diamond</td>\n",
       "      <td>rightofway</td>\n",
       "      <td>00032_00000.png</td>\n",
       "      <td>./trafficsigns_dataset/diamond/rightofway/0003...</td>\n",
       "    </tr>\n",
       "    <tr>\n",
       "      <th>1</th>\n",
       "      <td>diamond</td>\n",
       "      <td>rightofway</td>\n",
       "      <td>00032_00001.png</td>\n",
       "      <td>./trafficsigns_dataset/diamond/rightofway/0003...</td>\n",
       "    </tr>\n",
       "    <tr>\n",
       "      <th>2</th>\n",
       "      <td>diamond</td>\n",
       "      <td>rightofway</td>\n",
       "      <td>00032_00002.png</td>\n",
       "      <td>./trafficsigns_dataset/diamond/rightofway/0003...</td>\n",
       "    </tr>\n",
       "    <tr>\n",
       "      <th>3</th>\n",
       "      <td>diamond</td>\n",
       "      <td>rightofway</td>\n",
       "      <td>00037_00000.png</td>\n",
       "      <td>./trafficsigns_dataset/diamond/rightofway/0003...</td>\n",
       "    </tr>\n",
       "    <tr>\n",
       "      <th>4</th>\n",
       "      <td>diamond</td>\n",
       "      <td>rightofway</td>\n",
       "      <td>00037_00001.png</td>\n",
       "      <td>./trafficsigns_dataset/diamond/rightofway/0003...</td>\n",
       "    </tr>\n",
       "    <tr>\n",
       "      <th>...</th>\n",
       "      <td>...</td>\n",
       "      <td>...</td>\n",
       "      <td>...</td>\n",
       "      <td>...</td>\n",
       "    </tr>\n",
       "    <tr>\n",
       "      <th>3694</th>\n",
       "      <td>triangle</td>\n",
       "      <td>warning</td>\n",
       "      <td>01947_00001.png</td>\n",
       "      <td>./trafficsigns_dataset/triangle/warning/01947_...</td>\n",
       "    </tr>\n",
       "    <tr>\n",
       "      <th>3695</th>\n",
       "      <td>triangle</td>\n",
       "      <td>warning</td>\n",
       "      <td>01947_00002.png</td>\n",
       "      <td>./trafficsigns_dataset/triangle/warning/01947_...</td>\n",
       "    </tr>\n",
       "    <tr>\n",
       "      <th>3696</th>\n",
       "      <td>triangle</td>\n",
       "      <td>warning</td>\n",
       "      <td>01971_00000.png</td>\n",
       "      <td>./trafficsigns_dataset/triangle/warning/01971_...</td>\n",
       "    </tr>\n",
       "    <tr>\n",
       "      <th>3697</th>\n",
       "      <td>triangle</td>\n",
       "      <td>warning</td>\n",
       "      <td>01971_00001.png</td>\n",
       "      <td>./trafficsigns_dataset/triangle/warning/01971_...</td>\n",
       "    </tr>\n",
       "    <tr>\n",
       "      <th>3698</th>\n",
       "      <td>triangle</td>\n",
       "      <td>warning</td>\n",
       "      <td>01971_00002.png</td>\n",
       "      <td>./trafficsigns_dataset/triangle/warning/01971_...</td>\n",
       "    </tr>\n",
       "  </tbody>\n",
       "</table>\n",
       "<p>3699 rows × 4 columns</p>\n",
       "</div>"
      ],
      "text/plain": [
       "         shape        sign        imageName  \\\n",
       "0      diamond  rightofway  00032_00000.png   \n",
       "1      diamond  rightofway  00032_00001.png   \n",
       "2      diamond  rightofway  00032_00002.png   \n",
       "3      diamond  rightofway  00037_00000.png   \n",
       "4      diamond  rightofway  00037_00001.png   \n",
       "...        ...         ...              ...   \n",
       "3694  triangle     warning  01947_00001.png   \n",
       "3695  triangle     warning  01947_00002.png   \n",
       "3696  triangle     warning  01971_00000.png   \n",
       "3697  triangle     warning  01971_00001.png   \n",
       "3698  triangle     warning  01971_00002.png   \n",
       "\n",
       "                                               filePath  \n",
       "0     ./trafficsigns_dataset/diamond/rightofway/0003...  \n",
       "1     ./trafficsigns_dataset/diamond/rightofway/0003...  \n",
       "2     ./trafficsigns_dataset/diamond/rightofway/0003...  \n",
       "3     ./trafficsigns_dataset/diamond/rightofway/0003...  \n",
       "4     ./trafficsigns_dataset/diamond/rightofway/0003...  \n",
       "...                                                 ...  \n",
       "3694  ./trafficsigns_dataset/triangle/warning/01947_...  \n",
       "3695  ./trafficsigns_dataset/triangle/warning/01947_...  \n",
       "3696  ./trafficsigns_dataset/triangle/warning/01971_...  \n",
       "3697  ./trafficsigns_dataset/triangle/warning/01971_...  \n",
       "3698  ./trafficsigns_dataset/triangle/warning/01971_...  \n",
       "\n",
       "[3699 rows x 4 columns]"
      ]
     },
     "execution_count": 15,
     "metadata": {},
     "output_type": "execute_result"
    }
   ],
   "source": [
    "dfdata"
   ]
  },
  {
   "cell_type": "code",
   "execution_count": 5,
   "id": "0a84194f",
   "metadata": {},
   "outputs": [
    {
     "data": {
      "image/png": "[encoded data removed]",
      "text/plain": [
       "<Figure size 2160x3600 with 2 Axes>"
      ]
     },
     "metadata": {
      "needs_background": "light"
     },
     "output_type": "display_data"
    }
   ],
   "source": [
    "import matplotlib.pyplot as plt\n",
    "\n",
    "plt.figure(figsize=(30,50))\n",
    "for i, col in enumerate(['shape', 'sign']):\n",
    "    plt.subplot(10,4,i+1)\n",
    "    plt.hist(dfdata[col], alpha=0.3, color='cyan',bins=35)\n",
    "    plt.title(col)\n",
    "    plt.xticks(rotation='vertical')"
   ]
  },
  {
   "cell_type": "code",
   "execution_count": 16,
   "id": "c281e5c1",
   "metadata": {},
   "outputs": [
    {
     "data": {
      "text/plain": [
       "round       1760\n",
       "triangle     926\n",
       "square       688\n",
       "diamond      282\n",
       "hex           43\n",
       "Name: shape, dtype: int64"
      ]
     },
     "execution_count": 16,
     "metadata": {},
     "output_type": "execute_result"
    }
   ],
   "source": [
    "dfdata['shape'].value_counts()"
   ]
  },
  {
   "cell_type": "code",
   "execution_count": 18,
   "id": "d67d45bd",
   "metadata": {},
   "outputs": [
    {
     "data": {
      "text/plain": [
       "warning             695\n",
       "noentry             375\n",
       "speed               316\n",
       "bicycle             285\n",
       "rightofway          282\n",
       "parking             276\n",
       "noparking           242\n",
       "giveway             231\n",
       "continue            199\n",
       "trafficdirective    195\n",
       "limitedtraffic      125\n",
       "traveldirection     124\n",
       "laneend             118\n",
       "roundabout           98\n",
       "crossing             95\n",
       "stop                 43\n",
       "Name: sign, dtype: int64"
      ]
     },
     "execution_count": 18,
     "metadata": {},
     "output_type": "execute_result"
    }
   ],
   "source": [
    "dfdata['sign'].value_counts()"
   ]
  },
  {
   "cell_type": "code",
   "execution_count": null,
   "id": "4b95dd90",
   "metadata": {},
   "outputs": [],
   "source": [
    "#traintestsplit"
   ]
  },
  {
   "cell_type": "code",
   "execution_count": 112,
   "id": "5f50a01e",
   "metadata": {},
   "outputs": [],
   "source": [
    "model_1_df=pd.DataFrame()\n",
    "model_1_df['Path']=dfdata['filePath']\n",
    "model_1_df['Shape']=dfdata['shape']"
   ]
  },
  {
   "cell_type": "code",
   "execution_count": 113,
   "id": "6d1c935b",
   "metadata": {},
   "outputs": [
    {
     "data": {
      "text/html": [
       "<div>\n",
       "<style scoped>\n",
       "    .dataframe tbody tr th:only-of-type {\n",
       "        vertical-align: middle;\n",
       "    }\n",
       "\n",
       "    .dataframe tbody tr th {\n",
       "        vertical-align: top;\n",
       "    }\n",
       "\n",
       "    .dataframe thead th {\n",
       "        text-align: right;\n",
       "    }\n",
       "</style>\n",
       "<table border=\"1\" class=\"dataframe\">\n",
       "  <thead>\n",
       "    <tr style=\"text-align: right;\">\n",
       "      <th></th>\n",
       "      <th>Path</th>\n",
       "      <th>Shape</th>\n",
       "    </tr>\n",
       "  </thead>\n",
       "  <tbody>\n",
       "    <tr>\n",
       "      <th>0</th>\n",
       "      <td>./trafficsigns_dataset/diamond/rightofway/0003...</td>\n",
       "      <td>diamond</td>\n",
       "    </tr>\n",
       "    <tr>\n",
       "      <th>1</th>\n",
       "      <td>./trafficsigns_dataset/diamond/rightofway/0003...</td>\n",
       "      <td>diamond</td>\n",
       "    </tr>\n",
       "    <tr>\n",
       "      <th>2</th>\n",
       "      <td>./trafficsigns_dataset/diamond/rightofway/0003...</td>\n",
       "      <td>diamond</td>\n",
       "    </tr>\n",
       "    <tr>\n",
       "      <th>3</th>\n",
       "      <td>./trafficsigns_dataset/diamond/rightofway/0003...</td>\n",
       "      <td>diamond</td>\n",
       "    </tr>\n",
       "    <tr>\n",
       "      <th>4</th>\n",
       "      <td>./trafficsigns_dataset/diamond/rightofway/0003...</td>\n",
       "      <td>diamond</td>\n",
       "    </tr>\n",
       "    <tr>\n",
       "      <th>...</th>\n",
       "      <td>...</td>\n",
       "      <td>...</td>\n",
       "    </tr>\n",
       "    <tr>\n",
       "      <th>3694</th>\n",
       "      <td>./trafficsigns_dataset/triangle/warning/01947_...</td>\n",
       "      <td>triangle</td>\n",
       "    </tr>\n",
       "    <tr>\n",
       "      <th>3695</th>\n",
       "      <td>./trafficsigns_dataset/triangle/warning/01947_...</td>\n",
       "      <td>triangle</td>\n",
       "    </tr>\n",
       "    <tr>\n",
       "      <th>3696</th>\n",
       "      <td>./trafficsigns_dataset/triangle/warning/01971_...</td>\n",
       "      <td>triangle</td>\n",
       "    </tr>\n",
       "    <tr>\n",
       "      <th>3697</th>\n",
       "      <td>./trafficsigns_dataset/triangle/warning/01971_...</td>\n",
       "      <td>triangle</td>\n",
       "    </tr>\n",
       "    <tr>\n",
       "      <th>3698</th>\n",
       "      <td>./trafficsigns_dataset/triangle/warning/01971_...</td>\n",
       "      <td>triangle</td>\n",
       "    </tr>\n",
       "  </tbody>\n",
       "</table>\n",
       "<p>3699 rows × 2 columns</p>\n",
       "</div>"
      ],
      "text/plain": [
       "                                                   Path     Shape\n",
       "0     ./trafficsigns_dataset/diamond/rightofway/0003...   diamond\n",
       "1     ./trafficsigns_dataset/diamond/rightofway/0003...   diamond\n",
       "2     ./trafficsigns_dataset/diamond/rightofway/0003...   diamond\n",
       "3     ./trafficsigns_dataset/diamond/rightofway/0003...   diamond\n",
       "4     ./trafficsigns_dataset/diamond/rightofway/0003...   diamond\n",
       "...                                                 ...       ...\n",
       "3694  ./trafficsigns_dataset/triangle/warning/01947_...  triangle\n",
       "3695  ./trafficsigns_dataset/triangle/warning/01947_...  triangle\n",
       "3696  ./trafficsigns_dataset/triangle/warning/01971_...  triangle\n",
       "3697  ./trafficsigns_dataset/triangle/warning/01971_...  triangle\n",
       "3698  ./trafficsigns_dataset/triangle/warning/01971_...  triangle\n",
       "\n",
       "[3699 rows x 2 columns]"
      ]
     },
     "execution_count": 113,
     "metadata": {},
     "output_type": "execute_result"
    }
   ],
   "source": [
    "model_1_df"
   ]
  },
  {
   "cell_type": "code",
   "execution_count": 115,
   "id": "dff9484d",
   "metadata": {},
   "outputs": [],
   "source": [
    "def img_to_array(path):\n",
    "    img1=PIL.Image.open(path)\n",
    "    img_seq=img1.getdata()\n",
    "    img_array=np.array(img_seq)\n",
    "    return np.expand_dims(img_array,-1)"
   ]
  },
  {
   "cell_type": "code",
   "execution_count": null,
   "id": "a4af1a81",
   "metadata": {},
   "outputs": [],
   "source": []
  },
  {
   "cell_type": "code",
   "execution_count": 116,
   "id": "5061c75c",
   "metadata": {},
   "outputs": [
    {
     "data": {
      "text/plain": [
       "'./trafficsigns_dataset/triangle/warning/01971_00002.png'"
      ]
     },
     "execution_count": 116,
     "metadata": {},
     "output_type": "execute_result"
    }
   ],
   "source": [
    "model_1_df['Path'][3698]"
   ]
  },
  {
   "cell_type": "code",
   "execution_count": 117,
   "id": "b7986b42",
   "metadata": {},
   "outputs": [
    {
     "data": {
      "text/html": [
       "<div>\n",
       "<style scoped>\n",
       "    .dataframe tbody tr th:only-of-type {\n",
       "        vertical-align: middle;\n",
       "    }\n",
       "\n",
       "    .dataframe tbody tr th {\n",
       "        vertical-align: top;\n",
       "    }\n",
       "\n",
       "    .dataframe thead th {\n",
       "        text-align: right;\n",
       "    }\n",
       "</style>\n",
       "<table border=\"1\" class=\"dataframe\">\n",
       "  <thead>\n",
       "    <tr style=\"text-align: right;\">\n",
       "      <th></th>\n",
       "      <th>Path</th>\n",
       "      <th>Shape</th>\n",
       "    </tr>\n",
       "  </thead>\n",
       "  <tbody>\n",
       "    <tr>\n",
       "      <th>0</th>\n",
       "      <td>./trafficsigns_dataset/diamond/rightofway/0003...</td>\n",
       "      <td>diamond</td>\n",
       "    </tr>\n",
       "    <tr>\n",
       "      <th>1</th>\n",
       "      <td>./trafficsigns_dataset/diamond/rightofway/0003...</td>\n",
       "      <td>diamond</td>\n",
       "    </tr>\n",
       "    <tr>\n",
       "      <th>2</th>\n",
       "      <td>./trafficsigns_dataset/diamond/rightofway/0003...</td>\n",
       "      <td>diamond</td>\n",
       "    </tr>\n",
       "    <tr>\n",
       "      <th>3</th>\n",
       "      <td>./trafficsigns_dataset/diamond/rightofway/0003...</td>\n",
       "      <td>diamond</td>\n",
       "    </tr>\n",
       "    <tr>\n",
       "      <th>4</th>\n",
       "      <td>./trafficsigns_dataset/diamond/rightofway/0003...</td>\n",
       "      <td>diamond</td>\n",
       "    </tr>\n",
       "    <tr>\n",
       "      <th>...</th>\n",
       "      <td>...</td>\n",
       "      <td>...</td>\n",
       "    </tr>\n",
       "    <tr>\n",
       "      <th>3694</th>\n",
       "      <td>./trafficsigns_dataset/triangle/warning/01947_...</td>\n",
       "      <td>triangle</td>\n",
       "    </tr>\n",
       "    <tr>\n",
       "      <th>3695</th>\n",
       "      <td>./trafficsigns_dataset/triangle/warning/01947_...</td>\n",
       "      <td>triangle</td>\n",
       "    </tr>\n",
       "    <tr>\n",
       "      <th>3696</th>\n",
       "      <td>./trafficsigns_dataset/triangle/warning/01971_...</td>\n",
       "      <td>triangle</td>\n",
       "    </tr>\n",
       "    <tr>\n",
       "      <th>3697</th>\n",
       "      <td>./trafficsigns_dataset/triangle/warning/01971_...</td>\n",
       "      <td>triangle</td>\n",
       "    </tr>\n",
       "    <tr>\n",
       "      <th>3698</th>\n",
       "      <td>./trafficsigns_dataset/triangle/warning/01971_...</td>\n",
       "      <td>triangle</td>\n",
       "    </tr>\n",
       "  </tbody>\n",
       "</table>\n",
       "<p>3699 rows × 2 columns</p>\n",
       "</div>"
      ],
      "text/plain": [
       "                                                   Path     Shape\n",
       "0     ./trafficsigns_dataset/diamond/rightofway/0003...   diamond\n",
       "1     ./trafficsigns_dataset/diamond/rightofway/0003...   diamond\n",
       "2     ./trafficsigns_dataset/diamond/rightofway/0003...   diamond\n",
       "3     ./trafficsigns_dataset/diamond/rightofway/0003...   diamond\n",
       "4     ./trafficsigns_dataset/diamond/rightofway/0003...   diamond\n",
       "...                                                 ...       ...\n",
       "3694  ./trafficsigns_dataset/triangle/warning/01947_...  triangle\n",
       "3695  ./trafficsigns_dataset/triangle/warning/01947_...  triangle\n",
       "3696  ./trafficsigns_dataset/triangle/warning/01971_...  triangle\n",
       "3697  ./trafficsigns_dataset/triangle/warning/01971_...  triangle\n",
       "3698  ./trafficsigns_dataset/triangle/warning/01971_...  triangle\n",
       "\n",
       "[3699 rows x 2 columns]"
      ]
     },
     "execution_count": 117,
     "metadata": {},
     "output_type": "execute_result"
    }
   ],
   "source": [
    "model_1_df"
   ]
  },
  {
   "cell_type": "code",
   "execution_count": 93,
   "id": "868a1263",
   "metadata": {},
   "outputs": [],
   "source": [
    "# for i in range(model_1_df.shape[0]):\n",
    "#     model_1_df['Path'][i] = img_to_array(model_1_df['Path'][i])\n",
    "    "
   ]
  },
  {
   "cell_type": "code",
   "execution_count": 72,
   "id": "f9bf7903",
   "metadata": {},
   "outputs": [
    {
     "data": {
      "text/plain": [
       "array([ 45, 177, 254, 246, 255, 228,  62,  42, 166, 114,  29,  37, 243,\n",
       "        61, 183, 253, 255, 255, 254, 255, 255, 254, 250,  39, 201, 245,\n",
       "       243, 242,  39, 210, 254, 241, 253, 254, 250, 179,  99, 104, 118,\n",
       "       198, 240,  63, 223, 254, 255, 254, 254, 255, 255, 255, 252,  53,\n",
       "       223, 234, 236, 231,  46, 209, 240, 217, 239, 240, 242, 238, 246,\n",
       "       250, 106, 231, 226,  88, 250, 106, 176, 253, 255, 255, 255, 254,\n",
       "       203,  57, 233, 235, 243, 242,  46,  54,  56,  56,  46,  39,  38,\n",
       "        38,  41,  45,  39,  49,  43,  86,  73,  48,  52, 179, 190, 204,\n",
       "       219, 233, 119,  83, 163, 181, 184, 190,  88,  78,  89,  73,  59,\n",
       "        73,  89,  90,  76,  52,  65,  86,  88, 136,  47,  48,  47,  59,\n",
       "        60,  44,  50,  49,  40,  41,  40,  39,  40,  42,  84,  77,  88,\n",
       "        99, 102,  99,  98,  77,  85,  89,  98,  87,  97,  43,  51,  48,\n",
       "        47,  48,  70,  51,  47,  51,  39,  43,  45,  47,  48,  49,  58,\n",
       "        80,  78, 115,  84,  88,  64,  89,  73,  90,  72,  55, 100,  47,\n",
       "        45, 105,  47,  46,  63,  50,  62,  65,  42,  71, 121, 112,  99,\n",
       "        51,  50,  98,  69,  61,  56,  72,  80,  90,  89,  76,  82, 149,\n",
       "        46,  47,  79, 181,  59,  47,  52,  75,  53,  63,  62, 121, 152,\n",
       "       129, 110,  63,  84,  72,  58,  61,  64,  87,  80,  70,  94, 106,\n",
       "       110,  60,  47,  46, 183, 184, 113,  46,  46,  76,  95,  94,  78,\n",
       "        91,  86,  94,  88,  79,  56,  66,  67,  73,  81,  66,  54,  53,\n",
       "        61,  54, 124,  48,  45, 130, 185, 185, 167,  49,  48,  56,  92,\n",
       "        96,  96,  81,  68,  78,  94,  93,  58,  55,  73,  76,  77,  67,\n",
       "        54,  64,  82, 130,  52,  48,  64, 191, 189, 187, 186,  89,  46,\n",
       "        46,  87,  63,  69,  81,  74,  53,  75,  61,  79,  91,  65,  62,\n",
       "        57,  42,  60,  61,  66,  91,  52,  44, 170, 186, 189, 188, 188,\n",
       "       152,  46,  48,  62,  68,  53,  52,  95,  83,  45,  68,  56,  54,\n",
       "        53,  40,  45,  57,  52,  64, 155,  47,  47, 103, 187, 186, 188,\n",
       "       187, 189, 185,  68,  49,  48,  81,  68,  81,  86,  76,  82,  70,\n",
       "        35,  54,  59,  63,  55,  60,  50,  59,  55,  49,  49, 186, 187,\n",
       "       188, 192, 189, 189, 186, 132,  47,  42,  73,  81,  72,  73,  89,\n",
       "        57,  49,  75,  69,  47,  72,  50,  42,  32, 141,  51,  45, 146,\n",
       "       186, 186, 188, 187, 191, 189, 186, 177,  49,  46,  53,  84,  57,\n",
       "        67,  94,  54,  93,  39,  30,  31,  28,  37,  23, 119,  45,  45,\n",
       "        76, 194, 189, 188, 187, 190, 186, 192, 188, 189, 106,  44,  46,\n",
       "        56,  42,  60,  76,  81,  70,  48,  73,  72,  71,  45,  86,  75,\n",
       "        48,  46, 176, 186, 187, 188, 190, 187, 190, 190, 189, 187, 165,\n",
       "        43,  45,  57,  65,  72,  31,  48,  71,  82,  80,  94, 103,  48,\n",
       "       149,  48,  50, 113, 187, 188, 186, 187, 191, 189, 191, 188, 189,\n",
       "       187, 189,  82,  45,  45,  49,  57,  53,  63,  48,  81,  81,  96,\n",
       "        85, 117,  39,  49,  52, 194, 188, 187, 189, 147,  74,  67, 125,\n",
       "       183, 186, 185, 182, 150,  42,  44,  50,  34,  52,  55,  49,  67,\n",
       "        77,  73,  97, 105,  46,  43, 160, 188, 186, 161,  30,  25,  24,\n",
       "        23,  20,  49, 154, 185, 185, 183,  61,  44,  46,  38,  43,  29,\n",
       "        19,  60, 101, 118, 158,  41,  49,  85, 187,  71,  31,  31,  24,\n",
       "        27,  22,  23,  24,  21,  22,  45,  78, 181, 123,  42,  43,  47,\n",
       "        28,  26,  37,  82,  89, 106,  70,  48,  48, 179, 184, 184, 187,\n",
       "       187, 188, 184, 185, 183, 187, 186, 183, 180, 182, 180, 174,  49,\n",
       "        45,  46,  52,  42,  25,  64,  48, 111,  51,  46,  47,  51,  51,\n",
       "        56,  56,  57,  60,  59,  60,  63,  70,  73,  74,  77,  82,  91,\n",
       "        94,  50,  43,  41,  85,  93,  67,  80,  71,  63,  49,  46,  46,\n",
       "        47,  46,  46,  46,  47,  47,  46,  47,  46,  47,  46,  45,  45,\n",
       "        44,  45,  46,  45,  43,  44,  65,  90,  97, 125,  74,  86,  62,\n",
       "        44,  47,  46,  46,  43,  46,  47,  43,  46,  44,  45,  43,  44,\n",
       "        45,  43,  42,  45,  47,  42,  44,  40,  89,  82, 119,  77,  88,\n",
       "       132,  79,  73,  73,  77,  75,  93,  85,  88,  93,  40,  25,  45,\n",
       "       111,  72,  68,  74, 108,  85,  74,  95,  70, 100,  77,  61,  80,\n",
       "        55, 110,  55,  60,  60,  58,  60,  58, 103,  83,  56,  57,  69,\n",
       "        64,  69,  56,  64,  63,  70,  73,  77,  77,  87,  92, 110,  83,\n",
       "        76, 104,  59,  82,  62,  59,  61,  63,  59, 192, 154, 182,  82,\n",
       "       121, 177, 162, 150,  60,  62,  57,  55,  56,  56,  56,  55,  52,\n",
       "        53,  49,  62,  84])"
      ]
     },
     "execution_count": 72,
     "metadata": {},
     "output_type": "execute_result"
    }
   ],
   "source": []
  },
  {
   "cell_type": "code",
   "execution_count": 40,
   "id": "3e5be7a8",
   "metadata": {},
   "outputs": [],
   "source": [
    "#imagedatagenerators"
   ]
  },
  {
   "cell_type": "code",
   "execution_count": 137,
   "id": "abde8682",
   "metadata": {},
   "outputs": [],
   "source": [
    "idg_train=ImageDataGenerator(rescale=1/255.0,validation_split=0.20,data_format='channels_last')"
   ]
  },
  {
   "cell_type": "code",
   "execution_count": 138,
   "id": "af53fb43",
   "metadata": {},
   "outputs": [
    {
     "name": "stdout",
     "output_type": "stream",
     "text": [
      "Found 2960 validated image filenames belonging to 5 classes.\n",
      "Found 739 validated image filenames belonging to 5 classes.\n"
     ]
    }
   ],
   "source": [
    "train_gen=idg_train.flow_from_dataframe(dataframe=model_1_df,\n",
    "                                        batch_size=32,\n",
    "                                        #seed=10,\n",
    "                                        subset=\"training\",\n",
    "                                        class_mode='categorical',\n",
    "                                        target_size=(28, 28),\n",
    "                                        x_col='Path',\n",
    "                                        y_col='Shape',\n",
    "                                        color_mode = 'grayscale')\n",
    "test_gen=idg_train.flow_from_dataframe(dataframe=model_1_df,\n",
    "                                       batch_size=32,\n",
    "                                       #seed=10,\n",
    "                                       subset=\"validation\",\n",
    "                                       class_mode='categorical',\n",
    "                                       target_size=(28, 28),\n",
    "                                       x_col='Path',\n",
    "                                       y_col='Shape',\n",
    "                                       color_mode = 'grayscale'\n",
    "                                      )"
   ]
  },
  {
   "cell_type": "code",
   "execution_count": 128,
   "id": "a1749e0b",
   "metadata": {},
   "outputs": [],
   "source": [
    "#baseline"
   ]
  },
  {
   "cell_type": "code",
   "execution_count": 139,
   "id": "52ebb9e9",
   "metadata": {},
   "outputs": [],
   "source": [
    "baseline_model = tf.keras.models.Sequential([\n",
    "    tf.keras.layers.Flatten(input_shape=(28,28,1)),\n",
    "    tf.keras.layers.Dense(32, activation='relu'), #Akshata do this\n",
    "    tf.keras.layers.Dense(5,activation='softmax')\n",
    "])"
   ]
  },
  {
   "cell_type": "code",
   "execution_count": 134,
   "id": "3b1e179c",
   "metadata": {},
   "outputs": [
    {
     "name": "stdout",
     "output_type": "stream",
     "text": [
      "Model: \"sequential_12\"\n",
      "_________________________________________________________________\n",
      " Layer (type)                Output Shape              Param #   \n",
      "=================================================================\n",
      " flatten_12 (Flatten)        (None, 2352)              0         \n",
      "                                                                 \n",
      " dense_24 (Dense)            (None, 32)                75296     \n",
      "                                                                 \n",
      " dense_25 (Dense)            (None, 5)                 165       \n",
      "                                                                 \n",
      "=================================================================\n",
      "Total params: 75,461\n",
      "Trainable params: 75,461\n",
      "Non-trainable params: 0\n",
      "_________________________________________________________________\n"
     ]
    }
   ],
   "source": [
    "baseline_model.summary()"
   ]
  },
  {
   "cell_type": "code",
   "execution_count": 142,
   "id": "4601f167",
   "metadata": {},
   "outputs": [],
   "source": [
    "baseline_model.compile(optimizer='adam',loss='categorical_crossentropy',\n",
    "              metrics=['accuracy']) #Akshata Do this to"
   ]
  },
  {
   "cell_type": "code",
   "execution_count": 143,
   "id": "e55018c0",
   "metadata": {},
   "outputs": [
    {
     "name": "stdout",
     "output_type": "stream",
     "text": [
      "Epoch 1/20\n",
      "93/93 [==============================] - 1s 10ms/step - loss: 0.0924 - accuracy: 0.9740 - val_loss: 9.2793 - val_accuracy: 0.4601\n",
      "Epoch 2/20\n",
      "93/93 [==============================] - 1s 9ms/step - loss: 0.0716 - accuracy: 0.9794 - val_loss: 9.9741 - val_accuracy: 0.4831\n",
      "Epoch 3/20\n",
      "93/93 [==============================] - 1s 9ms/step - loss: 0.0743 - accuracy: 0.9787 - val_loss: 10.5629 - val_accuracy: 0.4520\n",
      "Epoch 4/20\n",
      "93/93 [==============================] - 1s 9ms/step - loss: 0.0666 - accuracy: 0.9834 - val_loss: 10.9388 - val_accuracy: 0.4885\n",
      "Epoch 5/20\n",
      "93/93 [==============================] - 1s 9ms/step - loss: 0.0705 - accuracy: 0.9804 - val_loss: 11.5020 - val_accuracy: 0.4696\n",
      "Epoch 6/20\n",
      "93/93 [==============================] - 1s 9ms/step - loss: 0.0613 - accuracy: 0.9824 - val_loss: 11.5856 - val_accuracy: 0.4438\n",
      "Epoch 7/20\n",
      "93/93 [==============================] - 1s 9ms/step - loss: 0.0636 - accuracy: 0.9804 - val_loss: 11.7473 - val_accuracy: 0.4682\n",
      "Epoch 8/20\n",
      "93/93 [==============================] - 1s 9ms/step - loss: 0.0663 - accuracy: 0.9794 - val_loss: 12.2222 - val_accuracy: 0.5183\n",
      "Epoch 9/20\n",
      "93/93 [==============================] - 1s 9ms/step - loss: 0.0618 - accuracy: 0.9818 - val_loss: 12.5353 - val_accuracy: 0.4249\n",
      "Epoch 10/20\n",
      "93/93 [==============================] - 1s 9ms/step - loss: 0.0583 - accuracy: 0.9828 - val_loss: 12.4383 - val_accuracy: 0.4195\n",
      "Epoch 11/20\n",
      "93/93 [==============================] - 1s 9ms/step - loss: 0.0602 - accuracy: 0.9801 - val_loss: 12.8651 - val_accuracy: 0.4344\n",
      "Epoch 12/20\n",
      "93/93 [==============================] - 1s 9ms/step - loss: 0.0604 - accuracy: 0.9821 - val_loss: 12.9948 - val_accuracy: 0.4871\n",
      "Epoch 13/20\n",
      "93/93 [==============================] - 1s 9ms/step - loss: 0.0543 - accuracy: 0.9878 - val_loss: 12.9714 - val_accuracy: 0.4330\n",
      "Epoch 14/20\n",
      "93/93 [==============================] - 1s 9ms/step - loss: 0.0469 - accuracy: 0.9885 - val_loss: 13.4918 - val_accuracy: 0.4953\n",
      "Epoch 15/20\n",
      "93/93 [==============================] - 1s 10ms/step - loss: 0.0446 - accuracy: 0.9868 - val_loss: 13.5681 - val_accuracy: 0.4831\n",
      "Epoch 16/20\n",
      "93/93 [==============================] - 1s 9ms/step - loss: 0.0416 - accuracy: 0.9895 - val_loss: 13.8258 - val_accuracy: 0.4777\n",
      "Epoch 17/20\n",
      "93/93 [==============================] - 1s 9ms/step - loss: 0.0421 - accuracy: 0.9892 - val_loss: 13.8299 - val_accuracy: 0.4885\n",
      "Epoch 18/20\n",
      "93/93 [==============================] - 1s 9ms/step - loss: 0.0438 - accuracy: 0.9851 - val_loss: 14.1259 - val_accuracy: 0.4330\n",
      "Epoch 19/20\n",
      "93/93 [==============================] - 1s 9ms/step - loss: 0.0427 - accuracy: 0.9882 - val_loss: 14.0310 - val_accuracy: 0.4980\n",
      "Epoch 20/20\n",
      "93/93 [==============================] - 1s 9ms/step - loss: 0.0417 - accuracy: 0.9899 - val_loss: 14.4185 - val_accuracy: 0.4966\n"
     ]
    }
   ],
   "source": [
    "fitted_baseline=baseline_model.fit(train_gen,validation_data=test_gen,batch_size=32,epochs=20)"
   ]
  },
  {
   "cell_type": "code",
   "execution_count": 144,
   "id": "3f2a144e",
   "metadata": {},
   "outputs": [
    {
     "data": {
      "text/plain": [
       "[<matplotlib.lines.Line2D at 0x1a32a9bf3d0>]"
      ]
     },
     "execution_count": 144,
     "metadata": {},
     "output_type": "execute_result"
    },
    {
     "data": {
      "image/png": "[encoded data removed]",
      "text/plain": [
       "<Figure size 432x288 with 1 Axes>"
      ]
     },
     "metadata": {
      "needs_background": "light"
     },
     "output_type": "display_data"
    }
   ],
   "source": [
    "plt.plot(fitted_baseline.history['accuracy'],label='acc')\n",
    "plt.plot(fitted_baseline.history['val_accuracy'],label='val_acc')"
   ]
  },
  {
   "cell_type": "code",
   "execution_count": 145,
   "id": "b90dad08",
   "metadata": {},
   "outputs": [
    {
     "data": {
      "text/plain": [
       "[<matplotlib.lines.Line2D at 0x1a3293510a0>]"
      ]
     },
     "execution_count": 145,
     "metadata": {},
     "output_type": "execute_result"
    },
    {
     "data": {
      "image/png": "[encoded data removed]",
      "text/plain": [
       "<Figure size 432x288 with 1 Axes>"
      ]
     },
     "metadata": {
      "needs_background": "light"
     },
     "output_type": "display_data"
    }
   ],
   "source": [
    "plt.plot(fitted_baseline.history['loss'],label='acc')\n",
    "plt.plot(fitted_baseline.history['val_loss'],label='val_acc')"
   ]
  },
  {
   "cell_type": "code",
   "execution_count": null,
   "id": "d5e145ee",
   "metadata": {},
   "outputs": [],
   "source": []
  }
 ],
 "metadata": {
  "kernelspec": {
   "display_name": "Python 3 (ipykernel)",
   "language": "python",
   "name": "python3"
  },
  "language_info": {
   "codemirror_mode": {
    "name": "ipython",
    "version": 3
   },
   "file_extension": ".py",
   "mimetype": "text/x-python",
   "name": "python",
   "nbconvert_exporter": "python",
   "pygments_lexer": "ipython3",
   "version": "3.9.7"
  }
 },
 "nbformat": 4,
 "nbformat_minor": 5
}
