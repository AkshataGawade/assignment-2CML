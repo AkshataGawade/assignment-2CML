{
 "cells": [
  {
   "cell_type": "code",
   "execution_count": null,
   "id": "17daba8b",
   "metadata": {},
   "outputs": [],
   "source": [
    "import numpy as np\n",
    "import os\n",
    "import PIL\n",
    "import PIL.Image\n",
    "import tensorflow as tf\n",
    "from sklearn.impute import SimpleImputer\n",
    "import pandas as pd\n",
    "from sklearn.model_selection import train_test_split\n",
    "import matplotlib.image as mpimg\n",
    "from keras.preprocessing import image\n",
    "from keras.preprocessing.image import ImageDataGenerator\n",
    "from keras.utils.vis_utils import plot_model\n",
    "from tensorflow.keras.optimizers import RMSprop\n",
    "import matplotlib.pyplot as plt\n",
    "from sklearn.utils.class_weight import compute_class_weight"
   ]
  },
  {
   "cell_type": "code",
   "execution_count": null,
   "id": "6f5850bc",
   "metadata": {},
   "outputs": [],
   "source": [
    "path =\"./trafficsigns_dataset/\"\n",
    "lst = []\n",
    "for root, dirs, files in os.walk(path):\n",
    "    for file in files:\n",
    "        if(file.endswith(\".png\")):\n",
    "#             print(root)\n",
    "            root1=root.split(\"/\")[-1].split(\"\\\\\")\n",
    "            filepath=path+root1[0]+'/'+root1[1]+'/'+file\n",
    "            lst.append([root1[0], root1[1], file, filepath])\n",
    "dfdata = pd.DataFrame(lst, columns=['shape', 'sign', 'imageName','filePath'])"
   ]
  },
  {
   "cell_type": "code",
   "execution_count": null,
   "id": "b40c086d",
   "metadata": {},
   "outputs": [],
   "source": [
    "img = mpimg.imread(filepath)\n",
    "imgplot = plt.imshow(img, cmap='gray')\n",
    "plt.show()"
   ]
  },
  {
   "cell_type": "code",
   "execution_count": null,
   "id": "013a4ba3",
   "metadata": {},
   "outputs": [],
   "source": [
    "img.shape"
   ]
  },
  {
   "cell_type": "code",
   "execution_count": null,
   "id": "0a84194f",
   "metadata": {},
   "outputs": [],
   "source": [
    "plt.figure(figsize=(30,50))\n",
    "for i, col in enumerate(['shape', 'sign']):\n",
    "    plt.subplot(10,4,i+1)\n",
    "    plt.hist(dfdata[col], alpha=0.3, color='blue',bins=35)\n",
    "    plt.title(col)\n",
    "    plt.xticks(rotation='vertical')"
   ]
  },
  {
   "cell_type": "code",
   "execution_count": null,
   "id": "c281e5c1",
   "metadata": {},
   "outputs": [],
   "source": [
    "dfdata['shape'].value_counts()"
   ]
  },
  {
   "cell_type": "code",
   "execution_count": null,
   "id": "d67d45bd",
   "metadata": {},
   "outputs": [],
   "source": [
    "dfdata['sign'].value_counts()"
   ]
  },
  {
   "cell_type": "code",
   "execution_count": null,
   "id": "5f50a01e",
   "metadata": {},
   "outputs": [],
   "source": [
    "model_1_df=pd.DataFrame()\n",
    "model_1_df['Path']=dfdata['filePath']\n",
    "model_1_df['Shape']=dfdata['shape']"
   ]
  },
  {
   "cell_type": "code",
   "execution_count": null,
   "id": "6d1c935b",
   "metadata": {},
   "outputs": [],
   "source": [
    "model_1_df"
   ]
  },
  {
   "cell_type": "code",
   "execution_count": null,
   "id": "84b327cd",
   "metadata": {},
   "outputs": [],
   "source": [
    "trainX,valX,trainY,valY=train_test_split(model_1_df[\"Path\"],model_1_df[\"Shape\"],test_size=0.2,shuffle=True,random_state=10)"
   ]
  },
  {
   "cell_type": "code",
   "execution_count": null,
   "id": "2413433f",
   "metadata": {},
   "outputs": [],
   "source": [
    "trainY\n",
    "trainY.value_counts()"
   ]
  },
  {
   "cell_type": "code",
   "execution_count": null,
   "id": "f2ee7154",
   "metadata": {},
   "outputs": [],
   "source": [
    "valY.value_counts()"
   ]
  },
  {
   "cell_type": "code",
   "execution_count": null,
   "id": "1c32e08d",
   "metadata": {},
   "outputs": [],
   "source": [
    "train_df=pd.DataFrame()\n",
    "train_df[\"Paths\"]=trainX\n",
    "train_df[\"Shapes\"]=trainY\n",
    "val_df=pd.DataFrame()\n",
    "val_df[\"Paths\"]=valX\n",
    "val_df[\"Shapes\"]=valY"
   ]
  },
  {
   "cell_type": "code",
   "execution_count": null,
   "id": "cc249132",
   "metadata": {},
   "outputs": [],
   "source": [
    "val_df.shape"
   ]
  },
  {
   "cell_type": "code",
   "execution_count": null,
   "id": "3e5be7a8",
   "metadata": {},
   "outputs": [],
   "source": [
    "#imagedatagenerators"
   ]
  },
  {
   "cell_type": "code",
   "execution_count": null,
   "id": "abde8682",
   "metadata": {},
   "outputs": [],
   "source": [
    "idg_train=ImageDataGenerator(rescale=1/255.0,data_format='channels_last')\n",
    "idg_val=ImageDataGenerator(rescale=1/255.0,data_format='channels_last')"
   ]
  },
  {
   "cell_type": "code",
   "execution_count": null,
   "id": "af53fb43",
   "metadata": {},
   "outputs": [],
   "source": [
    "train_gen=idg_train.flow_from_dataframe(dataframe=train_df,\n",
    "                                        batch_size=32,\n",
    "                                        seed=10,\n",
    "                                        class_mode='categorical',\n",
    "                                        target_size=(28, 28),\n",
    "                                        x_col='Paths',\n",
    "                                        y_col='Shapes',\n",
    "                                        color_mode = 'grayscale')\n",
    "val_gen=idg_val.flow_from_dataframe(dataframe=val_df,\n",
    "                                       batch_size=32,\n",
    "                                       seed=10,\n",
    "                                       class_mode='categorical',\n",
    "                                       target_size=(28, 28),\n",
    "                                       x_col='Paths',\n",
    "                                       y_col='Shapes',\n",
    "                                       color_mode = 'grayscale'\n",
    "                                      )"
   ]
  },
  {
   "cell_type": "code",
   "execution_count": null,
   "id": "8f48c9e8",
   "metadata": {},
   "outputs": [],
   "source": [
    "train_gen"
   ]
  },
  {
   "cell_type": "code",
   "execution_count": null,
   "id": "a1749e0b",
   "metadata": {},
   "outputs": [],
   "source": [
    "#baseline"
   ]
  },
  {
   "cell_type": "code",
   "execution_count": null,
   "id": "52ebb9e9",
   "metadata": {},
   "outputs": [],
   "source": [
    "baseline_model = tf.keras.models.Sequential([\n",
    "#     tf.keras.layers.Conv2D(5,(3,3),activation='relu',input_shape=(28,28,1)),\n",
    "#     tf.keras.layers.MaxPooling2D(2,2),\n",
    "    tf.keras.layers.Flatten(input_shape=(28,28,1)),\n",
    "    tf.keras.layers.Dense(32, activation='relu'),\n",
    "    tf.keras.layers.Dense(5,activation='softmax')\n",
    "])"
   ]
  },
  {
   "cell_type": "code",
   "execution_count": null,
   "id": "3b1e179c",
   "metadata": {},
   "outputs": [],
   "source": [
    "baseline_model.summary()"
   ]
  },
  {
   "cell_type": "code",
   "execution_count": null,
   "id": "4601f167",
   "metadata": {},
   "outputs": [],
   "source": [
    "baseline_model.compile(optimizer='adam',loss='categorical_crossentropy',\n",
    "              metrics=['categorical_accuracy'])"
   ]
  },
  {
   "cell_type": "code",
   "execution_count": null,
   "id": "e55018c0",
   "metadata": {},
   "outputs": [],
   "source": [
    "fitted_baseline=baseline_model.fit(train_gen,validation_data=val_gen,batch_size=32,epochs=20,shuffle=False)"
   ]
  },
  {
   "cell_type": "code",
   "execution_count": null,
   "id": "3f2a144e",
   "metadata": {},
   "outputs": [],
   "source": [
    "plt.plot(fitted_baseline.history['categorical_accuracy'],label='tr_acc')\n",
    "plt.plot(fitted_baseline.history['val_categorical_accuracy'],label='val_acc')\n",
    "plt.legend(loc='best')"
   ]
  },
  {
   "cell_type": "code",
   "execution_count": null,
   "id": "b90dad08",
   "metadata": {},
   "outputs": [],
   "source": [
    "plt.plot(fitted_baseline.history['loss'],label='tr_loss')\n",
    "plt.plot(fitted_baseline.history['val_loss'],label='val_loss')\n",
    "plt.legend(loc='best')"
   ]
  },
  {
   "cell_type": "code",
   "execution_count": null,
   "id": "d5e145ee",
   "metadata": {},
   "outputs": [],
   "source": [
    "#handling imbalance"
   ]
  },
  {
   "cell_type": "code",
   "execution_count": null,
   "id": "372cf0d7",
   "metadata": {},
   "outputs": [],
   "source": [
    "weights = compute_class_weight(\"balanced\",np.unique(train_gen.classes),train_gen.classes)"
   ]
  },
  {
   "cell_type": "code",
   "execution_count": null,
   "id": "a80bf48e",
   "metadata": {},
   "outputs": [],
   "source": [
    "weights_dict={}\n",
    "for i in range(weights.shape[0]):\n",
    "    weights_dict[np.unique(train_gen.classes)[i]]=weights[i]"
   ]
  },
  {
   "cell_type": "code",
   "execution_count": null,
   "id": "9d376158",
   "metadata": {},
   "outputs": [],
   "source": [
    "weights_dict"
   ]
  },
  {
   "cell_type": "code",
   "execution_count": null,
   "id": "ded6b249",
   "metadata": {},
   "outputs": [],
   "source": [
    "#training weighted model"
   ]
  },
  {
   "cell_type": "code",
   "execution_count": null,
   "id": "647bb64f",
   "metadata": {},
   "outputs": [],
   "source": [
    "baseline_model_weighted = tf.keras.models.Sequential([\n",
    "    tf.keras.layers.Flatten(input_shape=(28,28,1)),\n",
    "    tf.keras.layers.Dense(128, activation='relu'),\n",
    "    tf.keras.layers.Dense(5,activation='softmax')\n",
    "])\n",
    "baseline_model_weighted.compile(optimizer='adam',loss='categorical_crossentropy',\n",
    "              metrics=['categorical_accuracy'])\n",
    "fitted_baseline_weighted=baseline_model_weighted.fit(train_gen,validation_data=val_gen,batch_size=32,epochs=20,class_weight=weights_dict,shuffle=False)"
   ]
  },
  {
   "cell_type": "code",
   "execution_count": null,
   "id": "2d01993d",
   "metadata": {},
   "outputs": [],
   "source": [
    "plt.plot(fitted_baseline_weighted.history['categorical_accuracy'],label='tr_acc')\n",
    "plt.plot(fitted_baseline_weighted.history['val_categorical_accuracy'],label='val_acc')\n",
    "plt.legend(loc='best')"
   ]
  },
  {
   "cell_type": "code",
   "execution_count": null,
   "id": "3bdbfe23",
   "metadata": {},
   "outputs": [],
   "source": [
    "#incremental_improvements"
   ]
  },
  {
   "cell_type": "code",
   "execution_count": null,
   "id": "aabf5a7b",
   "metadata": {},
   "outputs": [],
   "source": [
    "baseline_model_weighted_2_hidden = tf.keras.models.Sequential([\n",
    "    tf.keras.layers.Flatten(input_shape=(28,28,1)),\n",
    "    tf.keras.layers.Dense(128, activation='relu'),\n",
    "    tf.keras.layers.Dense(256, activation='relu'),\n",
    "    tf.keras.layers.Dense(5,activation='softmax')\n",
    "])\n",
    "baseline_model_weighted_2_hidden.compile(optimizer='adam',loss='categorical_crossentropy',\n",
    "              metrics=['categorical_accuracy'])\n",
    "fitted_baseline_weighted_2_hidden=baseline_model_weighted_2_hidden.fit(train_gen,validation_data=val_gen,batch_size=32,epochs=20,class_weight=weights_dict,shuffle=False)"
   ]
  },
  {
   "cell_type": "code",
   "execution_count": null,
   "id": "3e3502b4",
   "metadata": {},
   "outputs": [],
   "source": [
    "plt.plot(fitted_baseline_weighted_2_hidden.history['categorical_accuracy'],label='tr_acc')\n",
    "plt.plot(fitted_baseline_weighted_2_hidden.history['val_categorical_accuracy'],label='val_acc')\n",
    "plt.legend(loc='best')"
   ]
  },
  {
   "cell_type": "code",
   "execution_count": null,
   "id": "b6e67470",
   "metadata": {},
   "outputs": [],
   "source": [
    "#creating image data generators with augmentation"
   ]
  },
  {
   "cell_type": "code",
   "execution_count": null,
   "id": "f2653635",
   "metadata": {},
   "outputs": [],
   "source": [
    "new_idg_train=ImageDataGenerator(rescale=1/255.0,\n",
    "                                 data_format='channels_last',\n",
    "                                 rotation_range=95,\n",
    "                                 #width_shift_range=0.2,\n",
    "                                 #height_shift_range=0.2,\n",
    "                                 #shear_range=0.2,\n",
    "                                 zoom_range=0.2,\n",
    "                                 fill_mode='nearest',\n",
    "                                 horizontal_flip=True,\n",
    "                                 vertical_flip=True)\n",
    "new_idg_val=ImageDataGenerator(rescale=1/255.0,\n",
    "                                 data_format='channels_last',\n",
    "                                 rotation_range=95,\n",
    "                                 #width_shift_range=0.2,\n",
    "                                 #height_shift_range=0.2,\n",
    "                                 #shear_range=0.2,\n",
    "                                 zoom_range=0.2,\n",
    "                                 fill_mode='nearest',\n",
    "                                 horizontal_flip=True,\n",
    "                                 vertical_flip=True)\n",
    "new_train_gen=new_idg_train.flow_from_dataframe(dataframe=train_df,\n",
    "                                        batch_size=32,\n",
    "                                        seed=10,\n",
    "                                        class_mode='categorical',\n",
    "                                        target_size=(28, 28),\n",
    "                                        x_col='Paths',\n",
    "                                        y_col='Shapes',\n",
    "                                        color_mode = 'grayscale')\n",
    "new_val_gen=new_idg_val.flow_from_dataframe(dataframe=val_df,\n",
    "                                       batch_size=32,\n",
    "                                       seed=10,\n",
    "                                       class_mode='categorical',\n",
    "                                       target_size=(28, 28),\n",
    "                                       x_col='Paths',\n",
    "                                       y_col='Shapes',\n",
    "                                       color_mode = 'grayscale'\n",
    "                                      )"
   ]
  },
  {
   "cell_type": "code",
   "execution_count": null,
   "id": "fb5543f0",
   "metadata": {},
   "outputs": [],
   "source": [
    "baseline_model_weighted_2_hidden_aug = tf.keras.models.Sequential([\n",
    "    tf.keras.layers.Flatten(input_shape=(28,28,1)),\n",
    "    tf.keras.layers.Dense(128, activation='relu'),\n",
    "    tf.keras.layers.Dense(256, activation='relu'),\n",
    "    tf.keras.layers.Dense(5,activation='softmax')\n",
    "])\n",
    "baseline_model_weighted_2_hidden_aug.compile(optimizer='adam',loss='categorical_crossentropy',\n",
    "              metrics=['categorical_accuracy'])\n",
    "fitted_baseline_model_weighted_2_hidden_aug=baseline_model_weighted_2_hidden_aug.fit(\n",
    "    new_train_gen,validation_data=new_val_gen,batch_size=32,epochs=100,class_weight=weights_dict,shuffle=False)"
   ]
  },
  {
   "cell_type": "code",
   "execution_count": null,
   "id": "d1e8980e",
   "metadata": {},
   "outputs": [],
   "source": [
    "plt.plot(fitted_baseline_model_weighted_2_hidden_aug.history['categorical_accuracy'],label='tr_acc')\n",
    "plt.plot(fitted_baseline_model_weighted_2_hidden_aug.history['val_categorical_accuracy'],label='val_acc')\n",
    "plt.legend(loc='best')"
   ]
  },
  {
   "cell_type": "code",
   "execution_count": null,
   "id": "6b1831b0",
   "metadata": {},
   "outputs": [],
   "source": [
    "#adding pooling and conv2dlayers"
   ]
  },
  {
   "cell_type": "code",
   "execution_count": null,
   "id": "b298e809",
   "metadata": {},
   "outputs": [],
   "source": [
    "# max_conv_model= tf.keras.models.Sequential([\n",
    "#     tf.keras.layers.Conv2D(5,(3,3),activation='relu',input_shape=(28,28,1)),\n",
    "#     tf.keras.layers.MaxPooling2D(2,2),\n",
    "#     tf.keras.layers.Flatten(input_shape=(28,28,1)),\n",
    "#     tf.keras.layers.Dense(32, activation='relu'),\n",
    "#     tf.keras.layers.Dense(5,activation='softmax')\n",
    "# ])\n",
    "# max_conv_model.compile(optimizer='adam',loss='categorical_crossentropy',\n",
    "#               metrics=['categorical_accuracy'])\n",
    "# fitted_max_conv_model=max_conv_model.fit(new_train_gen,validation_data=new_val_gen,batch_size=32,\n",
    "#                                          epochs=100,class_weight=weights_dict,shuffle=False)"
   ]
  },
  {
   "cell_type": "code",
   "execution_count": null,
   "id": "70d038fa",
   "metadata": {},
   "outputs": [],
   "source": [
    "max_conv_model=tf.keras.models.Sequential([\n",
    "                                  tf.keras.layers.Conv2D(5,(3,3),activation='relu',input_shape=(28,28,1)),\n",
    "                                  tf.keras.layers.MaxPooling2D(2,2),\n",
    "    \n",
    "    \n",
    "    \n",
    "        tf.keras.layers.Conv2D(64, (3, 3), activation='relu', padding='same'),\n",
    "    tf.keras.layers.Conv2D(64, (3, 3), activation='relu', padding='same'),\n",
    "    tf.keras.layers.MaxPooling2D((2, 2)),\n",
    "    \n",
    "    \n",
    "                                  tf.keras.layers.Flatten(),\n",
    "                                  tf.keras.layers.Dense(128,activation='relu'),\n",
    "                                  tf.keras.layers.Dense(256,activation='relu'),\n",
    "                                  tf.keras.layers.Dense(5,activation='softmax')\n",
    "])\n",
    "max_conv_model.compile(optimizer='sgd',loss='categorical_crossentropy',\n",
    "              metrics=['categorical_accuracy'])\n",
    "fitted_max_conv_model=max_conv_model.fit(new_train_gen,validation_data=new_val_gen,batch_size=32,epochs=100,class_weight=weights_dict,shuffle=False)"
   ]
  },
  {
   "cell_type": "code",
   "execution_count": null,
   "id": "dcb8c0b9",
   "metadata": {},
   "outputs": [],
   "source": [
    "max_conv_model.summary()"
   ]
  },
  {
   "cell_type": "code",
   "execution_count": null,
   "id": "1a34880b",
   "metadata": {},
   "outputs": [],
   "source": [
    "plt.plot(fitted_max_conv_model.history['categorical_accuracy'],label='tr_acc')\n",
    "plt.plot(fitted_max_conv_model.history['val_categorical_accuracy'],label='val_acc')\n",
    "plt.legend(loc='best')"
   ]
  },
  {
   "cell_type": "code",
   "execution_count": null,
   "id": "3a20f54b",
   "metadata": {},
   "outputs": [],
   "source": []
  },
  {
   "cell_type": "code",
   "execution_count": null,
   "id": "68fbff12",
   "metadata": {},
   "outputs": [],
   "source": []
  }
 ],
 "metadata": {
  "kernelspec": {
   "display_name": "Python 3 (ipykernel)",
   "language": "python",
   "name": "python3"
  },
  "language_info": {
   "codemirror_mode": {
    "name": "ipython",
    "version": 3
   },
   "file_extension": ".py",
   "mimetype": "text/x-python",
   "name": "python",
   "nbconvert_exporter": "python",
   "pygments_lexer": "ipython3",
   "version": "3.9.7"
  }
 },
 "nbformat": 4,
 "nbformat_minor": 5
}
