{
 "cells": [
  {
   "cell_type": "code",
   "execution_count": 1,
   "id": "17daba8b",
   "metadata": {},
   "outputs": [],
   "source": [
    "import numpy as np\n",
    "import os\n",
    "import PIL\n",
    "import PIL.Image\n",
    "import tensorflow as tf\n",
    "from sklearn.impute import SimpleImputer\n",
    "import pandas as pd\n",
    "from sklearn.model_selection import train_test_split\n",
    "import matplotlib.image as mpimg\n",
    "from keras.preprocessing import image\n",
    "from keras.preprocessing.image import ImageDataGenerator\n",
    "from keras.utils.vis_utils import plot_model\n",
    "from tensorflow.keras.optimizers import RMSprop"
   ]
  },
  {
   "cell_type": "code",
   "execution_count": 2,
   "id": "6f5850bc",
   "metadata": {},
   "outputs": [],
   "source": [
    "path =\"./trafficsigns_dataset/\"\n",
    "lst = []\n",
    "for root, dirs, files in os.walk(path):\n",
    "    for file in files:\n",
    "        if(file.endswith(\".png\")):\n",
    "#             print(root)\n",
    "            root1=root.split(\"/\")[-1].split(\"\\\\\")\n",
    "            filepath=path+root1[0]+'/'+root1[1]+'/'+file\n",
    "            lst.append([root1[0], root1[1], file, filepath])\n",
    "dfdata = pd.DataFrame(lst, columns=['shape', 'sign', 'imageName','filePath'])"
   ]
  },
  {
   "cell_type": "code",
   "execution_count": 79,
   "id": "b40c086d",
   "metadata": {},
   "outputs": [
    {
     "data": {
      "image/png": "[encoded data removed]",
      "text/plain": [
       "<Figure size 432x288 with 1 Axes>"
      ]
     },
     "metadata": {
      "needs_background": "light"
     },
     "output_type": "display_data"
    }
   ],
   "source": [
    "img = mpimg.imread(filepath)\n",
    "imgplot = plt.imshow(img)\n",
    "plt.show()"
   ]
  },
  {
   "cell_type": "code",
   "execution_count": 25,
   "id": "4fb666ce",
   "metadata": {},
   "outputs": [
    {
     "data": {
      "text/plain": [
       "'./trafficsigns_dataset/triangle/warning/01971_00002.png'"
      ]
     },
     "execution_count": 25,
     "metadata": {},
     "output_type": "execute_result"
    }
   ],
   "source": [
    "filepath"
   ]
  },
  {
   "cell_type": "code",
   "execution_count": 6,
   "id": "d9a84ed1",
   "metadata": {},
   "outputs": [],
   "source": [
    "root2=root.split(\"/\")\n",
    "root1=root.split(\"/\")[-1].split(\"\\\\\")"
   ]
  },
  {
   "cell_type": "code",
   "execution_count": 7,
   "id": "8270e774",
   "metadata": {},
   "outputs": [
    {
     "data": {
      "text/plain": [
       "['.', 'trafficsigns_dataset', 'triangle\\\\warning']"
      ]
     },
     "execution_count": 7,
     "metadata": {},
     "output_type": "execute_result"
    }
   ],
   "source": [
    "root2"
   ]
  },
  {
   "cell_type": "code",
   "execution_count": 15,
   "id": "a822cf97",
   "metadata": {},
   "outputs": [
    {
     "data": {
      "text/html": [
       "<div>\n",
       "<style scoped>\n",
       "    .dataframe tbody tr th:only-of-type {\n",
       "        vertical-align: middle;\n",
       "    }\n",
       "\n",
       "    .dataframe tbody tr th {\n",
       "        vertical-align: top;\n",
       "    }\n",
       "\n",
       "    .dataframe thead th {\n",
       "        text-align: right;\n",
       "    }\n",
       "</style>\n",
       "<table border=\"1\" class=\"dataframe\">\n",
       "  <thead>\n",
       "    <tr style=\"text-align: right;\">\n",
       "      <th></th>\n",
       "      <th>shape</th>\n",
       "      <th>sign</th>\n",
       "      <th>imageName</th>\n",
       "      <th>filePath</th>\n",
       "    </tr>\n",
       "  </thead>\n",
       "  <tbody>\n",
       "    <tr>\n",
       "      <th>0</th>\n",
       "      <td>diamond</td>\n",
       "      <td>rightofway</td>\n",
       "      <td>00032_00000.png</td>\n",
       "      <td>./trafficsigns_dataset/diamond/rightofway/0003...</td>\n",
       "    </tr>\n",
       "    <tr>\n",
       "      <th>1</th>\n",
       "      <td>diamond</td>\n",
       "      <td>rightofway</td>\n",
       "      <td>00032_00001.png</td>\n",
       "      <td>./trafficsigns_dataset/diamond/rightofway/0003...</td>\n",
       "    </tr>\n",
       "    <tr>\n",
       "      <th>2</th>\n",
       "      <td>diamond</td>\n",
       "      <td>rightofway</td>\n",
       "      <td>00032_00002.png</td>\n",
       "      <td>./trafficsigns_dataset/diamond/rightofway/0003...</td>\n",
       "    </tr>\n",
       "    <tr>\n",
       "      <th>3</th>\n",
       "      <td>diamond</td>\n",
       "      <td>rightofway</td>\n",
       "      <td>00037_00000.png</td>\n",
       "      <td>./trafficsigns_dataset/diamond/rightofway/0003...</td>\n",
       "    </tr>\n",
       "    <tr>\n",
       "      <th>4</th>\n",
       "      <td>diamond</td>\n",
       "      <td>rightofway</td>\n",
       "      <td>00037_00001.png</td>\n",
       "      <td>./trafficsigns_dataset/diamond/rightofway/0003...</td>\n",
       "    </tr>\n",
       "    <tr>\n",
       "      <th>...</th>\n",
       "      <td>...</td>\n",
       "      <td>...</td>\n",
       "      <td>...</td>\n",
       "      <td>...</td>\n",
       "    </tr>\n",
       "    <tr>\n",
       "      <th>3694</th>\n",
       "      <td>triangle</td>\n",
       "      <td>warning</td>\n",
       "      <td>01947_00001.png</td>\n",
       "      <td>./trafficsigns_dataset/triangle/warning/01947_...</td>\n",
       "    </tr>\n",
       "    <tr>\n",
       "      <th>3695</th>\n",
       "      <td>triangle</td>\n",
       "      <td>warning</td>\n",
       "      <td>01947_00002.png</td>\n",
       "      <td>./trafficsigns_dataset/triangle/warning/01947_...</td>\n",
       "    </tr>\n",
       "    <tr>\n",
       "      <th>3696</th>\n",
       "      <td>triangle</td>\n",
       "      <td>warning</td>\n",
       "      <td>01971_00000.png</td>\n",
       "      <td>./trafficsigns_dataset/triangle/warning/01971_...</td>\n",
       "    </tr>\n",
       "    <tr>\n",
       "      <th>3697</th>\n",
       "      <td>triangle</td>\n",
       "      <td>warning</td>\n",
       "      <td>01971_00001.png</td>\n",
       "      <td>./trafficsigns_dataset/triangle/warning/01971_...</td>\n",
       "    </tr>\n",
       "    <tr>\n",
       "      <th>3698</th>\n",
       "      <td>triangle</td>\n",
       "      <td>warning</td>\n",
       "      <td>01971_00002.png</td>\n",
       "      <td>./trafficsigns_dataset/triangle/warning/01971_...</td>\n",
       "    </tr>\n",
       "  </tbody>\n",
       "</table>\n",
       "<p>3699 rows × 4 columns</p>\n",
       "</div>"
      ],
      "text/plain": [
       "         shape        sign        imageName  \\\n",
       "0      diamond  rightofway  00032_00000.png   \n",
       "1      diamond  rightofway  00032_00001.png   \n",
       "2      diamond  rightofway  00032_00002.png   \n",
       "3      diamond  rightofway  00037_00000.png   \n",
       "4      diamond  rightofway  00037_00001.png   \n",
       "...        ...         ...              ...   \n",
       "3694  triangle     warning  01947_00001.png   \n",
       "3695  triangle     warning  01947_00002.png   \n",
       "3696  triangle     warning  01971_00000.png   \n",
       "3697  triangle     warning  01971_00001.png   \n",
       "3698  triangle     warning  01971_00002.png   \n",
       "\n",
       "                                               filePath  \n",
       "0     ./trafficsigns_dataset/diamond/rightofway/0003...  \n",
       "1     ./trafficsigns_dataset/diamond/rightofway/0003...  \n",
       "2     ./trafficsigns_dataset/diamond/rightofway/0003...  \n",
       "3     ./trafficsigns_dataset/diamond/rightofway/0003...  \n",
       "4     ./trafficsigns_dataset/diamond/rightofway/0003...  \n",
       "...                                                 ...  \n",
       "3694  ./trafficsigns_dataset/triangle/warning/01947_...  \n",
       "3695  ./trafficsigns_dataset/triangle/warning/01947_...  \n",
       "3696  ./trafficsigns_dataset/triangle/warning/01971_...  \n",
       "3697  ./trafficsigns_dataset/triangle/warning/01971_...  \n",
       "3698  ./trafficsigns_dataset/triangle/warning/01971_...  \n",
       "\n",
       "[3699 rows x 4 columns]"
      ]
     },
     "execution_count": 15,
     "metadata": {},
     "output_type": "execute_result"
    }
   ],
   "source": [
    "dfdata"
   ]
  },
  {
   "cell_type": "code",
   "execution_count": 16,
   "id": "0a84194f",
   "metadata": {},
   "outputs": [
    {
     "data": {
      "image/png": "[encoded data removed]",
      "text/plain": [
       "<Figure size 2160x3600 with 2 Axes>"
      ]
     },
     "metadata": {
      "needs_background": "light"
     },
     "output_type": "display_data"
    }
   ],
   "source": [
    "import matplotlib.pyplot as plt\n",
    "\n",
    "plt.figure(figsize=(30,50))\n",
    "for i, col in enumerate(['shape', 'sign']):\n",
    "    plt.subplot(10,4,i+1)\n",
    "    plt.hist(dfdata[col], alpha=0.3, color='cyan',bins=35)\n",
    "    plt.title(col)\n",
    "    plt.xticks(rotation='vertical')"
   ]
  },
  {
   "cell_type": "code",
   "execution_count": 16,
   "id": "c281e5c1",
   "metadata": {},
   "outputs": [
    {
     "data": {
      "text/plain": [
       "round       1760\n",
       "triangle     926\n",
       "square       688\n",
       "diamond      282\n",
       "hex           43\n",
       "Name: shape, dtype: int64"
      ]
     },
     "execution_count": 16,
     "metadata": {},
     "output_type": "execute_result"
    }
   ],
   "source": [
    "dfdata['shape'].value_counts()"
   ]
  },
  {
   "cell_type": "code",
   "execution_count": 18,
   "id": "d67d45bd",
   "metadata": {},
   "outputs": [
    {
     "data": {
      "text/plain": [
       "warning             695\n",
       "noentry             375\n",
       "speed               316\n",
       "bicycle             285\n",
       "rightofway          282\n",
       "parking             276\n",
       "noparking           242\n",
       "giveway             231\n",
       "continue            199\n",
       "trafficdirective    195\n",
       "limitedtraffic      125\n",
       "traveldirection     124\n",
       "laneend             118\n",
       "roundabout           98\n",
       "crossing             95\n",
       "stop                 43\n",
       "Name: sign, dtype: int64"
      ]
     },
     "execution_count": 18,
     "metadata": {},
     "output_type": "execute_result"
    }
   ],
   "source": [
    "dfdata['sign'].value_counts()"
   ]
  },
  {
   "cell_type": "code",
   "execution_count": null,
   "id": "4b95dd90",
   "metadata": {},
   "outputs": [],
   "source": [
    "#traintestsplit"
   ]
  },
  {
   "cell_type": "code",
   "execution_count": 46,
   "id": "5f50a01e",
   "metadata": {},
   "outputs": [],
   "source": [
    "model_1_df=pd.DataFrame()\n",
    "model_1_df['Path']=dfdata['filePath']\n",
    "model_1_df['Shape']=dfdata['shape']"
   ]
  },
  {
   "cell_type": "code",
   "execution_count": 47,
   "id": "6d1c935b",
   "metadata": {},
   "outputs": [
    {
     "data": {
      "text/html": [
       "<div>\n",
       "<style scoped>\n",
       "    .dataframe tbody tr th:only-of-type {\n",
       "        vertical-align: middle;\n",
       "    }\n",
       "\n",
       "    .dataframe tbody tr th {\n",
       "        vertical-align: top;\n",
       "    }\n",
       "\n",
       "    .dataframe thead th {\n",
       "        text-align: right;\n",
       "    }\n",
       "</style>\n",
       "<table border=\"1\" class=\"dataframe\">\n",
       "  <thead>\n",
       "    <tr style=\"text-align: right;\">\n",
       "      <th></th>\n",
       "      <th>Path</th>\n",
       "      <th>Shape</th>\n",
       "    </tr>\n",
       "  </thead>\n",
       "  <tbody>\n",
       "    <tr>\n",
       "      <th>0</th>\n",
       "      <td>./trafficsigns_dataset/diamond/rightofway/0003...</td>\n",
       "      <td>diamond</td>\n",
       "    </tr>\n",
       "    <tr>\n",
       "      <th>1</th>\n",
       "      <td>./trafficsigns_dataset/diamond/rightofway/0003...</td>\n",
       "      <td>diamond</td>\n",
       "    </tr>\n",
       "    <tr>\n",
       "      <th>2</th>\n",
       "      <td>./trafficsigns_dataset/diamond/rightofway/0003...</td>\n",
       "      <td>diamond</td>\n",
       "    </tr>\n",
       "    <tr>\n",
       "      <th>3</th>\n",
       "      <td>./trafficsigns_dataset/diamond/rightofway/0003...</td>\n",
       "      <td>diamond</td>\n",
       "    </tr>\n",
       "    <tr>\n",
       "      <th>4</th>\n",
       "      <td>./trafficsigns_dataset/diamond/rightofway/0003...</td>\n",
       "      <td>diamond</td>\n",
       "    </tr>\n",
       "    <tr>\n",
       "      <th>...</th>\n",
       "      <td>...</td>\n",
       "      <td>...</td>\n",
       "    </tr>\n",
       "    <tr>\n",
       "      <th>3694</th>\n",
       "      <td>./trafficsigns_dataset/triangle/warning/01947_...</td>\n",
       "      <td>triangle</td>\n",
       "    </tr>\n",
       "    <tr>\n",
       "      <th>3695</th>\n",
       "      <td>./trafficsigns_dataset/triangle/warning/01947_...</td>\n",
       "      <td>triangle</td>\n",
       "    </tr>\n",
       "    <tr>\n",
       "      <th>3696</th>\n",
       "      <td>./trafficsigns_dataset/triangle/warning/01971_...</td>\n",
       "      <td>triangle</td>\n",
       "    </tr>\n",
       "    <tr>\n",
       "      <th>3697</th>\n",
       "      <td>./trafficsigns_dataset/triangle/warning/01971_...</td>\n",
       "      <td>triangle</td>\n",
       "    </tr>\n",
       "    <tr>\n",
       "      <th>3698</th>\n",
       "      <td>./trafficsigns_dataset/triangle/warning/01971_...</td>\n",
       "      <td>triangle</td>\n",
       "    </tr>\n",
       "  </tbody>\n",
       "</table>\n",
       "<p>3699 rows × 2 columns</p>\n",
       "</div>"
      ],
      "text/plain": [
       "                                                   Path     Shape\n",
       "0     ./trafficsigns_dataset/diamond/rightofway/0003...   diamond\n",
       "1     ./trafficsigns_dataset/diamond/rightofway/0003...   diamond\n",
       "2     ./trafficsigns_dataset/diamond/rightofway/0003...   diamond\n",
       "3     ./trafficsigns_dataset/diamond/rightofway/0003...   diamond\n",
       "4     ./trafficsigns_dataset/diamond/rightofway/0003...   diamond\n",
       "...                                                 ...       ...\n",
       "3694  ./trafficsigns_dataset/triangle/warning/01947_...  triangle\n",
       "3695  ./trafficsigns_dataset/triangle/warning/01947_...  triangle\n",
       "3696  ./trafficsigns_dataset/triangle/warning/01971_...  triangle\n",
       "3697  ./trafficsigns_dataset/triangle/warning/01971_...  triangle\n",
       "3698  ./trafficsigns_dataset/triangle/warning/01971_...  triangle\n",
       "\n",
       "[3699 rows x 2 columns]"
      ]
     },
     "execution_count": 47,
     "metadata": {},
     "output_type": "execute_result"
    }
   ],
   "source": []
  },
  {
   "cell_type": "code",
   "execution_count": 41,
   "id": "670ad87d",
   "metadata": {},
   "outputs": [],
   "source": [
    "trainX,valX,trainY,valY = train_test_split(dfdata['filePath'],dfdata['shape'],test_size=0.2,random_state=10)"
   ]
  },
  {
   "cell_type": "code",
   "execution_count": 45,
   "id": "c7c92c64",
   "metadata": {},
   "outputs": [
    {
     "data": {
      "text/plain": [
       "92      ./trafficsigns_dataset/diamond/rightofway/0095...\n",
       "898     ./trafficsigns_dataset/round/noentry/01057_000...\n",
       "1049    ./trafficsigns_dataset/round/noentry/01527_000...\n",
       "1437    ./trafficsigns_dataset/round/roundabout/01355_...\n",
       "107     ./trafficsigns_dataset/diamond/rightofway/0101...\n",
       "                              ...                        \n",
       "3441    ./trafficsigns_dataset/triangle/warning/01087_...\n",
       "1344    ./trafficsigns_dataset/round/noparking/01825_0...\n",
       "527     ./trafficsigns_dataset/round/bicycle/01208_000...\n",
       "3197    ./trafficsigns_dataset/triangle/warning/00319_...\n",
       "1289    ./trafficsigns_dataset/round/noparking/01566_0...\n",
       "Name: filePath, Length: 2959, dtype: object"
      ]
     },
     "execution_count": 45,
     "metadata": {},
     "output_type": "execute_result"
    }
   ],
   "source": [
    "trainX"
   ]
  },
  {
   "cell_type": "code",
   "execution_count": 40,
   "id": "3e5be7a8",
   "metadata": {},
   "outputs": [],
   "source": [
    "#imagedatagenerators"
   ]
  },
  {
   "cell_type": "code",
   "execution_count": 92,
   "id": "abde8682",
   "metadata": {},
   "outputs": [],
   "source": [
    "idg_train=ImageDataGenerator(rescale=1/255.0,validation_split=0.20,data_format='channels_last')"
   ]
  },
  {
   "cell_type": "code",
   "execution_count": 114,
   "id": "af53fb43",
   "metadata": {},
   "outputs": [
    {
     "name": "stdout",
     "output_type": "stream",
     "text": [
      "Found 2960 validated image filenames belonging to 5 classes.\n",
      "Found 739 validated image filenames belonging to 5 classes.\n"
     ]
    }
   ],
   "source": [
    "train_gen=idg_train.flow_from_dataframe(dataframe=model_1_df,\n",
    "                                        batch_size=32,\n",
    "                                        #seed=10,\n",
    "                                        subset=\"training\",\n",
    "                                        class_mode='categorical',\n",
    "                                        target_size=(28, 28),\n",
    "                                        x_col='Path',\n",
    "                                        y_col='Shape')\n",
    "test_gen=idg_train.flow_from_dataframe(dataframe=model_1_df,\n",
    "                                       batch_size=32,\n",
    "                                       #seed=10,\n",
    "                                       subset=\"validation\",\n",
    "                                       class_mode='categorical',\n",
    "                                       target_size=(28, 28),\n",
    "                                       x_col='Path',\n",
    "                                       y_col='Shape'\n",
    "                                      )"
   ]
  },
  {
   "cell_type": "code",
   "execution_count": null,
   "id": "a1749e0b",
   "metadata": {},
   "outputs": [],
   "source": [
    "#baseline"
   ]
  },
  {
   "cell_type": "code",
   "execution_count": 108,
   "id": "52ebb9e9",
   "metadata": {},
   "outputs": [],
   "source": [
    "baseline_model = tf.keras.models.Sequential([\n",
    "    tf.keras.layers.Flatten(input_shape=(28,28,3)),\n",
    "    tf.keras.layers.Dense(32, activation='relu'),\n",
    "    tf.keras.layers.Dense(5)\n",
    "])"
   ]
  },
  {
   "cell_type": "code",
   "execution_count": 109,
   "id": "3b1e179c",
   "metadata": {},
   "outputs": [
    {
     "name": "stdout",
     "output_type": "stream",
     "text": [
      "Model: \"sequential_8\"\n",
      "_________________________________________________________________\n",
      " Layer (type)                Output Shape              Param #   \n",
      "=================================================================\n",
      " flatten_8 (Flatten)         (None, 2352)              0         \n",
      "                                                                 \n",
      " dense_16 (Dense)            (None, 32)                75296     \n",
      "                                                                 \n",
      " dense_17 (Dense)            (None, 5)                 165       \n",
      "                                                                 \n",
      "=================================================================\n",
      "Total params: 75,461\n",
      "Trainable params: 75,461\n",
      "Non-trainable params: 0\n",
      "_________________________________________________________________\n"
     ]
    }
   ],
   "source": [
    "baseline_model.summary()"
   ]
  },
  {
   "cell_type": "code",
   "execution_count": 110,
   "id": "a7203fa0",
   "metadata": {},
   "outputs": [
    {
     "name": "stdout",
     "output_type": "stream",
     "text": [
      "You must install pydot (`pip install pydot`) and install graphviz (see instructions at https://graphviz.gitlab.io/download/) for plot_model/model_to_dot to work.\n"
     ]
    }
   ],
   "source": [
    "plot_model(baseline_model,show_shapes=True)"
   ]
  },
  {
   "cell_type": "code",
   "execution_count": 119,
   "id": "4601f167",
   "metadata": {},
   "outputs": [],
   "source": [
    "baseline_model.compile(optimizer='SGD',loss=tf.keras.losses.CategoricalCrossentropy(from_logits=True),\n",
    "              metrics=['categorical_accuracy'])"
   ]
  },
  {
   "cell_type": "code",
   "execution_count": 120,
   "id": "e55018c0",
   "metadata": {},
   "outputs": [
    {
     "name": "stdout",
     "output_type": "stream",
     "text": [
      "Epoch 1/20\n",
      "93/93 [==============================] - 1s 11ms/step - loss: 1.4695 - categorical_accuracy: 0.5753 - val_loss: 2.9906 - val_categorical_accuracy: 0.5074\n",
      "Epoch 2/20\n",
      "93/93 [==============================] - 1s 9ms/step - loss: 0.6028 - categorical_accuracy: 0.8047 - val_loss: 3.9599 - val_categorical_accuracy: 0.1434\n",
      "Epoch 3/20\n",
      "93/93 [==============================] - 1s 10ms/step - loss: 0.4468 - categorical_accuracy: 0.8706 - val_loss: 3.9463 - val_categorical_accuracy: 0.5061\n",
      "Epoch 4/20\n",
      "93/93 [==============================] - 1s 10ms/step - loss: 0.3635 - categorical_accuracy: 0.8993 - val_loss: 4.2154 - val_categorical_accuracy: 0.4655\n",
      "Epoch 5/20\n",
      "93/93 [==============================] - 1s 10ms/step - loss: 0.3128 - categorical_accuracy: 0.9152 - val_loss: 4.4527 - val_categorical_accuracy: 0.5156\n",
      "Epoch 6/20\n",
      "93/93 [==============================] - 1s 10ms/step - loss: 0.2759 - categorical_accuracy: 0.9264 - val_loss: 4.6254 - val_categorical_accuracy: 0.4046\n",
      "Epoch 7/20\n",
      "93/93 [==============================] - 1s 10ms/step - loss: 0.2502 - categorical_accuracy: 0.9307 - val_loss: 4.7338 - val_categorical_accuracy: 0.4547\n",
      "Epoch 8/20\n",
      "93/93 [==============================] - 1s 10ms/step - loss: 0.2279 - categorical_accuracy: 0.9449 - val_loss: 4.8682 - val_categorical_accuracy: 0.4465\n",
      "Epoch 9/20\n",
      "93/93 [==============================] - 1s 10ms/step - loss: 0.2105 - categorical_accuracy: 0.9470 - val_loss: 5.0770 - val_categorical_accuracy: 0.5088\n",
      "Epoch 10/20\n",
      "93/93 [==============================] - 1s 10ms/step - loss: 0.1944 - categorical_accuracy: 0.9503 - val_loss: 5.0959 - val_categorical_accuracy: 0.4127\n",
      "Epoch 11/20\n",
      "93/93 [==============================] - 1s 10ms/step - loss: 0.1822 - categorical_accuracy: 0.9551 - val_loss: 5.1789 - val_categorical_accuracy: 0.4682\n",
      "Epoch 12/20\n",
      "93/93 [==============================] - 1s 10ms/step - loss: 0.1700 - categorical_accuracy: 0.9551 - val_loss: 5.4134 - val_categorical_accuracy: 0.3383\n",
      "Epoch 13/20\n",
      "93/93 [==============================] - 1s 10ms/step - loss: 0.1662 - categorical_accuracy: 0.9578 - val_loss: 5.3766 - val_categorical_accuracy: 0.4993\n",
      "Epoch 14/20\n",
      "93/93 [==============================] - 1s 10ms/step - loss: 0.1554 - categorical_accuracy: 0.9605 - val_loss: 5.4600 - val_categorical_accuracy: 0.5047\n",
      "Epoch 15/20\n",
      "93/93 [==============================] - 1s 10ms/step - loss: 0.1474 - categorical_accuracy: 0.9578 - val_loss: 5.5488 - val_categorical_accuracy: 0.5088\n",
      "Epoch 16/20\n",
      "93/93 [==============================] - 1s 10ms/step - loss: 0.1447 - categorical_accuracy: 0.9615 - val_loss: 5.5121 - val_categorical_accuracy: 0.4303\n",
      "Epoch 17/20\n",
      "93/93 [==============================] - 1s 10ms/step - loss: 0.1354 - categorical_accuracy: 0.9652 - val_loss: 5.6096 - val_categorical_accuracy: 0.4953\n",
      "Epoch 18/20\n",
      "93/93 [==============================] - 1s 10ms/step - loss: 0.1332 - categorical_accuracy: 0.9632 - val_loss: 5.7395 - val_categorical_accuracy: 0.4181\n",
      "Epoch 19/20\n",
      "93/93 [==============================] - 1s 10ms/step - loss: 0.1281 - categorical_accuracy: 0.9652 - val_loss: 5.6559 - val_categorical_accuracy: 0.4425\n",
      "Epoch 20/20\n",
      "93/93 [==============================] - 1s 10ms/step - loss: 0.1225 - categorical_accuracy: 0.9655 - val_loss: 5.7383 - val_categorical_accuracy: 0.4790\n"
     ]
    },
    {
     "data": {
      "text/plain": [
       "<keras.callbacks.History at 0x1962553b940>"
      ]
     },
     "execution_count": 120,
     "metadata": {},
     "output_type": "execute_result"
    }
   ],
   "source": [
    "baseline_model.fit(train_gen,validation_data=test_gen,batch_size=32,epochs=20)"
   ]
  },
  {
   "cell_type": "code",
   "execution_count": null,
   "id": "02420aaa",
   "metadata": {},
   "outputs": [],
   "source": []
  },
  {
   "cell_type": "code",
   "execution_count": null,
   "id": "3f2a144e",
   "metadata": {},
   "outputs": [],
   "source": []
  }
 ],
 "metadata": {
  "kernelspec": {
   "display_name": "Python 3 (ipykernel)",
   "language": "python",
   "name": "python3"
  },
  "language_info": {
   "codemirror_mode": {
    "name": "ipython",
    "version": 3
   },
   "file_extension": ".py",
   "mimetype": "text/x-python",
   "name": "python",
   "nbconvert_exporter": "python",
   "pygments_lexer": "ipython3",
   "version": "3.9.7"
  }
 },
 "nbformat": 4,
 "nbformat_minor": 5
}
