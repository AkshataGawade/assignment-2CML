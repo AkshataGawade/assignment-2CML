{
 "cells": [
  {
   "cell_type": "code",
   "execution_count": 1,
   "id": "17daba8b",
   "metadata": {},
   "outputs": [],
   "source": [
    "import numpy as np\n",
    "import os\n",
    "import PIL\n",
    "import PIL.Image\n",
    "import tensorflow as tf\n",
    "from sklearn.impute import SimpleImputer\n",
    "import pandas as pd\n",
    "from sklearn.model_selection import train_test_split\n",
    "import matplotlib.image as mpimg\n",
    "from keras.preprocessing import image\n",
    "from keras.preprocessing.image import ImageDataGenerator\n",
    "from keras.utils.vis_utils import plot_model\n",
    "from tensorflow.keras.optimizers import RMSprop\n",
    "import matplotlib.pyplot as plt\n",
    "from sklearn.utils.class_weight import compute_class_weight"
   ]
  },
  {
   "cell_type": "code",
   "execution_count": 2,
   "id": "6f5850bc",
   "metadata": {},
   "outputs": [],
   "source": [
    "path =\"./trafficsigns_dataset/\"\n",
    "lst = []\n",
    "for root, dirs, files in os.walk(path):\n",
    "    for file in files:\n",
    "        if(file.endswith(\".png\")):\n",
    "#             print(root)\n",
    "            root1=root.split(\"/\")[-1].split(\"\\\\\")\n",
    "            filepath=path+root1[0]+'/'+root1[1]+'/'+file\n",
    "            lst.append([root1[0], root1[1], file, filepath])\n",
    "dfdata = pd.DataFrame(lst, columns=['shape', 'sign', 'imageName','filePath'])"
   ]
  },
  {
   "cell_type": "code",
   "execution_count": 3,
   "id": "b40c086d",
   "metadata": {},
   "outputs": [
    {
     "data": {
      "image/png": "[encoded data removed]",
      "text/plain": [
       "<Figure size 432x288 with 1 Axes>"
      ]
     },
     "metadata": {
      "needs_background": "light"
     },
     "output_type": "display_data"
    }
   ],
   "source": [
    "img = mpimg.imread(filepath)\n",
    "imgplot = plt.imshow(img, cmap='gray')\n",
    "plt.show()"
   ]
  },
  {
   "cell_type": "code",
   "execution_count": 4,
   "id": "013a4ba3",
   "metadata": {},
   "outputs": [
    {
     "data": {
      "text/plain": [
       "(28, 28)"
      ]
     },
     "execution_count": 4,
     "metadata": {},
     "output_type": "execute_result"
    }
   ],
   "source": [
    "img.shape"
   ]
  },
  {
   "cell_type": "code",
   "execution_count": 5,
   "id": "0a84194f",
   "metadata": {},
   "outputs": [
    {
     "data": {
      "image/png": "[encoded data removed]",
      "text/plain": [
       "<Figure size 2160x3600 with 2 Axes>"
      ]
     },
     "metadata": {
      "needs_background": "light"
     },
     "output_type": "display_data"
    }
   ],
   "source": [
    "plt.figure(figsize=(30,50))\n",
    "for i, col in enumerate(['shape', 'sign']):\n",
    "    plt.subplot(10,4,i+1)\n",
    "    plt.hist(dfdata[col], alpha=0.3, color='blue',bins=35)\n",
    "    plt.title(col)\n",
    "    plt.xticks(rotation='vertical')"
   ]
  },
  {
   "cell_type": "code",
   "execution_count": 6,
   "id": "c281e5c1",
   "metadata": {},
   "outputs": [
    {
     "data": {
      "text/plain": [
       "round       1760\n",
       "triangle     926\n",
       "square       688\n",
       "diamond      282\n",
       "hex           43\n",
       "Name: shape, dtype: int64"
      ]
     },
     "execution_count": 6,
     "metadata": {},
     "output_type": "execute_result"
    }
   ],
   "source": [
    "dfdata['shape'].value_counts()"
   ]
  },
  {
   "cell_type": "code",
   "execution_count": 7,
   "id": "d67d45bd",
   "metadata": {},
   "outputs": [
    {
     "data": {
      "text/plain": [
       "warning             695\n",
       "noentry             375\n",
       "speed               316\n",
       "bicycle             285\n",
       "rightofway          282\n",
       "parking             276\n",
       "noparking           242\n",
       "giveway             231\n",
       "continue            199\n",
       "trafficdirective    195\n",
       "limitedtraffic      125\n",
       "traveldirection     124\n",
       "laneend             118\n",
       "roundabout           98\n",
       "crossing             95\n",
       "stop                 43\n",
       "Name: sign, dtype: int64"
      ]
     },
     "execution_count": 7,
     "metadata": {},
     "output_type": "execute_result"
    }
   ],
   "source": [
    "dfdata['sign'].value_counts()"
   ]
  },
  {
   "cell_type": "code",
   "execution_count": 8,
   "id": "5f50a01e",
   "metadata": {},
   "outputs": [],
   "source": [
    "model_1_df=pd.DataFrame()\n",
    "model_1_df['Path']=dfdata['filePath']\n",
    "model_1_df['Shape']=dfdata['shape']"
   ]
  },
  {
   "cell_type": "code",
   "execution_count": 9,
   "id": "6d1c935b",
   "metadata": {},
   "outputs": [
    {
     "data": {
      "text/html": [
       "<div>\n",
       "<style scoped>\n",
       "    .dataframe tbody tr th:only-of-type {\n",
       "        vertical-align: middle;\n",
       "    }\n",
       "\n",
       "    .dataframe tbody tr th {\n",
       "        vertical-align: top;\n",
       "    }\n",
       "\n",
       "    .dataframe thead th {\n",
       "        text-align: right;\n",
       "    }\n",
       "</style>\n",
       "<table border=\"1\" class=\"dataframe\">\n",
       "  <thead>\n",
       "    <tr style=\"text-align: right;\">\n",
       "      <th></th>\n",
       "      <th>Path</th>\n",
       "      <th>Shape</th>\n",
       "    </tr>\n",
       "  </thead>\n",
       "  <tbody>\n",
       "    <tr>\n",
       "      <th>0</th>\n",
       "      <td>./trafficsigns_dataset/diamond/rightofway/0003...</td>\n",
       "      <td>diamond</td>\n",
       "    </tr>\n",
       "    <tr>\n",
       "      <th>1</th>\n",
       "      <td>./trafficsigns_dataset/diamond/rightofway/0003...</td>\n",
       "      <td>diamond</td>\n",
       "    </tr>\n",
       "    <tr>\n",
       "      <th>2</th>\n",
       "      <td>./trafficsigns_dataset/diamond/rightofway/0003...</td>\n",
       "      <td>diamond</td>\n",
       "    </tr>\n",
       "    <tr>\n",
       "      <th>3</th>\n",
       "      <td>./trafficsigns_dataset/diamond/rightofway/0003...</td>\n",
       "      <td>diamond</td>\n",
       "    </tr>\n",
       "    <tr>\n",
       "      <th>4</th>\n",
       "      <td>./trafficsigns_dataset/diamond/rightofway/0003...</td>\n",
       "      <td>diamond</td>\n",
       "    </tr>\n",
       "    <tr>\n",
       "      <th>...</th>\n",
       "      <td>...</td>\n",
       "      <td>...</td>\n",
       "    </tr>\n",
       "    <tr>\n",
       "      <th>3694</th>\n",
       "      <td>./trafficsigns_dataset/triangle/warning/01947_...</td>\n",
       "      <td>triangle</td>\n",
       "    </tr>\n",
       "    <tr>\n",
       "      <th>3695</th>\n",
       "      <td>./trafficsigns_dataset/triangle/warning/01947_...</td>\n",
       "      <td>triangle</td>\n",
       "    </tr>\n",
       "    <tr>\n",
       "      <th>3696</th>\n",
       "      <td>./trafficsigns_dataset/triangle/warning/01971_...</td>\n",
       "      <td>triangle</td>\n",
       "    </tr>\n",
       "    <tr>\n",
       "      <th>3697</th>\n",
       "      <td>./trafficsigns_dataset/triangle/warning/01971_...</td>\n",
       "      <td>triangle</td>\n",
       "    </tr>\n",
       "    <tr>\n",
       "      <th>3698</th>\n",
       "      <td>./trafficsigns_dataset/triangle/warning/01971_...</td>\n",
       "      <td>triangle</td>\n",
       "    </tr>\n",
       "  </tbody>\n",
       "</table>\n",
       "<p>3699 rows × 2 columns</p>\n",
       "</div>"
      ],
      "text/plain": [
       "                                                   Path     Shape\n",
       "0     ./trafficsigns_dataset/diamond/rightofway/0003...   diamond\n",
       "1     ./trafficsigns_dataset/diamond/rightofway/0003...   diamond\n",
       "2     ./trafficsigns_dataset/diamond/rightofway/0003...   diamond\n",
       "3     ./trafficsigns_dataset/diamond/rightofway/0003...   diamond\n",
       "4     ./trafficsigns_dataset/diamond/rightofway/0003...   diamond\n",
       "...                                                 ...       ...\n",
       "3694  ./trafficsigns_dataset/triangle/warning/01947_...  triangle\n",
       "3695  ./trafficsigns_dataset/triangle/warning/01947_...  triangle\n",
       "3696  ./trafficsigns_dataset/triangle/warning/01971_...  triangle\n",
       "3697  ./trafficsigns_dataset/triangle/warning/01971_...  triangle\n",
       "3698  ./trafficsigns_dataset/triangle/warning/01971_...  triangle\n",
       "\n",
       "[3699 rows x 2 columns]"
      ]
     },
     "execution_count": 9,
     "metadata": {},
     "output_type": "execute_result"
    }
   ],
   "source": [
    "model_1_df"
   ]
  },
  {
   "cell_type": "code",
   "execution_count": 10,
   "id": "84b327cd",
   "metadata": {},
   "outputs": [],
   "source": [
    "trainX,valX,trainY,valY=train_test_split(model_1_df[\"Path\"],model_1_df[\"Shape\"],test_size=0.2,shuffle=True,random_state=10)"
   ]
  },
  {
   "cell_type": "code",
   "execution_count": 11,
   "id": "2413433f",
   "metadata": {},
   "outputs": [
    {
     "data": {
      "text/plain": [
       "round       1390\n",
       "triangle     744\n",
       "square       573\n",
       "diamond      215\n",
       "hex           37\n",
       "Name: Shape, dtype: int64"
      ]
     },
     "execution_count": 11,
     "metadata": {},
     "output_type": "execute_result"
    }
   ],
   "source": [
    "trainY\n",
    "trainY.value_counts()"
   ]
  },
  {
   "cell_type": "code",
   "execution_count": 12,
   "id": "f2ee7154",
   "metadata": {},
   "outputs": [
    {
     "data": {
      "text/plain": [
       "round       370\n",
       "triangle    182\n",
       "square      115\n",
       "diamond      67\n",
       "hex           6\n",
       "Name: Shape, dtype: int64"
      ]
     },
     "execution_count": 12,
     "metadata": {},
     "output_type": "execute_result"
    }
   ],
   "source": [
    "valY.value_counts()"
   ]
  },
  {
   "cell_type": "code",
   "execution_count": 13,
   "id": "1c32e08d",
   "metadata": {},
   "outputs": [],
   "source": [
    "train_df=pd.DataFrame()\n",
    "train_df[\"Paths\"]=trainX\n",
    "train_df[\"Shapes\"]=trainY\n",
    "val_df=pd.DataFrame()\n",
    "val_df[\"Paths\"]=valX\n",
    "val_df[\"Shapes\"]=valY"
   ]
  },
  {
   "cell_type": "code",
   "execution_count": 14,
   "id": "cc249132",
   "metadata": {},
   "outputs": [
    {
     "data": {
      "text/plain": [
       "(740, 2)"
      ]
     },
     "execution_count": 14,
     "metadata": {},
     "output_type": "execute_result"
    }
   ],
   "source": [
    "val_df.shape"
   ]
  },
  {
   "cell_type": "code",
   "execution_count": 15,
   "id": "3e5be7a8",
   "metadata": {},
   "outputs": [],
   "source": [
    "#imagedatagenerators"
   ]
  },
  {
   "cell_type": "code",
   "execution_count": 16,
   "id": "abde8682",
   "metadata": {},
   "outputs": [],
   "source": [
    "idg_train=ImageDataGenerator(rescale=1/255.0,data_format='channels_last')\n",
    "idg_val=ImageDataGenerator(rescale=1/255.0,data_format='channels_last')"
   ]
  },
  {
   "cell_type": "code",
   "execution_count": 38,
   "id": "af53fb43",
   "metadata": {},
   "outputs": [
    {
     "name": "stdout",
     "output_type": "stream",
     "text": [
      "Found 2959 validated image filenames belonging to 5 classes.\n",
      "Found 740 validated image filenames belonging to 5 classes.\n"
     ]
    }
   ],
   "source": [
    "train_gen=idg_train.flow_from_dataframe(dataframe=train_df,\n",
    "                                        batch_size=32,\n",
    "#                                         seed=10,\n",
    "                                        class_mode='categorical',\n",
    "                                        target_size=(28, 28),\n",
    "                                        x_col='Paths',\n",
    "                                        y_col='Shapes',\n",
    "                                        color_mode = 'grayscale')\n",
    "val_gen=idg_val.flow_from_dataframe(dataframe=val_df,\n",
    "                                       batch_size=32,\n",
    "#                                        seed=10,\n",
    "                                       class_mode='categorical',\n",
    "                                       target_size=(28, 28),\n",
    "                                       x_col='Paths',\n",
    "                                       y_col='Shapes',\n",
    "                                       color_mode = 'grayscale'\n",
    "                                      )"
   ]
  },
  {
   "cell_type": "code",
   "execution_count": 39,
   "id": "8f48c9e8",
   "metadata": {},
   "outputs": [
    {
     "data": {
      "text/plain": [
       "<keras.preprocessing.image.DataFrameIterator at 0x2cdd6a37ee0>"
      ]
     },
     "execution_count": 39,
     "metadata": {},
     "output_type": "execute_result"
    }
   ],
   "source": [
    "train_gen"
   ]
  },
  {
   "cell_type": "code",
   "execution_count": 40,
   "id": "a1749e0b",
   "metadata": {},
   "outputs": [],
   "source": [
    "#baseline"
   ]
  },
  {
   "cell_type": "code",
   "execution_count": 41,
   "id": "52ebb9e9",
   "metadata": {},
   "outputs": [],
   "source": [
    "baseline_model = tf.keras.models.Sequential([\n",
    "#     tf.keras.layers.Conv2D(5,(3,3),activation='relu',input_shape=(28,28,1)),\n",
    "#     tf.keras.layers.MaxPooling2D(2,2),\n",
    "    tf.keras.layers.Flatten(input_shape=(28,28,3)),\n",
    "    tf.keras.layers.Dense(32, activation='relu'),\n",
    "    tf.keras.layers.Dense(5,activation='softmax')\n",
    "])"
   ]
  },
  {
   "cell_type": "code",
   "execution_count": 42,
   "id": "3b1e179c",
   "metadata": {},
   "outputs": [
    {
     "name": "stdout",
     "output_type": "stream",
     "text": [
      "Model: \"sequential_3\"\n",
      "_________________________________________________________________\n",
      " Layer (type)                Output Shape              Param #   \n",
      "=================================================================\n",
      " flatten_3 (Flatten)         (None, 2352)              0         \n",
      "                                                                 \n",
      " dense_6 (Dense)             (None, 32)                75296     \n",
      "                                                                 \n",
      " dense_7 (Dense)             (None, 5)                 165       \n",
      "                                                                 \n",
      "=================================================================\n",
      "Total params: 75,461\n",
      "Trainable params: 75,461\n",
      "Non-trainable params: 0\n",
      "_________________________________________________________________\n"
     ]
    }
   ],
   "source": [
    "baseline_model.summary()"
   ]
  },
  {
   "cell_type": "code",
   "execution_count": 43,
   "id": "4601f167",
   "metadata": {},
   "outputs": [],
   "source": [
    "baseline_model.compile(optimizer='SGD',loss=tf.keras.losses.CategoricalCrossentropy(from_logits=True),\n",
    "              metrics=['categorical_accuracy'])"
   ]
  },
  {
   "cell_type": "markdown",
   "id": "8218b788",
   "metadata": {},
   "source": [
    "# fitted_baseline=baseline_model.fit(train_gen,validation_data=val_gen,epochs=20)"
   ]
  },
  {
   "cell_type": "code",
   "execution_count": 29,
   "id": "3f2a144e",
   "metadata": {},
   "outputs": [
    {
     "data": {
      "text/plain": [
       "<matplotlib.legend.Legend at 0x2cdd4df05b0>"
      ]
     },
     "execution_count": 29,
     "metadata": {},
     "output_type": "execute_result"
    },
    {
     "data": {
      "image/png": "[encoded data removed]",
      "text/plain": [
       "<Figure size 432x288 with 1 Axes>"
      ]
     },
     "metadata": {
      "needs_background": "light"
     },
     "output_type": "display_data"
    }
   ],
   "source": [
    "plt.plot(fitted_baseline.history['categorical_accuracy'],label='tr_acc')\n",
    "plt.plot(fitted_baseline.history['val_categorical_accuracy'],label='val_acc')\n",
    "plt.legend(loc='best')"
   ]
  },
  {
   "cell_type": "code",
   "execution_count": null,
   "id": "b90dad08",
   "metadata": {},
   "outputs": [],
   "source": [
    "plt.plot(fitted_baseline.history['loss'],label='tr_loss')\n",
    "plt.plot(fitted_baseline.history['val_loss'],label='val_loss')\n",
    "plt.legend(loc='best')"
   ]
  },
  {
   "cell_type": "code",
   "execution_count": null,
   "id": "d5e145ee",
   "metadata": {},
   "outputs": [],
   "source": [
    "#handling imbalance"
   ]
  },
  {
   "cell_type": "code",
   "execution_count": null,
   "id": "372cf0d7",
   "metadata": {},
   "outputs": [],
   "source": [
    "weights = compute_class_weight(\"balanced\",np.unique(train_gen.classes),train_gen.classes)"
   ]
  },
  {
   "cell_type": "code",
   "execution_count": null,
   "id": "a80bf48e",
   "metadata": {},
   "outputs": [],
   "source": [
    "weights_dict={}\n",
    "for i in range(weights.shape[0]):\n",
    "    weights_dict[np.unique(train_gen.classes)[i]]=weights[i]"
   ]
  },
  {
   "cell_type": "code",
   "execution_count": null,
   "id": "9d376158",
   "metadata": {},
   "outputs": [],
   "source": [
    "weights_dict"
   ]
  },
  {
   "cell_type": "code",
   "execution_count": null,
   "id": "ded6b249",
   "metadata": {},
   "outputs": [],
   "source": [
    "#training weighted model"
   ]
  },
  {
   "cell_type": "code",
   "execution_count": null,
   "id": "647bb64f",
   "metadata": {},
   "outputs": [],
   "source": [
    "baseline_model_weighted = tf.keras.models.Sequential([\n",
    "    tf.keras.layers.Flatten(input_shape=(28,28,1)),\n",
    "    tf.keras.layers.Dense(128, activation='relu'),\n",
    "    tf.keras.layers.Dense(5,activation='softmax')\n",
    "])\n",
    "baseline_model_weighted.compile(optimizer='adam',loss='categorical_crossentropy',\n",
    "              metrics=['categorical_accuracy'])\n",
    "fitted_baseline_weighted=baseline_model_weighted.fit(train_gen,validation_data=val_gen,batch_size=32,epochs=20,class_weight=weights_dict,shuffle=False)"
   ]
  },
  {
   "cell_type": "code",
   "execution_count": null,
   "id": "2d01993d",
   "metadata": {},
   "outputs": [],
   "source": [
    "plt.plot(fitted_baseline_weighted.history['categorical_accuracy'],label='tr_acc')\n",
    "plt.plot(fitted_baseline_weighted.history['val_categorical_accuracy'],label='val_acc')\n",
    "plt.legend(loc='best')"
   ]
  },
  {
   "cell_type": "code",
   "execution_count": null,
   "id": "3bdbfe23",
   "metadata": {},
   "outputs": [],
   "source": [
    "#incremental_improvements"
   ]
  },
  {
   "cell_type": "code",
   "execution_count": null,
   "id": "aabf5a7b",
   "metadata": {},
   "outputs": [],
   "source": [
    "baseline_model_weighted_2_hidden = tf.keras.models.Sequential([\n",
    "    tf.keras.layers.Flatten(input_shape=(28,28,1)),\n",
    "    tf.keras.layers.Dense(128, activation='relu'),\n",
    "    tf.keras.layers.Dense(256, activation='relu'),\n",
    "    tf.keras.layers.Dense(5,activation='softmax')\n",
    "])\n",
    "baseline_model_weighted_2_hidden.compile(optimizer='adam',loss='categorical_crossentropy',\n",
    "              metrics=['categorical_accuracy'])\n",
    "fitted_baseline_weighted_2_hidden=baseline_model_weighted_2_hidden.fit(train_gen,validation_data=val_gen,batch_size=32,epochs=20,class_weight=weights_dict,shuffle=False)"
   ]
  },
  {
   "cell_type": "code",
   "execution_count": null,
   "id": "3e3502b4",
   "metadata": {},
   "outputs": [],
   "source": [
    "plt.plot(fitted_baseline_weighted_2_hidden.history['categorical_accuracy'],label='tr_acc')\n",
    "plt.plot(fitted_baseline_weighted_2_hidden.history['val_categorical_accuracy'],label='val_acc')\n",
    "plt.legend(loc='best')"
   ]
  },
  {
   "cell_type": "code",
   "execution_count": null,
   "id": "b6e67470",
   "metadata": {},
   "outputs": [],
   "source": [
    "#creating image data generators with augmentation"
   ]
  },
  {
   "cell_type": "code",
   "execution_count": null,
   "id": "f2653635",
   "metadata": {},
   "outputs": [],
   "source": [
    "new_idg_train=ImageDataGenerator(rescale=1/255.0,\n",
    "                                 data_format='channels_last',\n",
    "                                 rotation_range=95,\n",
    "                                 #width_shift_range=0.2,\n",
    "                                 #height_shift_range=0.2,\n",
    "                                 #shear_range=0.2,\n",
    "                                 zoom_range=0.2,\n",
    "                                 fill_mode='nearest',\n",
    "                                 horizontal_flip=True,\n",
    "                                 vertical_flip=True)\n",
    "new_idg_val=ImageDataGenerator(rescale=1/255.0,\n",
    "                                 data_format='channels_last',\n",
    "                                 rotation_range=95,\n",
    "                                 #width_shift_range=0.2,\n",
    "                                 #height_shift_range=0.2,\n",
    "                                 #shear_range=0.2,\n",
    "                                 zoom_range=0.2,\n",
    "                                 fill_mode='nearest',\n",
    "                                 horizontal_flip=True,\n",
    "                                 vertical_flip=True)\n",
    "new_train_gen=new_idg_train.flow_from_dataframe(dataframe=train_df,\n",
    "                                        batch_size=32,\n",
    "                                        seed=10,\n",
    "                                        class_mode='categorical',\n",
    "                                        target_size=(28, 28),\n",
    "                                        x_col='Paths',\n",
    "                                        y_col='Shapes',\n",
    "                                        color_mode = 'grayscale')\n",
    "new_val_gen=new_idg_val.flow_from_dataframe(dataframe=val_df,\n",
    "                                       batch_size=32,\n",
    "                                       seed=10,\n",
    "                                       class_mode='categorical',\n",
    "                                       target_size=(28, 28),\n",
    "                                       x_col='Paths',\n",
    "                                       y_col='Shapes',\n",
    "                                       color_mode = 'grayscale'\n",
    "                                      )"
   ]
  },
  {
   "cell_type": "code",
   "execution_count": null,
   "id": "fb5543f0",
   "metadata": {},
   "outputs": [],
   "source": [
    "baseline_model_weighted_2_hidden_aug = tf.keras.models.Sequential([\n",
    "    tf.keras.layers.Flatten(input_shape=(28,28,1)),\n",
    "    tf.keras.layers.Dense(128, activation='relu'),\n",
    "    tf.keras.layers.Dense(256, activation='relu'),\n",
    "    tf.keras.layers.Dense(5,activation='softmax')\n",
    "])\n",
    "baseline_model_weighted_2_hidden_aug.compile(optimizer='adam',loss='categorical_crossentropy',\n",
    "              metrics=['categorical_accuracy'])\n",
    "fitted_baseline_model_weighted_2_hidden_aug=baseline_model_weighted_2_hidden_aug.fit(\n",
    "    new_train_gen,validation_data=new_val_gen,batch_size=32,epochs=100,class_weight=weights_dict,shuffle=False)"
   ]
  },
  {
   "cell_type": "code",
   "execution_count": null,
   "id": "d1e8980e",
   "metadata": {},
   "outputs": [],
   "source": [
    "plt.plot(fitted_baseline_model_weighted_2_hidden_aug.history['categorical_accuracy'],label='tr_acc')\n",
    "plt.plot(fitted_baseline_model_weighted_2_hidden_aug.history['val_categorical_accuracy'],label='val_acc')\n",
    "plt.legend(loc='best')"
   ]
  },
  {
   "cell_type": "code",
   "execution_count": null,
   "id": "6b1831b0",
   "metadata": {},
   "outputs": [],
   "source": [
    "#adding pooling and conv2dlayers"
   ]
  },
  {
   "cell_type": "code",
   "execution_count": null,
   "id": "b298e809",
   "metadata": {},
   "outputs": [],
   "source": [
    "# max_conv_model= tf.keras.models.Sequential([\n",
    "#     tf.keras.layers.Conv2D(5,(3,3),activation='relu',input_shape=(28,28,1)),\n",
    "#     tf.keras.layers.MaxPooling2D(2,2),\n",
    "#     tf.keras.layers.Flatten(input_shape=(28,28,1)),\n",
    "#     tf.keras.layers.Dense(32, activation='relu'),\n",
    "#     tf.keras.layers.Dense(5,activation='softmax')\n",
    "# ])\n",
    "# max_conv_model.compile(optimizer='adam',loss='categorical_crossentropy',\n",
    "#               metrics=['categorical_accuracy'])\n",
    "# fitted_max_conv_model=max_conv_model.fit(new_train_gen,validation_data=new_val_gen,batch_size=32,\n",
    "#                                          epochs=100,class_weight=weights_dict,shuffle=False)"
   ]
  },
  {
   "cell_type": "code",
   "execution_count": null,
   "id": "70d038fa",
   "metadata": {},
   "outputs": [],
   "source": [
    "max_conv_model=tf.keras.models.Sequential([\n",
    "                                  tf.keras.layers.Conv2D(5,(3,3),activation='relu',input_shape=(28,28,1)),\n",
    "                                  tf.keras.layers.MaxPooling2D(2,2),\n",
    "    \n",
    "    \n",
    "    \n",
    "        tf.keras.layers.Conv2D(64, (3, 3), activation='relu', padding='same'),\n",
    "    tf.keras.layers.Conv2D(64, (3, 3), activation='relu', padding='same'),\n",
    "    tf.keras.layers.MaxPooling2D((2, 2)),\n",
    "    \n",
    "    \n",
    "                                  tf.keras.layers.Flatten(),\n",
    "                                  tf.keras.layers.Dense(128,activation='relu'),\n",
    "                                  tf.keras.layers.Dense(256,activation='relu'),\n",
    "                                  tf.keras.layers.Dense(5,activation='softmax')\n",
    "])\n",
    "max_conv_model.compile(optimizer='sgd',loss='categorical_crossentropy',\n",
    "              metrics=['categorical_accuracy'])\n",
    "fitted_max_conv_model=max_conv_model.fit(new_train_gen,validation_data=new_val_gen,batch_size=32,epochs=100,class_weight=weights_dict,shuffle=False)"
   ]
  },
  {
   "cell_type": "code",
   "execution_count": null,
   "id": "dcb8c0b9",
   "metadata": {},
   "outputs": [],
   "source": [
    "max_conv_model.summary()"
   ]
  },
  {
   "cell_type": "code",
   "execution_count": null,
   "id": "1a34880b",
   "metadata": {},
   "outputs": [],
   "source": [
    "plt.plot(fitted_max_conv_model.history['categorical_accuracy'],label='tr_acc')\n",
    "plt.plot(fitted_max_conv_model.history['val_categorical_accuracy'],label='val_acc')\n",
    "plt.legend(loc='best')"
   ]
  },
  {
   "cell_type": "code",
   "execution_count": null,
   "id": "3a20f54b",
   "metadata": {},
   "outputs": [],
   "source": []
  },
  {
   "cell_type": "code",
   "execution_count": null,
   "id": "68fbff12",
   "metadata": {},
   "outputs": [],
   "source": []
  }
 ],
 "metadata": {
  "kernelspec": {
   "display_name": "Python 3 (ipykernel)",
   "language": "python",
   "name": "python3"
  },
  "language_info": {
   "codemirror_mode": {
    "name": "ipython",
    "version": 3
   },
   "file_extension": ".py",
   "mimetype": "text/x-python",
   "name": "python",
   "nbconvert_exporter": "python",
   "pygments_lexer": "ipython3",
   "version": "3.9.7"
  }
 },
 "nbformat": 4,
 "nbformat_minor": 5
}
